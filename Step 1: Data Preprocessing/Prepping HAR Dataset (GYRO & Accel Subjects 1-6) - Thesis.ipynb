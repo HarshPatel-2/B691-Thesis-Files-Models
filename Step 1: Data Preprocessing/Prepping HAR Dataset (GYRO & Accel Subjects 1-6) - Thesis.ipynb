{
 "cells": [
  {
   "cell_type": "markdown",
   "id": "5e51fd15",
   "metadata": {},
   "source": [
    "# Import Libraries"
   ]
  },
  {
   "cell_type": "code",
   "execution_count": 1,
   "id": "d48b26a1",
   "metadata": {},
   "outputs": [],
   "source": [
    "import pandas as pd\n",
    "import numpy as np\n",
    "from imblearn.over_sampling import SMOTE\n",
    "from sklearn.preprocessing import LabelEncoder"
   ]
  },
  {
   "cell_type": "markdown",
   "id": "38fdc0d1",
   "metadata": {},
   "source": [
    "# Initial Data Exploration"
   ]
  },
  {
   "cell_type": "code",
   "execution_count": 2,
   "id": "a6791e2a",
   "metadata": {},
   "outputs": [
    {
     "name": "stdout",
     "output_type": "stream",
     "text": [
      "   Timestamp_Gyro  Gyro X (°/s)  Gyro Y (°/s)  Gyro Z (°/s)  \\\n",
      "0    1.739025e+12      0.009774      0.017104     -0.003665   \n",
      "1    1.739025e+12      0.009774      0.017104     -0.003665   \n",
      "2    1.739025e+12      0.009774      0.017104     -0.003665   \n",
      "3    1.739025e+12      0.009774      0.017104     -0.003665   \n",
      "4    1.739025e+12      0.009774      0.017104     -0.003665   \n",
      "\n",
      "        Activity_Label_x Subject_ID_x  Timestamp_Accel  Accel X (g)  \\\n",
      "0  Seated Leg Extensions    Subject 1     1.739025e+12    -2.533065   \n",
      "1  Seated Leg Extensions    Subject 1     1.739025e+12    -2.533065   \n",
      "2  Seated Leg Extensions    Subject 1     1.739025e+12    -2.533065   \n",
      "3  Seated Leg Extensions    Subject 1     1.739025e+12    -2.533065   \n",
      "4  Seated Leg Extensions    Subject 1     1.739025e+12    -2.533065   \n",
      "\n",
      "  Accel Y (g)  Accel Z (g)       Activity_Label_y Subject_ID_y  \n",
      "0   -4.299986     8.389283  Seated Leg Extensions    Subject 1  \n",
      "1   -4.299986     8.389283  Seated Leg Extensions    Subject 1  \n",
      "2   -4.299986     8.389283  Seated Leg Extensions    Subject 1  \n",
      "3   -4.299986     8.389283  Seated Leg Extensions    Subject 1  \n",
      "4   -4.299986     8.389283  Seated Leg Extensions    Subject 1  \n",
      "\n",
      "Total number of rows and columns:\n",
      "(944460, 12)\n",
      "\n",
      "Data types of each column:\n",
      "Timestamp_Gyro      float64\n",
      "Gyro X (°/s)        float64\n",
      "Gyro Y (°/s)        float64\n",
      "Gyro Z (°/s)        float64\n",
      "Activity_Label_x     object\n",
      "Subject_ID_x         object\n",
      "Timestamp_Accel     float64\n",
      "Accel X (g)         float64\n",
      "Accel Y (g)          object\n",
      "Accel Z (g)         float64\n",
      "Activity_Label_y     object\n",
      "Subject_ID_y         object\n",
      "dtype: object\n"
     ]
    },
    {
     "name": "stderr",
     "output_type": "stream",
     "text": [
      "/tmp/ipykernel_454157/3841719861.py:1: DtypeWarning: Columns (8) have mixed types. Specify dtype option on import or set low_memory=False.\n",
      "  df = pd.read_csv('Combined_Gyro_Acg_Data_Subjects_1_to_6.csv')\n"
     ]
    }
   ],
   "source": [
    "df = pd.read_csv('Combined_Gyro_Acg_Data_Subjects_1_to_6.csv')\n",
    "\n",
    "print(df.head())\n",
    "\n",
    "print(\"\\nTotal number of rows and columns:\")\n",
    "print(df.shape)\n",
    "\n",
    "print(\"\\nData types of each column:\")\n",
    "print(df.dtypes)"
   ]
  },
  {
   "cell_type": "markdown",
   "id": "0447d168",
   "metadata": {},
   "source": [
    "# Extract and Save Important Columns"
   ]
  },
  {
   "cell_type": "code",
   "execution_count": 3,
   "id": "4f769cde",
   "metadata": {},
   "outputs": [
    {
     "name": "stderr",
     "output_type": "stream",
     "text": [
      "/tmp/ipykernel_454157/2462588419.py:1: DtypeWarning: Columns (8) have mixed types. Specify dtype option on import or set low_memory=False.\n",
      "  df = pd.read_csv('Combined_Gyro_Acg_Data_Subjects_1_to_6.csv')\n"
     ]
    },
    {
     "name": "stdout",
     "output_type": "stream",
     "text": [
      "Shape of the DataFrame: (944460, 9)\n",
      "\n",
      "DataFrame Info:\n",
      "<class 'pandas.core.frame.DataFrame'>\n",
      "RangeIndex: 944460 entries, 0 to 944459\n",
      "Data columns (total 9 columns):\n",
      " #   Column            Non-Null Count   Dtype  \n",
      "---  ------            --------------   -----  \n",
      " 0   Timestamp_Gyro    944459 non-null  float64\n",
      " 1   Gyro X (°/s)      944444 non-null  float64\n",
      " 2   Gyro Y (°/s)      944375 non-null  float64\n",
      " 3   Gyro Z (°/s)      944319 non-null  float64\n",
      " 4   Accel X (g)       944457 non-null  float64\n",
      " 5   Accel Y (g)       944402 non-null  object \n",
      " 6   Accel Z (g)       944319 non-null  float64\n",
      " 7   Activity_Label_x  944460 non-null  object \n",
      " 8   Subject_ID_x      944460 non-null  object \n",
      "dtypes: float64(6), object(3)\n",
      "memory usage: 64.9+ MB\n",
      "None\n"
     ]
    }
   ],
   "source": [
    "df = pd.read_csv('Combined_Gyro_Acg_Data_Subjects_1_to_6.csv')\n",
    "\n",
    "df = df[['Timestamp_Gyro', 'Gyro X (°/s)', 'Gyro Y (°/s)', 'Gyro Z (°/s)', \n",
    "         'Accel X (g)', 'Accel Y (g)', 'Accel Z (g)', \n",
    "         'Activity_Label_x', 'Subject_ID_x']]\n",
    "\n",
    "new_filename = 'Combined_Gyro_Acg_Data_Subjects_1_to_6_Updated.csv'\n",
    "\n",
    "df.to_csv(new_filename, index=False)\n",
    "\n",
    "print(f\"Shape of the DataFrame: {df.shape}\")\n",
    "\n",
    "print(\"\\nDataFrame Info:\")\n",
    "print(df.info())"
   ]
  },
  {
   "cell_type": "markdown",
   "id": "40cc161f",
   "metadata": {},
   "source": [
    "# Rename and Type Conversion"
   ]
  },
  {
   "cell_type": "code",
   "execution_count": 4,
   "id": "661e6e1d",
   "metadata": {},
   "outputs": [
    {
     "name": "stderr",
     "output_type": "stream",
     "text": [
      "/tmp/ipykernel_454157/612773007.py:1: DtypeWarning: Columns (8) have mixed types. Specify dtype option on import or set low_memory=False.\n",
      "  df = pd.read_csv('Combined_Gyro_Acg_Data_Subjects_1_to_6.csv')\n",
      "/tmp/ipykernel_454157/612773007.py:20: FutureWarning: A value is trying to be set on a copy of a DataFrame or Series through chained assignment using an inplace method.\n",
      "The behavior will change in pandas 3.0. This inplace method will never work because the intermediate object on which we are setting values always behaves as a copy.\n",
      "\n",
      "For example, when doing 'df[col].method(value, inplace=True)', try using 'df.method({col: value}, inplace=True)' or df[col] = df[col].method(value) instead, to perform the operation inplace on the original object.\n",
      "\n",
      "\n",
      "  df['Timestamp (microseconds)'].fillna(0, inplace=True)\n"
     ]
    },
    {
     "name": "stdout",
     "output_type": "stream",
     "text": [
      "Shape of the DataFrame: (944460, 9)\n",
      "\n",
      "DataFrame Info:\n",
      "<class 'pandas.core.frame.DataFrame'>\n",
      "RangeIndex: 944460 entries, 0 to 944459\n",
      "Data columns (total 9 columns):\n",
      " #   Column                    Non-Null Count   Dtype  \n",
      "---  ------                    --------------   -----  \n",
      " 0   Timestamp (microseconds)  944460 non-null  int64  \n",
      " 1   Accel X (g)               944457 non-null  float64\n",
      " 2   Accel Y (g)               944395 non-null  float64\n",
      " 3   Accel Z (g)               944319 non-null  float64\n",
      " 4   Gyro X (°/s)              944444 non-null  float64\n",
      " 5   Gyro Y (°/s)              944375 non-null  float64\n",
      " 6   Gyro Z (°/s)              944319 non-null  float64\n",
      " 7   Subject_ID                944460 non-null  int64  \n",
      " 8   Activity_Label            944460 non-null  object \n",
      "dtypes: float64(6), int64(2), object(1)\n",
      "memory usage: 64.9+ MB\n",
      "None\n"
     ]
    }
   ],
   "source": [
    "df = pd.read_csv('Combined_Gyro_Acg_Data_Subjects_1_to_6.csv')\n",
    "\n",
    "df = df[['Timestamp_Gyro', 'Accel X (g)', 'Accel Y (g)', 'Accel Z (g)', \n",
    "         'Gyro X (°/s)', 'Gyro Y (°/s)', 'Gyro Z (°/s)', \n",
    "         'Subject_ID_x', 'Activity_Label_x']]\n",
    "\n",
    "df = df.rename(columns={\n",
    "    'Timestamp_Gyro': 'Timestamp (microseconds)', \n",
    "    'Accel X (g)': 'Accel X (g)', \n",
    "    'Accel Y (g)': 'Accel Y (g)', \n",
    "    'Accel Z (g)': 'Accel Z (g)', \n",
    "    'Gyro X (°/s)': 'Gyro X (°/s)', \n",
    "    'Gyro Y (°/s)': 'Gyro Y (°/s)', \n",
    "    'Gyro Z (°/s)': 'Gyro Z (°/s)', \n",
    "    'Subject_ID_x': 'Subject_ID', \n",
    "    'Activity_Label_x': 'Activity_Label'\n",
    "})\n",
    "\n",
    "df['Timestamp (microseconds)'] = pd.to_numeric(df['Timestamp (microseconds)'], errors='coerce')\n",
    "df['Timestamp (microseconds)'].fillna(0, inplace=True)\n",
    "df['Timestamp (microseconds)'] = df['Timestamp (microseconds)'].astype('int64')\n",
    "\n",
    "df['Subject_ID'] = df['Subject_ID'].str.extract('(\\d+)').astype(int)\n",
    "\n",
    "df['Accel Y (g)'] = pd.to_numeric(df['Accel Y (g)'], errors='coerce')\n",
    "\n",
    "df['Accel X (g)'] = df['Accel X (g)'].astype(float)\n",
    "df['Accel Z (g)'] = df['Accel Z (g)'].astype(float)\n",
    "df['Gyro X (°/s)'] = df['Gyro X (°/s)'].astype(float)\n",
    "df['Gyro Y (°/s)'] = df['Gyro Y (°/s)'].astype(float)\n",
    "df['Gyro Z (°/s)'] = df['Gyro Z (°/s)'].astype(float)\n",
    "\n",
    "df['Activity_Label'] = df['Activity_Label'].astype('object')\n",
    "\n",
    "new_filename = 'Combined_Gyro_Acg_Data_Subjects_1_to_6_Updated.csv'\n",
    "df.to_csv(new_filename, index=False)\n",
    "\n",
    "print(f\"Shape of the DataFrame: {df.shape}\")\n",
    "print(\"\\nDataFrame Info:\")\n",
    "print(df.info())"
   ]
  },
  {
   "cell_type": "markdown",
   "id": "e8689c37",
   "metadata": {},
   "source": [
    "# Verify Updated Dataset"
   ]
  },
  {
   "cell_type": "code",
   "execution_count": 5,
   "id": "6c838b4f",
   "metadata": {},
   "outputs": [
    {
     "name": "stdout",
     "output_type": "stream",
     "text": [
      "Total rows: 944460\n",
      "Total columns: 9\n",
      "   Timestamp (microseconds)  Accel X (g)  Accel Y (g)  Accel Z (g)  \\\n",
      "0             1739025164003    -2.533065    -4.299986     8.389283   \n",
      "1             1739025164003    -2.533065    -4.299986     8.389283   \n",
      "2             1739025164003    -2.533065    -4.299986     8.389283   \n",
      "3             1739025164003    -2.533065    -4.299986     8.389283   \n",
      "4             1739025164003    -2.533065    -4.299986     8.389283   \n",
      "\n",
      "   Gyro X (°/s)  Gyro Y (°/s)  Gyro Z (°/s)  Subject_ID         Activity_Label  \n",
      "0      0.009774      0.017104     -0.003665           1  Seated Leg Extensions  \n",
      "1      0.009774      0.017104     -0.003665           1  Seated Leg Extensions  \n",
      "2      0.009774      0.017104     -0.003665           1  Seated Leg Extensions  \n",
      "3      0.009774      0.017104     -0.003665           1  Seated Leg Extensions  \n",
      "4      0.009774      0.017104     -0.003665           1  Seated Leg Extensions  \n"
     ]
    }
   ],
   "source": [
    "df = pd.read_csv('Combined_Gyro_Acg_Data_Subjects_1_to_6_Updated.csv')\n",
    "\n",
    "print(f\"Total rows: {df.shape[0]}\")\n",
    "print(f\"Total columns: {df.shape[1]}\")\n",
    "\n",
    "print(df.head())"
   ]
  },
  {
   "cell_type": "markdown",
   "id": "a5c4d169",
   "metadata": {},
   "source": [
    "# Activity Analysis by Subject"
   ]
  },
  {
   "cell_type": "code",
   "execution_count": 6,
   "id": "1a62d823",
   "metadata": {},
   "outputs": [
    {
     "name": "stdout",
     "output_type": "stream",
     "text": [
      "\n",
      "Total distinct activities per subject:\n",
      "Subject_ID\n",
      "1    10\n",
      "2    10\n",
      "3    10\n",
      "4    10\n",
      "5     4\n",
      "6    10\n",
      "Name: Activity_Label, dtype: int64\n"
     ]
    }
   ],
   "source": [
    "distinct_activities_per_subject = df.groupby('Subject_ID')['Activity_Label'].nunique()\n",
    "\n",
    "print(\"\\nTotal distinct activities per subject:\")\n",
    "print(distinct_activities_per_subject)"
   ]
  },
  {
   "cell_type": "markdown",
   "id": "1844c0a8",
   "metadata": {},
   "source": [
    "# Activity Counts Analysis"
   ]
  },
  {
   "cell_type": "code",
   "execution_count": 7,
   "id": "5679be1f",
   "metadata": {},
   "outputs": [
    {
     "name": "stdout",
     "output_type": "stream",
     "text": [
      "Total count of all activities:  944460\n",
      "\n",
      "Total activities per subject:\n",
      "Subject_ID\n",
      "1    187577\n",
      "2    173913\n",
      "3    186349\n",
      "4    177520\n",
      "5     43411\n",
      "6    175690\n",
      "Name: Activity_Label, dtype: int64\n",
      "\n",
      "Activity counts by subject and label:\n",
      "Subject_ID  Activity_Label             \n",
      "1           Seated Boxing Hooks            25681\n",
      "            Seated Side Bends              22799\n",
      "            Seated Medicine Ball Twists    20265\n",
      "            Marching in Place              18972\n",
      "            Side-Stepping                  18657\n",
      "            Standing Heel-to-Toe Walk      18603\n",
      "            Chair Squats                   18021\n",
      "            Light Stationary Cycling       17263\n",
      "            Wall Push-ups                  16867\n",
      "            Seated Leg Extensions          10449\n",
      "2           Standing Heel-to-Toe Walk      20910\n",
      "            Chair Squats                   19791\n",
      "            Seated Side Bends              18784\n",
      "            Seated Leg Extensions          18698\n",
      "            Wall Push-ups                  17644\n",
      "            Seated Boxing Hooks            16981\n",
      "            Side-Stepping                  16632\n",
      "            Marching in Place              15887\n",
      "            Seated Medicine Ball Twists    15011\n",
      "            Light Stationary Cycling       13575\n",
      "3           Wall Push-ups                  29139\n",
      "            Seated Medicine Ball Twists    20332\n",
      "            Side-Stepping                  18133\n",
      "            Seated Leg Extensions          17930\n",
      "            Marching in Place              17751\n",
      "            Light Stationary Cycling       17630\n",
      "            Seated Side Bends              17042\n",
      "            Standing Heel-to-Toe Walk      16527\n",
      "            Chair Squats                   16135\n",
      "            Seated Boxing Hooks            15730\n",
      "4           Wall Push-ups                  19818\n",
      "            Seated Boxing Hooks            19192\n",
      "            Standing Heel-to-Toe Walk      19178\n",
      "            Seated Side Bends              18663\n",
      "            Light Stationary Cycling       18573\n",
      "            Seated Leg Extensions          18556\n",
      "            Seated Medicine Ball Twists    18056\n",
      "            Marching in Place              17440\n",
      "            Side-Stepping                  14460\n",
      "            Chair Squats                   13584\n",
      "5           Marching in Place              18427\n",
      "            Wall Push-ups                   8870\n",
      "            Standing Heel-to-Toe Walk       8399\n",
      "            Seated Boxing Hooks             7715\n",
      "6           Marching in Place              20163\n",
      "            Standing Heel-to-Toe Walk      19444\n",
      "            Side-Stepping                  19381\n",
      "            Wall Push-ups                  19137\n",
      "            Seated Boxing Hooks            19040\n",
      "            Seated Leg Extensions          18958\n",
      "            Seated Medicine Ball Twists    18776\n",
      "            Chair Squats                   17806\n",
      "            Seated Side Bends              15882\n",
      "            Light Stationary Cycling        7103\n",
      "Name: count, dtype: int64\n"
     ]
    }
   ],
   "source": [
    "activity_counts_by_subject = df.groupby('Subject_ID')['Activity_Label'].value_counts()\n",
    "\n",
    "total_activity_count = df['Activity_Label'].count()\n",
    "\n",
    "total_activity_per_subject = df.groupby('Subject_ID')['Activity_Label'].count()\n",
    "\n",
    "print(\"Total count of all activities: \", total_activity_count)\n",
    "print(\"\\nTotal activities per subject:\")\n",
    "print(total_activity_per_subject)\n",
    "\n",
    "print(\"\\nActivity counts by subject and label:\")\n",
    "print(activity_counts_by_subject)"
   ]
  },
  {
   "cell_type": "markdown",
   "id": "58302629",
   "metadata": {},
   "source": [
    "# Process Subject 1 Data"
   ]
  },
  {
   "cell_type": "code",
   "execution_count": 8,
   "id": "4c161631",
   "metadata": {},
   "outputs": [
    {
     "name": "stdout",
     "output_type": "stream",
     "text": [
      "CSV file 'Subject_1_Active_Only.csv' has been saved successfully.\n",
      "Original shape (Subject 1): (187577, 9)\n",
      "Filtered shape (active only): (37500, 9)\n"
     ]
    }
   ],
   "source": [
    "df = pd.read_csv(\"Combined_Gyro_Acg_Data_Subjects_1_to_6_Updated.csv\")\n",
    "subject_df = df[df['Subject_ID'] == 1].copy()\n",
    "subject_df.sort_values(by=['Activity_Label', 'Timestamp (microseconds)'], inplace=True)\n",
    "\n",
    "samples_per_phase = 750\n",
    "total_phases = 5\n",
    "\n",
    "filtered_dfs = []\n",
    "\n",
    "for activity, group in subject_df.groupby('Activity_Label'):\n",
    "    group = group.reset_index(drop=True)\n",
    "    expected_length = total_phases * samples_per_phase * 2\n",
    "\n",
    "    if len(group) >= expected_length:\n",
    "        for i in range(total_phases):\n",
    "            start_idx = i * samples_per_phase * 2\n",
    "            end_idx = start_idx + samples_per_phase\n",
    "            filtered_dfs.append(group.iloc[start_idx:end_idx])\n",
    "    else:\n",
    "        print(f\"Skipping Activity '{activity}' — insufficient data.\")\n",
    "\n",
    "filtered_subject_df = pd.concat(filtered_dfs, ignore_index=True)\n",
    "filtered_subject_df.to_csv(\"Subject_1_Active_Only.csv\", index=False)\n",
    "\n",
    "print(\"CSV file 'Subject_1_Active_Only.csv' has been saved successfully.\")\n",
    "print(f\"Original shape (Subject 1): {subject_df.shape}\")\n",
    "print(f\"Filtered shape (active only): {filtered_subject_df.shape}\")"
   ]
  },
  {
   "cell_type": "markdown",
   "id": "e2c3e16a",
   "metadata": {},
   "source": [
    "# Process Subject 2 Data"
   ]
  },
  {
   "cell_type": "code",
   "execution_count": 9,
   "id": "13657848",
   "metadata": {},
   "outputs": [
    {
     "name": "stdout",
     "output_type": "stream",
     "text": [
      "CSV file 'Subject_2_Active_Only.csv' has been saved successfully.\n",
      "Original shape (Subject 2): (173913, 9)\n",
      "Filtered shape (active only): (37500, 9)\n"
     ]
    }
   ],
   "source": [
    "df = pd.read_csv(\"Combined_Gyro_Acg_Data_Subjects_1_to_6_Updated.csv\")\n",
    "subject_df = df[df['Subject_ID'] == 2].copy()\n",
    "subject_df.sort_values(by=['Activity_Label', 'Timestamp (microseconds)'], inplace=True)\n",
    "\n",
    "samples_per_phase = 750\n",
    "total_phases = 5\n",
    "\n",
    "filtered_dfs = []\n",
    "\n",
    "for activity, group in subject_df.groupby('Activity_Label'):\n",
    "    group = group.reset_index(drop=True)\n",
    "    expected_length = total_phases * samples_per_phase * 2\n",
    "\n",
    "    if len(group) >= expected_length:\n",
    "        for i in range(total_phases):\n",
    "            start_idx = i * samples_per_phase * 2\n",
    "            end_idx = start_idx + samples_per_phase\n",
    "            filtered_dfs.append(group.iloc[start_idx:end_idx])\n",
    "    else:\n",
    "        print(f\"Skipping Activity '{activity}' — insufficient data.\")\n",
    "\n",
    "filtered_subject_df = pd.concat(filtered_dfs, ignore_index=True)\n",
    "filtered_subject_df.to_csv(\"Subject_2_Active_Only.csv\", index=False)\n",
    "\n",
    "print(\"CSV file 'Subject_2_Active_Only.csv' has been saved successfully.\")\n",
    "print(f\"Original shape (Subject 2): {subject_df.shape}\")\n",
    "print(f\"Filtered shape (active only): {filtered_subject_df.shape}\")"
   ]
  },
  {
   "cell_type": "markdown",
   "id": "ff2a52f3",
   "metadata": {},
   "source": [
    "# Process Subject 3 Data"
   ]
  },
  {
   "cell_type": "code",
   "execution_count": 10,
   "id": "a39b6261",
   "metadata": {},
   "outputs": [
    {
     "name": "stdout",
     "output_type": "stream",
     "text": [
      "CSV file 'Subject_3_Active_Only.csv' has been saved successfully.\n",
      "Original shape (Subject 3): (186349, 9)\n",
      "Filtered shape (active only): (37500, 9)\n"
     ]
    }
   ],
   "source": [
    "df = pd.read_csv(\"Combined_Gyro_Acg_Data_Subjects_1_to_6_Updated.csv\")\n",
    "subject_df = df[df['Subject_ID'] == 3].copy()\n",
    "subject_df.sort_values(by=['Activity_Label', 'Timestamp (microseconds)'], inplace=True)\n",
    "\n",
    "samples_per_phase = 750\n",
    "total_phases = 5\n",
    "\n",
    "filtered_dfs = []\n",
    "\n",
    "for activity, group in subject_df.groupby('Activity_Label'):\n",
    "    group = group.reset_index(drop=True)\n",
    "    expected_length = total_phases * samples_per_phase * 2\n",
    "\n",
    "    if len(group) >= expected_length:\n",
    "        for i in range(total_phases):\n",
    "            start_idx = i * samples_per_phase * 2\n",
    "            end_idx = start_idx + samples_per_phase\n",
    "            filtered_dfs.append(group.iloc[start_idx:end_idx])\n",
    "    else:\n",
    "        print(f\"Skipping Activity '{activity}' — insufficient data.\")\n",
    "\n",
    "filtered_subject_df = pd.concat(filtered_dfs, ignore_index=True)\n",
    "filtered_subject_df.to_csv(\"Subject_3_Active_Only.csv\", index=False)\n",
    "\n",
    "print(\"CSV file 'Subject_3_Active_Only.csv' has been saved successfully.\")\n",
    "print(f\"Original shape (Subject 3): {subject_df.shape}\")\n",
    "print(f\"Filtered shape (active only): {filtered_subject_df.shape}\")"
   ]
  },
  {
   "cell_type": "markdown",
   "id": "da72d2f4",
   "metadata": {},
   "source": [
    "# Process Subject 4 Data"
   ]
  },
  {
   "cell_type": "code",
   "execution_count": 11,
   "id": "53ac383f",
   "metadata": {},
   "outputs": [
    {
     "name": "stdout",
     "output_type": "stream",
     "text": [
      "CSV file 'Subject_4_Active_Only.csv' has been saved successfully.\n",
      "Original shape (Subject 4): (177520, 9)\n",
      "Filtered shape (active only): (37500, 9)\n"
     ]
    }
   ],
   "source": [
    "df = pd.read_csv(\"Combined_Gyro_Acg_Data_Subjects_1_to_6_Updated.csv\")\n",
    "subject_df = df[df['Subject_ID'] == 4].copy()\n",
    "subject_df.sort_values(by=['Activity_Label', 'Timestamp (microseconds)'], inplace=True)\n",
    "\n",
    "samples_per_phase = 750\n",
    "total_phases = 5\n",
    "\n",
    "filtered_dfs = []\n",
    "\n",
    "for activity, group in subject_df.groupby('Activity_Label'):\n",
    "    group = group.reset_index(drop=True)\n",
    "    expected_length = total_phases * samples_per_phase * 2\n",
    "\n",
    "    if len(group) >= expected_length:\n",
    "        for i in range(total_phases):\n",
    "            start_idx = i * samples_per_phase * 2\n",
    "            end_idx = start_idx + samples_per_phase\n",
    "            filtered_dfs.append(group.iloc[start_idx:end_idx])\n",
    "    else:\n",
    "        print(f\"Skipping Activity '{activity}' — insufficient data.\")\n",
    "\n",
    "filtered_subject_df = pd.concat(filtered_dfs, ignore_index=True)\n",
    "filtered_subject_df.to_csv(\"Subject_4_Active_Only.csv\", index=False)\n",
    "\n",
    "print(\"CSV file 'Subject_4_Active_Only.csv' has been saved successfully.\")\n",
    "print(f\"Original shape (Subject 4): {subject_df.shape}\")\n",
    "print(f\"Filtered shape (active only): {filtered_subject_df.shape}\")"
   ]
  },
  {
   "cell_type": "markdown",
   "id": "044259a9",
   "metadata": {},
   "source": [
    "# Process Subject 6 Data"
   ]
  },
  {
   "cell_type": "code",
   "execution_count": 12,
   "id": "5b2661cf",
   "metadata": {},
   "outputs": [
    {
     "name": "stdout",
     "output_type": "stream",
     "text": [
      "CSV file 'Subject_6_Active_Only.csv' has been saved successfully.\n",
      "Original shape (Subject 6): (175690, 9)\n",
      "Filtered shape (active only): (40853, 9)\n"
     ]
    }
   ],
   "source": [
    "df = pd.read_csv(\"Combined_Gyro_Acg_Data_Subjects_1_to_6_Updated.csv\")\n",
    "subject_df = df[df['Subject_ID'] == 6].copy()\n",
    "subject_df.sort_values(by=['Activity_Label', 'Timestamp (microseconds)'], inplace=True)\n",
    "\n",
    "samples_per_phase = 750\n",
    "total_phases = 5\n",
    "\n",
    "filtered_dfs = []\n",
    "\n",
    "for activity, group in subject_df.groupby('Activity_Label'):\n",
    "    group = group.reset_index(drop=True)\n",
    "\n",
    "    if activity == \"Light Stationary Cycling\":\n",
    "        filtered_dfs.append(group)\n",
    "    else:\n",
    "        expected_length = total_phases * samples_per_phase * 2\n",
    "\n",
    "        if len(group) >= expected_length:\n",
    "            for i in range(total_phases):\n",
    "                start_idx = i * samples_per_phase * 2\n",
    "                end_idx = start_idx + samples_per_phase\n",
    "                filtered_dfs.append(group.iloc[start_idx:end_idx])\n",
    "        else:\n",
    "            print(f\"Skipping Activity '{activity}' — insufficient data.\")\n",
    "\n",
    "filtered_subject_df = pd.concat(filtered_dfs, ignore_index=True)\n",
    "filtered_subject_df.to_csv(\"Subject_6_Active_Only.csv\", index=False)\n",
    "\n",
    "print(\"CSV file 'Subject_6_Active_Only.csv' has been saved successfully.\")\n",
    "print(f\"Original shape (Subject 6): {subject_df.shape}\")\n",
    "print(f\"Filtered shape (active only): {filtered_subject_df.shape}\")"
   ]
  },
  {
   "cell_type": "markdown",
   "id": "00192600",
   "metadata": {},
   "source": [
    "# Process Subject 5 Data"
   ]
  },
  {
   "cell_type": "code",
   "execution_count": 13,
   "id": "f7f8c0a0",
   "metadata": {},
   "outputs": [
    {
     "name": "stdout",
     "output_type": "stream",
     "text": [
      "Subject 5 data has been saved as 'Subject_5_Active_Only.csv'.\n"
     ]
    }
   ],
   "source": [
    "df = pd.read_csv(\"Combined_Gyro_Acg_Data_Subjects_1_to_6_Updated.csv\")\n",
    "subject_5_df = df[df['Subject_ID'] == 5]\n",
    "subject_5_df.to_csv(\"Subject_5_Active_Only.csv\", index=False)\n",
    "\n",
    "print(f\"Subject 5 data has been saved as 'Subject_5_Active_Only.csv'.\")"
   ]
  },
  {
   "cell_type": "markdown",
   "id": "0d1e2653",
   "metadata": {},
   "source": [
    "# Combine All Subject Data"
   ]
  },
  {
   "cell_type": "code",
   "execution_count": 14,
   "id": "136ee8e0",
   "metadata": {},
   "outputs": [
    {
     "name": "stdout",
     "output_type": "stream",
     "text": [
      "All subject active Gyro and Accel data has been combined into 'Combined_Active_Only_Gyro_and_Accel_Subjects_1_to_6.csv'\n"
     ]
    }
   ],
   "source": [
    "subject_1_df = pd.read_csv('Subject_1_Active_Only.csv')\n",
    "subject_2_df = pd.read_csv('Subject_2_Active_Only.csv')\n",
    "subject_3_df = pd.read_csv('Subject_3_Active_Only.csv')\n",
    "subject_4_df = pd.read_csv('Subject_4_Active_Only.csv')\n",
    "subject_5_df = pd.read_csv('Subject_5_Active_Only.csv')\n",
    "subject_6_df = pd.read_csv('Subject_6_Active_Only.csv')\n",
    "\n",
    "combined_df = pd.concat([subject_1_df, subject_2_df, subject_3_df, subject_4_df, subject_5_df, subject_6_df], ignore_index=True)\n",
    "combined_df.to_csv('Combined_Active_Only_Gyro_and_Accel_Subjects_1_to_6.csv', index=False)\n",
    "\n",
    "print(\"All subject active Gyro and Accel data has been combined into 'Combined_Active_Only_Gyro_and_Accel_Subjects_1_to_6.csv'\")"
   ]
  },
  {
   "cell_type": "markdown",
   "id": "c026de20",
   "metadata": {},
   "source": [
    "# Compare Timestamps"
   ]
  },
  {
   "cell_type": "code",
   "execution_count": 15,
   "id": "8e7727db",
   "metadata": {},
   "outputs": [
    {
     "name": "stdout",
     "output_type": "stream",
     "text": [
      "Number of matching timestamps within 50 microseconds: 234264\n"
     ]
    }
   ],
   "source": [
    "df_all = pd.read_csv(\"Combined_Gyro_Acg_Data_Subjects_1_to_6_Updated.csv\")\n",
    "df_active = pd.read_csv(\"Combined_Active_Only_Gyro_and_Accel_Subjects_1_to_6.csv\")\n",
    "\n",
    "timestamps_all = df_all['Timestamp (microseconds)'].sort_values().reset_index(drop=True)\n",
    "timestamps_active = df_active['Timestamp (microseconds)'].sort_values().reset_index(drop=True)\n",
    "\n",
    "tolerance = 50\n",
    "\n",
    "matching_timestamps = []\n",
    "\n",
    "for ts_active in timestamps_active:\n",
    "    matching = timestamps_all[(timestamps_all >= ts_active - tolerance) & (timestamps_all <= ts_active + tolerance)]\n",
    "    if not matching.empty:\n",
    "        matching_timestamps.append(ts_active)\n",
    "\n",
    "print(f\"Number of matching timestamps within {tolerance} microseconds: {len(matching_timestamps)}\")"
   ]
  },
  {
   "cell_type": "markdown",
   "id": "f2202d10",
   "metadata": {},
   "source": [
    "# Analyze Combined Dataset"
   ]
  },
  {
   "cell_type": "code",
   "execution_count": 16,
   "id": "d212d0e4",
   "metadata": {},
   "outputs": [
    {
     "name": "stdout",
     "output_type": "stream",
     "text": [
      "Total rows and columns: (234264, 9)\n",
      "\n",
      "Statistics of the numeric columns:\n",
      "       Timestamp (microseconds)    Accel X (g)    Accel Y (g)    Accel Z (g)  \\\n",
      "count              2.342640e+05  234261.000000  234257.000000  234236.000000   \n",
      "mean               1.739053e+12       1.872733      -2.800427       4.889721   \n",
      "std                6.224042e+09       7.021548       4.031065       4.052807   \n",
      "min                0.000000e+00     -41.084500     -30.600292     -33.988087   \n",
      "25%                1.739035e+12      -3.208230      -5.252879       2.123657   \n",
      "50%                1.739047e+12       2.719813      -2.355895       5.114015   \n",
      "75%                1.739051e+12       8.111555      -0.560243       8.161834   \n",
      "max                1.739337e+12      70.262634      27.023355      31.280245   \n",
      "\n",
      "        Gyro X (°/s)   Gyro Y (°/s)   Gyro Z (°/s)     Subject_ID  \n",
      "count  234261.000000  234261.000000  234253.000000  234264.000000  \n",
      "mean       -0.038985      -0.007815      -0.028342       3.573631  \n",
      "std         0.814033       0.894837       0.842600       1.715268  \n",
      "min        -8.566774      -7.947357      -9.974208       1.000000  \n",
      "25%        -0.174707      -0.114843      -0.152716       2.000000  \n",
      "50%        -0.004887       0.002443      -0.004887       4.000000  \n",
      "75%         0.123395       0.142942       0.144164       5.000000  \n",
      "max         4.675562       5.938832       4.747645       6.000000  \n",
      "\n",
      "Activity count per person:\n",
      "Subject_ID\n",
      "1    37500\n",
      "2    37500\n",
      "3    37500\n",
      "4    37500\n",
      "5    43411\n",
      "6    40853\n",
      "Name: Activity_Label, dtype: int64\n",
      "\n",
      "Activity distribution across all activities:\n",
      "Activity_Label\n",
      "Marching in Place              37177\n",
      "Wall Push-ups                  27620\n",
      "Standing Heel-to-Toe Walk      27149\n",
      "Seated Boxing Hooks            26465\n",
      "Light Stationary Cycling       22103\n",
      "Chair Squats                   18750\n",
      "Seated Leg Extensions          18750\n",
      "Seated Medicine Ball Twists    18750\n",
      "Seated Side Bends              18750\n",
      "Side-Stepping                  18750\n",
      "Name: count, dtype: int64\n"
     ]
    }
   ],
   "source": [
    "df_active = pd.read_csv(\"Combined_Active_Only_Gyro_and_Accel_Subjects_1_to_6.csv\")\n",
    "\n",
    "print(f\"Total rows and columns: {df_active.shape}\")\n",
    "\n",
    "print(\"\\nStatistics of the numeric columns:\")\n",
    "print(df_active.describe())\n",
    "\n",
    "activity_counts_per_person = df_active.groupby('Subject_ID')['Activity_Label'].count()\n",
    "print(\"\\nActivity count per person:\")\n",
    "print(activity_counts_per_person)\n",
    "\n",
    "activity_distribution = df_active['Activity_Label'].value_counts()\n",
    "print(\"\\nActivity distribution across all activities:\")\n",
    "print(activity_distribution)"
   ]
  },
  {
   "cell_type": "markdown",
   "id": "bb8f0b00",
   "metadata": {},
   "source": [
    "# Sort Activities"
   ]
  },
  {
   "cell_type": "code",
   "execution_count": 17,
   "id": "fcfc714f",
   "metadata": {},
   "outputs": [
    {
     "name": "stdout",
     "output_type": "stream",
     "text": [
      "Filtered and sorted dataset has been saved as 'Combined_Active_Only_Gyro_and_Accel_Subjects_1_to_6_Sorted.csv'.\n"
     ]
    }
   ],
   "source": [
    "df_active = pd.read_csv(\"Combined_Active_Only_Gyro_and_Accel_Subjects_1_to_6.csv\")\n",
    "\n",
    "activity_order = [\n",
    "    \"Seated Leg Extensions\", \n",
    "    \"Marching in Place\", \n",
    "    \"Wall Push-ups\", \n",
    "    \"Seated Boxing Hooks\", \n",
    "    \"Standing Heel-to-Toe Walk\", \n",
    "    \"Side-Stepping\", \n",
    "    \"Seated Side Bends\", \n",
    "    \"Seated Medicine Ball Twists\", \n",
    "    \"Chair Squats\", \n",
    "    \"Light Stationary Cycling\"\n",
    "]\n",
    "\n",
    "df_filtered = df_active[df_active['Activity_Label'].isin(activity_order)]\n",
    "\n",
    "df_filtered['Activity_Label'] = pd.Categorical(df_filtered['Activity_Label'], categories=activity_order, ordered=True)\n",
    "df_sorted = df_filtered.sort_values(by=['Subject_ID', 'Activity_Label'])\n",
    "\n",
    "df_sorted.to_csv(\"Combined_Active_Only_Gyro_and_Accel_Subjects_1_to_6_Sorted.csv\", index=False)\n",
    "\n",
    "print(\"Filtered and sorted dataset has been saved as 'Combined_Active_Only_Gyro_and_Accel_Subjects_1_to_6_Sorted.csv'.\")"
   ]
  },
  {
   "cell_type": "markdown",
   "id": "1564e648",
   "metadata": {},
   "source": [
    "# Explore Sorted Dataset"
   ]
  },
  {
   "cell_type": "code",
   "execution_count": 18,
   "id": "eb8bde01",
   "metadata": {
    "scrolled": false
   },
   "outputs": [
    {
     "name": "stdout",
     "output_type": "stream",
     "text": [
      "Head of the dataset:\n",
      "   Timestamp (microseconds)  Accel X (g)  Accel Y (g)  Accel Z (g)  \\\n",
      "0             1739025164003    -2.533065    -4.299986     8.389283   \n",
      "1             1739025164003    -2.533065    -4.299986     8.389283   \n",
      "2             1739025164003    -2.533065    -4.299986     8.389283   \n",
      "3             1739025164003    -2.533065    -4.299986     8.389283   \n",
      "4             1739025164003    -2.533065    -4.299986     8.389283   \n",
      "\n",
      "   Gyro X (°/s)  Gyro Y (°/s)  Gyro Z (°/s)  Subject_ID         Activity_Label  \n",
      "0      0.009774      0.017104     -0.003665           1  Seated Leg Extensions  \n",
      "1      0.009774      0.017104     -0.003665           1  Seated Leg Extensions  \n",
      "2      0.009774      0.017104     -0.003665           1  Seated Leg Extensions  \n",
      "3      0.009774      0.017104     -0.003665           1  Seated Leg Extensions  \n",
      "4      0.009774      0.017104     -0.003665           1  Seated Leg Extensions  \n",
      "\n",
      "Total rows and columns: (234264, 9)\n",
      "\n",
      "Statistics of the numeric columns:\n",
      "       Timestamp (microseconds)    Accel X (g)    Accel Y (g)    Accel Z (g)  \\\n",
      "count              2.342640e+05  234261.000000  234257.000000  234236.000000   \n",
      "mean               1.739053e+12       1.872733      -2.800427       4.889721   \n",
      "std                6.224042e+09       7.021548       4.031065       4.052807   \n",
      "min                0.000000e+00     -41.084500     -30.600292     -33.988087   \n",
      "25%                1.739035e+12      -3.208230      -5.252879       2.123657   \n",
      "50%                1.739047e+12       2.719813      -2.355895       5.114015   \n",
      "75%                1.739051e+12       8.111555      -0.560243       8.161834   \n",
      "max                1.739337e+12      70.262634      27.023355      31.280245   \n",
      "\n",
      "        Gyro X (°/s)   Gyro Y (°/s)   Gyro Z (°/s)     Subject_ID  \n",
      "count  234261.000000  234261.000000  234253.000000  234264.000000  \n",
      "mean       -0.038985      -0.007815      -0.028342       3.573631  \n",
      "std         0.814033       0.894837       0.842600       1.715268  \n",
      "min        -8.566774      -7.947357      -9.974208       1.000000  \n",
      "25%        -0.174707      -0.114843      -0.152716       2.000000  \n",
      "50%        -0.004887       0.002443      -0.004887       4.000000  \n",
      "75%         0.123395       0.142942       0.144164       5.000000  \n",
      "max         4.675562       5.938832       4.747645       6.000000  \n"
     ]
    }
   ],
   "source": [
    "df_sorted = pd.read_csv(\"Combined_Active_Only_Gyro_and_Accel_Subjects_1_to_6_Sorted.csv\")\n",
    "\n",
    "print(\"Head of the dataset:\")\n",
    "print(df_sorted.head())\n",
    "\n",
    "print(f\"\\nTotal rows and columns: {df_sorted.shape}\")\n",
    "\n",
    "print(\"\\nStatistics of the numeric columns:\")\n",
    "print(df_sorted.describe())"
   ]
  },
  {
   "cell_type": "markdown",
   "id": "b937ef0c",
   "metadata": {},
   "source": [
    "# Clean Dataset"
   ]
  },
  {
   "cell_type": "code",
   "execution_count": 19,
   "id": "30a0c5d8",
   "metadata": {
    "scrolled": true
   },
   "outputs": [
    {
     "name": "stdout",
     "output_type": "stream",
     "text": [
      "Cleaned dataset saved as 'Combined_Active_Only_Gyro_and_Accel_Subjects_1_to_6_Cleaned.csv'\n"
     ]
    }
   ],
   "source": [
    "df_active = pd.read_csv(\"Combined_Active_Only_Gyro_and_Accel_Subjects_1_to_6.csv\")\n",
    "\n",
    "df_cleaned = df_active[df_active[\"Timestamp (microseconds)\"] != 0]\n",
    "df_cleaned = df_cleaned.dropna(subset=[\"Timestamp (microseconds)\"])\n",
    "\n",
    "sensor_columns = [\n",
    "    \"Accel X (g)\", \"Accel Y (g)\", \"Accel Z (g)\",\n",
    "    \"Gyro X (°/s)\", \"Gyro Y (°/s)\", \"Gyro Z (°/s)\"\n",
    "]\n",
    "df_cleaned = df_cleaned.dropna(subset=sensor_columns)\n",
    "\n",
    "df_cleaned.to_csv(\"Combined_Active_Only_Gyro_and_Accel_Subjects_1_to_6_Cleaned.csv\", index=False)\n",
    "\n",
    "print(\"Cleaned dataset saved as 'Combined_Active_Only_Gyro_and_Accel_Subjects_1_to_6_Cleaned.csv'\")"
   ]
  },
  {
   "cell_type": "markdown",
   "id": "d8d50a2e",
   "metadata": {},
   "source": [
    "# Verify Cleaned Dataset"
   ]
  },
  {
   "cell_type": "code",
   "execution_count": 20,
   "id": "f80d6862",
   "metadata": {},
   "outputs": [
    {
     "name": "stdout",
     "output_type": "stream",
     "text": [
      "Head of the cleaned dataset:\n",
      "   Timestamp (microseconds)  Accel X (g)  Accel Y (g)  Accel Z (g)  \\\n",
      "0             1739028476725     -5.98311     1.247379     8.365341   \n",
      "1             1739028476725     -5.98311     1.247379     8.365341   \n",
      "2             1739028476725     -5.98311     1.247379     8.365341   \n",
      "3             1739028476725     -5.98311     1.247379     8.365341   \n",
      "4             1739028476725     -5.98311     1.247379     8.365341   \n",
      "\n",
      "   Gyro X (°/s)  Gyro Y (°/s)  Gyro Z (°/s)  Subject_ID Activity_Label  \n",
      "0      0.321315     -0.024435     -0.131947           1   Chair Squats  \n",
      "1      0.321315     -0.024435     -0.131947           1   Chair Squats  \n",
      "2      0.321315     -0.024435     -0.131947           1   Chair Squats  \n",
      "3      0.321315     -0.024435     -0.131947           1   Chair Squats  \n",
      "4      0.321315     -0.024435     -0.131947           1   Chair Squats  \n",
      "\n",
      "Total rows and columns: (234228, 9)\n",
      "\n",
      "Statistics of the numeric columns:\n",
      "       Timestamp (microseconds)    Accel X (g)    Accel Y (g)    Accel Z (g)  \\\n",
      "count              2.342280e+05  234228.000000  234228.000000  234228.000000   \n",
      "mean               1.739075e+12       1.873033      -2.800713       4.889558   \n",
      "std                9.272924e+07       7.021981       4.031222       4.052781   \n",
      "min                1.739025e+12     -41.084500     -30.600292     -33.988087   \n",
      "25%                1.739035e+12      -3.208230      -5.254076       2.123657   \n",
      "50%                1.739047e+12       2.719813      -2.355895       5.114015   \n",
      "75%                1.739051e+12       8.113950      -0.560243       8.161834   \n",
      "max                1.739337e+12      70.262634      27.023355      31.280245   \n",
      "\n",
      "        Gyro X (°/s)   Gyro Y (°/s)   Gyro Z (°/s)     Subject_ID  \n",
      "count  234228.000000  234228.000000  234228.000000  234228.000000  \n",
      "mean       -0.039001      -0.007802      -0.028341       3.573411  \n",
      "std         0.814087       0.894899       0.842644       1.715302  \n",
      "min        -8.566774      -7.947357      -9.974208       1.000000  \n",
      "25%        -0.174707      -0.114843      -0.152716       2.000000  \n",
      "50%        -0.004887       0.002443      -0.004887       4.000000  \n",
      "75%         0.123395       0.142942       0.144164       5.000000  \n",
      "max         4.675562       5.938832       4.747645       6.000000  \n"
     ]
    }
   ],
   "source": [
    "df_cleaned = pd.read_csv(\"Combined_Active_Only_Gyro_and_Accel_Subjects_1_to_6_Cleaned.csv\")\n",
    "\n",
    "print(\"Head of the cleaned dataset:\")\n",
    "print(df_cleaned.head())\n",
    "\n",
    "print(\"\\nTotal rows and columns:\", df_cleaned.shape)\n",
    "\n",
    "print(\"\\nStatistics of the numeric columns:\")\n",
    "print(df_cleaned.describe())"
   ]
  },
  {
   "cell_type": "markdown",
   "id": "f3241fe7",
   "metadata": {},
   "source": [
    "# Create Windows"
   ]
  },
  {
   "cell_type": "code",
   "execution_count": 21,
   "id": "c808ca69",
   "metadata": {},
   "outputs": [
    {
     "name": "stdout",
     "output_type": "stream",
     "text": [
      "Full dataset shape (windows): (3658, 128, 6)\n",
      "Windowed labels shape: (3658,)\n",
      "\n",
      "File saved:\n",
      "- Full Data: 'Scaled_Combined_Active_Gyro_Accel.csv'\n"
     ]
    }
   ],
   "source": [
    "df = pd.read_csv('Combined_Active_Only_Gyro_and_Accel_Subjects_1_to_6_Cleaned.csv')\n",
    "\n",
    "accel_gyro_cols = ['Accel X (g)', 'Accel Y (g)', 'Accel Z (g)',\n",
    "                   'Gyro X (°/s)', 'Gyro Y (°/s)', 'Gyro Z (°/s)']\n",
    "\n",
    "df.to_csv('Scaled_Combined_Active_Gyro_Accel.csv', index=False)\n",
    "\n",
    "def create_overlapping_windows(data, window_size, step_size, features):\n",
    "    segments = []\n",
    "    for start in range(0, len(data) - window_size + 1, step_size):\n",
    "        segment = data[start:start + window_size, :features]\n",
    "        segments.append(segment)\n",
    "    return np.array(segments)\n",
    "\n",
    "def assign_labels_to_windows(labels, window_size, step_size):\n",
    "    window_labels = []\n",
    "    for start in range(0, len(labels) - window_size + 1, step_size):\n",
    "        window_label = np.bincount(labels[start:start + window_size]).argmax()\n",
    "        window_labels.append(window_label)\n",
    "    return np.array(window_labels)\n",
    "\n",
    "window_size = 128\n",
    "step_size = 64\n",
    "num_features = 6\n",
    "\n",
    "labels = pd.factorize(df['Activity_Label'])[0]\n",
    "features = df[accel_gyro_cols].values\n",
    "\n",
    "X = create_overlapping_windows(features, window_size, step_size, num_features)\n",
    "y = assign_labels_to_windows(labels, window_size, step_size)\n",
    "\n",
    "print(f\"Full dataset shape (windows): {X.shape}\")\n",
    "print(f\"Windowed labels shape: {y.shape}\")\n",
    "\n",
    "print(\"\\nFile saved:\")\n",
    "print(\"- Full Data: 'Scaled_Combined_Active_Gyro_Accel.csv'\")"
   ]
  },
  {
   "cell_type": "markdown",
   "id": "62bad52c",
   "metadata": {},
   "source": [
    "# Print Scaled Dataset"
   ]
  },
  {
   "cell_type": "code",
   "execution_count": 22,
   "id": "76c81276",
   "metadata": {},
   "outputs": [
    {
     "name": "stdout",
     "output_type": "stream",
     "text": [
      "        Timestamp (microseconds)  Accel X (g)  Accel Y (g)  Accel Z (g)  \\\n",
      "0                  1739028476725    -5.983110     1.247379     8.365341   \n",
      "1                  1739028476725    -5.983110     1.247379     8.365341   \n",
      "2                  1739028476725    -5.983110     1.247379     8.365341   \n",
      "3                  1739028476725    -5.983110     1.247379     8.365341   \n",
      "4                  1739028476725    -5.983110     1.247379     8.365341   \n",
      "...                          ...          ...          ...          ...   \n",
      "234223             1739051490559     8.446744    -4.716577     3.725378   \n",
      "234224             1739051490568     8.446744    -4.716577     3.725378   \n",
      "234225             1739051490589     8.446744    -4.716577     3.725378   \n",
      "234226             1739051490609     8.446744    -4.716577     3.725378   \n",
      "234227             1739051490620     8.446744    -4.716577     3.725378   \n",
      "\n",
      "        Gyro X (°/s)  Gyro Y (°/s)  Gyro Z (°/s)  Subject_ID Activity_Label  \n",
      "0           0.321315     -0.024435     -0.131947           1   Chair Squats  \n",
      "1           0.321315     -0.024435     -0.131947           1   Chair Squats  \n",
      "2           0.321315     -0.024435     -0.131947           1   Chair Squats  \n",
      "3           0.321315     -0.024435     -0.131947           1   Chair Squats  \n",
      "4           0.321315     -0.024435     -0.131947           1   Chair Squats  \n",
      "...              ...           ...           ...         ...            ...  \n",
      "234223     -0.808786      0.274889     -0.142942           6  Wall Push-ups  \n",
      "234224     -0.808786      0.274889     -0.142942           6  Wall Push-ups  \n",
      "234225     -0.808786      0.274889     -0.142942           6  Wall Push-ups  \n",
      "234226     -0.808786      0.274889     -0.142942           6  Wall Push-ups  \n",
      "234227     -0.808786      0.274889     -0.142942           6  Wall Push-ups  \n",
      "\n",
      "[234228 rows x 9 columns]\n"
     ]
    }
   ],
   "source": [
    "df = pd.read_csv('Scaled_Combined_Active_Gyro_Accel.csv')\n",
    "\n",
    "print(df)"
   ]
  },
  {
   "cell_type": "markdown",
   "id": "3b6d5744",
   "metadata": {},
   "source": [
    "# Analyze Scaled Dataset"
   ]
  },
  {
   "cell_type": "code",
   "execution_count": 23,
   "id": "2b4636b2",
   "metadata": {},
   "outputs": [
    {
     "name": "stdout",
     "output_type": "stream",
     "text": [
      "Basic Data Info:\n",
      "<class 'pandas.core.frame.DataFrame'>\n",
      "RangeIndex: 234228 entries, 0 to 234227\n",
      "Data columns (total 9 columns):\n",
      " #   Column                    Non-Null Count   Dtype  \n",
      "---  ------                    --------------   -----  \n",
      " 0   Timestamp (microseconds)  234228 non-null  int64  \n",
      " 1   Accel X (g)               234228 non-null  float64\n",
      " 2   Accel Y (g)               234228 non-null  float64\n",
      " 3   Accel Z (g)               234228 non-null  float64\n",
      " 4   Gyro X (°/s)              234228 non-null  float64\n",
      " 5   Gyro Y (°/s)              234228 non-null  float64\n",
      " 6   Gyro Z (°/s)              234228 non-null  float64\n",
      " 7   Subject_ID                234228 non-null  int64  \n",
      " 8   Activity_Label            234228 non-null  object \n",
      "dtypes: float64(6), int64(2), object(1)\n",
      "memory usage: 16.1+ MB\n",
      "None\n",
      "\n",
      "Missing Values:\n",
      "Timestamp (microseconds)    0\n",
      "Accel X (g)                 0\n",
      "Accel Y (g)                 0\n",
      "Accel Z (g)                 0\n",
      "Gyro X (°/s)                0\n",
      "Gyro Y (°/s)                0\n",
      "Gyro Z (°/s)                0\n",
      "Subject_ID                  0\n",
      "Activity_Label              0\n",
      "dtype: int64\n",
      "\n",
      "Duplicates Found (if any):\n",
      "        Timestamp (microseconds)  Accel X (g)  Accel Y (g)  Accel Z (g)  \\\n",
      "1                  1739028476725    -5.983110     1.247379     8.365341   \n",
      "2                  1739028476725    -5.983110     1.247379     8.365341   \n",
      "3                  1739028476725    -5.983110     1.247379     8.365341   \n",
      "4                  1739028476725    -5.983110     1.247379     8.365341   \n",
      "5                  1739028476725    -5.983110     1.247379     8.365341   \n",
      "...                          ...          ...          ...          ...   \n",
      "230551             1739051387395    -4.728548     0.878672     8.722076   \n",
      "230552             1739051387395    -4.728548     0.878672     8.722076   \n",
      "232275             1739051437220    -0.864307     2.437297     9.253590   \n",
      "232276             1739051437220    -0.864307     2.437297     9.253590   \n",
      "232277             1739051437220    -0.864307     2.437297     9.253590   \n",
      "\n",
      "        Gyro X (°/s)  Gyro Y (°/s)  Gyro Z (°/s)  Subject_ID Activity_Label  \n",
      "1           0.321315     -0.024435     -0.131947           1   Chair Squats  \n",
      "2           0.321315     -0.024435     -0.131947           1   Chair Squats  \n",
      "3           0.321315     -0.024435     -0.131947           1   Chair Squats  \n",
      "4           0.321315     -0.024435     -0.131947           1   Chair Squats  \n",
      "5           0.321315     -0.024435     -0.131947           1   Chair Squats  \n",
      "...              ...           ...           ...         ...            ...  \n",
      "230551      0.034208      0.015882      0.090408           6  Wall Push-ups  \n",
      "230552      0.034208      0.015882      0.090408           6  Wall Push-ups  \n",
      "232275     -0.174707     -0.118508      0.238237           6  Wall Push-ups  \n",
      "232276     -0.174707     -0.118508      0.238237           6  Wall Push-ups  \n",
      "232277     -0.174707     -0.118508      0.238237           6  Wall Push-ups  \n",
      "\n",
      "[4063 rows x 9 columns]\n",
      "\n",
      "Descriptive Statistics:\n",
      "       Timestamp (microseconds)    Accel X (g)    Accel Y (g)    Accel Z (g)  \\\n",
      "count              2.342280e+05  234228.000000  234228.000000  234228.000000   \n",
      "mean               1.739075e+12       1.873033      -2.800713       4.889558   \n",
      "std                9.272924e+07       7.021981       4.031222       4.052781   \n",
      "min                1.739025e+12     -41.084500     -30.600292     -33.988087   \n",
      "25%                1.739035e+12      -3.208230      -5.254076       2.123657   \n",
      "50%                1.739047e+12       2.719813      -2.355895       5.114015   \n",
      "75%                1.739051e+12       8.113950      -0.560243       8.161834   \n",
      "max                1.739337e+12      70.262634      27.023355      31.280245   \n",
      "\n",
      "        Gyro X (°/s)   Gyro Y (°/s)   Gyro Z (°/s)     Subject_ID  \n",
      "count  234228.000000  234228.000000  234228.000000  234228.000000  \n",
      "mean       -0.039001      -0.007802      -0.028341       3.573411  \n",
      "std         0.814087       0.894899       0.842644       1.715302  \n",
      "min        -8.566774      -7.947357      -9.974208       1.000000  \n",
      "25%        -0.174707      -0.114843      -0.152716       2.000000  \n",
      "50%        -0.004887       0.002443      -0.004887       4.000000  \n",
      "75%         0.123395       0.142942       0.144164       5.000000  \n",
      "max         4.675562       5.938832       4.747645       6.000000  \n"
     ]
    }
   ],
   "source": [
    "df = pd.read_csv('Scaled_Combined_Active_Gyro_Accel.csv')\n",
    "\n",
    "print(\"Basic Data Info:\")\n",
    "print(df.info())\n",
    "print(\"\\nMissing Values:\")\n",
    "print(df.isnull().sum())\n",
    "\n",
    "duplicates = df[df.duplicated()]\n",
    "print(\"\\nDuplicates Found (if any):\")\n",
    "print(duplicates)\n",
    "\n",
    "print(\"\\nDescriptive Statistics:\")\n",
    "print(df.describe())"
   ]
  },
  {
   "cell_type": "markdown",
   "id": "ad9a0d9d",
   "metadata": {},
   "source": [
    "# Remove Duplicates"
   ]
  },
  {
   "cell_type": "code",
   "execution_count": 24,
   "id": "2877df34",
   "metadata": {},
   "outputs": [
    {
     "name": "stdout",
     "output_type": "stream",
     "text": [
      "Duplicates removed: 4063\n",
      "<class 'pandas.core.frame.DataFrame'>\n",
      "Index: 230165 entries, 0 to 234227\n",
      "Data columns (total 9 columns):\n",
      " #   Column                    Non-Null Count   Dtype  \n",
      "---  ------                    --------------   -----  \n",
      " 0   Timestamp (microseconds)  230165 non-null  int64  \n",
      " 1   Accel X (g)               230165 non-null  float64\n",
      " 2   Accel Y (g)               230165 non-null  float64\n",
      " 3   Accel Z (g)               230165 non-null  float64\n",
      " 4   Gyro X (°/s)              230165 non-null  float64\n",
      " 5   Gyro Y (°/s)              230165 non-null  float64\n",
      " 6   Gyro Z (°/s)              230165 non-null  float64\n",
      " 7   Subject_ID                230165 non-null  int64  \n",
      " 8   Activity_Label            230165 non-null  object \n",
      "dtypes: float64(6), int64(2), object(1)\n",
      "memory usage: 17.6+ MB\n",
      "None\n"
     ]
    }
   ],
   "source": [
    "df = pd.read_csv('Scaled_Combined_Active_Gyro_Accel.csv')\n",
    "\n",
    "df_cleaned = df.drop_duplicates()\n",
    "\n",
    "duplicates_removed = df.shape[0] - df_cleaned.shape[0]\n",
    "print(f\"Duplicates removed: {duplicates_removed}\")\n",
    "\n",
    "print(df_cleaned.info())\n",
    "\n",
    "df_cleaned.to_csv('Scaled_Combined_Active_Gyro_Accel_Cleaned.csv', index=False)"
   ]
  },
  {
   "cell_type": "markdown",
   "id": "7e398026",
   "metadata": {},
   "source": [
    "# Verify Cleaned Scaled Dataset"
   ]
  },
  {
   "cell_type": "code",
   "execution_count": 25,
   "id": "f9fbb82d",
   "metadata": {},
   "outputs": [
    {
     "name": "stdout",
     "output_type": "stream",
     "text": [
      "Basic Data Info:\n",
      "<class 'pandas.core.frame.DataFrame'>\n",
      "RangeIndex: 230165 entries, 0 to 230164\n",
      "Data columns (total 9 columns):\n",
      " #   Column                    Non-Null Count   Dtype  \n",
      "---  ------                    --------------   -----  \n",
      " 0   Timestamp (microseconds)  230165 non-null  int64  \n",
      " 1   Accel X (g)               230165 non-null  float64\n",
      " 2   Accel Y (g)               230165 non-null  float64\n",
      " 3   Accel Z (g)               230165 non-null  float64\n",
      " 4   Gyro X (°/s)              230165 non-null  float64\n",
      " 5   Gyro Y (°/s)              230165 non-null  float64\n",
      " 6   Gyro Z (°/s)              230165 non-null  float64\n",
      " 7   Subject_ID                230165 non-null  int64  \n",
      " 8   Activity_Label            230165 non-null  object \n",
      "dtypes: float64(6), int64(2), object(1)\n",
      "memory usage: 15.8+ MB\n",
      "None\n",
      "\n",
      "Missing Values:\n",
      "Timestamp (microseconds)    0\n",
      "Accel X (g)                 0\n",
      "Accel Y (g)                 0\n",
      "Accel Z (g)                 0\n",
      "Gyro X (°/s)                0\n",
      "Gyro Y (°/s)                0\n",
      "Gyro Z (°/s)                0\n",
      "Subject_ID                  0\n",
      "Activity_Label              0\n",
      "dtype: int64\n",
      "\n",
      "Duplicates Found (if any) after cleaning:\n",
      "Empty DataFrame\n",
      "Columns: [Timestamp (microseconds), Accel X (g), Accel Y (g), Accel Z (g), Gyro X (°/s), Gyro Y (°/s), Gyro Z (°/s), Subject_ID, Activity_Label]\n",
      "Index: []\n",
      "\n",
      "Descriptive Statistics of Cleaned Data:\n",
      "       Timestamp (microseconds)    Accel X (g)    Accel Y (g)    Accel Z (g)  \\\n",
      "count              2.301650e+05  230165.000000  230165.000000  230165.000000   \n",
      "mean               1.739075e+12       1.880179      -2.820282       4.868920   \n",
      "std                9.284780e+07       7.036249       4.032858       4.049970   \n",
      "min                1.739025e+12     -41.084500     -30.600292     -33.988087   \n",
      "25%                1.739035e+12      -3.263297      -5.305551       2.116474   \n",
      "50%                1.739047e+12       2.758120      -2.372654       5.042189   \n",
      "75%                1.739051e+12       8.123527      -0.577003       8.128315   \n",
      "max                1.739337e+12      70.262634      27.023355      31.280245   \n",
      "\n",
      "        Gyro X (°/s)   Gyro Y (°/s)   Gyro Z (°/s)     Subject_ID  \n",
      "count  230165.000000  230165.000000  230165.000000  230165.000000  \n",
      "mean       -0.039187      -0.004686      -0.028919       3.570078  \n",
      "std         0.812824       0.892531       0.844970       1.715026  \n",
      "min        -8.566774      -7.947357      -9.974208       1.000000  \n",
      "25%        -0.172264      -0.113621      -0.152716       2.000000  \n",
      "50%        -0.004887       0.002443      -0.004887       4.000000  \n",
      "75%         0.122173       0.145386       0.145386       5.000000  \n",
      "max         4.675562       5.938832       4.747645       6.000000  \n"
     ]
    }
   ],
   "source": [
    "df_cleaned = pd.read_csv('Scaled_Combined_Active_Gyro_Accel_Cleaned.csv')\n",
    "\n",
    "print(\"Basic Data Info:\")\n",
    "print(df_cleaned.info())\n",
    "print(\"\\nMissing Values:\")\n",
    "print(df_cleaned.isnull().sum())\n",
    "\n",
    "duplicates_cleaned = df_cleaned[df_cleaned.duplicated()]\n",
    "print(\"\\nDuplicates Found (if any) after cleaning:\")\n",
    "print(duplicates_cleaned)\n",
    "\n",
    "print(\"\\nDescriptive Statistics of Cleaned Data:\")\n",
    "print(df_cleaned.describe())"
   ]
  },
  {
   "cell_type": "markdown",
   "id": "e9070535",
   "metadata": {},
   "source": [
    "# Explore Cleaned Scaled Dataset"
   ]
  },
  {
   "cell_type": "code",
   "execution_count": 26,
   "id": "a3523550",
   "metadata": {},
   "outputs": [
    {
     "name": "stdout",
     "output_type": "stream",
     "text": [
      "First few rows of the dataset:\n",
      "   Timestamp (microseconds)  Accel X (g)  Accel Y (g)  Accel Z (g)  \\\n",
      "0             1739028476725     -5.98311     1.247379     8.365341   \n",
      "1             1739028476778     -5.98311     1.247379     8.365341   \n",
      "2             1739028476802     -5.98311     1.247379     8.365341   \n",
      "3             1739028476810     -5.98311     1.247379     8.365341   \n",
      "4             1739028476820     -5.98311     1.247379     8.365341   \n",
      "\n",
      "   Gyro X (°/s)  Gyro Y (°/s)  Gyro Z (°/s)  Subject_ID Activity_Label  \n",
      "0      0.321315     -0.024435     -0.131947           1   Chair Squats  \n",
      "1      0.321315     -0.024435     -0.131947           1   Chair Squats  \n",
      "2      0.321315     -0.024435     -0.131947           1   Chair Squats  \n",
      "3      0.321315     -0.024435     -0.131947           1   Chair Squats  \n",
      "4      0.321315     -0.024435     -0.131947           1   Chair Squats  \n",
      "\n",
      "Total rows and columns:\n",
      "Rows: 230165\n",
      "Columns: 9\n",
      "\n",
      "Activity counts:\n",
      "Activity_Label\n",
      "Marching in Place              36556\n",
      "Wall Push-ups                  27090\n",
      "Standing Heel-to-Toe Walk      26538\n",
      "Seated Boxing Hooks            25783\n",
      "Light Stationary Cycling       21696\n",
      "Seated Medicine Ball Twists    18570\n",
      "Seated Side Bends              18554\n",
      "Chair Squats                   18509\n",
      "Seated Leg Extensions          18498\n",
      "Side-Stepping                  18371\n",
      "Name: count, dtype: int64\n"
     ]
    }
   ],
   "source": [
    "df_cleaned = pd.read_csv('Scaled_Combined_Active_Gyro_Accel_Cleaned.csv')\n",
    "\n",
    "print(\"First few rows of the dataset:\")\n",
    "print(df_cleaned.head())\n",
    "\n",
    "print(\"\\nTotal rows and columns:\")\n",
    "print(f\"Rows: {df_cleaned.shape[0]}\")\n",
    "print(f\"Columns: {df_cleaned.shape[1]}\")\n",
    "\n",
    "print(\"\\nActivity counts:\")\n",
    "print(df_cleaned['Activity_Label'].value_counts())"
   ]
  },
  {
   "cell_type": "markdown",
   "id": "7153c4cf",
   "metadata": {},
   "source": [
    "# Apply SMOTE for HART Models"
   ]
  },
  {
   "cell_type": "code",
   "execution_count": 27,
   "id": "3384a0c3",
   "metadata": {},
   "outputs": [
    {
     "name": "stdout",
     "output_type": "stream",
     "text": [
      "Class distribution before SMOTE:\n",
      "Activity_Label\n",
      "Marching in Place              36556\n",
      "Wall Push-ups                  27090\n",
      "Standing Heel-to-Toe Walk      26538\n",
      "Seated Boxing Hooks            25783\n",
      "Light Stationary Cycling       21696\n",
      "Seated Medicine Ball Twists    18570\n",
      "Seated Side Bends              18554\n",
      "Chair Squats                   18509\n",
      "Seated Leg Extensions          18498\n",
      "Side-Stepping                  18371\n",
      "Name: count, dtype: int64\n",
      "\n",
      "Class distribution after SMOTE:\n",
      "Chair Squats                   36556\n",
      "Light Stationary Cycling       36556\n",
      "Marching in Place              36556\n",
      "Seated Boxing Hooks            36556\n",
      "Seated Leg Extensions          36556\n",
      "Seated Medicine Ball Twists    36556\n",
      "Seated Side Bends              36556\n",
      "Side-Stepping                  36556\n",
      "Standing Heel-to-Toe Walk      36556\n",
      "Wall Push-ups                  36556\n",
      "Name: count, dtype: int64\n",
      "\n",
      "First few rows of the resampled dataframe:\n",
      "   Accel X (g)  Accel Y (g)  Accel Z (g)  Gyro X (°/s)  Gyro Y (°/s)  \\\n",
      "0     -5.98311     1.247379     8.365341      0.321315     -0.024435   \n",
      "1     -5.98311     1.247379     8.365341      0.321315     -0.024435   \n",
      "2     -5.98311     1.247379     8.365341      0.321315     -0.024435   \n",
      "3     -5.98311     1.247379     8.365341      0.321315     -0.024435   \n",
      "4     -5.98311     1.247379     8.365341      0.321315     -0.024435   \n",
      "\n",
      "   Gyro Z (°/s)  Subject_ID Activity_Label  \n",
      "0     -0.131947           1   Chair Squats  \n",
      "1     -0.131947           1   Chair Squats  \n",
      "2     -0.131947           1   Chair Squats  \n",
      "3     -0.131947           1   Chair Squats  \n",
      "4     -0.131947           1   Chair Squats  \n"
     ]
    }
   ],
   "source": [
    "df = pd.read_csv('Scaled_Combined_Active_Gyro_Accel_Cleaned.csv')\n",
    "\n",
    "X = df.drop(columns=['Activity_Label', 'Timestamp (microseconds)'])\n",
    "y = df['Activity_Label']\n",
    "\n",
    "print(\"Class distribution before SMOTE:\")\n",
    "print(y.value_counts())\n",
    "\n",
    "le = LabelEncoder()\n",
    "y_encoded = le.fit_transform(y)\n",
    "\n",
    "smote = SMOTE(random_state=42)\n",
    "X_resampled, y_resampled = smote.fit_resample(X, y_encoded)\n",
    "\n",
    "print(\"\\nClass distribution after SMOTE:\")\n",
    "y_resampled_series = pd.Series(y_resampled)\n",
    "y_resampled_activity_names = le.inverse_transform(y_resampled_series)\n",
    "print(pd.Series(y_resampled_activity_names).value_counts())\n",
    "\n",
    "y_resampled_decoded = le.inverse_transform(y_resampled)\n",
    "\n",
    "df_resampled = pd.DataFrame(X_resampled, columns=X.columns)\n",
    "df_resampled['Activity_Label'] = y_resampled_decoded\n",
    "\n",
    "print(\"\\nFirst few rows of the resampled dataframe:\")\n",
    "print(df_resampled.head())\n",
    "\n",
    "df_resampled.to_csv('SMOTE_Scaled_Combined_Active_Gyro_Accel_Cleaned_V2.csv', index=False)"
   ]
  }
 ],
 "metadata": {
  "kernelspec": {
   "display_name": "Python 3 (ipykernel)",
   "language": "python",
   "name": "python3"
  },
  "language_info": {
   "codemirror_mode": {
    "name": "ipython",
    "version": 3
   },
   "file_extension": ".py",
   "mimetype": "text/x-python",
   "name": "python",
   "nbconvert_exporter": "python",
   "pygments_lexer": "ipython3",
   "version": "3.9.7"
  }
 },
 "nbformat": 4,
 "nbformat_minor": 5
}
