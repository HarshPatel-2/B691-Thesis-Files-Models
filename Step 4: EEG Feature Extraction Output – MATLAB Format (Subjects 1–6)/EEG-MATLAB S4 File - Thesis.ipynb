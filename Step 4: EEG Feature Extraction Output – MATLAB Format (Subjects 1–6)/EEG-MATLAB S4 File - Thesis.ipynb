{
 "cells": [
  {
   "cell_type": "markdown",
   "id": "a49b6fb3",
   "metadata": {},
   "source": [
    "# Import Libraries"
   ]
  },
  {
   "cell_type": "code",
   "execution_count": 1,
   "id": "6ea954e9",
   "metadata": {},
   "outputs": [],
   "source": [
    "import pandas as pd"
   ]
  },
  {
   "cell_type": "markdown",
   "id": "dc12da9e",
   "metadata": {},
   "source": [
    "# Load and Explore Raw EEG Data"
   ]
  },
  {
   "cell_type": "code",
   "execution_count": 2,
   "id": "4e27ff5a",
   "metadata": {},
   "outputs": [
    {
     "name": "stdout",
     "output_type": "stream",
     "text": [
      "Total Rows: 4348, Total Columns: 113\n",
      "Data shape: (4348, 113)\n",
      "\n",
      "First 5 rows:\n",
      "        Ch1_Std       Ch1_RMS     Ch1_Delta     Ch1_Theta     Ch1_Alpha  \\\n",
      "0  3.158785e-08  3.188178e-08  1.121477e-15  1.421930e-17  1.139625e-19   \n",
      "1  4.120880e-08  4.306598e-08  9.069405e-16  2.048433e-17  1.370206e-19   \n",
      "2  6.146560e-08  6.140777e-08  3.467015e-15  5.664702e-17  3.788163e-19   \n",
      "3  4.761567e-08  4.858411e-08  2.610055e-15  3.476346e-17  2.266065e-19   \n",
      "4  2.144688e-08  2.216589e-08  3.019891e-16  3.722760e-18  3.191619e-20   \n",
      "\n",
      "       Ch1_Beta     Ch1_Gamma      Ch2_Std      Ch2_RMS     Ch2_Delta  ...  \\\n",
      "0  1.876749e-19  6.863256e-20  5210.532333  5232.054979  2.768595e+07  ...   \n",
      "1  2.399516e-19  8.797667e-20  3715.170574  3758.982178  5.640662e+06  ...   \n",
      "2  6.687522e-19  2.456019e-19  3241.097886  3235.316956  9.246106e+06  ...   \n",
      "3  3.991046e-19  1.465421e-19  4262.175405  4262.304102  1.544875e+07  ...   \n",
      "4  4.887636e-20  1.784928e-20  3756.846208  3752.368416  1.407109e+07  ...   \n",
      "\n",
      "    Ch15_Beta  Ch15_Gamma   Ch16_Std   Ch16_RMS   Ch16_Delta  Ch16_Theta  \\\n",
      "0  254.089597   67.737731  49.465084  49.367572  1696.424108  947.886874   \n",
      "1   68.268774   16.326654  43.693402  43.606699   822.544725  444.146403   \n",
      "2   28.439601    8.159259  37.824515  38.077892   749.283212  224.355936   \n",
      "3   53.501576   16.694843  55.032786  54.926687  2053.433252  343.582876   \n",
      "4   69.072475   33.180417  51.027417  51.095960  1948.778377  861.693889   \n",
      "\n",
      "   Ch16_Alpha   Ch16_Beta  Ch16_Gamma  Activity_Label_OpenBCI  \n",
      "0  346.770467  401.731958  142.217569                       1  \n",
      "1  239.386222  231.610917   68.899931                       1  \n",
      "2  101.884409   68.788729   12.248434                       1  \n",
      "3  111.101157  141.001907   41.645419                       1  \n",
      "4  145.760419   98.576499   24.934599                       1  \n",
      "\n",
      "[5 rows x 113 columns]\n",
      "\n",
      "Column names:\n",
      "['Ch1_Std', 'Ch1_RMS', 'Ch1_Delta', 'Ch1_Theta', 'Ch1_Alpha', 'Ch1_Beta', 'Ch1_Gamma', 'Ch2_Std', 'Ch2_RMS', 'Ch2_Delta', 'Ch2_Theta', 'Ch2_Alpha', 'Ch2_Beta', 'Ch2_Gamma', 'Ch3_Std', 'Ch3_RMS', 'Ch3_Delta', 'Ch3_Theta', 'Ch3_Alpha', 'Ch3_Beta', 'Ch3_Gamma', 'Ch4_Std', 'Ch4_RMS', 'Ch4_Delta', 'Ch4_Theta', 'Ch4_Alpha', 'Ch4_Beta', 'Ch4_Gamma', 'Ch5_Std', 'Ch5_RMS', 'Ch5_Delta', 'Ch5_Theta', 'Ch5_Alpha', 'Ch5_Beta', 'Ch5_Gamma', 'Ch6_Std', 'Ch6_RMS', 'Ch6_Delta', 'Ch6_Theta', 'Ch6_Alpha', 'Ch6_Beta', 'Ch6_Gamma', 'Ch7_Std', 'Ch7_RMS', 'Ch7_Delta', 'Ch7_Theta', 'Ch7_Alpha', 'Ch7_Beta', 'Ch7_Gamma', 'Ch8_Std', 'Ch8_RMS', 'Ch8_Delta', 'Ch8_Theta', 'Ch8_Alpha', 'Ch8_Beta', 'Ch8_Gamma', 'Ch9_Std', 'Ch9_RMS', 'Ch9_Delta', 'Ch9_Theta', 'Ch9_Alpha', 'Ch9_Beta', 'Ch9_Gamma', 'Ch10_Std', 'Ch10_RMS', 'Ch10_Delta', 'Ch10_Theta', 'Ch10_Alpha', 'Ch10_Beta', 'Ch10_Gamma', 'Ch11_Std', 'Ch11_RMS', 'Ch11_Delta', 'Ch11_Theta', 'Ch11_Alpha', 'Ch11_Beta', 'Ch11_Gamma', 'Ch12_Std', 'Ch12_RMS', 'Ch12_Delta', 'Ch12_Theta', 'Ch12_Alpha', 'Ch12_Beta', 'Ch12_Gamma', 'Ch13_Std', 'Ch13_RMS', 'Ch13_Delta', 'Ch13_Theta', 'Ch13_Alpha', 'Ch13_Beta', 'Ch13_Gamma', 'Ch14_Std', 'Ch14_RMS', 'Ch14_Delta', 'Ch14_Theta', 'Ch14_Alpha', 'Ch14_Beta', 'Ch14_Gamma', 'Ch15_Std', 'Ch15_RMS', 'Ch15_Delta', 'Ch15_Theta', 'Ch15_Alpha', 'Ch15_Beta', 'Ch15_Gamma', 'Ch16_Std', 'Ch16_RMS', 'Ch16_Delta', 'Ch16_Theta', 'Ch16_Alpha', 'Ch16_Beta', 'Ch16_Gamma', 'Activity_Label_OpenBCI']\n",
      "\n",
      "Unique Activity Labels:\n",
      "[ 1  2  3  4  5  6  7  8  9 10]\n"
     ]
    }
   ],
   "source": [
    "filename = \"EEG_Features_Only_S4-ValidChannels.csv\"\n",
    "df_eeg = pd.read_csv(filename)\n",
    "\n",
    "total_rows, total_columns = df_eeg.shape\n",
    "print(f\"Total Rows: {total_rows}, Total Columns: {total_columns}\")\n",
    "\n",
    "print(f\"Data shape: {df_eeg.shape}\")\n",
    "\n",
    "print(\"\\nFirst 5 rows:\")\n",
    "print(df_eeg.head())\n",
    "\n",
    "print(\"\\nColumn names:\")\n",
    "print(df_eeg.columns.tolist())\n",
    "\n",
    "if 'Activity_Label_OpenBCI' in df_eeg.columns:\n",
    "    print(\"\\nUnique Activity Labels:\")\n",
    "    print(df_eeg['Activity_Label_OpenBCI'].unique())"
   ]
  },
  {
   "cell_type": "markdown",
   "id": "2fde3643",
   "metadata": {},
   "source": [
    "# Count Activity Labels in Raw Data"
   ]
  },
  {
   "cell_type": "code",
   "execution_count": 3,
   "id": "1b9169a3",
   "metadata": {},
   "outputs": [
    {
     "name": "stdout",
     "output_type": "stream",
     "text": [
      "Activity Label Counts:\n",
      "Activity_Label_OpenBCI\n",
      "1     461\n",
      "2     309\n",
      "3     465\n",
      "4     506\n",
      "5     466\n",
      "6     309\n",
      "7     469\n",
      "8     467\n",
      "9     438\n",
      "10    458\n",
      "Name: count, dtype: int64\n"
     ]
    }
   ],
   "source": [
    "df = pd.read_csv(\"EEG_Features_Only_S4-ValidChannels.csv\")\n",
    "\n",
    "activity_counts = df[\"Activity_Label_OpenBCI\"].value_counts().sort_index()\n",
    "\n",
    "print(\"Activity Label Counts:\")\n",
    "print(activity_counts)"
   ]
  },
  {
   "cell_type": "markdown",
   "id": "e6bfa12d",
   "metadata": {},
   "source": [
    "# Map Activity Labels to Descriptive Names and Save"
   ]
  },
  {
   "cell_type": "code",
   "execution_count": 4,
   "id": "558201ab",
   "metadata": {},
   "outputs": [
    {
     "name": "stdout",
     "output_type": "stream",
     "text": [
      "Successfully updated and saved to 'EEG_Features_Only_S4-ValidChannels_Updated.csv' with activity names.\n"
     ]
    }
   ],
   "source": [
    "file_path = \"EEG_Features_Only_S4-ValidChannels.csv\"\n",
    "df_eeg = pd.read_csv(file_path)\n",
    "\n",
    "activity_map = {\n",
    "    1: \"Seated Leg Extensions\",\n",
    "    2: \"Marching in Place\",\n",
    "    3: \"Wall Push-ups\",\n",
    "    4: \"Seated Boxing Hooks\",\n",
    "    5: \"Standing Heel-to-Toe Walk\",\n",
    "    6: \"Side-Stepping\",\n",
    "    7: \"Seated Side Bends\",\n",
    "    8: \"Seated Medicine Ball Twists\",\n",
    "    9: \"Chair Squats\",\n",
    "    10: \"Light Stationary Cycling\"\n",
    "}\n",
    "\n",
    "df_eeg['Activity_Label_OpenBCI'] = df_eeg['Activity_Label_OpenBCI'].map(activity_map)\n",
    "\n",
    "updated_file_path = \"EEG_Features_Only_S4-ValidChannels_Updated.csv\"\n",
    "df_eeg.to_csv(updated_file_path, index=False)\n",
    "\n",
    "print(f\"Successfully updated and saved to '{updated_file_path}' with activity names.\")"
   ]
  },
  {
   "cell_type": "markdown",
   "id": "00acd4f4",
   "metadata": {},
   "source": [
    "# Load and Explore Updated EEG Data"
   ]
  },
  {
   "cell_type": "code",
   "execution_count": 5,
   "id": "f84bb6d1",
   "metadata": {},
   "outputs": [
    {
     "name": "stdout",
     "output_type": "stream",
     "text": [
      "Total Rows: 4348, Total Columns: 113\n",
      "Data shape: (4348, 113)\n",
      "\n",
      "First 5 rows:\n",
      "        Ch1_Std       Ch1_RMS     Ch1_Delta     Ch1_Theta     Ch1_Alpha  \\\n",
      "0  3.158785e-08  3.188178e-08  1.121477e-15  1.421930e-17  1.139625e-19   \n",
      "1  4.120880e-08  4.306598e-08  9.069405e-16  2.048433e-17  1.370206e-19   \n",
      "2  6.146560e-08  6.140777e-08  3.467015e-15  5.664702e-17  3.788163e-19   \n",
      "3  4.761567e-08  4.858411e-08  2.610055e-15  3.476346e-17  2.266065e-19   \n",
      "4  2.144688e-08  2.216589e-08  3.019891e-16  3.722760e-18  3.191619e-20   \n",
      "\n",
      "       Ch1_Beta     Ch1_Gamma      Ch2_Std      Ch2_RMS     Ch2_Delta  ...  \\\n",
      "0  1.876749e-19  6.863256e-20  5210.532333  5232.054979  2.768595e+07  ...   \n",
      "1  2.399516e-19  8.797667e-20  3715.170574  3758.982178  5.640662e+06  ...   \n",
      "2  6.687522e-19  2.456019e-19  3241.097886  3235.316956  9.246106e+06  ...   \n",
      "3  3.991046e-19  1.465421e-19  4262.175405  4262.304102  1.544875e+07  ...   \n",
      "4  4.887636e-20  1.784928e-20  3756.846208  3752.368416  1.407109e+07  ...   \n",
      "\n",
      "    Ch15_Beta  Ch15_Gamma   Ch16_Std   Ch16_RMS   Ch16_Delta  Ch16_Theta  \\\n",
      "0  254.089597   67.737731  49.465084  49.367572  1696.424108  947.886874   \n",
      "1   68.268774   16.326654  43.693402  43.606699   822.544725  444.146403   \n",
      "2   28.439601    8.159259  37.824515  38.077892   749.283212  224.355936   \n",
      "3   53.501576   16.694843  55.032786  54.926687  2053.433252  343.582876   \n",
      "4   69.072475   33.180417  51.027417  51.095960  1948.778377  861.693889   \n",
      "\n",
      "   Ch16_Alpha   Ch16_Beta  Ch16_Gamma  Activity_Label_OpenBCI  \n",
      "0  346.770467  401.731958  142.217569   Seated Leg Extensions  \n",
      "1  239.386222  231.610917   68.899931   Seated Leg Extensions  \n",
      "2  101.884409   68.788729   12.248434   Seated Leg Extensions  \n",
      "3  111.101157  141.001907   41.645419   Seated Leg Extensions  \n",
      "4  145.760419   98.576499   24.934599   Seated Leg Extensions  \n",
      "\n",
      "[5 rows x 113 columns]\n",
      "\n",
      "Column names:\n",
      "['Ch1_Std', 'Ch1_RMS', 'Ch1_Delta', 'Ch1_Theta', 'Ch1_Alpha', 'Ch1_Beta', 'Ch1_Gamma', 'Ch2_Std', 'Ch2_RMS', 'Ch2_Delta', 'Ch2_Theta', 'Ch2_Alpha', 'Ch2_Beta', 'Ch2_Gamma', 'Ch3_Std', 'Ch3_RMS', 'Ch3_Delta', 'Ch3_Theta', 'Ch3_Alpha', 'Ch3_Beta', 'Ch3_Gamma', 'Ch4_Std', 'Ch4_RMS', 'Ch4_Delta', 'Ch4_Theta', 'Ch4_Alpha', 'Ch4_Beta', 'Ch4_Gamma', 'Ch5_Std', 'Ch5_RMS', 'Ch5_Delta', 'Ch5_Theta', 'Ch5_Alpha', 'Ch5_Beta', 'Ch5_Gamma', 'Ch6_Std', 'Ch6_RMS', 'Ch6_Delta', 'Ch6_Theta', 'Ch6_Alpha', 'Ch6_Beta', 'Ch6_Gamma', 'Ch7_Std', 'Ch7_RMS', 'Ch7_Delta', 'Ch7_Theta', 'Ch7_Alpha', 'Ch7_Beta', 'Ch7_Gamma', 'Ch8_Std', 'Ch8_RMS', 'Ch8_Delta', 'Ch8_Theta', 'Ch8_Alpha', 'Ch8_Beta', 'Ch8_Gamma', 'Ch9_Std', 'Ch9_RMS', 'Ch9_Delta', 'Ch9_Theta', 'Ch9_Alpha', 'Ch9_Beta', 'Ch9_Gamma', 'Ch10_Std', 'Ch10_RMS', 'Ch10_Delta', 'Ch10_Theta', 'Ch10_Alpha', 'Ch10_Beta', 'Ch10_Gamma', 'Ch11_Std', 'Ch11_RMS', 'Ch11_Delta', 'Ch11_Theta', 'Ch11_Alpha', 'Ch11_Beta', 'Ch11_Gamma', 'Ch12_Std', 'Ch12_RMS', 'Ch12_Delta', 'Ch12_Theta', 'Ch12_Alpha', 'Ch12_Beta', 'Ch12_Gamma', 'Ch13_Std', 'Ch13_RMS', 'Ch13_Delta', 'Ch13_Theta', 'Ch13_Alpha', 'Ch13_Beta', 'Ch13_Gamma', 'Ch14_Std', 'Ch14_RMS', 'Ch14_Delta', 'Ch14_Theta', 'Ch14_Alpha', 'Ch14_Beta', 'Ch14_Gamma', 'Ch15_Std', 'Ch15_RMS', 'Ch15_Delta', 'Ch15_Theta', 'Ch15_Alpha', 'Ch15_Beta', 'Ch15_Gamma', 'Ch16_Std', 'Ch16_RMS', 'Ch16_Delta', 'Ch16_Theta', 'Ch16_Alpha', 'Ch16_Beta', 'Ch16_Gamma', 'Activity_Label_OpenBCI']\n",
      "\n",
      "Unique Activity Labels:\n",
      "['Seated Leg Extensions' 'Marching in Place' 'Wall Push-ups'\n",
      " 'Seated Boxing Hooks' 'Standing Heel-to-Toe Walk' 'Side-Stepping'\n",
      " 'Seated Side Bends' 'Seated Medicine Ball Twists' 'Chair Squats'\n",
      " 'Light Stationary Cycling']\n"
     ]
    }
   ],
   "source": [
    "filename = \"EEG_Features_Only_S4-ValidChannels_Updated.csv\"\n",
    "df_eeg = pd.read_csv(filename)\n",
    "\n",
    "total_rows, total_columns = df_eeg.shape\n",
    "print(f\"Total Rows: {total_rows}, Total Columns: {total_columns}\")\n",
    "\n",
    "print(f\"Data shape: {df_eeg.shape}\")\n",
    "\n",
    "print(\"\\nFirst 5 rows:\")\n",
    "print(df_eeg.head())\n",
    "\n",
    "print(\"\\nColumn names:\")\n",
    "print(df_eeg.columns.tolist())\n",
    "\n",
    "if 'Activity_Label_OpenBCI' in df_eeg.columns:\n",
    "    print(\"\\nUnique Activity Labels:\")\n",
    "    print(df_eeg['Activity_Label_OpenBCI'].unique())"
   ]
  },
  {
   "cell_type": "markdown",
   "id": "ba3a142a",
   "metadata": {},
   "source": [
    "# Count Activity Labels in Custom Order"
   ]
  },
  {
   "cell_type": "code",
   "execution_count": 6,
   "id": "f96776ed",
   "metadata": {},
   "outputs": [
    {
     "name": "stdout",
     "output_type": "stream",
     "text": [
      "Activity Label Counts (in custom order):\n",
      "Activity_Label_OpenBCI\n",
      "Seated Leg Extensions          461\n",
      "Marching in Place              309\n",
      "Wall Push-ups                  465\n",
      "Seated Boxing Hooks            506\n",
      "Standing Heel-to-Toe Walk      466\n",
      "Side-Stepping                  309\n",
      "Seated Side Bends              469\n",
      "Seated Medicine Ball Twists    467\n",
      "Chair Squats                   438\n",
      "Light Stationary Cycling       458\n",
      "Name: count, dtype: int64\n"
     ]
    }
   ],
   "source": [
    "df = pd.read_csv(\"EEG_Features_Only_S4-ValidChannels_Updated.csv\")\n",
    "\n",
    "activity_counts = df[\"Activity_Label_OpenBCI\"].value_counts()\n",
    "\n",
    "activity_order = [\n",
    "    \"Seated Leg Extensions\",\n",
    "    \"Marching in Place\",\n",
    "    \"Wall Push-ups\",\n",
    "    \"Seated Boxing Hooks\",\n",
    "    \"Standing Heel-to-Toe Walk\",\n",
    "    \"Side-Stepping\",\n",
    "    \"Seated Side Bends\",\n",
    "    \"Seated Medicine Ball Twists\",\n",
    "    \"Chair Squats\",\n",
    "    \"Light Stationary Cycling\"\n",
    "]\n",
    "\n",
    "activity_counts_ordered = activity_counts.reindex(activity_order)\n",
    "\n",
    "print(\"Activity Label Counts (in custom order):\")\n",
    "print(activity_counts_ordered)"
   ]
  }
 ],
 "metadata": {
  "kernelspec": {
   "display_name": "Python 3 (ipykernel)",
   "language": "python",
   "name": "python3"
  },
  "language_info": {
   "codemirror_mode": {
    "name": "ipython",
    "version": 3
   },
   "file_extension": ".py",
   "mimetype": "text/x-python",
   "name": "python",
   "nbconvert_exporter": "python",
   "pygments_lexer": "ipython3",
   "version": "3.9.7"
  }
 },
 "nbformat": 4,
 "nbformat_minor": 5
}
