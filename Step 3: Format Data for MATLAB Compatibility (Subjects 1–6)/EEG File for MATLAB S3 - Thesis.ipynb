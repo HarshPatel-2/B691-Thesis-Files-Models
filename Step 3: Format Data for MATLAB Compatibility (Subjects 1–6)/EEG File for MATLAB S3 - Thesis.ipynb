{
 "cells": [
  {
   "cell_type": "markdown",
   "id": "b2284aba",
   "metadata": {},
   "source": [
    "# Import Libraries"
   ]
  },
  {
   "cell_type": "code",
   "execution_count": 1,
   "id": "01f36cd0",
   "metadata": {},
   "outputs": [],
   "source": [
    "import pandas as pd\n",
    "import matplotlib.pyplot as plt"
   ]
  },
  {
   "cell_type": "markdown",
   "id": "9debd708",
   "metadata": {},
   "source": [
    "# Load and Explore the EEG Data"
   ]
  },
  {
   "cell_type": "code",
   "execution_count": 2,
   "id": "7b4499b9",
   "metadata": {},
   "outputs": [
    {
     "name": "stdout",
     "output_type": "stream",
     "text": [
      "Columns:\n",
      "['Sample Index', 'EXG Channel 0', 'EXG Channel 1', 'EXG Channel 2', 'EXG Channel 3', 'EXG Channel 4', 'EXG Channel 5', 'EXG Channel 6', 'EXG Channel 7', 'EXG Channel 8', 'EXG Channel 9', 'EXG Channel 10', 'EXG Channel 11', 'EXG Channel 12', 'EXG Channel 13', 'EXG Channel 14', 'EXG Channel 15', 'Accel Channel 0', 'Accel Channel 1', 'Accel Channel 2', 'Not Used 1', 'Digital Channel 0 (D11)', 'Digital Channel 1 (D12)', 'Digital Channel 2 (D13)', 'Digital Channel 3 (D17)', 'Not Used 2', 'Digital Channel 4 (D18)', 'Analog Channel 0', 'Analog Channel 1', 'Analog Channel 2', 'Timestamp', 'Marker Channel', 'Timestamp (Formatted)', 'Activity', 'Timestamp_Gyro', 'Gyro X (°/s)', 'Gyro Y (°/s)', 'Gyro Z (°/s)', 'Activity_Label_x', 'Subject_ID_x', 'Timestamp_Accel', 'Accel X (g)', 'Accel Y (g)', 'Accel Z (g)', 'Activity_Label_y', 'Subject_ID_y']\n",
      "\n",
      "First 5 rows:\n",
      "   Sample Index  EXG Channel 0  EXG Channel 1  EXG Channel 2  EXG Channel 3  \\\n",
      "0           6.0 -187500.022352 -187500.022352 -187500.022352 -187500.022352   \n",
      "1           8.0 -187500.022352 -187500.022352 -187500.022352 -187500.022352   \n",
      "2          10.0 -187500.022352 -187500.022352 -187500.022352 -187500.022352   \n",
      "3          12.0 -187500.022352 -187500.022352 -187500.022352 -187500.022352   \n",
      "4          14.0 -187500.022352 -187500.022352 -187500.022352 -187500.022352   \n",
      "\n",
      "   EXG Channel 4  EXG Channel 5  EXG Channel 6  EXG Channel 7  EXG Channel 8  \\\n",
      "0 -187500.022352 -183210.432018   22146.935421 -187500.022352   28596.352469   \n",
      "1 -187500.022352 -183222.211387   22380.846427 -187500.022352   28492.729782   \n",
      "2 -187500.022352 -183295.390999   22193.583512 -187500.022352   28642.106490   \n",
      "3 -187500.022352 -183051.108784   22374.275014 -187500.022352   28487.499474   \n",
      "4 -187500.022352 -183158.352454   22160.659392 -187500.022352   28649.862546   \n",
      "\n",
      "   ...  Gyro Y (°/s)  Gyro Z (°/s)       Activity_Label_x  Subject_ID_x  \\\n",
      "0  ...      -0.73426     -0.262672  Seated Leg Extensions     Subject 3   \n",
      "1  ...      -0.73426     -0.262672  Seated Leg Extensions     Subject 3   \n",
      "2  ...      -0.73426     -0.262672  Seated Leg Extensions     Subject 3   \n",
      "3  ...      -0.73426     -0.262672  Seated Leg Extensions     Subject 3   \n",
      "4  ...      -0.73426     -0.262672  Seated Leg Extensions     Subject 3   \n",
      "\n",
      "   Timestamp_Accel  Accel X (g)  Accel Y (g)  Accel Z (g)  \\\n",
      "0     1.739038e+09     2.892196     -4.36463    10.012551   \n",
      "1     1.739038e+09     2.892196     -4.36463    10.012551   \n",
      "2     1.739038e+09     2.892196     -4.36463    10.012551   \n",
      "3     1.739038e+09     2.892196     -4.36463    10.012551   \n",
      "4     1.739038e+09     2.892196     -4.36463    10.012551   \n",
      "\n",
      "        Activity_Label_y  Subject_ID_y  \n",
      "0  Seated Leg Extensions     Subject 3  \n",
      "1  Seated Leg Extensions     Subject 3  \n",
      "2  Seated Leg Extensions     Subject 3  \n",
      "3  Seated Leg Extensions     Subject 3  \n",
      "4  Seated Leg Extensions     Subject 3  \n",
      "\n",
      "[5 rows x 46 columns]\n",
      "\n",
      "Total shape: 562562 rows × 46 columns\n"
     ]
    }
   ],
   "source": [
    "df = pd.read_csv('EEG-HAR_Subject_3_Merged.csv')\n",
    "print(\"Columns:\")\n",
    "print(df.columns.tolist())\n",
    "print(\"\\nFirst 5 rows:\")\n",
    "print(df.head())\n",
    "print(f\"\\nTotal shape: {df.shape[0]} rows × {df.shape[1]} columns\")"
   ]
  },
  {
   "cell_type": "markdown",
   "id": "cd6f712f",
   "metadata": {},
   "source": [
    "# Count the Activity Labels"
   ]
  },
  {
   "cell_type": "code",
   "execution_count": 3,
   "id": "066a0fac",
   "metadata": {},
   "outputs": [
    {
     "name": "stdout",
     "output_type": "stream",
     "text": [
      "Activity\n",
      "OpenBCISession_s3-light stationary cycling       67955\n",
      "OpenBCISession_s3-seated medicine ball twists    58833\n",
      "OpenBCISession_s3-side-stepping                  58046\n",
      "OpenBCISession_s3-seated leg extensions          57736\n",
      "OpenBCISession_s3-seated side bends              56890\n",
      "OpenBCISession_s3-seated boxing hooks            56712\n",
      "OpenBCISession_s3-chair squats                   56492\n",
      "OpenBCISession_s3-standing heel to toe walk      56242\n",
      "OpenBCISession_s3-marching in place              55731\n",
      "OpenBCISession_s3-wall push-ups                  37925\n",
      "Name: count, dtype: int64\n"
     ]
    }
   ],
   "source": [
    "df = pd.read_csv('EEG-HAR_Subject_3_Merged.csv')\n",
    "activity_counts = df['Activity'].value_counts()\n",
    "print(activity_counts)"
   ]
  },
  {
   "cell_type": "markdown",
   "id": "1012a665",
   "metadata": {},
   "source": [
    "# Extract EEG Data and Save to New File"
   ]
  },
  {
   "cell_type": "code",
   "execution_count": 4,
   "id": "deacb121",
   "metadata": {},
   "outputs": [
    {
     "name": "stdout",
     "output_type": "stream",
     "text": [
      "Created: EEG_Only_Subject3.csv\n",
      "Shape: (562562, 18)\n",
      "   EXG Channel 0  EXG Channel 1  EXG Channel 2  EXG Channel 3  EXG Channel 4  \\\n",
      "0 -187500.022352 -187500.022352 -187500.022352 -187500.022352 -187500.022352   \n",
      "1 -187500.022352 -187500.022352 -187500.022352 -187500.022352 -187500.022352   \n",
      "2 -187500.022352 -187500.022352 -187500.022352 -187500.022352 -187500.022352   \n",
      "3 -187500.022352 -187500.022352 -187500.022352 -187500.022352 -187500.022352   \n",
      "4 -187500.022352 -187500.022352 -187500.022352 -187500.022352 -187500.022352   \n",
      "\n",
      "   EXG Channel 5  EXG Channel 6  EXG Channel 7  EXG Channel 8  EXG Channel 9  \\\n",
      "0 -183210.432018   22146.935421 -187500.022352   28596.352469 -180511.481227   \n",
      "1 -183222.211387   22380.846427 -187500.022352   28492.729782 -180052.331692   \n",
      "2 -183295.390999   22193.583512 -187500.022352   28642.106490 -180247.283607   \n",
      "3 -183051.108784   22374.275014 -187500.022352   28487.499474 -179787.977611   \n",
      "4 -183158.352454   22160.659392 -187500.022352   28649.862546 -179969.876107   \n",
      "\n",
      "   EXG Channel 10  EXG Channel 11  EXG Channel 12  EXG Channel 13  \\\n",
      "0    60879.736946  -117495.230436  -164768.342944    22670.592090   \n",
      "1    61050.481921  -117386.846827  -164819.908419    22560.822673   \n",
      "2    60685.857914  -117553.300268  -164856.140596    22710.892285   \n",
      "3    60883.045004  -117373.368725  -164874.759600    22567.707010   \n",
      "4    60508.116842  -117553.210861  -164942.015999    22705.706681   \n",
      "\n",
      "   EXG Channel 14  EXG Channel 15 Subject_ID_x  \\\n",
      "0    15562.715001    10491.461812    Subject 3   \n",
      "1    15594.476830    10459.744687    Subject 3   \n",
      "2    15698.032462    10479.146001    Subject 3   \n",
      "3    15774.967167    10478.654263    Subject 3   \n",
      "4    15834.713380    10468.797144    Subject 3   \n",
      "\n",
      "                                  Activity  \n",
      "0  OpenBCISession_s3-seated leg extensions  \n",
      "1  OpenBCISession_s3-seated leg extensions  \n",
      "2  OpenBCISession_s3-seated leg extensions  \n",
      "3  OpenBCISession_s3-seated leg extensions  \n",
      "4  OpenBCISession_s3-seated leg extensions  \n"
     ]
    }
   ],
   "source": [
    "df = pd.read_csv('EEG-HAR_Subject_3_Merged.csv')\n",
    "eeg_columns = [f'EXG Channel {i}' for i in range(16)]\n",
    "meta_columns = ['Subject_ID_x', 'Activity']\n",
    "eeg_only_df = df[eeg_columns + meta_columns]\n",
    "eeg_only_df.to_csv('EEG_Only_Subject3.csv', index=False)\n",
    "print(\"Created: EEG_Only_Subject3.csv\")\n",
    "print(f\"Shape: {eeg_only_df.shape}\")\n",
    "print(eeg_only_df.head())"
   ]
  },
  {
   "cell_type": "markdown",
   "id": "5bb6c125",
   "metadata": {},
   "source": [
    "# Rename Columns and Save the Updated File"
   ]
  },
  {
   "cell_type": "code",
   "execution_count": 5,
   "id": "49160ec9",
   "metadata": {},
   "outputs": [
    {
     "name": "stdout",
     "output_type": "stream",
     "text": [
      "Columns renamed and file updated.\n",
      "Last 2 columns: ['Subject_ID', 'Activity_Label_OpenBCI']\n",
      "\n",
      "Preview of data:\n",
      "   EXG Channel 0  EXG Channel 1  EXG Channel 2  EXG Channel 3  EXG Channel 4  \\\n",
      "0 -187500.022352 -187500.022352 -187500.022352 -187500.022352 -187500.022352   \n",
      "1 -187500.022352 -187500.022352 -187500.022352 -187500.022352 -187500.022352   \n",
      "2 -187500.022352 -187500.022352 -187500.022352 -187500.022352 -187500.022352   \n",
      "3 -187500.022352 -187500.022352 -187500.022352 -187500.022352 -187500.022352   \n",
      "4 -187500.022352 -187500.022352 -187500.022352 -187500.022352 -187500.022352   \n",
      "\n",
      "   EXG Channel 5  EXG Channel 6  EXG Channel 7  EXG Channel 8  EXG Channel 9  \\\n",
      "0 -183210.432018   22146.935421 -187500.022352   28596.352469 -180511.481227   \n",
      "1 -183222.211387   22380.846427 -187500.022352   28492.729782 -180052.331692   \n",
      "2 -183295.390999   22193.583512 -187500.022352   28642.106490 -180247.283607   \n",
      "3 -183051.108784   22374.275014 -187500.022352   28487.499474 -179787.977611   \n",
      "4 -183158.352454   22160.659392 -187500.022352   28649.862546 -179969.876107   \n",
      "\n",
      "   EXG Channel 10  EXG Channel 11  EXG Channel 12  EXG Channel 13  \\\n",
      "0    60879.736946  -117495.230436  -164768.342944    22670.592090   \n",
      "1    61050.481921  -117386.846827  -164819.908419    22560.822673   \n",
      "2    60685.857914  -117553.300268  -164856.140596    22710.892285   \n",
      "3    60883.045004  -117373.368725  -164874.759600    22567.707010   \n",
      "4    60508.116842  -117553.210861  -164942.015999    22705.706681   \n",
      "\n",
      "   EXG Channel 14  EXG Channel 15 Subject_ID  \\\n",
      "0    15562.715001    10491.461812  Subject 3   \n",
      "1    15594.476830    10459.744687  Subject 3   \n",
      "2    15698.032462    10479.146001  Subject 3   \n",
      "3    15774.967167    10478.654263  Subject 3   \n",
      "4    15834.713380    10468.797144  Subject 3   \n",
      "\n",
      "                    Activity_Label_OpenBCI  \n",
      "0  OpenBCISession_s3-seated leg extensions  \n",
      "1  OpenBCISession_s3-seated leg extensions  \n",
      "2  OpenBCISession_s3-seated leg extensions  \n",
      "3  OpenBCISession_s3-seated leg extensions  \n",
      "4  OpenBCISession_s3-seated leg extensions  \n",
      "\n",
      "Total shape: 562562 rows × 18 columns\n"
     ]
    }
   ],
   "source": [
    "df = pd.read_csv('EEG_Only_Subject3.csv')\n",
    "df = df.rename(columns={\n",
    "    'Subject_ID_x': 'Subject_ID',\n",
    "    'Activity': 'Activity_Label_OpenBCI'\n",
    "})\n",
    "df.to_csv('EEG_Only_Subject3.csv', index=False)\n",
    "print(\"Columns renamed and file updated.\")\n",
    "print(\"Last 2 columns:\", df.columns[-2:].tolist())\n",
    "print(\"\\nPreview of data:\")\n",
    "print(df.head())\n",
    "print(f\"\\nTotal shape: {df.shape[0]} rows × {df.shape[1]} columns\")"
   ]
  },
  {
   "cell_type": "markdown",
   "id": "64026308",
   "metadata": {},
   "source": [
    "# Display Unique Activity Labels"
   ]
  },
  {
   "cell_type": "code",
   "execution_count": 6,
   "id": "33a76aef",
   "metadata": {},
   "outputs": [
    {
     "name": "stdout",
     "output_type": "stream",
     "text": [
      "['OpenBCISession_s3-seated leg extensions'\n",
      " 'OpenBCISession_s3-wall push-ups' 'OpenBCISession_s3-seated boxing hooks'\n",
      " 'OpenBCISession_s3-standing heel to toe walk'\n",
      " 'OpenBCISession_s3-side-stepping' 'OpenBCISession_s3-seated side bends'\n",
      " 'OpenBCISession_s3-chair squats'\n",
      " 'OpenBCISession_s3-seated medicine ball twists'\n",
      " 'OpenBCISession_s3-light stationary cycling'\n",
      " 'OpenBCISession_s3-marching in place']\n"
     ]
    }
   ],
   "source": [
    "print(df['Activity_Label_OpenBCI'].unique())"
   ]
  },
  {
   "cell_type": "markdown",
   "id": "95ce5b6c",
   "metadata": {},
   "source": [
    "# Count Rows per Activity Label"
   ]
  },
  {
   "cell_type": "code",
   "execution_count": 7,
   "id": "75a12f95",
   "metadata": {},
   "outputs": [
    {
     "name": "stdout",
     "output_type": "stream",
     "text": [
      "Number of rows per activity label:\n",
      "\n",
      "Activity_Label_OpenBCI\n",
      "OpenBCISession_s3-light stationary cycling       67955\n",
      "OpenBCISession_s3-seated medicine ball twists    58833\n",
      "OpenBCISession_s3-side-stepping                  58046\n",
      "OpenBCISession_s3-seated leg extensions          57736\n",
      "OpenBCISession_s3-seated side bends              56890\n",
      "OpenBCISession_s3-seated boxing hooks            56712\n",
      "OpenBCISession_s3-chair squats                   56492\n",
      "OpenBCISession_s3-standing heel to toe walk      56242\n",
      "OpenBCISession_s3-marching in place              55731\n",
      "OpenBCISession_s3-wall push-ups                  37925\n",
      "Name: count, dtype: int64\n"
     ]
    }
   ],
   "source": [
    "activity_counts = df['Activity_Label_OpenBCI'].value_counts()\n",
    "print(\"Number of rows per activity label:\\n\")\n",
    "print(activity_counts)"
   ]
  },
  {
   "cell_type": "markdown",
   "id": "06eb7334",
   "metadata": {},
   "source": [
    "# Plot Activity Counts"
   ]
  },
  {
   "cell_type": "code",
   "execution_count": 8,
   "id": "f7a4e7b4",
   "metadata": {},
   "outputs": [
    {
     "data": {
      "image/png": "[encoded data removed]",
      "text/plain": [
       "<Figure size 720x432 with 1 Axes>"
      ]
     },
     "metadata": {
      "needs_background": "light"
     },
     "output_type": "display_data"
    }
   ],
   "source": [
    "activity_counts = df['Activity_Label_OpenBCI'].value_counts()\n",
    "plt.figure(figsize=(10,6))\n",
    "activity_counts.plot(kind='bar', color='skyblue')\n",
    "plt.title('Number of Samples per Activity_Label_OpenBCI')\n",
    "plt.xlabel('Activity_Label_OpenBCI')\n",
    "plt.ylabel('Number of Samples')\n",
    "plt.xticks(rotation=45, ha='right')\n",
    "plt.tight_layout()\n",
    "plt.show()"
   ]
  },
  {
   "cell_type": "markdown",
   "id": "2f68d831",
   "metadata": {},
   "source": [
    "# Update Activity Labels and Save File"
   ]
  },
  {
   "cell_type": "code",
   "execution_count": 9,
   "id": "85e7b8bb",
   "metadata": {},
   "outputs": [
    {
     "name": "stderr",
     "output_type": "stream",
     "text": [
      "/tmp/ipykernel_931063/3997920168.py:8: FutureWarning: Downcasting behavior in `replace` is deprecated and will be removed in a future version. To retain the old behavior, explicitly call `result.infer_objects(copy=False)`. To opt-in to the future behavior, set `pd.set_option('future.no_silent_downcasting', True)`\n",
      "  df['Subject_ID'] = df['Subject_ID'].replace('Subject 3', 3).astype(int)\n"
     ]
    },
    {
     "name": "stdout",
     "output_type": "stream",
     "text": [
      "File updated successfully.\n",
      "Subject_ID is numeric: int64\n",
      "Unique activity labels now:\n",
      "['Seated Leg Extensions' 'Wall Push-ups' 'Seated Boxing Hooks'\n",
      " 'Standing Heel-to-Toe Walk' 'Side-Stepping' 'Seated Side Bends'\n",
      " 'Chair Squats' 'Seated Medicine Ball Twists' 'Light Stationary Cycling'\n",
      " 'Marching in Place']\n",
      "\n",
      "Final shape: 562562 rows × 18 columns\n",
      "\n",
      "Preview of data:\n",
      "   EXG Channel 0  EXG Channel 1  EXG Channel 2  EXG Channel 3  EXG Channel 4  \\\n",
      "0 -187500.022352 -187500.022352 -187500.022352 -187500.022352 -187500.022352   \n",
      "1 -187500.022352 -187500.022352 -187500.022352 -187500.022352 -187500.022352   \n",
      "2 -187500.022352 -187500.022352 -187500.022352 -187500.022352 -187500.022352   \n",
      "3 -187500.022352 -187500.022352 -187500.022352 -187500.022352 -187500.022352   \n",
      "4 -187500.022352 -187500.022352 -187500.022352 -187500.022352 -187500.022352   \n",
      "\n",
      "   EXG Channel 5  EXG Channel 6  EXG Channel 7  EXG Channel 8  EXG Channel 9  \\\n",
      "0 -183210.432018   22146.935421 -187500.022352   28596.352469 -180511.481227   \n",
      "1 -183222.211387   22380.846427 -187500.022352   28492.729782 -180052.331692   \n",
      "2 -183295.390999   22193.583512 -187500.022352   28642.106490 -180247.283607   \n",
      "3 -183051.108784   22374.275014 -187500.022352   28487.499474 -179787.977611   \n",
      "4 -183158.352454   22160.659392 -187500.022352   28649.862546 -179969.876107   \n",
      "\n",
      "   EXG Channel 10  EXG Channel 11  EXG Channel 12  EXG Channel 13  \\\n",
      "0    60879.736946  -117495.230436  -164768.342944    22670.592090   \n",
      "1    61050.481921  -117386.846827  -164819.908419    22560.822673   \n",
      "2    60685.857914  -117553.300268  -164856.140596    22710.892285   \n",
      "3    60883.045004  -117373.368725  -164874.759600    22567.707010   \n",
      "4    60508.116842  -117553.210861  -164942.015999    22705.706681   \n",
      "\n",
      "   EXG Channel 14  EXG Channel 15  Subject_ID Activity_Label_OpenBCI  \n",
      "0    15562.715001    10491.461812           3  Seated Leg Extensions  \n",
      "1    15594.476830    10459.744687           3  Seated Leg Extensions  \n",
      "2    15698.032462    10479.146001           3  Seated Leg Extensions  \n",
      "3    15774.967167    10478.654263           3  Seated Leg Extensions  \n",
      "4    15834.713380    10468.797144           3  Seated Leg Extensions  \n"
     ]
    }
   ],
   "source": [
    "df = pd.read_csv('EEG_Only_Subject3.csv')\n",
    "\n",
    "df = df.rename(columns={\n",
    "    'Subject_ID_x': 'Subject_ID',\n",
    "    'Activity': 'Activity_Label_OpenBCI'\n",
    "})\n",
    "\n",
    "df['Subject_ID'] = df['Subject_ID'].replace('Subject 3', 3).astype(int)\n",
    "\n",
    "activity_mapping = {\n",
    "    'OpenBCISession_s3-seated leg extensions': 'Seated Leg Extensions',\n",
    "    'OpenBCISession_s3-marching in place': 'Marching in Place',\n",
    "    'OpenBCISession_s3-wall push-ups': 'Wall Push-ups',\n",
    "    'OpenBCISession_s3-seated boxing hooks': 'Seated Boxing Hooks',\n",
    "    'OpenBCISession_s3-standing heel to toe walk': 'Standing Heel-to-Toe Walk',\n",
    "    'OpenBCISession_s3-side-stepping': 'Side-Stepping',\n",
    "    'OpenBCISession_s3-seated side bends': 'Seated Side Bends',\n",
    "    'OpenBCISession_s3-seated medicine ball twists': 'Seated Medicine Ball Twists',\n",
    "    'OpenBCISession_s3-chair squats': 'Chair Squats',\n",
    "    'OpenBCISession_s3-light stationary cycling': 'Light Stationary Cycling'\n",
    "}\n",
    "\n",
    "df['Activity_Label_OpenBCI'] = df['Activity_Label_OpenBCI'].replace(activity_mapping)\n",
    "\n",
    "df.to_csv('EEG_Only_Subject3.csv', index=False)\n",
    "\n",
    "print(\"File updated successfully.\")\n",
    "print(\"Subject_ID is numeric:\", df['Subject_ID'].dtype)\n",
    "print(\"Unique activity labels now:\")\n",
    "print(df['Activity_Label_OpenBCI'].unique())\n",
    "print(f\"\\nFinal shape: {df.shape[0]} rows × {df.shape[1]} columns\")\n",
    "print(\"\\nPreview of data:\")\n",
    "print(df.head())"
   ]
  },
  {
   "cell_type": "markdown",
   "id": "e427fe2d",
   "metadata": {},
   "source": [
    "# Count the Activity Labels in Updated Data"
   ]
  },
  {
   "cell_type": "code",
   "execution_count": 10,
   "id": "6c77c84f",
   "metadata": {},
   "outputs": [
    {
     "name": "stdout",
     "output_type": "stream",
     "text": [
      "Activity_Label_OpenBCI\n",
      "Light Stationary Cycling       67955\n",
      "Seated Medicine Ball Twists    58833\n",
      "Side-Stepping                  58046\n",
      "Seated Leg Extensions          57736\n",
      "Seated Side Bends              56890\n",
      "Seated Boxing Hooks            56712\n",
      "Chair Squats                   56492\n",
      "Standing Heel-to-Toe Walk      56242\n",
      "Marching in Place              55731\n",
      "Wall Push-ups                  37925\n",
      "Name: count, dtype: int64\n"
     ]
    }
   ],
   "source": [
    "df = pd.read_csv('EEG_Only_Subject3.csv')\n",
    "activity_counts = df['Activity_Label_OpenBCI'].value_counts()\n",
    "print(activity_counts)"
   ]
  },
  {
   "cell_type": "markdown",
   "id": "dc5b743c",
   "metadata": {},
   "source": [
    "# Map Activity Labels to Numeric Values and Save File"
   ]
  },
  {
   "cell_type": "code",
   "execution_count": 11,
   "id": "28a2ecd5",
   "metadata": {},
   "outputs": [
    {
     "name": "stderr",
     "output_type": "stream",
     "text": [
      "/tmp/ipykernel_931063/2771219719.py:19: FutureWarning: Downcasting behavior in `replace` is deprecated and will be removed in a future version. To retain the old behavior, explicitly call `result.infer_objects(copy=False)`. To opt-in to the future behavior, set `pd.set_option('future.no_silent_downcasting', True)`\n",
      "  df['Activity_Label_OpenBCI'] = df['Activity_Label_OpenBCI'].replace(activity_mapping_to_numeric)\n"
     ]
    },
    {
     "name": "stdout",
     "output_type": "stream",
     "text": [
      "File updated successfully.\n",
      "Subject_ID is numeric: int64\n",
      "Unique activity labels now (numeric):\n",
      "[ 1  3  4  5  6  7  9  8 10  2]\n",
      "\n",
      "Final shape: 562562 rows × 18 columns\n",
      "\n",
      "Preview of data:\n",
      "   EXG Channel 0  EXG Channel 1  EXG Channel 2  EXG Channel 3  EXG Channel 4  \\\n",
      "0 -187500.022352 -187500.022352 -187500.022352 -187500.022352 -187500.022352   \n",
      "1 -187500.022352 -187500.022352 -187500.022352 -187500.022352 -187500.022352   \n",
      "2 -187500.022352 -187500.022352 -187500.022352 -187500.022352 -187500.022352   \n",
      "3 -187500.022352 -187500.022352 -187500.022352 -187500.022352 -187500.022352   \n",
      "4 -187500.022352 -187500.022352 -187500.022352 -187500.022352 -187500.022352   \n",
      "\n",
      "   EXG Channel 5  EXG Channel 6  EXG Channel 7  EXG Channel 8  EXG Channel 9  \\\n",
      "0 -183210.432018   22146.935421 -187500.022352   28596.352469 -180511.481227   \n",
      "1 -183222.211387   22380.846427 -187500.022352   28492.729782 -180052.331692   \n",
      "2 -183295.390999   22193.583512 -187500.022352   28642.106490 -180247.283607   \n",
      "3 -183051.108784   22374.275014 -187500.022352   28487.499474 -179787.977611   \n",
      "4 -183158.352454   22160.659392 -187500.022352   28649.862546 -179969.876107   \n",
      "\n",
      "   EXG Channel 10  EXG Channel 11  EXG Channel 12  EXG Channel 13  \\\n",
      "0    60879.736946  -117495.230436  -164768.342944    22670.592090   \n",
      "1    61050.481921  -117386.846827  -164819.908419    22560.822673   \n",
      "2    60685.857914  -117553.300268  -164856.140596    22710.892285   \n",
      "3    60883.045004  -117373.368725  -164874.759600    22567.707010   \n",
      "4    60508.116842  -117553.210861  -164942.015999    22705.706681   \n",
      "\n",
      "   EXG Channel 14  EXG Channel 15  Subject_ID  Activity_Label_OpenBCI  \n",
      "0    15562.715001    10491.461812           3                       1  \n",
      "1    15594.476830    10459.744687           3                       1  \n",
      "2    15698.032462    10479.146001           3                       1  \n",
      "3    15774.967167    10478.654263           3                       1  \n",
      "4    15834.713380    10468.797144           3                       1  \n"
     ]
    }
   ],
   "source": [
    "df = pd.read_csv('EEG_Only_Subject3.csv')\n",
    "df = df.rename(columns={\n",
    "    'Subject_ID_x': 'Subject_ID',\n",
    "    'Activity': 'Activity_Label_OpenBCI'\n",
    "})\n",
    "df['Subject_ID'] = df['Subject_ID'].replace('Subject 3', 3).astype(int)\n",
    "activity_mapping_to_numeric = {\n",
    "    'Seated Leg Extensions': 1,\n",
    "    'Marching in Place': 2,\n",
    "    'Wall Push-ups': 3,\n",
    "    'Seated Boxing Hooks': 4,\n",
    "    'Standing Heel-to-Toe Walk': 5,\n",
    "    'Side-Stepping': 6,\n",
    "    'Seated Side Bends': 7,\n",
    "    'Seated Medicine Ball Twists': 8,\n",
    "    'Chair Squats': 9,\n",
    "    'Light Stationary Cycling': 10\n",
    "}\n",
    "df['Activity_Label_OpenBCI'] = df['Activity_Label_OpenBCI'].replace(activity_mapping_to_numeric)\n",
    "df.to_csv('EEG_Only_Subject3_Updated.csv', index=False)\n",
    "print(\"File updated successfully.\")\n",
    "print(\"Subject_ID is numeric:\", df['Subject_ID'].dtype)\n",
    "print(\"Unique activity labels now (numeric):\")\n",
    "print(df['Activity_Label_OpenBCI'].unique())\n",
    "print(f\"\\nFinal shape: {df.shape[0]} rows × {df.shape[1]} columns\")\n",
    "print(\"\\nPreview of data:\")\n",
    "print(df.head())"
   ]
  },
  {
   "cell_type": "markdown",
   "id": "7688410e",
   "metadata": {},
   "source": [
    "# Count and Sort Activity Labels (Numeric)"
   ]
  },
  {
   "cell_type": "code",
   "execution_count": 12,
   "id": "2511c5e0",
   "metadata": {},
   "outputs": [
    {
     "name": "stdout",
     "output_type": "stream",
     "text": [
      "Unique activity labels and their counts (sorted 1 → 10):\n",
      "Activity_Label_OpenBCI\n",
      "1     57736\n",
      "2     55731\n",
      "3     37925\n",
      "4     56712\n",
      "5     56242\n",
      "6     58046\n",
      "7     56890\n",
      "8     58833\n",
      "9     56492\n",
      "10    67955\n",
      "Name: count, dtype: int64\n",
      "\n",
      "Total count: 562562\n"
     ]
    }
   ],
   "source": [
    "df = pd.read_csv('EEG_Only_Subject3_Updated.csv')\n",
    "\n",
    "activity_counts = df['Activity_Label_OpenBCI'].value_counts().sort_index()\n",
    "\n",
    "print(\"Unique activity labels and their counts (sorted 1 → 10):\")\n",
    "print(activity_counts)\n",
    "print(f\"\\nTotal count: {activity_counts.sum()}\")"
   ]
  }
 ],
 "metadata": {
  "kernelspec": {
   "display_name": "Python 3 (ipykernel)",
   "language": "python",
   "name": "python3"
  },
  "language_info": {
   "codemirror_mode": {
    "name": "ipython",
    "version": 3
   },
   "file_extension": ".py",
   "mimetype": "text/x-python",
   "name": "python",
   "nbconvert_exporter": "python",
   "pygments_lexer": "ipython3",
   "version": "3.9.7"
  }
 },
 "nbformat": 4,
 "nbformat_minor": 5
}
