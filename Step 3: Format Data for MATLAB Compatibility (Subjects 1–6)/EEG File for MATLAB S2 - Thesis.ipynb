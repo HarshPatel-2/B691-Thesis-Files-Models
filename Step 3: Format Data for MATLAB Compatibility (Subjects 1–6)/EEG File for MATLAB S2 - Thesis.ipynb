{
 "cells": [
  {
   "cell_type": "markdown",
   "id": "0e7e70c9",
   "metadata": {},
   "source": [
    "# Import Libraries"
   ]
  },
  {
   "cell_type": "code",
   "execution_count": 1,
   "id": "96a04164",
   "metadata": {},
   "outputs": [],
   "source": [
    "import pandas as pd\n",
    "import matplotlib.pyplot as plt"
   ]
  },
  {
   "cell_type": "markdown",
   "id": "98d70733",
   "metadata": {},
   "source": [
    "# Load and Explore the EEG Data"
   ]
  },
  {
   "cell_type": "code",
   "execution_count": 2,
   "id": "9839217f",
   "metadata": {},
   "outputs": [
    {
     "name": "stdout",
     "output_type": "stream",
     "text": [
      "Columns:\n",
      "['Sample Index', 'EXG Channel 0', 'EXG Channel 1', 'EXG Channel 2', 'EXG Channel 3', 'EXG Channel 4', 'EXG Channel 5', 'EXG Channel 6', 'EXG Channel 7', 'EXG Channel 8', 'EXG Channel 9', 'EXG Channel 10', 'EXG Channel 11', 'EXG Channel 12', 'EXG Channel 13', 'EXG Channel 14', 'EXG Channel 15', 'Accel Channel 0', 'Accel Channel 1', 'Accel Channel 2', 'Not Used 1', 'Digital Channel 0 (D11)', 'Digital Channel 1 (D12)', 'Digital Channel 2 (D13)', 'Digital Channel 3 (D17)', 'Not Used 2', 'Digital Channel 4 (D18)', 'Analog Channel 0', 'Analog Channel 1', 'Analog Channel 2', 'Timestamp', 'Marker Channel', 'Timestamp (Formatted)', 'Activity', 'Timestamp_Gyro', 'Gyro X (°/s)', 'Gyro Y (°/s)', 'Gyro Z (°/s)', 'Activity_Label_x', 'Subject_ID_x', 'Timestamp_Accel', 'Accel X (g)', 'Accel Y (g)', 'Accel Z (g)', 'Activity_Label_y', 'Subject_ID_y']\n",
      "\n",
      "First 5 rows:\n",
      "   Sample Index  EXG Channel 0  EXG Channel 1  EXG Channel 2  EXG Channel 3  \\\n",
      "0           6.0       187500.0 -187500.022352 -187500.022352 -187500.022352   \n",
      "1           8.0       187500.0 -187500.022352 -187500.022352 -187500.022352   \n",
      "2          10.0       187500.0 -187500.022352 -187500.022352 -187500.022352   \n",
      "3          12.0       187500.0 -187500.022352 -187500.022352 -187500.022352   \n",
      "4          14.0       187500.0 -187500.022352 -187500.022352 -187500.022352   \n",
      "\n",
      "   EXG Channel 4  EXG Channel 5  EXG Channel 6  EXG Channel 7  EXG Channel 8  \\\n",
      "0  -15542.084341 -120418.190410   10376.238570     273.808870    4420.683315   \n",
      "1  -15533.501271 -120356.723113   10384.665177     286.012922    4463.442202   \n",
      "2  -15519.553783 -119781.009231   10389.627265     257.648558    4434.563748   \n",
      "3  -15544.028943 -119762.256117   10369.689509     240.325956    4464.872714   \n",
      "4  -15539.849167 -119185.983442   10381.334768     214.487340    4424.326649   \n",
      "\n",
      "   ...  Gyro Y (°/s)  Gyro Z (°/s)       Activity_Label_x  Subject_ID_x  \\\n",
      "0  ...     -0.001222     -0.013439  Seated Leg Extensions     Subject 2   \n",
      "1  ...     -0.001222     -0.013439  Seated Leg Extensions     Subject 2   \n",
      "2  ...     -0.001222     -0.013439  Seated Leg Extensions     Subject 2   \n",
      "3  ...     -0.001222     -0.013439  Seated Leg Extensions     Subject 2   \n",
      "4  ...     -0.001222     -0.013439  Seated Leg Extensions     Subject 2   \n",
      "\n",
      "   Timestamp_Accel  Accel X (g)  Accel Y (g)  Accel Z (g)  \\\n",
      "0     1.739031e+09    -0.792481    -2.063802     9.464279   \n",
      "1     1.739031e+09    -0.792481    -2.063802     9.464279   \n",
      "2     1.739031e+09    -0.792481    -2.063802     9.464279   \n",
      "3     1.739031e+09    -0.830788    -2.037466     9.425972   \n",
      "4     1.739031e+09    -0.830788    -2.037466     9.425972   \n",
      "\n",
      "        Activity_Label_y  Subject_ID_y  \n",
      "0  Seated Leg Extensions     Subject 2  \n",
      "1  Seated Leg Extensions     Subject 2  \n",
      "2  Seated Leg Extensions     Subject 2  \n",
      "3  Seated Leg Extensions     Subject 2  \n",
      "4  Seated Leg Extensions     Subject 2  \n",
      "\n",
      "[5 rows x 46 columns]\n",
      "\n",
      "Total shape: 555738 rows × 46 columns\n"
     ]
    }
   ],
   "source": [
    "df = pd.read_csv('EEG-HAR_Subject_2_Merged.csv')\n",
    "print(\"Columns:\")\n",
    "print(df.columns.tolist())\n",
    "print(\"\\nFirst 5 rows:\")\n",
    "print(df.head())\n",
    "print(f\"\\nTotal shape: {df.shape[0]} rows × {df.shape[1]} columns\")"
   ]
  },
  {
   "cell_type": "markdown",
   "id": "9e6288bd",
   "metadata": {},
   "source": [
    "# Count the Activity Labels"
   ]
  },
  {
   "cell_type": "code",
   "execution_count": 3,
   "id": "92933378",
   "metadata": {},
   "outputs": [
    {
     "name": "stdout",
     "output_type": "stream",
     "text": [
      "Activity\n",
      "OpenBCISession_s2-wall push-ups                  73339\n",
      "OpenBCISession_s2-side-stepping                  59325\n",
      "OpenBCISession_s2-chair squats                   58595\n",
      "OpenBCISession_s2-seated boxing hooks            58179\n",
      "OpenBCISession_s2-seated side bends              57741\n",
      "OpenBCISession_s2-seated leg extensions          57459\n",
      "OpenBCISession_s2-marching in place              56720\n",
      "OpenBCISession_s2-standing heel to toe walk      56484\n",
      "OpenBCISession_s2-light stationary cycling       39075\n",
      "OpenBCISession_s2-seated medicine ball twists    38821\n",
      "Name: count, dtype: int64\n"
     ]
    }
   ],
   "source": [
    "df = pd.read_csv('EEG-HAR_Subject_2_Merged.csv')\n",
    "activity_counts = df['Activity'].value_counts()\n",
    "print(activity_counts)"
   ]
  },
  {
   "cell_type": "markdown",
   "id": "c7672de1",
   "metadata": {},
   "source": [
    "# Extract EEG Data and Save to New File"
   ]
  },
  {
   "cell_type": "code",
   "execution_count": 4,
   "id": "dfc7bfab",
   "metadata": {},
   "outputs": [
    {
     "name": "stdout",
     "output_type": "stream",
     "text": [
      "Created: EEG_Only_Subject2.csv\n",
      "Shape: (555738, 18)\n",
      "   EXG Channel 0  EXG Channel 1  EXG Channel 2  EXG Channel 3  EXG Channel 4  \\\n",
      "0       187500.0 -187500.022352 -187500.022352 -187500.022352  -15542.084341   \n",
      "1       187500.0 -187500.022352 -187500.022352 -187500.022352  -15533.501271   \n",
      "2       187500.0 -187500.022352 -187500.022352 -187500.022352  -15519.553783   \n",
      "3       187500.0 -187500.022352 -187500.022352 -187500.022352  -15544.028943   \n",
      "4       187500.0 -187500.022352 -187500.022352 -187500.022352  -15539.849167   \n",
      "\n",
      "   EXG Channel 5  EXG Channel 6  EXG Channel 7  EXG Channel 8  EXG Channel 9  \\\n",
      "0 -120418.190410   10376.238570     273.808870    4420.683315 -187500.022352   \n",
      "1 -120356.723113   10384.665177     286.012922    4463.442202 -187500.022352   \n",
      "2 -119781.009231   10389.627265     257.648558    4434.563748 -187500.022352   \n",
      "3 -119762.256117   10369.689509     240.325956    4464.872714 -187500.022352   \n",
      "4 -119185.983442   10381.334768     214.487340    4424.326649 -187500.022352   \n",
      "\n",
      "   EXG Channel 10  EXG Channel 11  EXG Channel 12  EXG Channel 13  \\\n",
      "0    15829.326609  -187500.022352   -25075.595090    -4405.126501   \n",
      "1    15853.779418  -187500.022352   -24557.615764    -4355.215055   \n",
      "2    15837.216775  -187500.022352   -23968.356725    -4394.464719   \n",
      "3    15847.051543  -187500.022352   -23490.632891    -4363.507553   \n",
      "4    15818.888345  -187500.022352   -22991.384326    -4399.516213   \n",
      "\n",
      "   EXG Channel 14  EXG Channel 15 Subject_ID_x  \\\n",
      "0    -4952.163095    -5207.375313    Subject 2   \n",
      "1    -4915.953269    -5182.855449    Subject 2   \n",
      "2    -4951.403135    -5213.477339    Subject 2   \n",
      "3    -4930.526606    -5201.429749    Subject 2   \n",
      "4    -4959.963853    -5214.282002    Subject 2   \n",
      "\n",
      "                                  Activity  \n",
      "0  OpenBCISession_s2-seated leg extensions  \n",
      "1  OpenBCISession_s2-seated leg extensions  \n",
      "2  OpenBCISession_s2-seated leg extensions  \n",
      "3  OpenBCISession_s2-seated leg extensions  \n",
      "4  OpenBCISession_s2-seated leg extensions  \n"
     ]
    }
   ],
   "source": [
    "df = pd.read_csv('EEG-HAR_Subject_2_Merged.csv')\n",
    "eeg_columns = [f'EXG Channel {i}' for i in range(16)]\n",
    "meta_columns = ['Subject_ID_x', 'Activity']\n",
    "eeg_only_df = df[eeg_columns + meta_columns]\n",
    "eeg_only_df.to_csv('EEG_Only_Subject2.csv', index=False)\n",
    "print(\"Created: EEG_Only_Subject2.csv\")\n",
    "print(f\"Shape: {eeg_only_df.shape}\")\n",
    "print(eeg_only_df.head())"
   ]
  },
  {
   "cell_type": "markdown",
   "id": "07a016f9",
   "metadata": {},
   "source": [
    "# Rename Columns and Save the Updated File"
   ]
  },
  {
   "cell_type": "code",
   "execution_count": 5,
   "id": "1aa48681",
   "metadata": {},
   "outputs": [
    {
     "name": "stdout",
     "output_type": "stream",
     "text": [
      "Columns renamed and file updated.\n",
      "Last 2 columns: ['Subject_ID', 'Activity_Label_OpenBCI']\n",
      "\n",
      "Preview of data:\n",
      "   EXG Channel 0  EXG Channel 1  EXG Channel 2  EXG Channel 3  EXG Channel 4  \\\n",
      "0       187500.0 -187500.022352 -187500.022352 -187500.022352  -15542.084341   \n",
      "1       187500.0 -187500.022352 -187500.022352 -187500.022352  -15533.501271   \n",
      "2       187500.0 -187500.022352 -187500.022352 -187500.022352  -15519.553783   \n",
      "3       187500.0 -187500.022352 -187500.022352 -187500.022352  -15544.028943   \n",
      "4       187500.0 -187500.022352 -187500.022352 -187500.022352  -15539.849167   \n",
      "\n",
      "   EXG Channel 5  EXG Channel 6  EXG Channel 7  EXG Channel 8  EXG Channel 9  \\\n",
      "0 -120418.190410   10376.238570     273.808870    4420.683315 -187500.022352   \n",
      "1 -120356.723113   10384.665177     286.012922    4463.442202 -187500.022352   \n",
      "2 -119781.009231   10389.627265     257.648558    4434.563748 -187500.022352   \n",
      "3 -119762.256117   10369.689509     240.325956    4464.872714 -187500.022352   \n",
      "4 -119185.983442   10381.334768     214.487340    4424.326649 -187500.022352   \n",
      "\n",
      "   EXG Channel 10  EXG Channel 11  EXG Channel 12  EXG Channel 13  \\\n",
      "0    15829.326609  -187500.022352   -25075.595090    -4405.126501   \n",
      "1    15853.779418  -187500.022352   -24557.615764    -4355.215055   \n",
      "2    15837.216775  -187500.022352   -23968.356725    -4394.464719   \n",
      "3    15847.051543  -187500.022352   -23490.632891    -4363.507553   \n",
      "4    15818.888345  -187500.022352   -22991.384326    -4399.516213   \n",
      "\n",
      "   EXG Channel 14  EXG Channel 15 Subject_ID  \\\n",
      "0    -4952.163095    -5207.375313  Subject 2   \n",
      "1    -4915.953269    -5182.855449  Subject 2   \n",
      "2    -4951.403135    -5213.477339  Subject 2   \n",
      "3    -4930.526606    -5201.429749  Subject 2   \n",
      "4    -4959.963853    -5214.282002  Subject 2   \n",
      "\n",
      "                    Activity_Label_OpenBCI  \n",
      "0  OpenBCISession_s2-seated leg extensions  \n",
      "1  OpenBCISession_s2-seated leg extensions  \n",
      "2  OpenBCISession_s2-seated leg extensions  \n",
      "3  OpenBCISession_s2-seated leg extensions  \n",
      "4  OpenBCISession_s2-seated leg extensions  \n",
      "\n",
      "Total shape: 555738 rows × 18 columns\n"
     ]
    }
   ],
   "source": [
    "df = pd.read_csv('EEG_Only_Subject2.csv')\n",
    "df = df.rename(columns={\n",
    "    'Subject_ID_x': 'Subject_ID',\n",
    "    'Activity': 'Activity_Label_OpenBCI'\n",
    "})\n",
    "df.to_csv('EEG_Only_Subject2.csv', index=False)\n",
    "print(\"Columns renamed and file updated.\")\n",
    "print(\"Last 2 columns:\", df.columns[-2:].tolist())\n",
    "print(\"\\nPreview of data:\")\n",
    "print(df.head())\n",
    "print(f\"\\nTotal shape: {df.shape[0]} rows × {df.shape[1]} columns\")"
   ]
  },
  {
   "cell_type": "markdown",
   "id": "8f2c0138",
   "metadata": {},
   "source": [
    "# Display Unique Activity Labels"
   ]
  },
  {
   "cell_type": "code",
   "execution_count": 6,
   "id": "ae97e9f2",
   "metadata": {},
   "outputs": [
    {
     "name": "stdout",
     "output_type": "stream",
     "text": [
      "['OpenBCISession_s2-seated leg extensions'\n",
      " 'OpenBCISession_s2-marching in place' 'OpenBCISession_s2-wall push-ups'\n",
      " 'OpenBCISession_s2-seated boxing hooks'\n",
      " 'OpenBCISession_s2-standing heel to toe walk'\n",
      " 'OpenBCISession_s2-side-stepping' 'OpenBCISession_s2-seated side bends'\n",
      " 'OpenBCISession_s2-seated medicine ball twists'\n",
      " 'OpenBCISession_s2-chair squats'\n",
      " 'OpenBCISession_s2-light stationary cycling']\n"
     ]
    }
   ],
   "source": [
    "print(df['Activity_Label_OpenBCI'].unique())"
   ]
  },
  {
   "cell_type": "markdown",
   "id": "555eedd7",
   "metadata": {},
   "source": [
    "# Count Rows per Activity Label"
   ]
  },
  {
   "cell_type": "code",
   "execution_count": 7,
   "id": "5aa9dd6e",
   "metadata": {},
   "outputs": [
    {
     "name": "stdout",
     "output_type": "stream",
     "text": [
      "Number of rows per activity label:\n",
      "\n",
      "Activity_Label_OpenBCI\n",
      "OpenBCISession_s2-wall push-ups                  73339\n",
      "OpenBCISession_s2-side-stepping                  59325\n",
      "OpenBCISession_s2-chair squats                   58595\n",
      "OpenBCISession_s2-seated boxing hooks            58179\n",
      "OpenBCISession_s2-seated side bends              57741\n",
      "OpenBCISession_s2-seated leg extensions          57459\n",
      "OpenBCISession_s2-marching in place              56720\n",
      "OpenBCISession_s2-standing heel to toe walk      56484\n",
      "OpenBCISession_s2-light stationary cycling       39075\n",
      "OpenBCISession_s2-seated medicine ball twists    38821\n",
      "Name: count, dtype: int64\n"
     ]
    }
   ],
   "source": [
    "activity_counts = df['Activity_Label_OpenBCI'].value_counts()\n",
    "print(\"Number of rows per activity label:\\n\")\n",
    "print(activity_counts)"
   ]
  },
  {
   "cell_type": "markdown",
   "id": "1baa5dae",
   "metadata": {},
   "source": [
    "# Plot Activity Counts"
   ]
  },
  {
   "cell_type": "code",
   "execution_count": 8,
   "id": "3d9ae519",
   "metadata": {},
   "outputs": [
    {
     "data": {
      "image/png": "[encoded data removed]",
      "text/plain": [
       "<Figure size 720x432 with 1 Axes>"
      ]
     },
     "metadata": {
      "needs_background": "light"
     },
     "output_type": "display_data"
    }
   ],
   "source": [
    "activity_counts = df['Activity_Label_OpenBCI'].value_counts()\n",
    "plt.figure(figsize=(10,6))\n",
    "activity_counts.plot(kind='bar', color='skyblue')\n",
    "plt.title('Number of Samples per Activity_Label_OpenBCI')\n",
    "plt.xlabel('Activity_Label_OpenBCI')\n",
    "plt.ylabel('Number of Samples')\n",
    "plt.xticks(rotation=45, ha='right')\n",
    "plt.tight_layout()\n",
    "plt.show()"
   ]
  },
  {
   "cell_type": "markdown",
   "id": "209337b7",
   "metadata": {},
   "source": [
    "# Update Activity Labels and Save File"
   ]
  },
  {
   "cell_type": "code",
   "execution_count": 9,
   "id": "f268b668",
   "metadata": {},
   "outputs": [
    {
     "name": "stderr",
     "output_type": "stream",
     "text": [
      "/tmp/ipykernel_930885/2074946356.py:8: FutureWarning: Downcasting behavior in `replace` is deprecated and will be removed in a future version. To retain the old behavior, explicitly call `result.infer_objects(copy=False)`. To opt-in to the future behavior, set `pd.set_option('future.no_silent_downcasting', True)`\n",
      "  df['Subject_ID'] = df['Subject_ID'].replace('Subject 2', 2).astype(int)\n"
     ]
    },
    {
     "name": "stdout",
     "output_type": "stream",
     "text": [
      "File updated successfully.\n",
      "Subject_ID is numeric: int64\n",
      "Unique activity labels now:\n",
      "['Seated Leg Extensions' 'Marching in Place' 'Wall Push-ups'\n",
      " 'Seated Boxing Hooks' 'Standing Heel-to-Toe Walk' 'Side-Stepping'\n",
      " 'Seated Side Bends' 'Seated Medicine Ball Twists' 'Chair Squats'\n",
      " 'Light Stationary Cycling']\n",
      "\n",
      "Final shape: 555738 rows × 18 columns\n",
      "\n",
      "Preview of data:\n",
      "   EXG Channel 0  EXG Channel 1  EXG Channel 2  EXG Channel 3  EXG Channel 4  \\\n",
      "0       187500.0 -187500.022352 -187500.022352 -187500.022352  -15542.084341   \n",
      "1       187500.0 -187500.022352 -187500.022352 -187500.022352  -15533.501271   \n",
      "2       187500.0 -187500.022352 -187500.022352 -187500.022352  -15519.553783   \n",
      "3       187500.0 -187500.022352 -187500.022352 -187500.022352  -15544.028943   \n",
      "4       187500.0 -187500.022352 -187500.022352 -187500.022352  -15539.849167   \n",
      "\n",
      "   EXG Channel 5  EXG Channel 6  EXG Channel 7  EXG Channel 8  EXG Channel 9  \\\n",
      "0 -120418.190410   10376.238570     273.808870    4420.683315 -187500.022352   \n",
      "1 -120356.723113   10384.665177     286.012922    4463.442202 -187500.022352   \n",
      "2 -119781.009231   10389.627265     257.648558    4434.563748 -187500.022352   \n",
      "3 -119762.256117   10369.689509     240.325956    4464.872714 -187500.022352   \n",
      "4 -119185.983442   10381.334768     214.487340    4424.326649 -187500.022352   \n",
      "\n",
      "   EXG Channel 10  EXG Channel 11  EXG Channel 12  EXG Channel 13  \\\n",
      "0    15829.326609  -187500.022352   -25075.595090    -4405.126501   \n",
      "1    15853.779418  -187500.022352   -24557.615764    -4355.215055   \n",
      "2    15837.216775  -187500.022352   -23968.356725    -4394.464719   \n",
      "3    15847.051543  -187500.022352   -23490.632891    -4363.507553   \n",
      "4    15818.888345  -187500.022352   -22991.384326    -4399.516213   \n",
      "\n",
      "   EXG Channel 14  EXG Channel 15  Subject_ID Activity_Label_OpenBCI  \n",
      "0    -4952.163095    -5207.375313           2  Seated Leg Extensions  \n",
      "1    -4915.953269    -5182.855449           2  Seated Leg Extensions  \n",
      "2    -4951.403135    -5213.477339           2  Seated Leg Extensions  \n",
      "3    -4930.526606    -5201.429749           2  Seated Leg Extensions  \n",
      "4    -4959.963853    -5214.282002           2  Seated Leg Extensions  \n"
     ]
    }
   ],
   "source": [
    "df = pd.read_csv('EEG_Only_Subject2.csv')\n",
    "\n",
    "df = df.rename(columns={\n",
    "    'Subject_ID_x': 'Subject_ID',\n",
    "    'Activity': 'Activity_Label_OpenBCI'\n",
    "})\n",
    "\n",
    "df['Subject_ID'] = df['Subject_ID'].replace('Subject 2', 2).astype(int)\n",
    "\n",
    "activity_mapping = {\n",
    "    'OpenBCISession_s2-seated leg extensions': 'Seated Leg Extensions',\n",
    "    'OpenBCISession_s2-marching in place': 'Marching in Place',\n",
    "    'OpenBCISession_s2-wall push-ups': 'Wall Push-ups',\n",
    "    'OpenBCISession_s2-seated boxing hooks': 'Seated Boxing Hooks',\n",
    "    'OpenBCISession_s2-standing heel to toe walk': 'Standing Heel-to-Toe Walk',\n",
    "    'OpenBCISession_s2-side-stepping': 'Side-Stepping',\n",
    "    'OpenBCISession_s2-seated side bends': 'Seated Side Bends',\n",
    "    'OpenBCISession_s2-seated medicine ball twists': 'Seated Medicine Ball Twists',\n",
    "    'OpenBCISession_s2-chair squats': 'Chair Squats',\n",
    "    'OpenBCISession_s2-light stationary cycling': 'Light Stationary Cycling'\n",
    "}\n",
    "\n",
    "df['Activity_Label_OpenBCI'] = df['Activity_Label_OpenBCI'].replace(activity_mapping)\n",
    "\n",
    "df.to_csv('EEG_Only_Subject2.csv', index=False)\n",
    "\n",
    "print(\"File updated successfully.\")\n",
    "print(\"Subject_ID is numeric:\", df['Subject_ID'].dtype)\n",
    "print(\"Unique activity labels now:\")\n",
    "print(df['Activity_Label_OpenBCI'].unique())\n",
    "print(f\"\\nFinal shape: {df.shape[0]} rows × {df.shape[1]} columns\")\n",
    "print(\"\\nPreview of data:\")\n",
    "print(df.head())"
   ]
  },
  {
   "cell_type": "markdown",
   "id": "3be3f944",
   "metadata": {},
   "source": [
    "# Count the Activity Labels in Updated Data"
   ]
  },
  {
   "cell_type": "code",
   "execution_count": 10,
   "id": "e404ad1b",
   "metadata": {},
   "outputs": [
    {
     "name": "stdout",
     "output_type": "stream",
     "text": [
      "Activity_Label_OpenBCI\n",
      "Wall Push-ups                  73339\n",
      "Side-Stepping                  59325\n",
      "Chair Squats                   58595\n",
      "Seated Boxing Hooks            58179\n",
      "Seated Side Bends              57741\n",
      "Seated Leg Extensions          57459\n",
      "Marching in Place              56720\n",
      "Standing Heel-to-Toe Walk      56484\n",
      "Light Stationary Cycling       39075\n",
      "Seated Medicine Ball Twists    38821\n",
      "Name: count, dtype: int64\n"
     ]
    }
   ],
   "source": [
    "df = pd.read_csv('EEG_Only_Subject2.csv')\n",
    "activity_counts = df['Activity_Label_OpenBCI'].value_counts()\n",
    "print(activity_counts)"
   ]
  },
  {
   "cell_type": "markdown",
   "id": "8d763b13",
   "metadata": {},
   "source": [
    "# Map Activity Labels to Numeric Values and Save File"
   ]
  },
  {
   "cell_type": "code",
   "execution_count": 11,
   "id": "5252e91d",
   "metadata": {},
   "outputs": [
    {
     "name": "stderr",
     "output_type": "stream",
     "text": [
      "/tmp/ipykernel_930885/3437214306.py:19: FutureWarning: Downcasting behavior in `replace` is deprecated and will be removed in a future version. To retain the old behavior, explicitly call `result.infer_objects(copy=False)`. To opt-in to the future behavior, set `pd.set_option('future.no_silent_downcasting', True)`\n",
      "  df['Activity_Label_OpenBCI'] = df['Activity_Label_OpenBCI'].replace(activity_mapping_to_numeric)\n"
     ]
    },
    {
     "name": "stdout",
     "output_type": "stream",
     "text": [
      "File updated successfully.\n",
      "Subject_ID is numeric: int64\n",
      "Unique activity labels now (numeric):\n",
      "[ 1  2  3  4  5  6  7  8  9 10]\n",
      "\n",
      "Final shape: 555738 rows × 18 columns\n",
      "\n",
      "Preview of data:\n",
      "   EXG Channel 0  EXG Channel 1  EXG Channel 2  EXG Channel 3  EXG Channel 4  \\\n",
      "0       187500.0 -187500.022352 -187500.022352 -187500.022352  -15542.084341   \n",
      "1       187500.0 -187500.022352 -187500.022352 -187500.022352  -15533.501271   \n",
      "2       187500.0 -187500.022352 -187500.022352 -187500.022352  -15519.553783   \n",
      "3       187500.0 -187500.022352 -187500.022352 -187500.022352  -15544.028943   \n",
      "4       187500.0 -187500.022352 -187500.022352 -187500.022352  -15539.849167   \n",
      "\n",
      "   EXG Channel 5  EXG Channel 6  EXG Channel 7  EXG Channel 8  EXG Channel 9  \\\n",
      "0 -120418.190410   10376.238570     273.808870    4420.683315 -187500.022352   \n",
      "1 -120356.723113   10384.665177     286.012922    4463.442202 -187500.022352   \n",
      "2 -119781.009231   10389.627265     257.648558    4434.563748 -187500.022352   \n",
      "3 -119762.256117   10369.689509     240.325956    4464.872714 -187500.022352   \n",
      "4 -119185.983442   10381.334768     214.487340    4424.326649 -187500.022352   \n",
      "\n",
      "   EXG Channel 10  EXG Channel 11  EXG Channel 12  EXG Channel 13  \\\n",
      "0    15829.326609  -187500.022352   -25075.595090    -4405.126501   \n",
      "1    15853.779418  -187500.022352   -24557.615764    -4355.215055   \n",
      "2    15837.216775  -187500.022352   -23968.356725    -4394.464719   \n",
      "3    15847.051543  -187500.022352   -23490.632891    -4363.507553   \n",
      "4    15818.888345  -187500.022352   -22991.384326    -4399.516213   \n",
      "\n",
      "   EXG Channel 14  EXG Channel 15  Subject_ID  Activity_Label_OpenBCI  \n",
      "0    -4952.163095    -5207.375313           2                       1  \n",
      "1    -4915.953269    -5182.855449           2                       1  \n",
      "2    -4951.403135    -5213.477339           2                       1  \n",
      "3    -4930.526606    -5201.429749           2                       1  \n",
      "4    -4959.963853    -5214.282002           2                       1  \n"
     ]
    }
   ],
   "source": [
    "df = pd.read_csv('EEG_Only_Subject2.csv')\n",
    "df = df.rename(columns={\n",
    "    'Subject_ID_x': 'Subject_ID',\n",
    "    'Activity': 'Activity_Label_OpenBCI'\n",
    "})\n",
    "df['Subject_ID'] = df['Subject_ID'].replace('Subject 2', 2).astype(int)\n",
    "activity_mapping_to_numeric = {\n",
    "    'Seated Leg Extensions': 1,\n",
    "    'Marching in Place': 2,\n",
    "    'Wall Push-ups': 3,\n",
    "    'Seated Boxing Hooks': 4,\n",
    "    'Standing Heel-to-Toe Walk': 5,\n",
    "    'Side-Stepping': 6,\n",
    "    'Seated Side Bends': 7,\n",
    "    'Seated Medicine Ball Twists': 8,\n",
    "    'Chair Squats': 9,\n",
    "    'Light Stationary Cycling': 10\n",
    "}\n",
    "df['Activity_Label_OpenBCI'] = df['Activity_Label_OpenBCI'].replace(activity_mapping_to_numeric)\n",
    "df.to_csv('EEG_Only_Subject2_Updated.csv', index=False)\n",
    "print(\"File updated successfully.\")\n",
    "print(\"Subject_ID is numeric:\", df['Subject_ID'].dtype)\n",
    "print(\"Unique activity labels now (numeric):\")\n",
    "print(df['Activity_Label_OpenBCI'].unique())\n",
    "print(f\"\\nFinal shape: {df.shape[0]} rows × {df.shape[1]} columns\")\n",
    "print(\"\\nPreview of data:\")\n",
    "print(df.head())"
   ]
  },
  {
   "cell_type": "markdown",
   "id": "a2acd253",
   "metadata": {},
   "source": [
    "# Count and Sort Activity Labels (Numeric)"
   ]
  },
  {
   "cell_type": "code",
   "execution_count": 12,
   "id": "62eb79eb",
   "metadata": {},
   "outputs": [
    {
     "name": "stdout",
     "output_type": "stream",
     "text": [
      "Unique activity labels and their counts (sorted 1 → 10):\n",
      "Activity_Label_OpenBCI\n",
      "1     57459\n",
      "2     56720\n",
      "3     73339\n",
      "4     58179\n",
      "5     56484\n",
      "6     59325\n",
      "7     57741\n",
      "8     38821\n",
      "9     58595\n",
      "10    39075\n",
      "Name: count, dtype: int64\n",
      "\n",
      "Total count: 555738\n"
     ]
    }
   ],
   "source": [
    "df = pd.read_csv('EEG_Only_Subject2_Updated.csv')\n",
    "\n",
    "activity_counts = df['Activity_Label_OpenBCI'].value_counts().sort_index()\n",
    "\n",
    "print(\"Unique activity labels and their counts (sorted 1 → 10):\")\n",
    "print(activity_counts)\n",
    "print(f\"\\nTotal count: {activity_counts.sum()}\")"
   ]
  }
 ],
 "metadata": {
  "kernelspec": {
   "display_name": "Python 3 (ipykernel)",
   "language": "python",
   "name": "python3"
  },
  "language_info": {
   "codemirror_mode": {
    "name": "ipython",
    "version": 3
   },
   "file_extension": ".py",
   "mimetype": "text/x-python",
   "name": "python",
   "nbconvert_exporter": "python",
   "pygments_lexer": "ipython3",
   "version": "3.9.7"
  }
 },
 "nbformat": 4,
 "nbformat_minor": 5
}
