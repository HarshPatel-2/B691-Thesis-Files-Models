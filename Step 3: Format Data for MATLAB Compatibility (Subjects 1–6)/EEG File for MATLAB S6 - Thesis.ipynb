{
 "cells": [
  {
   "cell_type": "markdown",
   "id": "8d438b82",
   "metadata": {},
   "source": [
    "# Import Libraries"
   ]
  },
  {
   "cell_type": "code",
   "execution_count": 1,
   "id": "01f36cd0",
   "metadata": {},
   "outputs": [],
   "source": [
    "import pandas as pd\n",
    "import matplotlib.pyplot as plt"
   ]
  },
  {
   "cell_type": "markdown",
   "id": "7f6d420e",
   "metadata": {},
   "source": [
    "# Load and Explore the EEG Data"
   ]
  },
  {
   "cell_type": "code",
   "execution_count": 2,
   "id": "7f6b275f",
   "metadata": {},
   "outputs": [
    {
     "name": "stdout",
     "output_type": "stream",
     "text": [
      "Columns:\n",
      "['Sample Index', 'EXG Channel 0', 'EXG Channel 1', 'EXG Channel 2', 'EXG Channel 3', 'EXG Channel 4', 'EXG Channel 5', 'EXG Channel 6', 'EXG Channel 7', 'EXG Channel 8', 'EXG Channel 9', 'EXG Channel 10', 'EXG Channel 11', 'EXG Channel 12', 'EXG Channel 13', 'EXG Channel 14', 'EXG Channel 15', 'Accel Channel 0', 'Accel Channel 1', 'Accel Channel 2', 'Not Used 1', 'Digital Channel 0 (D11)', 'Digital Channel 1 (D12)', 'Digital Channel 2 (D13)', 'Digital Channel 3 (D17)', 'Not Used 2', 'Digital Channel 4 (D18)', 'Analog Channel 0', 'Analog Channel 1', 'Analog Channel 2', 'Timestamp', 'Marker Channel', 'Timestamp (Formatted)', 'Activity', 'Timestamp_Gyro', 'Gyro X (°/s)', 'Gyro Y (°/s)', 'Gyro Z (°/s)', 'Activity_Label_x', 'Subject_ID_x', 'Timestamp_Accel', 'Accel X (g)', 'Accel Y (g)', 'Accel Z (g)', 'Activity_Label_y', 'Subject_ID_y']\n",
      "\n",
      "First 5 rows:\n",
      "   Sample Index  EXG Channel 0  EXG Channel 1  EXG Channel 2  EXG Channel 3  \\\n",
      "0           6.0 -187500.022352 -145365.017100 -155078.906426 -173815.367975   \n",
      "1           8.0 -187500.022352 -144901.084292 -155199.739957 -173965.638753   \n",
      "2          10.0 -187500.022352 -144769.834849 -155450.638288 -174066.802748   \n",
      "3          12.0 -187500.022352 -144468.645092 -155465.010460 -174205.987061   \n",
      "4          14.0 -187500.022352 -144460.129077 -155691.232466 -174355.453176   \n",
      "\n",
      "   EXG Channel 4  EXG Channel 5  EXG Channel 6  EXG Channel 7  EXG Channel 8  \\\n",
      "0 -121219.142821       187500.0       187500.0 -187500.022352       187500.0   \n",
      "1 -120902.530361       187500.0       187500.0 -187500.022352       187500.0   \n",
      "2 -120390.407192       187500.0       187500.0 -187500.022352       187500.0   \n",
      "3 -120049.163109       187500.0       187500.0 -187500.022352       187500.0   \n",
      "4 -119469.694134       187500.0       187500.0 -187500.022352       187500.0   \n",
      "\n",
      "   ...  Gyro Y (°/s)  Gyro Z (°/s)       Activity_Label_x  Subject_ID_x  \\\n",
      "0  ...      0.023213      0.014661  Seated Leg Extensions     Subject 6   \n",
      "1  ...      0.023213      0.014661  Seated Leg Extensions     Subject 6   \n",
      "2  ...      0.023213      0.014661  Seated Leg Extensions     Subject 6   \n",
      "3  ...      0.023213      0.014661  Seated Leg Extensions     Subject 6   \n",
      "4  ...      0.023213      0.014661  Seated Leg Extensions     Subject 6   \n",
      "\n",
      "   Timestamp_Accel  Accel X (g)  Accel Y (g)  Accel Z (g)  \\\n",
      "0     1.739051e+09     1.841141    -1.242591     9.411607   \n",
      "1     1.739051e+09     1.841141    -1.242591     9.411607   \n",
      "2     1.739051e+09     1.841141    -1.242591     9.411607   \n",
      "3     1.739051e+09     1.841141    -1.242591     9.411607   \n",
      "4     1.739051e+09     1.841141    -1.242591     9.411607   \n",
      "\n",
      "        Activity_Label_y  Subject_ID_y  \n",
      "0  Seated Leg Extensions     Subject 6  \n",
      "1  Seated Leg Extensions     Subject 6  \n",
      "2  Seated Leg Extensions     Subject 6  \n",
      "3  Seated Leg Extensions     Subject 6  \n",
      "4  Seated Leg Extensions     Subject 6  \n",
      "\n",
      "[5 rows x 46 columns]\n",
      "\n",
      "Total shape: 532707 rows × 46 columns\n"
     ]
    }
   ],
   "source": [
    "df = pd.read_csv('EEG-HAR_Subject_6_Merged.csv')\n",
    "print(\"Columns:\")\n",
    "print(df.columns.tolist())\n",
    "print(\"\\nFirst 5 rows:\")\n",
    "print(df.head())\n",
    "print(f\"\\nTotal shape: {df.shape[0]} rows × {df.shape[1]} columns\")"
   ]
  },
  {
   "cell_type": "markdown",
   "id": "cebff324",
   "metadata": {},
   "source": [
    "# Count the Activity Labels"
   ]
  },
  {
   "cell_type": "code",
   "execution_count": 3,
   "id": "eb4079f5",
   "metadata": {},
   "outputs": [
    {
     "name": "stdout",
     "output_type": "stream",
     "text": [
      "Activity\n",
      "OpenBCISession_s6-seated leg extensions          73217\n",
      "OpenBCISession_s6-wallpushups                    59305\n",
      "OpenBCISession_s6-chair squats                   58727\n",
      "OpenBCISession_s6-seated boxing hooks            58297\n",
      "OpenBCISession_s6-seated medicine ball twists    57779\n",
      "OpenBCISession_s6- standing heel to toe walk     57519\n",
      "OpenBCISession_s6-marchinginplace                57373\n",
      "OpenBCISession_s6-seated side bends              57341\n",
      "OpenBCISession_s6-side-stepping                  38074\n",
      "OpenBCISession_s6-light stationary cycling       15075\n",
      "Name: count, dtype: int64\n"
     ]
    }
   ],
   "source": [
    "df = pd.read_csv('EEG-HAR_Subject_6_Merged.csv')\n",
    "activity_counts = df['Activity'].value_counts()\n",
    "print(activity_counts)"
   ]
  },
  {
   "cell_type": "markdown",
   "id": "fd6e4dd7",
   "metadata": {},
   "source": [
    "# Extract EEG Data and Save to New File"
   ]
  },
  {
   "cell_type": "code",
   "execution_count": 4,
   "id": "4525c0c5",
   "metadata": {},
   "outputs": [
    {
     "name": "stdout",
     "output_type": "stream",
     "text": [
      "Created: EEG_Only_Subject6.csv\n",
      "Shape: (532707, 18)\n",
      "   EXG Channel 0  EXG Channel 1  EXG Channel 2  EXG Channel 3  EXG Channel 4  \\\n",
      "0 -187500.022352 -145365.017100 -155078.906426 -173815.367975 -121219.142821   \n",
      "1 -187500.022352 -144901.084292 -155199.739957 -173965.638753 -120902.530361   \n",
      "2 -187500.022352 -144769.834849 -155450.638288 -174066.802748 -120390.407192   \n",
      "3 -187500.022352 -144468.645092 -155465.010460 -174205.987061 -120049.163109   \n",
      "4 -187500.022352 -144460.129077 -155691.232466 -174355.453176 -119469.694134   \n",
      "\n",
      "   EXG Channel 5  EXG Channel 6  EXG Channel 7  EXG Channel 8  EXG Channel 9  \\\n",
      "0       187500.0       187500.0 -187500.022352       187500.0 -187500.022352   \n",
      "1       187500.0       187500.0 -187500.022352       187500.0 -187500.022352   \n",
      "2       187500.0       187500.0 -187500.022352       187500.0 -187500.022352   \n",
      "3       187500.0       187500.0 -187500.022352       187500.0 -187500.022352   \n",
      "4       187500.0       187500.0 -187500.022352       187500.0 -187500.022352   \n",
      "\n",
      "   EXG Channel 10  EXG Channel 11  EXG Channel 12  EXG Channel 13  \\\n",
      "0  -105405.887116  -187500.022352    60103.125584        187500.0   \n",
      "1  -105870.311662  -187500.022352    59690.355920        187500.0   \n",
      "2  -106026.438597  -187500.022352    59311.493851        187500.0   \n",
      "3  -106446.383172  -187500.022352    59086.791764        187500.0   \n",
      "4  -106602.800680  -187500.022352    58764.569016        187500.0   \n",
      "\n",
      "   EXG Channel 14  EXG Channel 15 Subject_ID_x  \\\n",
      "0        187500.0   -61869.114562    Subject 6   \n",
      "1        187500.0   -62403.164792    Subject 6   \n",
      "2        187500.0   -62974.900064    Subject 6   \n",
      "3        187500.0   -63411.541392    Subject 6   \n",
      "4        187500.0   -63941.747122    Subject 6   \n",
      "\n",
      "                                  Activity  \n",
      "0  OpenBCISession_s6-seated leg extensions  \n",
      "1  OpenBCISession_s6-seated leg extensions  \n",
      "2  OpenBCISession_s6-seated leg extensions  \n",
      "3  OpenBCISession_s6-seated leg extensions  \n",
      "4  OpenBCISession_s6-seated leg extensions  \n"
     ]
    }
   ],
   "source": [
    "df = pd.read_csv('EEG-HAR_Subject_6_Merged.csv')\n",
    "eeg_columns = [f'EXG Channel {i}' for i in range(16)]\n",
    "meta_columns = ['Subject_ID_x', 'Activity']\n",
    "eeg_only_df = df[eeg_columns + meta_columns]\n",
    "eeg_only_df.to_csv('EEG_Only_Subject6.csv', index=False)\n",
    "print(\"Created: EEG_Only_Subject6.csv\")\n",
    "print(f\"Shape: {eeg_only_df.shape}\")\n",
    "print(eeg_only_df.head())"
   ]
  },
  {
   "cell_type": "markdown",
   "id": "4bb04100",
   "metadata": {},
   "source": [
    "# Rename Columns and Save the Updated File"
   ]
  },
  {
   "cell_type": "code",
   "execution_count": 5,
   "id": "4e775a0c",
   "metadata": {},
   "outputs": [
    {
     "name": "stdout",
     "output_type": "stream",
     "text": [
      "Columns renamed and file updated.\n",
      "Last 2 columns: ['Subject_ID', 'Activity_Label_OpenBCI']\n",
      "\n",
      "Preview of data:\n",
      "   EXG Channel 0  EXG Channel 1  EXG Channel 2  EXG Channel 3  EXG Channel 4  \\\n",
      "0 -187500.022352 -145365.017100 -155078.906426 -173815.367975 -121219.142821   \n",
      "1 -187500.022352 -144901.084292 -155199.739957 -173965.638753 -120902.530361   \n",
      "2 -187500.022352 -144769.834849 -155450.638288 -174066.802748 -120390.407192   \n",
      "3 -187500.022352 -144468.645092 -155465.010460 -174205.987061 -120049.163109   \n",
      "4 -187500.022352 -144460.129077 -155691.232466 -174355.453176 -119469.694134   \n",
      "\n",
      "   EXG Channel 5  EXG Channel 6  EXG Channel 7  EXG Channel 8  EXG Channel 9  \\\n",
      "0       187500.0       187500.0 -187500.022352       187500.0 -187500.022352   \n",
      "1       187500.0       187500.0 -187500.022352       187500.0 -187500.022352   \n",
      "2       187500.0       187500.0 -187500.022352       187500.0 -187500.022352   \n",
      "3       187500.0       187500.0 -187500.022352       187500.0 -187500.022352   \n",
      "4       187500.0       187500.0 -187500.022352       187500.0 -187500.022352   \n",
      "\n",
      "   EXG Channel 10  EXG Channel 11  EXG Channel 12  EXG Channel 13  \\\n",
      "0  -105405.887116  -187500.022352    60103.125584        187500.0   \n",
      "1  -105870.311662  -187500.022352    59690.355920        187500.0   \n",
      "2  -106026.438597  -187500.022352    59311.493851        187500.0   \n",
      "3  -106446.383172  -187500.022352    59086.791764        187500.0   \n",
      "4  -106602.800680  -187500.022352    58764.569016        187500.0   \n",
      "\n",
      "   EXG Channel 14  EXG Channel 15 Subject_ID  \\\n",
      "0        187500.0   -61869.114562  Subject 6   \n",
      "1        187500.0   -62403.164792  Subject 6   \n",
      "2        187500.0   -62974.900064  Subject 6   \n",
      "3        187500.0   -63411.541392  Subject 6   \n",
      "4        187500.0   -63941.747122  Subject 6   \n",
      "\n",
      "                    Activity_Label_OpenBCI  \n",
      "0  OpenBCISession_s6-seated leg extensions  \n",
      "1  OpenBCISession_s6-seated leg extensions  \n",
      "2  OpenBCISession_s6-seated leg extensions  \n",
      "3  OpenBCISession_s6-seated leg extensions  \n",
      "4  OpenBCISession_s6-seated leg extensions  \n",
      "\n",
      "Total shape: 532707 rows × 18 columns\n"
     ]
    }
   ],
   "source": [
    "df = pd.read_csv('EEG_Only_Subject6.csv')\n",
    "df = df.rename(columns={\n",
    "    'Subject_ID_x': 'Subject_ID',\n",
    "    'Activity': 'Activity_Label_OpenBCI'\n",
    "})\n",
    "df.to_csv('EEG_Only_Subject6.csv', index=False)\n",
    "print(\"Columns renamed and file updated.\")\n",
    "print(\"Last 2 columns:\", df.columns[-2:].tolist())\n",
    "print(\"\\nPreview of data:\")\n",
    "print(df.head())\n",
    "print(f\"\\nTotal shape: {df.shape[0]} rows × {df.shape[1]} columns\")"
   ]
  },
  {
   "cell_type": "markdown",
   "id": "afa6ce4a",
   "metadata": {},
   "source": [
    "# Display Unique Activity Labels"
   ]
  },
  {
   "cell_type": "code",
   "execution_count": 6,
   "id": "527af4d8",
   "metadata": {},
   "outputs": [
    {
     "name": "stdout",
     "output_type": "stream",
     "text": [
      "['OpenBCISession_s6-seated leg extensions'\n",
      " 'OpenBCISession_s6-marchinginplace' 'OpenBCISession_s6-wallpushups'\n",
      " 'OpenBCISession_s6-seated boxing hooks'\n",
      " 'OpenBCISession_s6- standing heel to toe walk'\n",
      " 'OpenBCISession_s6-side-stepping' 'OpenBCISession_s6-seated side bends'\n",
      " 'OpenBCISession_s6-seated medicine ball twists'\n",
      " 'OpenBCISession_s6-chair squats'\n",
      " 'OpenBCISession_s6-light stationary cycling']\n"
     ]
    }
   ],
   "source": [
    "print(df['Activity_Label_OpenBCI'].unique())"
   ]
  },
  {
   "cell_type": "markdown",
   "id": "39ec20fb",
   "metadata": {},
   "source": [
    "# Count Rows per Activity Label"
   ]
  },
  {
   "cell_type": "code",
   "execution_count": 7,
   "id": "c58c0c5b",
   "metadata": {},
   "outputs": [
    {
     "name": "stdout",
     "output_type": "stream",
     "text": [
      "Number of rows per activity label:\n",
      "\n",
      "Activity_Label_OpenBCI\n",
      "OpenBCISession_s6-seated leg extensions          73217\n",
      "OpenBCISession_s6-wallpushups                    59305\n",
      "OpenBCISession_s6-chair squats                   58727\n",
      "OpenBCISession_s6-seated boxing hooks            58297\n",
      "OpenBCISession_s6-seated medicine ball twists    57779\n",
      "OpenBCISession_s6- standing heel to toe walk     57519\n",
      "OpenBCISession_s6-marchinginplace                57373\n",
      "OpenBCISession_s6-seated side bends              57341\n",
      "OpenBCISession_s6-side-stepping                  38074\n",
      "OpenBCISession_s6-light stationary cycling       15075\n",
      "Name: count, dtype: int64\n"
     ]
    }
   ],
   "source": [
    "activity_counts = df['Activity_Label_OpenBCI'].value_counts()\n",
    "print(\"Number of rows per activity label:\\n\")\n",
    "print(activity_counts)"
   ]
  },
  {
   "cell_type": "markdown",
   "id": "deb4e0dd",
   "metadata": {},
   "source": [
    "# Plot Activity Counts"
   ]
  },
  {
   "cell_type": "code",
   "execution_count": 8,
   "id": "40d5adf3",
   "metadata": {},
   "outputs": [
    {
     "data": {
      "image/png": "[encoded data removed]",
      "text/plain": [
       "<Figure size 720x432 with 1 Axes>"
      ]
     },
     "metadata": {
      "needs_background": "light"
     },
     "output_type": "display_data"
    }
   ],
   "source": [
    "activity_counts = df['Activity_Label_OpenBCI'].value_counts()\n",
    "plt.figure(figsize=(10,6))\n",
    "activity_counts.plot(kind='bar', color='skyblue')\n",
    "plt.title('Number of Samples per Activity_Label_OpenBCI')\n",
    "plt.xlabel('Activity_Label_OpenBCI')\n",
    "plt.ylabel('Number of Samples')\n",
    "plt.xticks(rotation=45, ha='right')\n",
    "plt.tight_layout()\n",
    "plt.show()"
   ]
  },
  {
   "cell_type": "markdown",
   "id": "58ae9f97",
   "metadata": {},
   "source": [
    "# Update Activity Labels and Save File"
   ]
  },
  {
   "cell_type": "code",
   "execution_count": 9,
   "id": "480d5b0c",
   "metadata": {},
   "outputs": [
    {
     "name": "stderr",
     "output_type": "stream",
     "text": [
      "/tmp/ipykernel_931850/1043657989.py:6: FutureWarning: Downcasting behavior in `replace` is deprecated and will be removed in a future version. To retain the old behavior, explicitly call `result.infer_objects(copy=False)`. To opt-in to the future behavior, set `pd.set_option('future.no_silent_downcasting', True)`\n",
      "  df['Subject_ID'] = df['Subject_ID'].replace('Subject 6', 6).astype(int)\n"
     ]
    },
    {
     "name": "stdout",
     "output_type": "stream",
     "text": [
      "File updated successfully.\n",
      "Subject_ID is numeric: int64\n",
      "Unique activity labels now:\n",
      "['Seated Leg Extensions' 'Marching in Place' 'Wall Push-ups'\n",
      " 'Seated Boxing Hooks' 'Standing Heel-to-Toe Walk' 'Side-Stepping'\n",
      " 'Seated Side Bends' 'Seated Medicine Ball Twists' 'Chair Squats'\n",
      " 'Light Stationary Cycling']\n",
      "\n",
      "Final shape: 532707 rows × 18 columns\n",
      "\n",
      "Preview of data:\n",
      "   EXG Channel 0  EXG Channel 1  EXG Channel 2  EXG Channel 3  EXG Channel 4  \\\n",
      "0 -187500.022352 -145365.017100 -155078.906426 -173815.367975 -121219.142821   \n",
      "1 -187500.022352 -144901.084292 -155199.739957 -173965.638753 -120902.530361   \n",
      "2 -187500.022352 -144769.834849 -155450.638288 -174066.802748 -120390.407192   \n",
      "3 -187500.022352 -144468.645092 -155465.010460 -174205.987061 -120049.163109   \n",
      "4 -187500.022352 -144460.129077 -155691.232466 -174355.453176 -119469.694134   \n",
      "\n",
      "   EXG Channel 5  EXG Channel 6  EXG Channel 7  EXG Channel 8  EXG Channel 9  \\\n",
      "0       187500.0       187500.0 -187500.022352       187500.0 -187500.022352   \n",
      "1       187500.0       187500.0 -187500.022352       187500.0 -187500.022352   \n",
      "2       187500.0       187500.0 -187500.022352       187500.0 -187500.022352   \n",
      "3       187500.0       187500.0 -187500.022352       187500.0 -187500.022352   \n",
      "4       187500.0       187500.0 -187500.022352       187500.0 -187500.022352   \n",
      "\n",
      "   EXG Channel 10  EXG Channel 11  EXG Channel 12  EXG Channel 13  \\\n",
      "0  -105405.887116  -187500.022352    60103.125584        187500.0   \n",
      "1  -105870.311662  -187500.022352    59690.355920        187500.0   \n",
      "2  -106026.438597  -187500.022352    59311.493851        187500.0   \n",
      "3  -106446.383172  -187500.022352    59086.791764        187500.0   \n",
      "4  -106602.800680  -187500.022352    58764.569016        187500.0   \n",
      "\n",
      "   EXG Channel 14  EXG Channel 15  Subject_ID Activity_Label_OpenBCI  \n",
      "0        187500.0   -61869.114562           6  Seated Leg Extensions  \n",
      "1        187500.0   -62403.164792           6  Seated Leg Extensions  \n",
      "2        187500.0   -62974.900064           6  Seated Leg Extensions  \n",
      "3        187500.0   -63411.541392           6  Seated Leg Extensions  \n",
      "4        187500.0   -63941.747122           6  Seated Leg Extensions  \n"
     ]
    }
   ],
   "source": [
    "df = pd.read_csv('EEG_Only_Subject6.csv')\n",
    "df = df.rename(columns={\n",
    "    'Subject_ID_x': 'Subject_ID',\n",
    "    'Activity': 'Activity_Label_OpenBCI'\n",
    "})\n",
    "df['Subject_ID'] = df['Subject_ID'].replace('Subject 6', 6).astype(int)\n",
    "activity_mapping = {\n",
    "    'OpenBCISession_s6-seated leg extensions': 'Seated Leg Extensions',\n",
    "    'OpenBCISession_s6-marchinginplace': 'Marching in Place',\n",
    "    'OpenBCISession_s6-wallpushups': 'Wall Push-ups',\n",
    "    'OpenBCISession_s6-seated boxing hooks': 'Seated Boxing Hooks',\n",
    "    'OpenBCISession_s6- standing heel to toe walk': 'Standing Heel-to-Toe Walk',\n",
    "    'OpenBCISession_s6-side-stepping': 'Side-Stepping',\n",
    "    'OpenBCISession_s6-seated side bends': 'Seated Side Bends',\n",
    "    'OpenBCISession_s6-seated medicine ball twists': 'Seated Medicine Ball Twists',\n",
    "    'OpenBCISession_s6-chair squats': 'Chair Squats',\n",
    "    'OpenBCISession_s6-light stationary cycling': 'Light Stationary Cycling'\n",
    "}\n",
    "df['Activity_Label_OpenBCI'] = df['Activity_Label_OpenBCI'].replace(activity_mapping)\n",
    "df.to_csv('EEG_Only_Subject6.csv', index=False)\n",
    "print(\"File updated successfully.\")\n",
    "print(\"Subject_ID is numeric:\", df['Subject_ID'].dtype)\n",
    "print(\"Unique activity labels now:\")\n",
    "print(df['Activity_Label_OpenBCI'].unique())\n",
    "print(f\"\\nFinal shape: {df.shape[0]} rows × {df.shape[1]} columns\")\n",
    "print(\"\\nPreview of data:\")\n",
    "print(df.head())"
   ]
  },
  {
   "cell_type": "markdown",
   "id": "a7b0c845",
   "metadata": {},
   "source": [
    "# Count the Activity Labels in Updated Data"
   ]
  },
  {
   "cell_type": "code",
   "execution_count": 10,
   "id": "09d577f2",
   "metadata": {},
   "outputs": [
    {
     "name": "stdout",
     "output_type": "stream",
     "text": [
      "Activity_Label_OpenBCI\n",
      "Seated Leg Extensions          73217\n",
      "Wall Push-ups                  59305\n",
      "Chair Squats                   58727\n",
      "Seated Boxing Hooks            58297\n",
      "Seated Medicine Ball Twists    57779\n",
      "Standing Heel-to-Toe Walk      57519\n",
      "Marching in Place              57373\n",
      "Seated Side Bends              57341\n",
      "Side-Stepping                  38074\n",
      "Light Stationary Cycling       15075\n",
      "Name: count, dtype: int64\n"
     ]
    }
   ],
   "source": [
    "df = pd.read_csv('EEG_Only_Subject6.csv')\n",
    "activity_counts = df['Activity_Label_OpenBCI'].value_counts()\n",
    "print(activity_counts)"
   ]
  },
  {
   "cell_type": "markdown",
   "id": "086fb9b1",
   "metadata": {},
   "source": [
    "# Map Activity Labels to Numeric Values and Save File"
   ]
  },
  {
   "cell_type": "code",
   "execution_count": 11,
   "id": "7c223081",
   "metadata": {},
   "outputs": [
    {
     "name": "stderr",
     "output_type": "stream",
     "text": [
      "/tmp/ipykernel_931850/1600591272.py:19: FutureWarning: Downcasting behavior in `replace` is deprecated and will be removed in a future version. To retain the old behavior, explicitly call `result.infer_objects(copy=False)`. To opt-in to the future behavior, set `pd.set_option('future.no_silent_downcasting', True)`\n",
      "  df['Activity_Label_OpenBCI'] = df['Activity_Label_OpenBCI'].replace(activity_mapping_to_numeric)\n"
     ]
    },
    {
     "name": "stdout",
     "output_type": "stream",
     "text": [
      "File updated successfully.\n",
      "Subject_ID is numeric: int64\n",
      "Unique activity labels now (numeric):\n",
      "[ 1  2  3  4  5  6  7  8  9 10]\n",
      "\n",
      "Final shape: 532707 rows × 18 columns\n",
      "\n",
      "Preview of data:\n",
      "   EXG Channel 0  EXG Channel 1  EXG Channel 2  EXG Channel 3  EXG Channel 4  \\\n",
      "0 -187500.022352 -145365.017100 -155078.906426 -173815.367975 -121219.142821   \n",
      "1 -187500.022352 -144901.084292 -155199.739957 -173965.638753 -120902.530361   \n",
      "2 -187500.022352 -144769.834849 -155450.638288 -174066.802748 -120390.407192   \n",
      "3 -187500.022352 -144468.645092 -155465.010460 -174205.987061 -120049.163109   \n",
      "4 -187500.022352 -144460.129077 -155691.232466 -174355.453176 -119469.694134   \n",
      "\n",
      "   EXG Channel 5  EXG Channel 6  EXG Channel 7  EXG Channel 8  EXG Channel 9  \\\n",
      "0       187500.0       187500.0 -187500.022352       187500.0 -187500.022352   \n",
      "1       187500.0       187500.0 -187500.022352       187500.0 -187500.022352   \n",
      "2       187500.0       187500.0 -187500.022352       187500.0 -187500.022352   \n",
      "3       187500.0       187500.0 -187500.022352       187500.0 -187500.022352   \n",
      "4       187500.0       187500.0 -187500.022352       187500.0 -187500.022352   \n",
      "\n",
      "   EXG Channel 10  EXG Channel 11  EXG Channel 12  EXG Channel 13  \\\n",
      "0  -105405.887116  -187500.022352    60103.125584        187500.0   \n",
      "1  -105870.311662  -187500.022352    59690.355920        187500.0   \n",
      "2  -106026.438597  -187500.022352    59311.493851        187500.0   \n",
      "3  -106446.383172  -187500.022352    59086.791764        187500.0   \n",
      "4  -106602.800680  -187500.022352    58764.569016        187500.0   \n",
      "\n",
      "   EXG Channel 14  EXG Channel 15  Subject_ID  Activity_Label_OpenBCI  \n",
      "0        187500.0   -61869.114562           6                       1  \n",
      "1        187500.0   -62403.164792           6                       1  \n",
      "2        187500.0   -62974.900064           6                       1  \n",
      "3        187500.0   -63411.541392           6                       1  \n",
      "4        187500.0   -63941.747122           6                       1  \n"
     ]
    }
   ],
   "source": [
    "df = pd.read_csv('EEG_Only_Subject6.csv')\n",
    "df = df.rename(columns={\n",
    "    'Subject_ID_x': 'Subject_ID',\n",
    "    'Activity': 'Activity_Label_OpenBCI'\n",
    "})\n",
    "df['Subject_ID'] = df['Subject_ID'].replace('Subject 6', 6).astype(int)\n",
    "activity_mapping_to_numeric = {\n",
    "    'Seated Leg Extensions': 1,\n",
    "    'Marching in Place': 2,\n",
    "    'Wall Push-ups': 3,\n",
    "    'Seated Boxing Hooks': 4,\n",
    "    'Standing Heel-to-Toe Walk': 5,\n",
    "    'Side-Stepping': 6,\n",
    "    'Seated Side Bends': 7,\n",
    "    'Seated Medicine Ball Twists': 8,\n",
    "    'Chair Squats': 9,\n",
    "    'Light Stationary Cycling': 10\n",
    "}\n",
    "df['Activity_Label_OpenBCI'] = df['Activity_Label_OpenBCI'].replace(activity_mapping_to_numeric)\n",
    "df.to_csv('EEG_Only_Subject6_Updated.csv', index=False)\n",
    "print(\"File updated successfully.\")\n",
    "print(\"Subject_ID is numeric:\", df['Subject_ID'].dtype)\n",
    "print(\"Unique activity labels now (numeric):\")\n",
    "print(df['Activity_Label_OpenBCI'].unique())\n",
    "print(f\"\\nFinal shape: {df.shape[0]} rows × {df.shape[1]} columns\")\n",
    "print(\"\\nPreview of data:\")\n",
    "print(df.head())"
   ]
  },
  {
   "cell_type": "markdown",
   "id": "000e641a",
   "metadata": {},
   "source": [
    "# Count and Sort Activity Labels (Numeric)"
   ]
  },
  {
   "cell_type": "code",
   "execution_count": 12,
   "id": "ea721e0c",
   "metadata": {},
   "outputs": [
    {
     "name": "stdout",
     "output_type": "stream",
     "text": [
      "Unique activity labels and their counts (sorted 1 → 10):\n",
      "Activity_Label_OpenBCI\n",
      "1     73217\n",
      "2     57373\n",
      "3     59305\n",
      "4     58297\n",
      "5     57519\n",
      "6     38074\n",
      "7     57341\n",
      "8     57779\n",
      "9     58727\n",
      "10    15075\n",
      "Name: count, dtype: int64\n",
      "\n",
      "Total count: 532707\n"
     ]
    }
   ],
   "source": [
    "df = pd.read_csv('EEG_Only_Subject6_Updated.csv')\n",
    "activity_counts = df['Activity_Label_OpenBCI'].value_counts().sort_index()\n",
    "print(\"Unique activity labels and their counts (sorted 1 → 10):\")\n",
    "print(activity_counts)\n",
    "print(f\"\\nTotal count: {activity_counts.sum()}\")"
   ]
  }
 ],
 "metadata": {
  "kernelspec": {
   "display_name": "Python 3 (ipykernel)",
   "language": "python",
   "name": "python3"
  },
  "language_info": {
   "codemirror_mode": {
    "name": "ipython",
    "version": 3
   },
   "file_extension": ".py",
   "mimetype": "text/x-python",
   "name": "python",
   "nbconvert_exporter": "python",
   "pygments_lexer": "ipython3",
   "version": "3.9.7"
  }
 },
 "nbformat": 4,
 "nbformat_minor": 5
}
