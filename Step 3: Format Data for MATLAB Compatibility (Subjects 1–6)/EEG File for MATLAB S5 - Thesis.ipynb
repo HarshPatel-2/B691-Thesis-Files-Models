{
 "cells": [
  {
   "cell_type": "markdown",
   "id": "a72027ad",
   "metadata": {},
   "source": [
    "# Import Libraries"
   ]
  },
  {
   "cell_type": "code",
   "execution_count": 1,
   "id": "47fffc8b",
   "metadata": {},
   "outputs": [],
   "source": [
    "import pandas as pd\n",
    "import matplotlib.pyplot as plt"
   ]
  },
  {
   "cell_type": "markdown",
   "id": "445995e4",
   "metadata": {},
   "source": [
    "# Load and Explore the EEG Data"
   ]
  },
  {
   "cell_type": "code",
   "execution_count": 2,
   "id": "496c7e0c",
   "metadata": {},
   "outputs": [
    {
     "name": "stdout",
     "output_type": "stream",
     "text": [
      "Columns:\n",
      "['Sample Index', 'EXG Channel 0', 'EXG Channel 1', 'EXG Channel 2', 'EXG Channel 3', 'EXG Channel 4', 'EXG Channel 5', 'EXG Channel 6', 'EXG Channel 7', 'EXG Channel 8', 'EXG Channel 9', 'EXG Channel 10', 'EXG Channel 11', 'EXG Channel 12', 'EXG Channel 13', 'EXG Channel 14', 'EXG Channel 15', 'Accel Channel 0', 'Accel Channel 1', 'Accel Channel 2', 'Not Used 1', 'Digital Channel 0 (D11)', 'Digital Channel 1 (D12)', 'Digital Channel 2 (D13)', 'Digital Channel 3 (D17)', 'Not Used 2', 'Digital Channel 4 (D18)', 'Analog Channel 0', 'Analog Channel 1', 'Analog Channel 2', 'Timestamp', 'Marker Channel', 'Timestamp (Formatted)', 'Activity', 'Timestamp_Gyro', 'Gyro X (°/s)', 'Gyro Y (°/s)', 'Gyro Z (°/s)', 'Activity_Label_x', 'Subject_ID_x', 'Timestamp_Accel', 'Accel X (g)', 'Accel Y (g)', 'Accel Z (g)', 'Activity_Label_y', 'Subject_ID_y']\n",
      "\n",
      "First 5 rows:\n",
      "   Sample Index  EXG Channel 0  EXG Channel 1  EXG Channel 2  EXG Channel 3  \\\n",
      "0           6.0 -187500.022352 -187500.022352  -95681.827746 -187500.022352   \n",
      "1           8.0 -187500.022352 -187500.022352  -95959.034080 -187500.022352   \n",
      "2          10.0 -187500.022352 -187500.022352  -95751.900465 -187500.022352   \n",
      "3          12.0 -187500.022352 -187500.022352  -95912.676562 -187500.022352   \n",
      "4          14.0 -187500.022352 -187500.022352  -95820.296803 -187500.022352   \n",
      "\n",
      "   EXG Channel 4  EXG Channel 5  EXG Channel 6  EXG Channel 7  EXG Channel 8  \\\n",
      "0  -79511.592330  -63431.143872  -73532.500688 -187500.022352  -85267.680617   \n",
      "1  -79513.827504  -63390.955435  -73657.648105 -187500.022352  -84424.729279   \n",
      "2  -79737.657873  -63640.132682  -73717.282560 -187500.022352  -85352.103156   \n",
      "3  -79541.387205  -63425.734750  -73720.881190 -187500.022352  -84548.423832   \n",
      "4  -79945.484393  -63826.814452  -73858.836157 -187500.022352  -85439.744346   \n",
      "\n",
      "   ...  Gyro Y (°/s)  Gyro Z (°/s)   Activity_Label_x  Subject_ID_x  \\\n",
      "0  ...      0.172264     -0.128282  Marching in Place     Subject 5   \n",
      "1  ...      0.172264     -0.128282  Marching in Place     Subject 5   \n",
      "2  ...      0.172264     -0.128282  Marching in Place     Subject 5   \n",
      "3  ...      0.172264     -0.128282  Marching in Place     Subject 5   \n",
      "4  ...      0.172264     -0.128282  Marching in Place     Subject 5   \n",
      "\n",
      "   Timestamp_Accel  Accel X (g)  Accel Y (g)  Accel Z (g)   Activity_Label_y  \\\n",
      "0     1.739049e+09    10.065224    -1.534683     2.006341  Marching in Place   \n",
      "1     1.739049e+09    10.065224    -1.534683     2.006341  Marching in Place   \n",
      "2     1.739049e+09    10.065224    -1.534683     2.006341  Marching in Place   \n",
      "3     1.739049e+09    10.065224    -1.534683     2.006341  Marching in Place   \n",
      "4     1.739049e+09    10.065224    -1.534683     2.006341  Marching in Place   \n",
      "\n",
      "   Subject_ID_y  \n",
      "0     Subject 5  \n",
      "1     Subject 5  \n",
      "2     Subject 5  \n",
      "3     Subject 5  \n",
      "4     Subject 5  \n",
      "\n",
      "[5 rows x 46 columns]\n",
      "\n",
      "Total shape: 146313 rows × 46 columns\n"
     ]
    }
   ],
   "source": [
    "df = pd.read_csv('EEG-HAR_Subject_5_Merged.csv')\n",
    "print(\"Columns:\")\n",
    "print(df.columns.tolist())\n",
    "print(\"\\nFirst 5 rows:\")\n",
    "print(df.head())\n",
    "print(f\"\\nTotal shape: {df.shape[0]} rows × {df.shape[1]} columns\")"
   ]
  },
  {
   "cell_type": "markdown",
   "id": "89549db9",
   "metadata": {},
   "source": [
    "# Count the Activity Labels"
   ]
  },
  {
   "cell_type": "code",
   "execution_count": 3,
   "id": "66c4bb0e",
   "metadata": {},
   "outputs": [
    {
     "name": "stdout",
     "output_type": "stream",
     "text": [
      "Activity\n",
      "OpenBCISession_s5-marching in place            58499\n",
      "OpenBCISession_s5-wall push-ups                57374\n",
      "OpenBCISession_s5-standing heel to toe walk    15278\n",
      "OpenBCISession_s5-seated boxing hooks          15162\n",
      "Name: count, dtype: int64\n"
     ]
    }
   ],
   "source": [
    "df = pd.read_csv('EEG-HAR_Subject_5_Merged.csv')\n",
    "activity_counts = df['Activity'].value_counts()\n",
    "print(activity_counts)"
   ]
  },
  {
   "cell_type": "markdown",
   "id": "54913c8f",
   "metadata": {},
   "source": [
    "# Extract EEG Data and Save to New File"
   ]
  },
  {
   "cell_type": "code",
   "execution_count": 4,
   "id": "48156fa0",
   "metadata": {},
   "outputs": [
    {
     "name": "stdout",
     "output_type": "stream",
     "text": [
      "Created: EEG_Only_Subject5.csv\n",
      "Shape: (146313, 18)\n",
      "   EXG Channel 0  EXG Channel 1  EXG Channel 2  EXG Channel 3  EXG Channel 4  \\\n",
      "0 -187500.022352 -187500.022352  -95681.827746 -187500.022352  -79511.592330   \n",
      "1 -187500.022352 -187500.022352  -95959.034080 -187500.022352  -79513.827504   \n",
      "2 -187500.022352 -187500.022352  -95751.900465 -187500.022352  -79737.657873   \n",
      "3 -187500.022352 -187500.022352  -95912.676562 -187500.022352  -79541.387205   \n",
      "4 -187500.022352 -187500.022352  -95820.296803 -187500.022352  -79945.484393   \n",
      "\n",
      "   EXG Channel 5  EXG Channel 6  EXG Channel 7  EXG Channel 8  EXG Channel 9  \\\n",
      "0  -63431.143872  -73532.500688 -187500.022352  -85267.680617  -34594.577205   \n",
      "1  -63390.955435  -73657.648105 -187500.022352  -84424.729279  -34839.328806   \n",
      "2  -63640.132682  -73717.282560 -187500.022352  -85352.103156  -34523.632768   \n",
      "3  -63425.734750  -73720.881190 -187500.022352  -84548.423832  -34694.154226   \n",
      "4  -63826.814452  -73858.836157 -187500.022352  -85439.744346  -34431.208304   \n",
      "\n",
      "   EXG Channel 10  EXG Channel 11  EXG Channel 12  EXG Channel 13  \\\n",
      "0    15551.315612   -32717.880037    -8407.809843   -93842.905026   \n",
      "1    15182.869456   -32967.929002    -8558.147676   -92966.180201   \n",
      "2    15605.026854   -32719.176438    -8400.210249   -93924.153617   \n",
      "3    15299.098527   -32937.195353    -8528.308097   -93095.820319   \n",
      "4    15645.416456   -32720.361080    -8395.583438   -94008.509100   \n",
      "\n",
      "   EXG Channel 14  EXG Channel 15 Subject_ID_x  \\\n",
      "0   -92334.318737     5232.901005    Subject 5   \n",
      "1   -91562.043615     5301.453805    Subject 5   \n",
      "2   -92413.958003     5207.777644    Subject 5   \n",
      "3   -91685.581706     5283.572410    Subject 5   \n",
      "4   -92494.714856     5210.705723    Subject 5   \n",
      "\n",
      "                              Activity  \n",
      "0  OpenBCISession_s5-marching in place  \n",
      "1  OpenBCISession_s5-marching in place  \n",
      "2  OpenBCISession_s5-marching in place  \n",
      "3  OpenBCISession_s5-marching in place  \n",
      "4  OpenBCISession_s5-marching in place  \n"
     ]
    }
   ],
   "source": [
    "df = pd.read_csv('EEG-HAR_Subject_5_Merged.csv')\n",
    "eeg_columns = [f'EXG Channel {i}' for i in range(16)]\n",
    "meta_columns = ['Subject_ID_x', 'Activity']\n",
    "eeg_only_df = df[eeg_columns + meta_columns]\n",
    "eeg_only_df.to_csv('EEG_Only_Subject5.csv', index=False)\n",
    "print(\"Created: EEG_Only_Subject5.csv\")\n",
    "print(f\"Shape: {eeg_only_df.shape}\")\n",
    "print(eeg_only_df.head())"
   ]
  },
  {
   "cell_type": "markdown",
   "id": "881f1585",
   "metadata": {},
   "source": [
    "# Rename Columns and Save the Updated File"
   ]
  },
  {
   "cell_type": "code",
   "execution_count": 5,
   "id": "875bf438",
   "metadata": {},
   "outputs": [
    {
     "name": "stdout",
     "output_type": "stream",
     "text": [
      "Columns renamed and file updated.\n",
      "Last 2 columns: ['Subject_ID', 'Activity_Label_OpenBCI']\n",
      "\n",
      "Preview of data:\n",
      "   EXG Channel 0  EXG Channel 1  EXG Channel 2  EXG Channel 3  EXG Channel 4  \\\n",
      "0 -187500.022352 -187500.022352  -95681.827746 -187500.022352  -79511.592330   \n",
      "1 -187500.022352 -187500.022352  -95959.034080 -187500.022352  -79513.827504   \n",
      "2 -187500.022352 -187500.022352  -95751.900465 -187500.022352  -79737.657873   \n",
      "3 -187500.022352 -187500.022352  -95912.676562 -187500.022352  -79541.387205   \n",
      "4 -187500.022352 -187500.022352  -95820.296803 -187500.022352  -79945.484393   \n",
      "\n",
      "   EXG Channel 5  EXG Channel 6  EXG Channel 7  EXG Channel 8  EXG Channel 9  \\\n",
      "0  -63431.143872  -73532.500688 -187500.022352  -85267.680617  -34594.577205   \n",
      "1  -63390.955435  -73657.648105 -187500.022352  -84424.729279  -34839.328806   \n",
      "2  -63640.132682  -73717.282560 -187500.022352  -85352.103156  -34523.632768   \n",
      "3  -63425.734750  -73720.881190 -187500.022352  -84548.423832  -34694.154226   \n",
      "4  -63826.814452  -73858.836157 -187500.022352  -85439.744346  -34431.208304   \n",
      "\n",
      "   EXG Channel 10  EXG Channel 11  EXG Channel 12  EXG Channel 13  \\\n",
      "0    15551.315612   -32717.880037    -8407.809843   -93842.905026   \n",
      "1    15182.869456   -32967.929002    -8558.147676   -92966.180201   \n",
      "2    15605.026854   -32719.176438    -8400.210249   -93924.153617   \n",
      "3    15299.098527   -32937.195353    -8528.308097   -93095.820319   \n",
      "4    15645.416456   -32720.361080    -8395.583438   -94008.509100   \n",
      "\n",
      "   EXG Channel 14  EXG Channel 15 Subject_ID  \\\n",
      "0   -92334.318737     5232.901005  Subject 5   \n",
      "1   -91562.043615     5301.453805  Subject 5   \n",
      "2   -92413.958003     5207.777644  Subject 5   \n",
      "3   -91685.581706     5283.572410  Subject 5   \n",
      "4   -92494.714856     5210.705723  Subject 5   \n",
      "\n",
      "                Activity_Label_OpenBCI  \n",
      "0  OpenBCISession_s5-marching in place  \n",
      "1  OpenBCISession_s5-marching in place  \n",
      "2  OpenBCISession_s5-marching in place  \n",
      "3  OpenBCISession_s5-marching in place  \n",
      "4  OpenBCISession_s5-marching in place  \n",
      "\n",
      "Total shape: 146313 rows × 18 columns\n"
     ]
    }
   ],
   "source": [
    "df = pd.read_csv('EEG_Only_Subject5.csv')\n",
    "df = df.rename(columns={\n",
    "    'Subject_ID_x': 'Subject_ID',\n",
    "    'Activity': 'Activity_Label_OpenBCI'\n",
    "})\n",
    "df.to_csv('EEG_Only_Subject5.csv', index=False)\n",
    "print(\"Columns renamed and file updated.\")\n",
    "print(\"Last 2 columns:\", df.columns[-2:].tolist())\n",
    "print(\"\\nPreview of data:\")\n",
    "print(df.head())\n",
    "print(f\"\\nTotal shape: {df.shape[0]} rows × {df.shape[1]} columns\")"
   ]
  },
  {
   "cell_type": "markdown",
   "id": "9a244728",
   "metadata": {},
   "source": [
    "# Display Unique Activity Labels"
   ]
  },
  {
   "cell_type": "code",
   "execution_count": 6,
   "id": "37c77e62",
   "metadata": {},
   "outputs": [
    {
     "name": "stdout",
     "output_type": "stream",
     "text": [
      "['OpenBCISession_s5-marching in place' 'OpenBCISession_s5-wall push-ups'\n",
      " 'OpenBCISession_s5-standing heel to toe walk'\n",
      " 'OpenBCISession_s5-seated boxing hooks']\n"
     ]
    }
   ],
   "source": [
    "print(df['Activity_Label_OpenBCI'].unique())"
   ]
  },
  {
   "cell_type": "markdown",
   "id": "4a344f96",
   "metadata": {},
   "source": [
    "# Count Rows per Activity Label"
   ]
  },
  {
   "cell_type": "code",
   "execution_count": 7,
   "id": "75bdba33",
   "metadata": {},
   "outputs": [
    {
     "name": "stdout",
     "output_type": "stream",
     "text": [
      "Number of rows per activity label:\n",
      "\n",
      "Activity_Label_OpenBCI\n",
      "OpenBCISession_s5-marching in place            58499\n",
      "OpenBCISession_s5-wall push-ups                57374\n",
      "OpenBCISession_s5-standing heel to toe walk    15278\n",
      "OpenBCISession_s5-seated boxing hooks          15162\n",
      "Name: count, dtype: int64\n"
     ]
    }
   ],
   "source": [
    "activity_counts = df['Activity_Label_OpenBCI'].value_counts()\n",
    "print(\"Number of rows per activity label:\\n\")\n",
    "print(activity_counts)"
   ]
  },
  {
   "cell_type": "markdown",
   "id": "428cf29b",
   "metadata": {},
   "source": [
    "# Plot Activity Counts"
   ]
  },
  {
   "cell_type": "code",
   "execution_count": 8,
   "id": "d9cb89b2",
   "metadata": {},
   "outputs": [
    {
     "data": {
      "image/png": "[encoded data removed]",
      "text/plain": [
       "<Figure size 720x432 with 1 Axes>"
      ]
     },
     "metadata": {
      "needs_background": "light"
     },
     "output_type": "display_data"
    }
   ],
   "source": [
    "activity_counts = df['Activity_Label_OpenBCI'].value_counts()\n",
    "plt.figure(figsize=(10,6))\n",
    "activity_counts.plot(kind='bar', color='skyblue')\n",
    "plt.title('Number of Samples per Activity_Label_OpenBCI')\n",
    "plt.xlabel('Activity_Label_OpenBCI')\n",
    "plt.ylabel('Number of Samples')\n",
    "plt.xticks(rotation=45, ha='right')\n",
    "plt.tight_layout()\n",
    "plt.show()"
   ]
  },
  {
   "cell_type": "markdown",
   "id": "3152a807",
   "metadata": {},
   "source": [
    "# Update Activity Labels and Save File"
   ]
  },
  {
   "cell_type": "code",
   "execution_count": 9,
   "id": "d6fca5a9",
   "metadata": {},
   "outputs": [
    {
     "name": "stderr",
     "output_type": "stream",
     "text": [
      "/tmp/ipykernel_931451/4240445871.py:8: FutureWarning: Downcasting behavior in `replace` is deprecated and will be removed in a future version. To retain the old behavior, explicitly call `result.infer_objects(copy=False)`. To opt-in to the future behavior, set `pd.set_option('future.no_silent_downcasting', True)`\n",
      "  df['Subject_ID'] = df['Subject_ID'].replace('Subject 5', 5).astype(int)\n"
     ]
    },
    {
     "name": "stdout",
     "output_type": "stream",
     "text": [
      "File updated successfully.\n",
      "Subject_ID is numeric: int64\n",
      "Unique activity labels now:\n",
      "['Marching in Place' 'Wall Push-ups' 'Standing Heel-to-Toe Walk'\n",
      " 'Seated Boxing Hooks']\n",
      "\n",
      "Final shape: 146313 rows × 18 columns\n",
      "\n",
      "Preview of data:\n",
      "   EXG Channel 0  EXG Channel 1  EXG Channel 2  EXG Channel 3  EXG Channel 4  \\\n",
      "0 -187500.022352 -187500.022352  -95681.827746 -187500.022352  -79511.592330   \n",
      "1 -187500.022352 -187500.022352  -95959.034080 -187500.022352  -79513.827504   \n",
      "2 -187500.022352 -187500.022352  -95751.900465 -187500.022352  -79737.657873   \n",
      "3 -187500.022352 -187500.022352  -95912.676562 -187500.022352  -79541.387205   \n",
      "4 -187500.022352 -187500.022352  -95820.296803 -187500.022352  -79945.484393   \n",
      "\n",
      "   EXG Channel 5  EXG Channel 6  EXG Channel 7  EXG Channel 8  EXG Channel 9  \\\n",
      "0  -63431.143872  -73532.500688 -187500.022352  -85267.680617  -34594.577205   \n",
      "1  -63390.955435  -73657.648105 -187500.022352  -84424.729279  -34839.328806   \n",
      "2  -63640.132682  -73717.282560 -187500.022352  -85352.103156  -34523.632768   \n",
      "3  -63425.734750  -73720.881190 -187500.022352  -84548.423832  -34694.154226   \n",
      "4  -63826.814452  -73858.836157 -187500.022352  -85439.744346  -34431.208304   \n",
      "\n",
      "   EXG Channel 10  EXG Channel 11  EXG Channel 12  EXG Channel 13  \\\n",
      "0    15551.315612   -32717.880037    -8407.809843   -93842.905026   \n",
      "1    15182.869456   -32967.929002    -8558.147676   -92966.180201   \n",
      "2    15605.026854   -32719.176438    -8400.210249   -93924.153617   \n",
      "3    15299.098527   -32937.195353    -8528.308097   -93095.820319   \n",
      "4    15645.416456   -32720.361080    -8395.583438   -94008.509100   \n",
      "\n",
      "   EXG Channel 14  EXG Channel 15  Subject_ID Activity_Label_OpenBCI  \n",
      "0   -92334.318737     5232.901005           5      Marching in Place  \n",
      "1   -91562.043615     5301.453805           5      Marching in Place  \n",
      "2   -92413.958003     5207.777644           5      Marching in Place  \n",
      "3   -91685.581706     5283.572410           5      Marching in Place  \n",
      "4   -92494.714856     5210.705723           5      Marching in Place  \n"
     ]
    }
   ],
   "source": [
    "df = pd.read_csv('EEG_Only_Subject5.csv')\n",
    "\n",
    "df = df.rename(columns={\n",
    "    'Subject_ID_x': 'Subject_ID',\n",
    "    'Activity': 'Activity_Label_OpenBCI'\n",
    "})\n",
    "\n",
    "df['Subject_ID'] = df['Subject_ID'].replace('Subject 5', 5).astype(int)\n",
    "\n",
    "activity_mapping = {\n",
    "    'OpenBCISession_s5-marching in place': 'Marching in Place',\n",
    "    'OpenBCISession_s5-wall push-ups': 'Wall Push-ups',\n",
    "    'OpenBCISession_s5-seated boxing hooks': 'Seated Boxing Hooks',\n",
    "    'OpenBCISession_s5-standing heel to toe walk': 'Standing Heel-to-Toe Walk'\n",
    "}\n",
    "\n",
    "df['Activity_Label_OpenBCI'] = df['Activity_Label_OpenBCI'].replace(activity_mapping)\n",
    "\n",
    "df.to_csv('EEG_Only_Subject5.csv', index=False)\n",
    "\n",
    "print(\"File updated successfully.\")\n",
    "print(\"Subject_ID is numeric:\", df['Subject_ID'].dtype)\n",
    "print(\"Unique activity labels now:\")\n",
    "print(df['Activity_Label_OpenBCI'].unique())\n",
    "print(f\"\\nFinal shape: {df.shape[0]} rows × {df.shape[1]} columns\")\n",
    "print(\"\\nPreview of data:\")\n",
    "print(df.head())"
   ]
  },
  {
   "cell_type": "markdown",
   "id": "4b1473ab",
   "metadata": {},
   "source": [
    "# Count the Activity Labels in Updated Data"
   ]
  },
  {
   "cell_type": "code",
   "execution_count": 10,
   "id": "70f455c7",
   "metadata": {},
   "outputs": [
    {
     "name": "stdout",
     "output_type": "stream",
     "text": [
      "Activity_Label_OpenBCI\n",
      "Marching in Place            58499\n",
      "Wall Push-ups                57374\n",
      "Standing Heel-to-Toe Walk    15278\n",
      "Seated Boxing Hooks          15162\n",
      "Name: count, dtype: int64\n"
     ]
    }
   ],
   "source": [
    "df = pd.read_csv('EEG_Only_Subject5.csv')\n",
    "activity_counts = df['Activity_Label_OpenBCI'].value_counts()\n",
    "print(activity_counts)"
   ]
  },
  {
   "cell_type": "markdown",
   "id": "a9507dc9",
   "metadata": {},
   "source": [
    "# Map Activity Labels to Numeric Values and Save File"
   ]
  },
  {
   "cell_type": "code",
   "execution_count": 11,
   "id": "d21715c2",
   "metadata": {},
   "outputs": [
    {
     "name": "stderr",
     "output_type": "stream",
     "text": [
      "/tmp/ipykernel_931451/1192825160.py:15: FutureWarning: Downcasting behavior in `replace` is deprecated and will be removed in a future version. To retain the old behavior, explicitly call `result.infer_objects(copy=False)`. To opt-in to the future behavior, set `pd.set_option('future.no_silent_downcasting', True)`\n",
      "  df['Activity_Label_OpenBCI'] = df['Activity_Label_OpenBCI'].replace(activity_mapping_to_numeric)\n"
     ]
    },
    {
     "name": "stdout",
     "output_type": "stream",
     "text": [
      "File updated successfully.\n",
      "Subject_ID is numeric: int64\n",
      "Unique activity labels now (numeric):\n",
      "[2 3 5 4]\n",
      "\n",
      "Final shape: 146313 rows × 18 columns\n",
      "\n",
      "Preview of data:\n",
      "   EXG Channel 0  EXG Channel 1  EXG Channel 2  EXG Channel 3  EXG Channel 4  \\\n",
      "0 -187500.022352 -187500.022352  -95681.827746 -187500.022352  -79511.592330   \n",
      "1 -187500.022352 -187500.022352  -95959.034080 -187500.022352  -79513.827504   \n",
      "2 -187500.022352 -187500.022352  -95751.900465 -187500.022352  -79737.657873   \n",
      "3 -187500.022352 -187500.022352  -95912.676562 -187500.022352  -79541.387205   \n",
      "4 -187500.022352 -187500.022352  -95820.296803 -187500.022352  -79945.484393   \n",
      "\n",
      "   EXG Channel 5  EXG Channel 6  EXG Channel 7  EXG Channel 8  EXG Channel 9  \\\n",
      "0  -63431.143872  -73532.500688 -187500.022352  -85267.680617  -34594.577205   \n",
      "1  -63390.955435  -73657.648105 -187500.022352  -84424.729279  -34839.328806   \n",
      "2  -63640.132682  -73717.282560 -187500.022352  -85352.103156  -34523.632768   \n",
      "3  -63425.734750  -73720.881190 -187500.022352  -84548.423832  -34694.154226   \n",
      "4  -63826.814452  -73858.836157 -187500.022352  -85439.744346  -34431.208304   \n",
      "\n",
      "   EXG Channel 10  EXG Channel 11  EXG Channel 12  EXG Channel 13  \\\n",
      "0    15551.315612   -32717.880037    -8407.809843   -93842.905026   \n",
      "1    15182.869456   -32967.929002    -8558.147676   -92966.180201   \n",
      "2    15605.026854   -32719.176438    -8400.210249   -93924.153617   \n",
      "3    15299.098527   -32937.195353    -8528.308097   -93095.820319   \n",
      "4    15645.416456   -32720.361080    -8395.583438   -94008.509100   \n",
      "\n",
      "   EXG Channel 14  EXG Channel 15  Subject_ID  Activity_Label_OpenBCI  \n",
      "0   -92334.318737     5232.901005           5                       2  \n",
      "1   -91562.043615     5301.453805           5                       2  \n",
      "2   -92413.958003     5207.777644           5                       2  \n",
      "3   -91685.581706     5283.572410           5                       2  \n",
      "4   -92494.714856     5210.705723           5                       2  \n"
     ]
    }
   ],
   "source": [
    "df = pd.read_csv('EEG_Only_Subject5.csv')\n",
    "df = df.rename(columns={\n",
    "    'Subject_ID_x': 'Subject_ID',\n",
    "    'Activity': 'Activity_Label_OpenBCI'\n",
    "})\n",
    "df['Subject_ID'] = df['Subject_ID'].replace('Subject 5', 5).astype(int)\n",
    "\n",
    "activity_mapping_to_numeric = {\n",
    "    'Marching in Place': 2,\n",
    "    'Wall Push-ups': 3,\n",
    "    'Seated Boxing Hooks': 4,\n",
    "    'Standing Heel-to-Toe Walk': 5\n",
    "}\n",
    "\n",
    "df['Activity_Label_OpenBCI'] = df['Activity_Label_OpenBCI'].replace(activity_mapping_to_numeric)\n",
    "df.to_csv('EEG_Only_Subject5_Updated.csv', index=False)\n",
    "\n",
    "print(\"File updated successfully.\")\n",
    "print(\"Subject_ID is numeric:\", df['Subject_ID'].dtype)\n",
    "print(\"Unique activity labels now (numeric):\")\n",
    "print(df['Activity_Label_OpenBCI'].unique())\n",
    "print(f\"\\nFinal shape: {df.shape[0]} rows × {df.shape[1]} columns\")\n",
    "print(\"\\nPreview of data:\")\n",
    "print(df.head())"
   ]
  },
  {
   "cell_type": "markdown",
   "id": "9aa1ca29",
   "metadata": {},
   "source": [
    "# Count and Sort Activity Labels (Numeric)"
   ]
  },
  {
   "cell_type": "code",
   "execution_count": 12,
   "id": "3e0ab6de",
   "metadata": {},
   "outputs": [
    {
     "name": "stdout",
     "output_type": "stream",
     "text": [
      "Unique activity labels and their counts (sorted 2 → 5):\n",
      "Activity_Label_OpenBCI\n",
      "2    58499\n",
      "3    57374\n",
      "4    15162\n",
      "5    15278\n",
      "Name: count, dtype: int64\n",
      "\n",
      "Total count: 146313\n"
     ]
    }
   ],
   "source": [
    "df = pd.read_csv('EEG_Only_Subject5_Updated.csv')\n",
    "\n",
    "activity_counts = df['Activity_Label_OpenBCI'].value_counts().sort_index()\n",
    "\n",
    "print(\"Unique activity labels and their counts (sorted 2 → 5):\")\n",
    "print(activity_counts)\n",
    "print(f\"\\nTotal count: {activity_counts.sum()}\")"
   ]
  }
 ],
 "metadata": {
  "kernelspec": {
   "display_name": "Python 3 (ipykernel)",
   "language": "python",
   "name": "python3"
  },
  "language_info": {
   "codemirror_mode": {
    "name": "ipython",
    "version": 3
   },
   "file_extension": ".py",
   "mimetype": "text/x-python",
   "name": "python",
   "nbconvert_exporter": "python",
   "pygments_lexer": "ipython3",
   "version": "3.9.7"
  }
 },
 "nbformat": 4,
 "nbformat_minor": 5
}
