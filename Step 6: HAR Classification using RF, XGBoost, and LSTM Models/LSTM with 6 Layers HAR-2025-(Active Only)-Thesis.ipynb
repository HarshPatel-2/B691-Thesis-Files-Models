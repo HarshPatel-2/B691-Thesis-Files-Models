{
 "cells": [
  {
   "cell_type": "markdown",
   "id": "faaf2741",
   "metadata": {},
   "source": [
    "# Import Libraries and Load Accelerometer-Gyroscope Dataset"
   ]
  },
  {
   "cell_type": "code",
   "execution_count": 1,
   "id": "93c452a4",
   "metadata": {},
   "outputs": [],
   "source": [
    "import numpy as np\n",
    "import pandas as pd\n",
    "import seaborn as sns \n",
    "import matplotlib.pyplot as plt \n",
    "import sklearn\n",
    "from sklearn.model_selection import train_test_split\n",
    "from sklearn.preprocessing import LabelEncoder\n",
    "from sklearn.tree import DecisionTreeClassifier, export_graphviz\n",
    "from sklearn.metrics import classification_report, confusion_matrix, precision_recall_curve, auc, roc_curve\n",
    "from sklearn.preprocessing import RobustScaler\n",
    "import time\n",
    "import pickle\n",
    "import os\n",
    "\n",
    "import warnings\n",
    "warnings.filterwarnings('ignore')\n",
    "\n",
    "columns = ['Accel X (g)', 'Accel Y (g)', 'Accel Z (g)',\n",
    "           'Gyro X (°/s)', 'Gyro Y (°/s)', 'Gyro Z (°/s)', 'Activity_Label']\n",
    "df = pd.read_csv(\"Scaled_Combined_Active_Gyro_Accel_Cleaned.csv\", usecols=columns)\n",
    "\n",
    "LE = LabelEncoder()\n",
    "df['Activity_Label'] = LE.fit_transform(df['Activity_Label'])"
   ]
  },
  {
   "cell_type": "markdown",
   "id": "2ed7e2d2",
   "metadata": {},
   "source": [
    "# Display Preprocessed Sensor Data"
   ]
  },
  {
   "cell_type": "code",
   "execution_count": 2,
   "id": "c8976f18",
   "metadata": {},
   "outputs": [
    {
     "data": {
      "text/html": [
       "<div>\n",
       "<style scoped>\n",
       "    .dataframe tbody tr th:only-of-type {\n",
       "        vertical-align: middle;\n",
       "    }\n",
       "\n",
       "    .dataframe tbody tr th {\n",
       "        vertical-align: top;\n",
       "    }\n",
       "\n",
       "    .dataframe thead th {\n",
       "        text-align: right;\n",
       "    }\n",
       "</style>\n",
       "<table border=\"1\" class=\"dataframe\">\n",
       "  <thead>\n",
       "    <tr style=\"text-align: right;\">\n",
       "      <th></th>\n",
       "      <th>Accel X (g)</th>\n",
       "      <th>Accel Y (g)</th>\n",
       "      <th>Accel Z (g)</th>\n",
       "      <th>Gyro X (°/s)</th>\n",
       "      <th>Gyro Y (°/s)</th>\n",
       "      <th>Gyro Z (°/s)</th>\n",
       "      <th>Activity_Label</th>\n",
       "    </tr>\n",
       "  </thead>\n",
       "  <tbody>\n",
       "    <tr>\n",
       "      <th>0</th>\n",
       "      <td>-5.983110</td>\n",
       "      <td>1.247379</td>\n",
       "      <td>8.365341</td>\n",
       "      <td>0.321315</td>\n",
       "      <td>-0.024435</td>\n",
       "      <td>-0.131947</td>\n",
       "      <td>0</td>\n",
       "    </tr>\n",
       "    <tr>\n",
       "      <th>1</th>\n",
       "      <td>-5.983110</td>\n",
       "      <td>1.247379</td>\n",
       "      <td>8.365341</td>\n",
       "      <td>0.321315</td>\n",
       "      <td>-0.024435</td>\n",
       "      <td>-0.131947</td>\n",
       "      <td>0</td>\n",
       "    </tr>\n",
       "    <tr>\n",
       "      <th>2</th>\n",
       "      <td>-5.983110</td>\n",
       "      <td>1.247379</td>\n",
       "      <td>8.365341</td>\n",
       "      <td>0.321315</td>\n",
       "      <td>-0.024435</td>\n",
       "      <td>-0.131947</td>\n",
       "      <td>0</td>\n",
       "    </tr>\n",
       "    <tr>\n",
       "      <th>3</th>\n",
       "      <td>-5.983110</td>\n",
       "      <td>1.247379</td>\n",
       "      <td>8.365341</td>\n",
       "      <td>0.321315</td>\n",
       "      <td>-0.024435</td>\n",
       "      <td>-0.131947</td>\n",
       "      <td>0</td>\n",
       "    </tr>\n",
       "    <tr>\n",
       "      <th>4</th>\n",
       "      <td>-5.983110</td>\n",
       "      <td>1.247379</td>\n",
       "      <td>8.365341</td>\n",
       "      <td>0.321315</td>\n",
       "      <td>-0.024435</td>\n",
       "      <td>-0.131947</td>\n",
       "      <td>0</td>\n",
       "    </tr>\n",
       "    <tr>\n",
       "      <th>...</th>\n",
       "      <td>...</td>\n",
       "      <td>...</td>\n",
       "      <td>...</td>\n",
       "      <td>...</td>\n",
       "      <td>...</td>\n",
       "      <td>...</td>\n",
       "      <td>...</td>\n",
       "    </tr>\n",
       "    <tr>\n",
       "      <th>230160</th>\n",
       "      <td>8.446744</td>\n",
       "      <td>-4.716577</td>\n",
       "      <td>3.725378</td>\n",
       "      <td>-0.808786</td>\n",
       "      <td>0.274889</td>\n",
       "      <td>-0.142942</td>\n",
       "      <td>9</td>\n",
       "    </tr>\n",
       "    <tr>\n",
       "      <th>230161</th>\n",
       "      <td>8.446744</td>\n",
       "      <td>-4.716577</td>\n",
       "      <td>3.725378</td>\n",
       "      <td>-0.808786</td>\n",
       "      <td>0.274889</td>\n",
       "      <td>-0.142942</td>\n",
       "      <td>9</td>\n",
       "    </tr>\n",
       "    <tr>\n",
       "      <th>230162</th>\n",
       "      <td>8.446744</td>\n",
       "      <td>-4.716577</td>\n",
       "      <td>3.725378</td>\n",
       "      <td>-0.808786</td>\n",
       "      <td>0.274889</td>\n",
       "      <td>-0.142942</td>\n",
       "      <td>9</td>\n",
       "    </tr>\n",
       "    <tr>\n",
       "      <th>230163</th>\n",
       "      <td>8.446744</td>\n",
       "      <td>-4.716577</td>\n",
       "      <td>3.725378</td>\n",
       "      <td>-0.808786</td>\n",
       "      <td>0.274889</td>\n",
       "      <td>-0.142942</td>\n",
       "      <td>9</td>\n",
       "    </tr>\n",
       "    <tr>\n",
       "      <th>230164</th>\n",
       "      <td>8.446744</td>\n",
       "      <td>-4.716577</td>\n",
       "      <td>3.725378</td>\n",
       "      <td>-0.808786</td>\n",
       "      <td>0.274889</td>\n",
       "      <td>-0.142942</td>\n",
       "      <td>9</td>\n",
       "    </tr>\n",
       "  </tbody>\n",
       "</table>\n",
       "<p>230165 rows × 7 columns</p>\n",
       "</div>"
      ],
      "text/plain": [
       "        Accel X (g)  Accel Y (g)  Accel Z (g)  Gyro X (°/s)  Gyro Y (°/s)  \\\n",
       "0         -5.983110     1.247379     8.365341      0.321315     -0.024435   \n",
       "1         -5.983110     1.247379     8.365341      0.321315     -0.024435   \n",
       "2         -5.983110     1.247379     8.365341      0.321315     -0.024435   \n",
       "3         -5.983110     1.247379     8.365341      0.321315     -0.024435   \n",
       "4         -5.983110     1.247379     8.365341      0.321315     -0.024435   \n",
       "...             ...          ...          ...           ...           ...   \n",
       "230160     8.446744    -4.716577     3.725378     -0.808786      0.274889   \n",
       "230161     8.446744    -4.716577     3.725378     -0.808786      0.274889   \n",
       "230162     8.446744    -4.716577     3.725378     -0.808786      0.274889   \n",
       "230163     8.446744    -4.716577     3.725378     -0.808786      0.274889   \n",
       "230164     8.446744    -4.716577     3.725378     -0.808786      0.274889   \n",
       "\n",
       "        Gyro Z (°/s)  Activity_Label  \n",
       "0          -0.131947               0  \n",
       "1          -0.131947               0  \n",
       "2          -0.131947               0  \n",
       "3          -0.131947               0  \n",
       "4          -0.131947               0  \n",
       "...              ...             ...  \n",
       "230160     -0.142942               9  \n",
       "230161     -0.142942               9  \n",
       "230162     -0.142942               9  \n",
       "230163     -0.142942               9  \n",
       "230164     -0.142942               9  \n",
       "\n",
       "[230165 rows x 7 columns]"
      ]
     },
     "execution_count": 2,
     "metadata": {},
     "output_type": "execute_result"
    }
   ],
   "source": [
    "df"
   ]
  },
  {
   "cell_type": "markdown",
   "id": "0610d315",
   "metadata": {},
   "source": [
    "# Define Predictor and Target Variables"
   ]
  },
  {
   "cell_type": "code",
   "execution_count": 3,
   "id": "04da6ef5",
   "metadata": {},
   "outputs": [],
   "source": [
    "PredictorCol = ['Accel X (g)', 'Accel Y (g)', 'Accel Z (g)',\n",
    "                'Gyro X (°/s)', 'Gyro Y (°/s)', 'Gyro Z (°/s)']\n",
    "TargetCol = 'Activity_Label'\n",
    "\n",
    "X = df[PredictorCol].values\n",
    "y = df[TargetCol].values"
   ]
  },
  {
   "cell_type": "markdown",
   "id": "d71469b2",
   "metadata": {},
   "source": [
    "# Split Sensor Data into Training and Testing Sets (Stratified)"
   ]
  },
  {
   "cell_type": "code",
   "execution_count": 4,
   "id": "a1ec9513",
   "metadata": {},
   "outputs": [],
   "source": [
    "X_train_sm, X_test_sm, y_train_sm, y_test_sm = train_test_split(X, y, test_size=0.30, \n",
    "                                                    random_state=15, \n",
    "                                                    stratify = y)"
   ]
  },
  {
   "cell_type": "markdown",
   "id": "dfadefba",
   "metadata": {},
   "source": [
    "# Build, Train, and Evaluate LSTM Model"
   ]
  },
  {
   "cell_type": "code",
   "execution_count": 5,
   "id": "137fbf42",
   "metadata": {
    "scrolled": false
   },
   "outputs": [
    {
     "name": "stderr",
     "output_type": "stream",
     "text": [
      "2025-05-07 14:23:03.009811: E external/local_xla/xla/stream_executor/cuda/cuda_fft.cc:485] Unable to register cuFFT factory: Attempting to register factory for plugin cuFFT when one has already been registered\n",
      "2025-05-07 14:23:03.019048: E external/local_xla/xla/stream_executor/cuda/cuda_dnn.cc:8454] Unable to register cuDNN factory: Attempting to register factory for plugin cuDNN when one has already been registered\n",
      "2025-05-07 14:23:03.021863: E external/local_xla/xla/stream_executor/cuda/cuda_blas.cc:1452] Unable to register cuBLAS factory: Attempting to register factory for plugin cuBLAS when one has already been registered\n",
      "2025-05-07 14:23:03.029567: I tensorflow/core/platform/cpu_feature_guard.cc:210] This TensorFlow binary is optimized to use available CPU instructions in performance-critical operations.\n",
      "To enable the following instructions: AVX2 FMA, in other operations, rebuild TensorFlow with the appropriate compiler flags.\n",
      "2025-05-07 14:23:03.613503: W tensorflow/compiler/tf2tensorrt/utils/py_utils.cc:38] TF-TRT Warning: Could not find TensorRT\n",
      "WARNING: All log messages before absl::InitializeLog() is called are written to STDERR\n",
      "I0000 00:00:1746642184.021333  596244 cuda_executor.cc:1015] successful NUMA node read from SysFS had negative value (-1), but there must be at least one NUMA node, so returning NUMA node zero. See more at https://github.com/torvalds/linux/blob/v6.0/Documentation/ABI/testing/sysfs-bus-pci#L344-L355\n",
      "I0000 00:00:1746642184.023715  596244 cuda_executor.cc:1015] successful NUMA node read from SysFS had negative value (-1), but there must be at least one NUMA node, so returning NUMA node zero. See more at https://github.com/torvalds/linux/blob/v6.0/Documentation/ABI/testing/sysfs-bus-pci#L344-L355\n",
      "I0000 00:00:1746642184.044546  596244 cuda_executor.cc:1015] successful NUMA node read from SysFS had negative value (-1), but there must be at least one NUMA node, so returning NUMA node zero. See more at https://github.com/torvalds/linux/blob/v6.0/Documentation/ABI/testing/sysfs-bus-pci#L344-L355\n",
      "I0000 00:00:1746642184.046871  596244 cuda_executor.cc:1015] successful NUMA node read from SysFS had negative value (-1), but there must be at least one NUMA node, so returning NUMA node zero. See more at https://github.com/torvalds/linux/blob/v6.0/Documentation/ABI/testing/sysfs-bus-pci#L344-L355\n",
      "I0000 00:00:1746642184.047044  596244 cuda_executor.cc:1015] successful NUMA node read from SysFS had negative value (-1), but there must be at least one NUMA node, so returning NUMA node zero. See more at https://github.com/torvalds/linux/blob/v6.0/Documentation/ABI/testing/sysfs-bus-pci#L344-L355\n",
      "I0000 00:00:1746642184.049291  596244 cuda_executor.cc:1015] successful NUMA node read from SysFS had negative value (-1), but there must be at least one NUMA node, so returning NUMA node zero. See more at https://github.com/torvalds/linux/blob/v6.0/Documentation/ABI/testing/sysfs-bus-pci#L344-L355\n",
      "I0000 00:00:1746642184.200360  596244 cuda_executor.cc:1015] successful NUMA node read from SysFS had negative value (-1), but there must be at least one NUMA node, so returning NUMA node zero. See more at https://github.com/torvalds/linux/blob/v6.0/Documentation/ABI/testing/sysfs-bus-pci#L344-L355\n",
      "I0000 00:00:1746642184.201980  596244 cuda_executor.cc:1015] successful NUMA node read from SysFS had negative value (-1), but there must be at least one NUMA node, so returning NUMA node zero. See more at https://github.com/torvalds/linux/blob/v6.0/Documentation/ABI/testing/sysfs-bus-pci#L344-L355\n",
      "I0000 00:00:1746642184.202124  596244 cuda_executor.cc:1015] successful NUMA node read from SysFS had negative value (-1), but there must be at least one NUMA node, so returning NUMA node zero. See more at https://github.com/torvalds/linux/blob/v6.0/Documentation/ABI/testing/sysfs-bus-pci#L344-L355\n",
      "I0000 00:00:1746642184.203583  596244 cuda_executor.cc:1015] successful NUMA node read from SysFS had negative value (-1), but there must be at least one NUMA node, so returning NUMA node zero. See more at https://github.com/torvalds/linux/blob/v6.0/Documentation/ABI/testing/sysfs-bus-pci#L344-L355\n",
      "I0000 00:00:1746642184.203711  596244 cuda_executor.cc:1015] successful NUMA node read from SysFS had negative value (-1), but there must be at least one NUMA node, so returning NUMA node zero. See more at https://github.com/torvalds/linux/blob/v6.0/Documentation/ABI/testing/sysfs-bus-pci#L344-L355\n",
      "I0000 00:00:1746642184.205165  596244 cuda_executor.cc:1015] successful NUMA node read from SysFS had negative value (-1), but there must be at least one NUMA node, so returning NUMA node zero. See more at https://github.com/torvalds/linux/blob/v6.0/Documentation/ABI/testing/sysfs-bus-pci#L344-L355\n",
      "I0000 00:00:1746642184.212946  596244 cuda_executor.cc:1015] successful NUMA node read from SysFS had negative value (-1), but there must be at least one NUMA node, so returning NUMA node zero. See more at https://github.com/torvalds/linux/blob/v6.0/Documentation/ABI/testing/sysfs-bus-pci#L344-L355\n",
      "I0000 00:00:1746642184.214438  596244 cuda_executor.cc:1015] successful NUMA node read from SysFS had negative value (-1), but there must be at least one NUMA node, so returning NUMA node zero. See more at https://github.com/torvalds/linux/blob/v6.0/Documentation/ABI/testing/sysfs-bus-pci#L344-L355\n",
      "I0000 00:00:1746642184.214583  596244 cuda_executor.cc:1015] successful NUMA node read from SysFS had negative value (-1), but there must be at least one NUMA node, so returning NUMA node zero. See more at https://github.com/torvalds/linux/blob/v6.0/Documentation/ABI/testing/sysfs-bus-pci#L344-L355\n",
      "I0000 00:00:1746642184.216026  596244 cuda_executor.cc:1015] successful NUMA node read from SysFS had negative value (-1), but there must be at least one NUMA node, so returning NUMA node zero. See more at https://github.com/torvalds/linux/blob/v6.0/Documentation/ABI/testing/sysfs-bus-pci#L344-L355\n",
      "I0000 00:00:1746642184.216168  596244 cuda_executor.cc:1015] successful NUMA node read from SysFS had negative value (-1), but there must be at least one NUMA node, so returning NUMA node zero. See more at https://github.com/torvalds/linux/blob/v6.0/Documentation/ABI/testing/sysfs-bus-pci#L344-L355\n",
      "2025-05-07 14:23:04.217597: I tensorflow/core/common_runtime/gpu/gpu_device.cc:2021] Created device /job:localhost/replica:0/task:0/device:GPU:0 with 22362 MB memory:  -> device: 0, name: NVIDIA GeForce RTX 3090, pci bus id: 0000:0c:00.0, compute capability: 8.6\n",
      "I0000 00:00:1746642184.217804  596244 cuda_executor.cc:1015] successful NUMA node read from SysFS had negative value (-1), but there must be at least one NUMA node, so returning NUMA node zero. See more at https://github.com/torvalds/linux/blob/v6.0/Documentation/ABI/testing/sysfs-bus-pci#L344-L355\n",
      "2025-05-07 14:23:04.217913: I tensorflow/core/common_runtime/gpu/gpu_device.cc:2021] Created device /job:localhost/replica:0/task:0/device:GPU:1 with 23783 MB memory:  -> device: 1, name: Quadro P6000, pci bus id: 0000:0b:00.0, compute capability: 6.1\n"
     ]
    },
    {
     "name": "stdout",
     "output_type": "stream",
     "text": [
      "Epoch 1/10\n"
     ]
    },
    {
     "name": "stderr",
     "output_type": "stream",
     "text": [
      "2025-05-07 14:23:06.233773: I external/local_xla/xla/stream_executor/cuda/cuda_dnn.cc:531] Loaded cuDNN version 8907\n"
     ]
    },
    {
     "name": "stdout",
     "output_type": "stream",
     "text": [
      "\u001b[1m5035/5035\u001b[0m \u001b[32m━━━━━━━━━━━━━━━━━━━━\u001b[0m\u001b[37m\u001b[0m \u001b[1m24s\u001b[0m 4ms/step - accuracy: 0.5311 - loss: 1.2714\n",
      "Epoch 2/10\n",
      "\u001b[1m5035/5035\u001b[0m \u001b[32m━━━━━━━━━━━━━━━━━━━━\u001b[0m\u001b[37m\u001b[0m \u001b[1m22s\u001b[0m 4ms/step - accuracy: 0.8916 - loss: 0.3270\n",
      "Epoch 3/10\n",
      "\u001b[1m5035/5035\u001b[0m \u001b[32m━━━━━━━━━━━━━━━━━━━━\u001b[0m\u001b[37m\u001b[0m \u001b[1m22s\u001b[0m 4ms/step - accuracy: 0.9709 - loss: 0.1056\n",
      "Epoch 4/10\n",
      "\u001b[1m5035/5035\u001b[0m \u001b[32m━━━━━━━━━━━━━━━━━━━━\u001b[0m\u001b[37m\u001b[0m \u001b[1m22s\u001b[0m 4ms/step - accuracy: 0.9833 - loss: 0.0557\n",
      "Epoch 5/10\n",
      "\u001b[1m5035/5035\u001b[0m \u001b[32m━━━━━━━━━━━━━━━━━━━━\u001b[0m\u001b[37m\u001b[0m \u001b[1m22s\u001b[0m 4ms/step - accuracy: 0.9885 - loss: 0.0366\n",
      "Epoch 6/10\n",
      "\u001b[1m5035/5035\u001b[0m \u001b[32m━━━━━━━━━━━━━━━━━━━━\u001b[0m\u001b[37m\u001b[0m \u001b[1m22s\u001b[0m 4ms/step - accuracy: 0.9902 - loss: 0.0316\n",
      "Epoch 7/10\n",
      "\u001b[1m5035/5035\u001b[0m \u001b[32m━━━━━━━━━━━━━━━━━━━━\u001b[0m\u001b[37m\u001b[0m \u001b[1m23s\u001b[0m 4ms/step - accuracy: 0.9925 - loss: 0.0254\n",
      "Epoch 8/10\n",
      "\u001b[1m5035/5035\u001b[0m \u001b[32m━━━━━━━━━━━━━━━━━━━━\u001b[0m\u001b[37m\u001b[0m \u001b[1m21s\u001b[0m 4ms/step - accuracy: 0.9934 - loss: 0.0243\n",
      "Epoch 9/10\n",
      "\u001b[1m5035/5035\u001b[0m \u001b[32m━━━━━━━━━━━━━━━━━━━━\u001b[0m\u001b[37m\u001b[0m \u001b[1m20s\u001b[0m 4ms/step - accuracy: 0.9955 - loss: 0.0167\n",
      "Epoch 10/10\n",
      "\u001b[1m5035/5035\u001b[0m \u001b[32m━━━━━━━━━━━━━━━━━━━━\u001b[0m\u001b[37m\u001b[0m \u001b[1m21s\u001b[0m 4ms/step - accuracy: 0.9956 - loss: 0.0169\n",
      "\u001b[1m2158/2158\u001b[0m \u001b[32m━━━━━━━━━━━━━━━━━━━━\u001b[0m\u001b[37m\u001b[0m \u001b[1m4s\u001b[0m 2ms/step - accuracy: 0.9987 - loss: 0.0090\n",
      "Test Accuracy: 0.9988124370574951\n"
     ]
    }
   ],
   "source": [
    "from keras.layers import LSTM, Dense\n",
    "from keras.models import Sequential\n",
    "\n",
    "X_train_sm = np.reshape(X_train_sm, (X_train_sm.shape[0], 1, X_train_sm.shape[1]))\n",
    "X_test_sm = np.reshape(X_test_sm, (X_test_sm.shape[0], 1, X_test_sm.shape[1]))\n",
    "\n",
    "model = Sequential()\n",
    "model.add(LSTM(128, input_shape=(1, X_train_sm.shape[2]), return_sequences=True))\n",
    "model.add(LSTM(64, return_sequences=True))\n",
    "model.add(LSTM(32, return_sequences=False))\n",
    "model.add(Dense(16, activation='relu'))\n",
    "model.add(Dense(len(np.unique(y)), activation='softmax'))\n",
    "\n",
    "model.compile(loss='sparse_categorical_crossentropy', optimizer='adam', metrics=['accuracy'])\n",
    "\n",
    "model.fit(X_train_sm, y_train_sm, epochs=10, batch_size=32)\n",
    "\n",
    "test_loss, test_accuracy = model.evaluate(X_test_sm, y_test_sm)\n",
    "\n",
    "print(\"Test Accuracy:\", test_accuracy)"
   ]
  },
  {
   "cell_type": "markdown",
   "id": "1965fc42",
   "metadata": {},
   "source": [
    "# Save LSTM Model in Keras Format"
   ]
  },
  {
   "cell_type": "code",
   "execution_count": 6,
   "id": "5ce5186d",
   "metadata": {},
   "outputs": [],
   "source": [
    "model.save(\"model.keras\")"
   ]
  },
  {
   "cell_type": "markdown",
   "id": "cc2434b3",
   "metadata": {},
   "source": [
    "# Save LSTM Model Architecture and Weights Separately"
   ]
  },
  {
   "cell_type": "code",
   "execution_count": 7,
   "id": "e2cf7f5e",
   "metadata": {},
   "outputs": [
    {
     "name": "stdout",
     "output_type": "stream",
     "text": [
      "LSTM model architecture has been successfully saved to 'LSTMmodel_architecture.pkl'\n",
      "LSTM model weights have been successfully saved to 'LSTMmodel_weights.pkl'\n"
     ]
    }
   ],
   "source": [
    "import pickle\n",
    "\n",
    "with open('LSTMmodel_architecture.pkl', 'wb') as f:\n",
    "    pickle.dump(model, f)\n",
    "print(\"LSTM model architecture has been successfully saved to 'LSTMmodel_architecture.pkl'\")\n",
    "\n",
    "with open('LSTMmodel_weights.pkl', 'wb') as f:\n",
    "    pickle.dump(model.get_weights(), f)\n",
    "print(\"LSTM model weights have been successfully saved to 'LSTMmodel_weights.pkl'\")"
   ]
  }
 ],
 "metadata": {
  "kernelspec": {
   "display_name": "Python 3 (ipykernel)",
   "language": "python",
   "name": "python3"
  },
  "language_info": {
   "codemirror_mode": {
    "name": "ipython",
    "version": 3
   },
   "file_extension": ".py",
   "mimetype": "text/x-python",
   "name": "python",
   "nbconvert_exporter": "python",
   "pygments_lexer": "ipython3",
   "version": "3.9.7"
  }
 },
 "nbformat": 4,
 "nbformat_minor": 5
}
