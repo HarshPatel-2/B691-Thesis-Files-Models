{
 "cells": [
  {
   "cell_type": "markdown",
   "id": "4f822569",
   "metadata": {},
   "source": [
    "# Import Libraries"
   ]
  },
  {
   "cell_type": "code",
   "execution_count": 1,
   "id": "7eb257e2",
   "metadata": {},
   "outputs": [],
   "source": [
    "import pandas as pd"
   ]
  },
  {
   "cell_type": "markdown",
   "id": "f17064e0",
   "metadata": {},
   "source": [
    "# Load and Explore Raw EEG Data"
   ]
  },
  {
   "cell_type": "code",
   "execution_count": 2,
   "id": "cfed2ef9",
   "metadata": {},
   "outputs": [
    {
     "name": "stdout",
     "output_type": "stream",
     "text": [
      "Total Rows: 1169, Total Columns: 113\n",
      "Data shape: (1169, 113)\n",
      "\n",
      "First 5 rows:\n",
      "        Ch1_Std       Ch1_RMS     Ch1_Delta     Ch1_Theta     Ch1_Alpha  \\\n",
      "0  3.158785e-08  3.188178e-08  1.121477e-15  1.421930e-17  1.139625e-19   \n",
      "1  4.120880e-08  4.306598e-08  9.069405e-16  2.048433e-17  1.370206e-19   \n",
      "2  6.146560e-08  6.140777e-08  3.467015e-15  5.664702e-17  3.788163e-19   \n",
      "3  4.761567e-08  4.858411e-08  2.610055e-15  3.476346e-17  2.266065e-19   \n",
      "4  2.144688e-08  2.216589e-08  3.019891e-16  3.722760e-18  3.191619e-20   \n",
      "\n",
      "       Ch1_Beta     Ch1_Gamma      Ch2_Std      Ch2_RMS     Ch2_Delta  ...  \\\n",
      "0  1.876749e-19  6.863256e-20  2141.942087  2137.663368  3.798325e+06  ...   \n",
      "1  2.399516e-19  8.797667e-20  2161.756699  2158.038503  5.377888e+06  ...   \n",
      "2  6.687522e-19  2.456019e-19   382.683179   381.923188  6.808693e+04  ...   \n",
      "3  3.991046e-19  1.465421e-19   155.999459   155.824362  2.311623e+03  ...   \n",
      "4  4.887636e-20  1.784928e-20     3.716542     4.168135  8.581631e+00  ...   \n",
      "\n",
      "       Ch15_Beta    Ch15_Gamma     Ch16_Std     Ch16_RMS    Ch16_Delta  \\\n",
      "0   24152.927402   1913.992183   616.539482   615.991577  2.874255e+05   \n",
      "1   40110.216520   3982.609892  1109.484395  1114.965540  7.847350e+05   \n",
      "2  159274.577928  19148.138815  1216.129325  1213.858011  1.335468e+06   \n",
      "3  104373.680728  15361.467885   744.002789   754.624537  5.435499e+05   \n",
      "4   19162.907900   1566.289535   312.014894   312.080966  6.685589e+04   \n",
      "\n",
      "      Ch16_Theta    Ch16_Alpha     Ch16_Beta   Ch16_Gamma  \\\n",
      "0   28249.897652   7851.921065   3001.659500   171.725726   \n",
      "1  119119.153555  33230.327098  11542.924333  1149.062737   \n",
      "2  235202.445027  31815.395586  14959.215252  2551.980995   \n",
      "3   56573.458126   3975.634029   2882.471984   403.349154   \n",
      "4   12097.600994   1834.475594    734.166747    56.290840   \n",
      "\n",
      "   Activity_Label_OpenBCI  \n",
      "0                       2  \n",
      "1                       2  \n",
      "2                       2  \n",
      "3                       2  \n",
      "4                       2  \n",
      "\n",
      "[5 rows x 113 columns]\n",
      "\n",
      "Column names:\n",
      "['Ch1_Std', 'Ch1_RMS', 'Ch1_Delta', 'Ch1_Theta', 'Ch1_Alpha', 'Ch1_Beta', 'Ch1_Gamma', 'Ch2_Std', 'Ch2_RMS', 'Ch2_Delta', 'Ch2_Theta', 'Ch2_Alpha', 'Ch2_Beta', 'Ch2_Gamma', 'Ch3_Std', 'Ch3_RMS', 'Ch3_Delta', 'Ch3_Theta', 'Ch3_Alpha', 'Ch3_Beta', 'Ch3_Gamma', 'Ch4_Std', 'Ch4_RMS', 'Ch4_Delta', 'Ch4_Theta', 'Ch4_Alpha', 'Ch4_Beta', 'Ch4_Gamma', 'Ch5_Std', 'Ch5_RMS', 'Ch5_Delta', 'Ch5_Theta', 'Ch5_Alpha', 'Ch5_Beta', 'Ch5_Gamma', 'Ch6_Std', 'Ch6_RMS', 'Ch6_Delta', 'Ch6_Theta', 'Ch6_Alpha', 'Ch6_Beta', 'Ch6_Gamma', 'Ch7_Std', 'Ch7_RMS', 'Ch7_Delta', 'Ch7_Theta', 'Ch7_Alpha', 'Ch7_Beta', 'Ch7_Gamma', 'Ch8_Std', 'Ch8_RMS', 'Ch8_Delta', 'Ch8_Theta', 'Ch8_Alpha', 'Ch8_Beta', 'Ch8_Gamma', 'Ch9_Std', 'Ch9_RMS', 'Ch9_Delta', 'Ch9_Theta', 'Ch9_Alpha', 'Ch9_Beta', 'Ch9_Gamma', 'Ch10_Std', 'Ch10_RMS', 'Ch10_Delta', 'Ch10_Theta', 'Ch10_Alpha', 'Ch10_Beta', 'Ch10_Gamma', 'Ch11_Std', 'Ch11_RMS', 'Ch11_Delta', 'Ch11_Theta', 'Ch11_Alpha', 'Ch11_Beta', 'Ch11_Gamma', 'Ch12_Std', 'Ch12_RMS', 'Ch12_Delta', 'Ch12_Theta', 'Ch12_Alpha', 'Ch12_Beta', 'Ch12_Gamma', 'Ch13_Std', 'Ch13_RMS', 'Ch13_Delta', 'Ch13_Theta', 'Ch13_Alpha', 'Ch13_Beta', 'Ch13_Gamma', 'Ch14_Std', 'Ch14_RMS', 'Ch14_Delta', 'Ch14_Theta', 'Ch14_Alpha', 'Ch14_Beta', 'Ch14_Gamma', 'Ch15_Std', 'Ch15_RMS', 'Ch15_Delta', 'Ch15_Theta', 'Ch15_Alpha', 'Ch15_Beta', 'Ch15_Gamma', 'Ch16_Std', 'Ch16_RMS', 'Ch16_Delta', 'Ch16_Theta', 'Ch16_Alpha', 'Ch16_Beta', 'Ch16_Gamma', 'Activity_Label_OpenBCI']\n",
      "\n",
      "Unique Activity Labels:\n",
      "[2 3 5 4]\n"
     ]
    }
   ],
   "source": [
    "filename = \"EEG_Features_Only_S5-ValidChannels.csv\"\n",
    "df_eeg = pd.read_csv(filename)\n",
    "\n",
    "total_rows, total_columns = df_eeg.shape\n",
    "print(f\"Total Rows: {total_rows}, Total Columns: {total_columns}\")\n",
    "\n",
    "print(f\"Data shape: {df_eeg.shape}\")\n",
    "\n",
    "print(\"\\nFirst 5 rows:\")\n",
    "print(df_eeg.head())\n",
    "\n",
    "print(\"\\nColumn names:\")\n",
    "print(df_eeg.columns.tolist())\n",
    "\n",
    "if 'Activity_Label_OpenBCI' in df_eeg.columns:\n",
    "    print(\"\\nUnique Activity Labels:\")\n",
    "    print(df_eeg['Activity_Label_OpenBCI'].unique())"
   ]
  },
  {
   "cell_type": "markdown",
   "id": "d157042b",
   "metadata": {},
   "source": [
    "# Count Activity Labels in Raw Data"
   ]
  },
  {
   "cell_type": "code",
   "execution_count": 3,
   "id": "625a0db2",
   "metadata": {},
   "outputs": [
    {
     "name": "stdout",
     "output_type": "stream",
     "text": [
      "Activity Label Counts:\n",
      "Activity_Label_OpenBCI\n",
      "2    467\n",
      "3    459\n",
      "4    120\n",
      "5    123\n",
      "Name: count, dtype: int64\n"
     ]
    }
   ],
   "source": [
    "df = pd.read_csv(\"EEG_Features_Only_S5-ValidChannels.csv\")\n",
    "\n",
    "activity_counts = df[\"Activity_Label_OpenBCI\"].value_counts().sort_index()\n",
    "\n",
    "print(\"Activity Label Counts:\")\n",
    "print(activity_counts)"
   ]
  },
  {
   "cell_type": "markdown",
   "id": "d61506cb",
   "metadata": {},
   "source": [
    "# Map Activity Labels to Descriptive Names and Save"
   ]
  },
  {
   "cell_type": "code",
   "execution_count": 4,
   "id": "3d19f9c1",
   "metadata": {},
   "outputs": [
    {
     "name": "stdout",
     "output_type": "stream",
     "text": [
      "Successfully updated and saved to 'EEG_Features_Only_S5-ValidChannels_Updated.csv' with selected activity names.\n"
     ]
    }
   ],
   "source": [
    "file_path = \"EEG_Features_Only_S5-ValidChannels.csv\"\n",
    "df_eeg = pd.read_csv(file_path)\n",
    "\n",
    "activity_map = {\n",
    "    2: \"Marching in Place\",\n",
    "    3: \"Wall Push-ups\",\n",
    "    4: \"Seated Boxing Hooks\",\n",
    "    5: \"Standing Heel-to-Toe Walk\"\n",
    "}\n",
    "\n",
    "df_eeg['Activity_Label_OpenBCI'] = df_eeg['Activity_Label_OpenBCI'].map(activity_map)\n",
    "\n",
    "updated_file_path = \"EEG_Features_Only_S5-ValidChannels_Updated.csv\"\n",
    "df_eeg.to_csv(updated_file_path, index=False)\n",
    "\n",
    "print(f\"Successfully updated and saved to '{updated_file_path}' with selected activity names.\")"
   ]
  },
  {
   "cell_type": "markdown",
   "id": "3652a980",
   "metadata": {},
   "source": [
    "# Load and Explore Updated EEG Data"
   ]
  },
  {
   "cell_type": "code",
   "execution_count": 5,
   "id": "6cdb4753",
   "metadata": {},
   "outputs": [
    {
     "name": "stdout",
     "output_type": "stream",
     "text": [
      "Total Rows: 1169, Total Columns: 113\n",
      "Data shape: (1169, 113)\n",
      "\n",
      "First 5 rows:\n",
      "        Ch1_Std       Ch1_RMS     Ch1_Delta     Ch1_Theta     Ch1_Alpha  \\\n",
      "0  3.158785e-08  3.188178e-08  1.121477e-15  1.421930e-17  1.139625e-19   \n",
      "1  4.120880e-08  4.306598e-08  9.069405e-16  2.048433e-17  1.370206e-19   \n",
      "2  6.146560e-08  6.140777e-08  3.467015e-15  5.664702e-17  3.788163e-19   \n",
      "3  4.761567e-08  4.858411e-08  2.610055e-15  3.476346e-17  2.266065e-19   \n",
      "4  2.144688e-08  2.216589e-08  3.019891e-16  3.722760e-18  3.191619e-20   \n",
      "\n",
      "       Ch1_Beta     Ch1_Gamma      Ch2_Std      Ch2_RMS     Ch2_Delta  ...  \\\n",
      "0  1.876749e-19  6.863256e-20  2141.942087  2137.663368  3.798325e+06  ...   \n",
      "1  2.399516e-19  8.797667e-20  2161.756699  2158.038503  5.377888e+06  ...   \n",
      "2  6.687522e-19  2.456019e-19   382.683179   381.923188  6.808693e+04  ...   \n",
      "3  3.991046e-19  1.465421e-19   155.999459   155.824362  2.311623e+03  ...   \n",
      "4  4.887636e-20  1.784928e-20     3.716542     4.168135  8.581631e+00  ...   \n",
      "\n",
      "       Ch15_Beta    Ch15_Gamma     Ch16_Std     Ch16_RMS    Ch16_Delta  \\\n",
      "0   24152.927402   1913.992183   616.539482   615.991577  2.874255e+05   \n",
      "1   40110.216520   3982.609892  1109.484395  1114.965540  7.847350e+05   \n",
      "2  159274.577928  19148.138815  1216.129325  1213.858011  1.335468e+06   \n",
      "3  104373.680728  15361.467885   744.002789   754.624537  5.435499e+05   \n",
      "4   19162.907900   1566.289535   312.014894   312.080966  6.685589e+04   \n",
      "\n",
      "      Ch16_Theta    Ch16_Alpha     Ch16_Beta   Ch16_Gamma  \\\n",
      "0   28249.897652   7851.921065   3001.659500   171.725726   \n",
      "1  119119.153555  33230.327098  11542.924333  1149.062737   \n",
      "2  235202.445027  31815.395586  14959.215252  2551.980995   \n",
      "3   56573.458126   3975.634029   2882.471984   403.349154   \n",
      "4   12097.600994   1834.475594    734.166747    56.290840   \n",
      "\n",
      "   Activity_Label_OpenBCI  \n",
      "0       Marching in Place  \n",
      "1       Marching in Place  \n",
      "2       Marching in Place  \n",
      "3       Marching in Place  \n",
      "4       Marching in Place  \n",
      "\n",
      "[5 rows x 113 columns]\n",
      "\n",
      "Column names:\n",
      "['Ch1_Std', 'Ch1_RMS', 'Ch1_Delta', 'Ch1_Theta', 'Ch1_Alpha', 'Ch1_Beta', 'Ch1_Gamma', 'Ch2_Std', 'Ch2_RMS', 'Ch2_Delta', 'Ch2_Theta', 'Ch2_Alpha', 'Ch2_Beta', 'Ch2_Gamma', 'Ch3_Std', 'Ch3_RMS', 'Ch3_Delta', 'Ch3_Theta', 'Ch3_Alpha', 'Ch3_Beta', 'Ch3_Gamma', 'Ch4_Std', 'Ch4_RMS', 'Ch4_Delta', 'Ch4_Theta', 'Ch4_Alpha', 'Ch4_Beta', 'Ch4_Gamma', 'Ch5_Std', 'Ch5_RMS', 'Ch5_Delta', 'Ch5_Theta', 'Ch5_Alpha', 'Ch5_Beta', 'Ch5_Gamma', 'Ch6_Std', 'Ch6_RMS', 'Ch6_Delta', 'Ch6_Theta', 'Ch6_Alpha', 'Ch6_Beta', 'Ch6_Gamma', 'Ch7_Std', 'Ch7_RMS', 'Ch7_Delta', 'Ch7_Theta', 'Ch7_Alpha', 'Ch7_Beta', 'Ch7_Gamma', 'Ch8_Std', 'Ch8_RMS', 'Ch8_Delta', 'Ch8_Theta', 'Ch8_Alpha', 'Ch8_Beta', 'Ch8_Gamma', 'Ch9_Std', 'Ch9_RMS', 'Ch9_Delta', 'Ch9_Theta', 'Ch9_Alpha', 'Ch9_Beta', 'Ch9_Gamma', 'Ch10_Std', 'Ch10_RMS', 'Ch10_Delta', 'Ch10_Theta', 'Ch10_Alpha', 'Ch10_Beta', 'Ch10_Gamma', 'Ch11_Std', 'Ch11_RMS', 'Ch11_Delta', 'Ch11_Theta', 'Ch11_Alpha', 'Ch11_Beta', 'Ch11_Gamma', 'Ch12_Std', 'Ch12_RMS', 'Ch12_Delta', 'Ch12_Theta', 'Ch12_Alpha', 'Ch12_Beta', 'Ch12_Gamma', 'Ch13_Std', 'Ch13_RMS', 'Ch13_Delta', 'Ch13_Theta', 'Ch13_Alpha', 'Ch13_Beta', 'Ch13_Gamma', 'Ch14_Std', 'Ch14_RMS', 'Ch14_Delta', 'Ch14_Theta', 'Ch14_Alpha', 'Ch14_Beta', 'Ch14_Gamma', 'Ch15_Std', 'Ch15_RMS', 'Ch15_Delta', 'Ch15_Theta', 'Ch15_Alpha', 'Ch15_Beta', 'Ch15_Gamma', 'Ch16_Std', 'Ch16_RMS', 'Ch16_Delta', 'Ch16_Theta', 'Ch16_Alpha', 'Ch16_Beta', 'Ch16_Gamma', 'Activity_Label_OpenBCI']\n",
      "\n",
      "Unique Activity Labels:\n",
      "['Marching in Place' 'Wall Push-ups' 'Standing Heel-to-Toe Walk'\n",
      " 'Seated Boxing Hooks']\n"
     ]
    }
   ],
   "source": [
    "filename = \"EEG_Features_Only_S5-ValidChannels_Updated.csv\"\n",
    "df_eeg = pd.read_csv(filename)\n",
    "\n",
    "total_rows, total_columns = df_eeg.shape\n",
    "print(f\"Total Rows: {total_rows}, Total Columns: {total_columns}\")\n",
    "\n",
    "print(f\"Data shape: {df_eeg.shape}\")\n",
    "\n",
    "print(\"\\nFirst 5 rows:\")\n",
    "print(df_eeg.head())\n",
    "\n",
    "print(\"\\nColumn names:\")\n",
    "print(df_eeg.columns.tolist())\n",
    "\n",
    "if 'Activity_Label_OpenBCI' in df_eeg.columns:\n",
    "    print(\"\\nUnique Activity Labels:\")\n",
    "    print(df_eeg['Activity_Label_OpenBCI'].unique())"
   ]
  },
  {
   "cell_type": "markdown",
   "id": "265808a8",
   "metadata": {},
   "source": [
    "# Count Activity Labels in Custom Order"
   ]
  },
  {
   "cell_type": "code",
   "execution_count": 6,
   "id": "4dfb6bdf",
   "metadata": {},
   "outputs": [
    {
     "name": "stdout",
     "output_type": "stream",
     "text": [
      "Activity Label Counts (in custom order):\n",
      "Activity_Label_OpenBCI\n",
      "Marching in Place            467\n",
      "Wall Push-ups                459\n",
      "Seated Boxing Hooks          120\n",
      "Standing Heel-to-Toe Walk    123\n",
      "Name: count, dtype: int64\n"
     ]
    }
   ],
   "source": [
    "df = pd.read_csv(\"EEG_Features_Only_S5-ValidChannels_Updated.csv\")\n",
    "\n",
    "activity_counts = df[\"Activity_Label_OpenBCI\"].value_counts()\n",
    "\n",
    "activity_order = [\n",
    "    \"Marching in Place\",\n",
    "    \"Wall Push-ups\",\n",
    "    \"Seated Boxing Hooks\",\n",
    "    \"Standing Heel-to-Toe Walk\"\n",
    "]\n",
    "\n",
    "activity_counts_ordered = activity_counts.reindex(activity_order)\n",
    "\n",
    "print(\"Activity Label Counts (in custom order):\")\n",
    "print(activity_counts_ordered)"
   ]
  }
 ],
 "metadata": {
  "kernelspec": {
   "display_name": "Python 3 (ipykernel)",
   "language": "python",
   "name": "python3"
  },
  "language_info": {
   "codemirror_mode": {
    "name": "ipython",
    "version": 3
   },
   "file_extension": ".py",
   "mimetype": "text/x-python",
   "name": "python",
   "nbconvert_exporter": "python",
   "pygments_lexer": "ipython3",
   "version": "3.9.7"
  }
 },
 "nbformat": 4,
 "nbformat_minor": 5
}
