{
 "cells": [
  {
   "cell_type": "markdown",
   "id": "8e94b9eb",
   "metadata": {},
   "source": [
    "# Import Libraries"
   ]
  },
  {
   "cell_type": "code",
   "execution_count": 1,
   "id": "0313848a",
   "metadata": {},
   "outputs": [],
   "source": [
    "import pandas as pd"
   ]
  },
  {
   "cell_type": "markdown",
   "id": "02ecbd5d",
   "metadata": {},
   "source": [
    "# Load and Explore Raw EEG Data"
   ]
  },
  {
   "cell_type": "code",
   "execution_count": 2,
   "id": "2ab14de6",
   "metadata": {},
   "outputs": [
    {
     "name": "stdout",
     "output_type": "stream",
     "text": [
      "Total Rows: 4499, Total Columns: 113\n",
      "Data shape: (4499, 113)\n",
      "\n",
      "First 5 rows:\n",
      "        Ch1_Std       Ch1_RMS     Ch1_Delta     Ch1_Theta     Ch1_Alpha  \\\n",
      "0  3.158785e-08  3.188178e-08  1.121477e-15  1.421930e-17  1.139625e-19   \n",
      "1  4.120880e-08  4.306598e-08  9.069405e-16  2.048433e-17  1.370206e-19   \n",
      "2  6.146560e-08  6.140777e-08  3.467015e-15  5.664702e-17  3.788163e-19   \n",
      "3  4.761567e-08  4.858411e-08  2.610055e-15  3.476346e-17  2.266065e-19   \n",
      "4  2.144688e-08  2.216589e-08  3.019891e-16  3.722760e-18  3.191619e-20   \n",
      "\n",
      "       Ch1_Beta     Ch1_Gamma    Ch2_Std    Ch2_RMS   Ch2_Delta  ...  \\\n",
      "0  1.876749e-19  6.863256e-20   1.567814   1.635534    0.149574  ...   \n",
      "1  2.399516e-19  8.797667e-20  14.786695  14.757152   58.622599  ...   \n",
      "2  6.687522e-19  2.456019e-19  14.693785  14.669281   19.377299  ...   \n",
      "3  3.991046e-19  1.465421e-19   3.403219   3.525839    1.493489  ...   \n",
      "4  4.887636e-20  1.784928e-20  53.060253  54.751139  210.452179  ...   \n",
      "\n",
      "     Ch15_Beta  Ch15_Gamma    Ch16_Std    Ch16_RMS     Ch16_Delta  \\\n",
      "0  1456.024187  138.670290  650.016904  649.731382  500455.844602   \n",
      "1  1465.314170  170.490870  156.373344  157.469272   25781.816990   \n",
      "2  1106.026814  115.539469   90.722383   90.936723    5727.413814   \n",
      "3   857.274990   78.571307  104.788116  104.628612   10128.412257   \n",
      "4  1114.157943  100.776397   96.100218   96.204877    4866.603637   \n",
      "\n",
      "     Ch16_Theta   Ch16_Alpha   Ch16_Beta  Ch16_Gamma  Activity_Label_OpenBCI  \n",
      "0  39987.507308  2961.002215  999.673070  140.237067                       1  \n",
      "1   4812.037383  1379.240748  903.066204   92.735130                       1  \n",
      "2   1437.346807   449.194898  184.415288   30.024530                       1  \n",
      "3   2074.112442   451.650779  391.490022   41.142249                       1  \n",
      "4   2120.632847   497.607412  409.067327   32.809389                       1  \n",
      "\n",
      "[5 rows x 113 columns]\n",
      "\n",
      "Column names:\n",
      "['Ch1_Std', 'Ch1_RMS', 'Ch1_Delta', 'Ch1_Theta', 'Ch1_Alpha', 'Ch1_Beta', 'Ch1_Gamma', 'Ch2_Std', 'Ch2_RMS', 'Ch2_Delta', 'Ch2_Theta', 'Ch2_Alpha', 'Ch2_Beta', 'Ch2_Gamma', 'Ch3_Std', 'Ch3_RMS', 'Ch3_Delta', 'Ch3_Theta', 'Ch3_Alpha', 'Ch3_Beta', 'Ch3_Gamma', 'Ch4_Std', 'Ch4_RMS', 'Ch4_Delta', 'Ch4_Theta', 'Ch4_Alpha', 'Ch4_Beta', 'Ch4_Gamma', 'Ch5_Std', 'Ch5_RMS', 'Ch5_Delta', 'Ch5_Theta', 'Ch5_Alpha', 'Ch5_Beta', 'Ch5_Gamma', 'Ch6_Std', 'Ch6_RMS', 'Ch6_Delta', 'Ch6_Theta', 'Ch6_Alpha', 'Ch6_Beta', 'Ch6_Gamma', 'Ch7_Std', 'Ch7_RMS', 'Ch7_Delta', 'Ch7_Theta', 'Ch7_Alpha', 'Ch7_Beta', 'Ch7_Gamma', 'Ch8_Std', 'Ch8_RMS', 'Ch8_Delta', 'Ch8_Theta', 'Ch8_Alpha', 'Ch8_Beta', 'Ch8_Gamma', 'Ch9_Std', 'Ch9_RMS', 'Ch9_Delta', 'Ch9_Theta', 'Ch9_Alpha', 'Ch9_Beta', 'Ch9_Gamma', 'Ch10_Std', 'Ch10_RMS', 'Ch10_Delta', 'Ch10_Theta', 'Ch10_Alpha', 'Ch10_Beta', 'Ch10_Gamma', 'Ch11_Std', 'Ch11_RMS', 'Ch11_Delta', 'Ch11_Theta', 'Ch11_Alpha', 'Ch11_Beta', 'Ch11_Gamma', 'Ch12_Std', 'Ch12_RMS', 'Ch12_Delta', 'Ch12_Theta', 'Ch12_Alpha', 'Ch12_Beta', 'Ch12_Gamma', 'Ch13_Std', 'Ch13_RMS', 'Ch13_Delta', 'Ch13_Theta', 'Ch13_Alpha', 'Ch13_Beta', 'Ch13_Gamma', 'Ch14_Std', 'Ch14_RMS', 'Ch14_Delta', 'Ch14_Theta', 'Ch14_Alpha', 'Ch14_Beta', 'Ch14_Gamma', 'Ch15_Std', 'Ch15_RMS', 'Ch15_Delta', 'Ch15_Theta', 'Ch15_Alpha', 'Ch15_Beta', 'Ch15_Gamma', 'Ch16_Std', 'Ch16_RMS', 'Ch16_Delta', 'Ch16_Theta', 'Ch16_Alpha', 'Ch16_Beta', 'Ch16_Gamma', 'Activity_Label_OpenBCI']\n",
      "\n",
      "Unique Activity Labels:\n",
      "[ 1  3  4  5  6  7  9  8 10  2]\n"
     ]
    }
   ],
   "source": [
    "filename = \"EEG_Features_Only_S3-ValidChannels.csv\"\n",
    "df_eeg = pd.read_csv(filename)\n",
    "\n",
    "total_rows, total_columns = df_eeg.shape\n",
    "print(f\"Total Rows: {total_rows}, Total Columns: {total_columns}\")\n",
    "\n",
    "print(f\"Data shape: {df_eeg.shape}\")\n",
    "\n",
    "print(\"\\nFirst 5 rows:\")\n",
    "print(df_eeg.head())\n",
    "\n",
    "print(\"\\nColumn names:\")\n",
    "print(df_eeg.columns.tolist())\n",
    "\n",
    "if 'Activity_Label_OpenBCI' in df_eeg.columns:\n",
    "    print(\"\\nUnique Activity Labels:\")\n",
    "    print(df_eeg['Activity_Label_OpenBCI'].unique())"
   ]
  },
  {
   "cell_type": "markdown",
   "id": "8e7285ba",
   "metadata": {},
   "source": [
    "# Count Activity Labels in Raw Data"
   ]
  },
  {
   "cell_type": "code",
   "execution_count": 3,
   "id": "aefa27f3",
   "metadata": {},
   "outputs": [
    {
     "name": "stdout",
     "output_type": "stream",
     "text": [
      "Activity Label Counts:\n",
      "Activity_Label_OpenBCI\n",
      "1     461\n",
      "2     445\n",
      "3     304\n",
      "4     453\n",
      "5     450\n",
      "6     465\n",
      "7     455\n",
      "8     471\n",
      "9     452\n",
      "10    543\n",
      "Name: count, dtype: int64\n"
     ]
    }
   ],
   "source": [
    "df = pd.read_csv(\"EEG_Features_Only_S3-ValidChannels.csv\")\n",
    "\n",
    "activity_counts = df[\"Activity_Label_OpenBCI\"].value_counts().sort_index()\n",
    "\n",
    "print(\"Activity Label Counts:\")\n",
    "print(activity_counts)"
   ]
  },
  {
   "cell_type": "markdown",
   "id": "a32d5144",
   "metadata": {},
   "source": [
    "# Map Activity Labels to Descriptive Names and Save"
   ]
  },
  {
   "cell_type": "code",
   "execution_count": 4,
   "id": "f5c4a1b1",
   "metadata": {},
   "outputs": [
    {
     "name": "stdout",
     "output_type": "stream",
     "text": [
      "Successfully updated and saved to 'EEG_Features_Only_S3-ValidChannels_Updated.csv' with activity names.\n"
     ]
    }
   ],
   "source": [
    "file_path = \"EEG_Features_Only_S3-ValidChannels.csv\"\n",
    "df_eeg = pd.read_csv(file_path)\n",
    "\n",
    "activity_map = {\n",
    "    1: \"Seated Leg Extensions\",\n",
    "    2: \"Marching in Place\",\n",
    "    3: \"Wall Push-ups\",\n",
    "    4: \"Seated Boxing Hooks\",\n",
    "    5: \"Standing Heel-to-Toe Walk\",\n",
    "    6: \"Side-Stepping\",\n",
    "    7: \"Seated Side Bends\",\n",
    "    8: \"Seated Medicine Ball Twists\",\n",
    "    9: \"Chair Squats\",\n",
    "    10: \"Light Stationary Cycling\"\n",
    "}\n",
    "\n",
    "df_eeg['Activity_Label_OpenBCI'] = df_eeg['Activity_Label_OpenBCI'].map(activity_map)\n",
    "\n",
    "updated_file_path = \"EEG_Features_Only_S3-ValidChannels_Updated.csv\"\n",
    "df_eeg.to_csv(updated_file_path, index=False)\n",
    "\n",
    "print(f\"Successfully updated and saved to '{updated_file_path}' with activity names.\")"
   ]
  },
  {
   "cell_type": "markdown",
   "id": "b0024951",
   "metadata": {},
   "source": [
    "# Load and Explore Updated EEG Data"
   ]
  },
  {
   "cell_type": "code",
   "execution_count": 5,
   "id": "106f4119",
   "metadata": {},
   "outputs": [
    {
     "name": "stdout",
     "output_type": "stream",
     "text": [
      "Total Rows: 4499, Total Columns: 113\n",
      "Data shape: (4499, 113)\n",
      "\n",
      "First 5 rows:\n",
      "        Ch1_Std       Ch1_RMS     Ch1_Delta     Ch1_Theta     Ch1_Alpha  \\\n",
      "0  3.158785e-08  3.188178e-08  1.121477e-15  1.421930e-17  1.139625e-19   \n",
      "1  4.120880e-08  4.306598e-08  9.069405e-16  2.048433e-17  1.370206e-19   \n",
      "2  6.146560e-08  6.140777e-08  3.467015e-15  5.664702e-17  3.788163e-19   \n",
      "3  4.761567e-08  4.858411e-08  2.610055e-15  3.476346e-17  2.266065e-19   \n",
      "4  2.144688e-08  2.216589e-08  3.019891e-16  3.722760e-18  3.191619e-20   \n",
      "\n",
      "       Ch1_Beta     Ch1_Gamma    Ch2_Std    Ch2_RMS   Ch2_Delta  ...  \\\n",
      "0  1.876749e-19  6.863256e-20   1.567814   1.635534    0.149574  ...   \n",
      "1  2.399516e-19  8.797667e-20  14.786695  14.757152   58.622599  ...   \n",
      "2  6.687522e-19  2.456019e-19  14.693785  14.669281   19.377299  ...   \n",
      "3  3.991046e-19  1.465421e-19   3.403219   3.525839    1.493489  ...   \n",
      "4  4.887636e-20  1.784928e-20  53.060253  54.751139  210.452179  ...   \n",
      "\n",
      "     Ch15_Beta  Ch15_Gamma    Ch16_Std    Ch16_RMS     Ch16_Delta  \\\n",
      "0  1456.024187  138.670290  650.016904  649.731382  500455.844602   \n",
      "1  1465.314170  170.490870  156.373344  157.469272   25781.816990   \n",
      "2  1106.026814  115.539469   90.722383   90.936723    5727.413814   \n",
      "3   857.274990   78.571307  104.788116  104.628612   10128.412257   \n",
      "4  1114.157943  100.776397   96.100218   96.204877    4866.603637   \n",
      "\n",
      "     Ch16_Theta   Ch16_Alpha   Ch16_Beta  Ch16_Gamma  Activity_Label_OpenBCI  \n",
      "0  39987.507308  2961.002215  999.673070  140.237067   Seated Leg Extensions  \n",
      "1   4812.037383  1379.240748  903.066204   92.735130   Seated Leg Extensions  \n",
      "2   1437.346807   449.194898  184.415288   30.024530   Seated Leg Extensions  \n",
      "3   2074.112442   451.650779  391.490022   41.142249   Seated Leg Extensions  \n",
      "4   2120.632847   497.607412  409.067327   32.809389   Seated Leg Extensions  \n",
      "\n",
      "[5 rows x 113 columns]\n",
      "\n",
      "Column names:\n",
      "['Ch1_Std', 'Ch1_RMS', 'Ch1_Delta', 'Ch1_Theta', 'Ch1_Alpha', 'Ch1_Beta', 'Ch1_Gamma', 'Ch2_Std', 'Ch2_RMS', 'Ch2_Delta', 'Ch2_Theta', 'Ch2_Alpha', 'Ch2_Beta', 'Ch2_Gamma', 'Ch3_Std', 'Ch3_RMS', 'Ch3_Delta', 'Ch3_Theta', 'Ch3_Alpha', 'Ch3_Beta', 'Ch3_Gamma', 'Ch4_Std', 'Ch4_RMS', 'Ch4_Delta', 'Ch4_Theta', 'Ch4_Alpha', 'Ch4_Beta', 'Ch4_Gamma', 'Ch5_Std', 'Ch5_RMS', 'Ch5_Delta', 'Ch5_Theta', 'Ch5_Alpha', 'Ch5_Beta', 'Ch5_Gamma', 'Ch6_Std', 'Ch6_RMS', 'Ch6_Delta', 'Ch6_Theta', 'Ch6_Alpha', 'Ch6_Beta', 'Ch6_Gamma', 'Ch7_Std', 'Ch7_RMS', 'Ch7_Delta', 'Ch7_Theta', 'Ch7_Alpha', 'Ch7_Beta', 'Ch7_Gamma', 'Ch8_Std', 'Ch8_RMS', 'Ch8_Delta', 'Ch8_Theta', 'Ch8_Alpha', 'Ch8_Beta', 'Ch8_Gamma', 'Ch9_Std', 'Ch9_RMS', 'Ch9_Delta', 'Ch9_Theta', 'Ch9_Alpha', 'Ch9_Beta', 'Ch9_Gamma', 'Ch10_Std', 'Ch10_RMS', 'Ch10_Delta', 'Ch10_Theta', 'Ch10_Alpha', 'Ch10_Beta', 'Ch10_Gamma', 'Ch11_Std', 'Ch11_RMS', 'Ch11_Delta', 'Ch11_Theta', 'Ch11_Alpha', 'Ch11_Beta', 'Ch11_Gamma', 'Ch12_Std', 'Ch12_RMS', 'Ch12_Delta', 'Ch12_Theta', 'Ch12_Alpha', 'Ch12_Beta', 'Ch12_Gamma', 'Ch13_Std', 'Ch13_RMS', 'Ch13_Delta', 'Ch13_Theta', 'Ch13_Alpha', 'Ch13_Beta', 'Ch13_Gamma', 'Ch14_Std', 'Ch14_RMS', 'Ch14_Delta', 'Ch14_Theta', 'Ch14_Alpha', 'Ch14_Beta', 'Ch14_Gamma', 'Ch15_Std', 'Ch15_RMS', 'Ch15_Delta', 'Ch15_Theta', 'Ch15_Alpha', 'Ch15_Beta', 'Ch15_Gamma', 'Ch16_Std', 'Ch16_RMS', 'Ch16_Delta', 'Ch16_Theta', 'Ch16_Alpha', 'Ch16_Beta', 'Ch16_Gamma', 'Activity_Label_OpenBCI']\n",
      "\n",
      "Unique Activity Labels:\n",
      "['Seated Leg Extensions' 'Wall Push-ups' 'Seated Boxing Hooks'\n",
      " 'Standing Heel-to-Toe Walk' 'Side-Stepping' 'Seated Side Bends'\n",
      " 'Chair Squats' 'Seated Medicine Ball Twists' 'Light Stationary Cycling'\n",
      " 'Marching in Place']\n"
     ]
    }
   ],
   "source": [
    "filename = \"EEG_Features_Only_S3-ValidChannels_Updated.csv\"\n",
    "df_eeg = pd.read_csv(filename)\n",
    "\n",
    "total_rows, total_columns = df_eeg.shape\n",
    "print(f\"Total Rows: {total_rows}, Total Columns: {total_columns}\")\n",
    "\n",
    "print(f\"Data shape: {df_eeg.shape}\")\n",
    "\n",
    "print(\"\\nFirst 5 rows:\")\n",
    "print(df_eeg.head())\n",
    "\n",
    "print(\"\\nColumn names:\")\n",
    "print(df_eeg.columns.tolist())\n",
    "\n",
    "if 'Activity_Label_OpenBCI' in df_eeg.columns:\n",
    "    print(\"\\nUnique Activity Labels:\")\n",
    "    print(df_eeg['Activity_Label_OpenBCI'].unique())"
   ]
  },
  {
   "cell_type": "markdown",
   "id": "ba1c384b",
   "metadata": {},
   "source": [
    "# Count Activity Labels in Custom Order"
   ]
  },
  {
   "cell_type": "code",
   "execution_count": 6,
   "id": "2830df30",
   "metadata": {},
   "outputs": [
    {
     "name": "stdout",
     "output_type": "stream",
     "text": [
      "Activity Label Counts (in custom order):\n",
      "Activity_Label_OpenBCI\n",
      "Seated Leg Extensions          461\n",
      "Marching in Place              445\n",
      "Wall Push-ups                  304\n",
      "Seated Boxing Hooks            453\n",
      "Standing Heel-to-Toe Walk      450\n",
      "Side-Stepping                  465\n",
      "Seated Side Bends              455\n",
      "Seated Medicine Ball Twists    471\n",
      "Chair Squats                   452\n",
      "Light Stationary Cycling       543\n",
      "Name: count, dtype: int64\n"
     ]
    }
   ],
   "source": [
    "df = pd.read_csv(\"EEG_Features_Only_S3-ValidChannels_Updated.csv\")\n",
    "\n",
    "activity_counts = df[\"Activity_Label_OpenBCI\"].value_counts()\n",
    "\n",
    "activity_order = [\n",
    "    \"Seated Leg Extensions\",\n",
    "    \"Marching in Place\",\n",
    "    \"Wall Push-ups\",\n",
    "    \"Seated Boxing Hooks\",\n",
    "    \"Standing Heel-to-Toe Walk\",\n",
    "    \"Side-Stepping\",\n",
    "    \"Seated Side Bends\",\n",
    "    \"Seated Medicine Ball Twists\",\n",
    "    \"Chair Squats\",\n",
    "    \"Light Stationary Cycling\"\n",
    "]\n",
    "\n",
    "activity_counts_ordered = activity_counts.reindex(activity_order)\n",
    "\n",
    "print(\"Activity Label Counts (in custom order):\")\n",
    "print(activity_counts_ordered)"
   ]
  }
 ],
 "metadata": {
  "kernelspec": {
   "display_name": "Python 3 (ipykernel)",
   "language": "python",
   "name": "python3"
  },
  "language_info": {
   "codemirror_mode": {
    "name": "ipython",
    "version": 3
   },
   "file_extension": ".py",
   "mimetype": "text/x-python",
   "name": "python",
   "nbconvert_exporter": "python",
   "pygments_lexer": "ipython3",
   "version": "3.9.7"
  }
 },
 "nbformat": 4,
 "nbformat_minor": 5
}
