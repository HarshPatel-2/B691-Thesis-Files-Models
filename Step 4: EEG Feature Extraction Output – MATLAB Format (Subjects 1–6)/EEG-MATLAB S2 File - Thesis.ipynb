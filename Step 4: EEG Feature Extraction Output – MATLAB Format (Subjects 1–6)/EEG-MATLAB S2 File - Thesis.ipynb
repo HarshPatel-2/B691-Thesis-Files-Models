{
 "cells": [
  {
   "cell_type": "markdown",
   "id": "15f9999e",
   "metadata": {},
   "source": [
    "# Import Libraries"
   ]
  },
  {
   "cell_type": "code",
   "execution_count": 1,
   "id": "8148cd2e",
   "metadata": {},
   "outputs": [],
   "source": [
    "import pandas as pd"
   ]
  },
  {
   "cell_type": "markdown",
   "id": "fbcc301f",
   "metadata": {},
   "source": [
    "# Load and Explore Raw EEG Data"
   ]
  },
  {
   "cell_type": "code",
   "execution_count": 2,
   "id": "8afa9b23",
   "metadata": {},
   "outputs": [
    {
     "name": "stdout",
     "output_type": "stream",
     "text": [
      "Total Rows: 4444, Total Columns: 113\n",
      "Data shape: (4444, 113)\n",
      "\n",
      "First 5 rows:\n",
      "        Ch1_Std       Ch1_RMS     Ch1_Delta     Ch1_Theta     Ch1_Alpha  \\\n",
      "0  3.294342e-08  3.288102e-08  1.019457e-15  1.697558e-17  1.047358e-19   \n",
      "1  2.550835e-08  2.565058e-08  6.733823e-16  9.753028e-18  6.521918e-20   \n",
      "2  1.666174e-08  1.728277e-08  2.850825e-16  3.412955e-18  3.330225e-20   \n",
      "3  1.679324e-08  1.689003e-08  2.106830e-16  4.852391e-18  2.539799e-20   \n",
      "4  1.878374e-08  1.879696e-08  3.466841e-16  7.227741e-18  4.081149e-20   \n",
      "\n",
      "       Ch1_Beta     Ch1_Gamma      Ch2_Std      Ch2_RMS     Ch2_Delta  ...  \\\n",
      "0  1.795066e-19  6.596449e-20   836.908270   835.233310  6.302522e+05  ...   \n",
      "1  1.074368e-19  3.952609e-20   922.054152   926.667804  5.914787e+05  ...   \n",
      "2  4.782020e-20  1.738724e-20  4336.716109  4328.789897  1.674580e+07  ...   \n",
      "3  4.285488e-20  1.582407e-20  4347.166886  4339.065904  2.017343e+07  ...   \n",
      "4  6.868956e-20  2.512096e-20  1794.914711  1821.514790  1.961012e+06  ...   \n",
      "\n",
      "    Ch15_Beta  Ch15_Gamma   Ch16_Std   Ch16_RMS  Ch16_Delta  Ch16_Theta  \\\n",
      "0   33.716151   14.257074  21.739492  21.777035  101.673284  169.755237   \n",
      "1  130.111886   78.858141  24.205305  24.165579  311.039721  241.638889   \n",
      "2  138.262307  114.007643  27.853532  27.813665  250.764371  271.055486   \n",
      "3   87.011896    8.747329  26.172848  26.120782  387.892139  346.637867   \n",
      "4   46.274610   10.564146  18.168731  18.142815  102.919048  105.962035   \n",
      "\n",
      "   Ch16_Alpha   Ch16_Beta  Ch16_Gamma  Activity_Label_OpenBCI  \n",
      "0   29.495650   66.591963   32.829033                       1  \n",
      "1   51.792667  112.035265   61.272796                       1  \n",
      "2   78.102726   80.838244   21.686819                       1  \n",
      "3  105.266352   75.928399    8.142456                       1  \n",
      "4   80.124650   34.590448    9.936511                       1  \n",
      "\n",
      "[5 rows x 113 columns]\n",
      "\n",
      "Column names:\n",
      "['Ch1_Std', 'Ch1_RMS', 'Ch1_Delta', 'Ch1_Theta', 'Ch1_Alpha', 'Ch1_Beta', 'Ch1_Gamma', 'Ch2_Std', 'Ch2_RMS', 'Ch2_Delta', 'Ch2_Theta', 'Ch2_Alpha', 'Ch2_Beta', 'Ch2_Gamma', 'Ch3_Std', 'Ch3_RMS', 'Ch3_Delta', 'Ch3_Theta', 'Ch3_Alpha', 'Ch3_Beta', 'Ch3_Gamma', 'Ch4_Std', 'Ch4_RMS', 'Ch4_Delta', 'Ch4_Theta', 'Ch4_Alpha', 'Ch4_Beta', 'Ch4_Gamma', 'Ch5_Std', 'Ch5_RMS', 'Ch5_Delta', 'Ch5_Theta', 'Ch5_Alpha', 'Ch5_Beta', 'Ch5_Gamma', 'Ch6_Std', 'Ch6_RMS', 'Ch6_Delta', 'Ch6_Theta', 'Ch6_Alpha', 'Ch6_Beta', 'Ch6_Gamma', 'Ch7_Std', 'Ch7_RMS', 'Ch7_Delta', 'Ch7_Theta', 'Ch7_Alpha', 'Ch7_Beta', 'Ch7_Gamma', 'Ch8_Std', 'Ch8_RMS', 'Ch8_Delta', 'Ch8_Theta', 'Ch8_Alpha', 'Ch8_Beta', 'Ch8_Gamma', 'Ch9_Std', 'Ch9_RMS', 'Ch9_Delta', 'Ch9_Theta', 'Ch9_Alpha', 'Ch9_Beta', 'Ch9_Gamma', 'Ch10_Std', 'Ch10_RMS', 'Ch10_Delta', 'Ch10_Theta', 'Ch10_Alpha', 'Ch10_Beta', 'Ch10_Gamma', 'Ch11_Std', 'Ch11_RMS', 'Ch11_Delta', 'Ch11_Theta', 'Ch11_Alpha', 'Ch11_Beta', 'Ch11_Gamma', 'Ch12_Std', 'Ch12_RMS', 'Ch12_Delta', 'Ch12_Theta', 'Ch12_Alpha', 'Ch12_Beta', 'Ch12_Gamma', 'Ch13_Std', 'Ch13_RMS', 'Ch13_Delta', 'Ch13_Theta', 'Ch13_Alpha', 'Ch13_Beta', 'Ch13_Gamma', 'Ch14_Std', 'Ch14_RMS', 'Ch14_Delta', 'Ch14_Theta', 'Ch14_Alpha', 'Ch14_Beta', 'Ch14_Gamma', 'Ch15_Std', 'Ch15_RMS', 'Ch15_Delta', 'Ch15_Theta', 'Ch15_Alpha', 'Ch15_Beta', 'Ch15_Gamma', 'Ch16_Std', 'Ch16_RMS', 'Ch16_Delta', 'Ch16_Theta', 'Ch16_Alpha', 'Ch16_Beta', 'Ch16_Gamma', 'Activity_Label_OpenBCI']\n",
      "\n",
      "Unique Activity Labels:\n",
      "[ 1  2  3  4  5  6  7  8  9 10]\n"
     ]
    }
   ],
   "source": [
    "filename = \"EEG_Features_Only_S2-ValidChannels.csv\"\n",
    "df_eeg = pd.read_csv(filename)\n",
    "\n",
    "total_rows, total_columns = df_eeg.shape\n",
    "print(f\"Total Rows: {total_rows}, Total Columns: {total_columns}\")\n",
    "\n",
    "print(f\"Data shape: {df_eeg.shape}\")\n",
    "\n",
    "print(\"\\nFirst 5 rows:\")\n",
    "print(df_eeg.head())\n",
    "\n",
    "print(\"\\nColumn names:\")\n",
    "print(df_eeg.columns.tolist())\n",
    "\n",
    "if 'Activity_Label_OpenBCI' in df_eeg.columns:\n",
    "    print(\"\\nUnique Activity Labels:\")\n",
    "    print(df_eeg['Activity_Label_OpenBCI'].unique())"
   ]
  },
  {
   "cell_type": "markdown",
   "id": "ee22af9f",
   "metadata": {},
   "source": [
    "# Count Activity Labels in Raw Data"
   ]
  },
  {
   "cell_type": "code",
   "execution_count": 3,
   "id": "3c305dd2",
   "metadata": {},
   "outputs": [
    {
     "name": "stdout",
     "output_type": "stream",
     "text": [
      "Activity Label Counts:\n",
      "Activity_Label_OpenBCI\n",
      "1     459\n",
      "2     454\n",
      "3     587\n",
      "4     465\n",
      "5     452\n",
      "6     475\n",
      "7     461\n",
      "8     311\n",
      "9     469\n",
      "10    311\n",
      "Name: count, dtype: int64\n"
     ]
    }
   ],
   "source": [
    "df = pd.read_csv(\"EEG_Features_Only_S2-ValidChannels.csv\")\n",
    "\n",
    "activity_counts = df[\"Activity_Label_OpenBCI\"].value_counts().sort_index()\n",
    "\n",
    "print(\"Activity Label Counts:\")\n",
    "print(activity_counts)"
   ]
  },
  {
   "cell_type": "markdown",
   "id": "42e2c170",
   "metadata": {},
   "source": [
    "# Map Activity Labels to Descriptive Names and Save"
   ]
  },
  {
   "cell_type": "code",
   "execution_count": 4,
   "id": "38a450a6",
   "metadata": {},
   "outputs": [
    {
     "name": "stdout",
     "output_type": "stream",
     "text": [
      "Successfully updated and saved to 'EEG_Features_Only_S2-ValidChannels_Updated.csv' with activity names.\n"
     ]
    }
   ],
   "source": [
    "file_path = \"EEG_Features_Only_S2-ValidChannels.csv\"\n",
    "df_eeg = pd.read_csv(file_path)\n",
    "\n",
    "activity_map = {\n",
    "    1: \"Seated Leg Extensions\",\n",
    "    2: \"Marching in Place\",\n",
    "    3: \"Wall Push-ups\",\n",
    "    4: \"Seated Boxing Hooks\",\n",
    "    5: \"Standing Heel-to-Toe Walk\",\n",
    "    6: \"Side-Stepping\",\n",
    "    7: \"Seated Side Bends\",\n",
    "    8: \"Seated Medicine Ball Twists\",\n",
    "    9: \"Chair Squats\",\n",
    "    10: \"Light Stationary Cycling\"\n",
    "}\n",
    "\n",
    "df_eeg['Activity_Label_OpenBCI'] = df_eeg['Activity_Label_OpenBCI'].map(activity_map)\n",
    "\n",
    "updated_file_path = \"EEG_Features_Only_S2-ValidChannels_Updated.csv\"\n",
    "df_eeg.to_csv(updated_file_path, index=False)\n",
    "\n",
    "print(f\"Successfully updated and saved to '{updated_file_path}' with activity names.\")"
   ]
  },
  {
   "cell_type": "markdown",
   "id": "a125b935",
   "metadata": {},
   "source": [
    "# Load and Explore Updated EEG Data"
   ]
  },
  {
   "cell_type": "code",
   "execution_count": 5,
   "id": "e93964c4",
   "metadata": {},
   "outputs": [
    {
     "name": "stdout",
     "output_type": "stream",
     "text": [
      "Total Rows: 4444, Total Columns: 113\n",
      "Data shape: (4444, 113)\n",
      "\n",
      "First 5 rows:\n",
      "        Ch1_Std       Ch1_RMS     Ch1_Delta     Ch1_Theta     Ch1_Alpha  \\\n",
      "0  3.294342e-08  3.288102e-08  1.019457e-15  1.697558e-17  1.047358e-19   \n",
      "1  2.550835e-08  2.565058e-08  6.733823e-16  9.753028e-18  6.521918e-20   \n",
      "2  1.666174e-08  1.728277e-08  2.850825e-16  3.412955e-18  3.330225e-20   \n",
      "3  1.679324e-08  1.689003e-08  2.106830e-16  4.852391e-18  2.539799e-20   \n",
      "4  1.878374e-08  1.879696e-08  3.466841e-16  7.227741e-18  4.081149e-20   \n",
      "\n",
      "       Ch1_Beta     Ch1_Gamma      Ch2_Std      Ch2_RMS     Ch2_Delta  ...  \\\n",
      "0  1.795066e-19  6.596449e-20   836.908270   835.233310  6.302522e+05  ...   \n",
      "1  1.074368e-19  3.952609e-20   922.054152   926.667804  5.914787e+05  ...   \n",
      "2  4.782020e-20  1.738724e-20  4336.716109  4328.789897  1.674580e+07  ...   \n",
      "3  4.285488e-20  1.582407e-20  4347.166886  4339.065904  2.017343e+07  ...   \n",
      "4  6.868956e-20  2.512096e-20  1794.914711  1821.514790  1.961012e+06  ...   \n",
      "\n",
      "    Ch15_Beta  Ch15_Gamma   Ch16_Std   Ch16_RMS  Ch16_Delta  Ch16_Theta  \\\n",
      "0   33.716151   14.257074  21.739492  21.777035  101.673284  169.755237   \n",
      "1  130.111886   78.858141  24.205305  24.165579  311.039721  241.638889   \n",
      "2  138.262307  114.007643  27.853532  27.813665  250.764371  271.055486   \n",
      "3   87.011896    8.747329  26.172848  26.120782  387.892139  346.637867   \n",
      "4   46.274610   10.564146  18.168731  18.142815  102.919048  105.962035   \n",
      "\n",
      "   Ch16_Alpha   Ch16_Beta  Ch16_Gamma  Activity_Label_OpenBCI  \n",
      "0   29.495650   66.591963   32.829033   Seated Leg Extensions  \n",
      "1   51.792667  112.035265   61.272796   Seated Leg Extensions  \n",
      "2   78.102726   80.838244   21.686819   Seated Leg Extensions  \n",
      "3  105.266352   75.928399    8.142456   Seated Leg Extensions  \n",
      "4   80.124650   34.590448    9.936511   Seated Leg Extensions  \n",
      "\n",
      "[5 rows x 113 columns]\n",
      "\n",
      "Column names:\n",
      "['Ch1_Std', 'Ch1_RMS', 'Ch1_Delta', 'Ch1_Theta', 'Ch1_Alpha', 'Ch1_Beta', 'Ch1_Gamma', 'Ch2_Std', 'Ch2_RMS', 'Ch2_Delta', 'Ch2_Theta', 'Ch2_Alpha', 'Ch2_Beta', 'Ch2_Gamma', 'Ch3_Std', 'Ch3_RMS', 'Ch3_Delta', 'Ch3_Theta', 'Ch3_Alpha', 'Ch3_Beta', 'Ch3_Gamma', 'Ch4_Std', 'Ch4_RMS', 'Ch4_Delta', 'Ch4_Theta', 'Ch4_Alpha', 'Ch4_Beta', 'Ch4_Gamma', 'Ch5_Std', 'Ch5_RMS', 'Ch5_Delta', 'Ch5_Theta', 'Ch5_Alpha', 'Ch5_Beta', 'Ch5_Gamma', 'Ch6_Std', 'Ch6_RMS', 'Ch6_Delta', 'Ch6_Theta', 'Ch6_Alpha', 'Ch6_Beta', 'Ch6_Gamma', 'Ch7_Std', 'Ch7_RMS', 'Ch7_Delta', 'Ch7_Theta', 'Ch7_Alpha', 'Ch7_Beta', 'Ch7_Gamma', 'Ch8_Std', 'Ch8_RMS', 'Ch8_Delta', 'Ch8_Theta', 'Ch8_Alpha', 'Ch8_Beta', 'Ch8_Gamma', 'Ch9_Std', 'Ch9_RMS', 'Ch9_Delta', 'Ch9_Theta', 'Ch9_Alpha', 'Ch9_Beta', 'Ch9_Gamma', 'Ch10_Std', 'Ch10_RMS', 'Ch10_Delta', 'Ch10_Theta', 'Ch10_Alpha', 'Ch10_Beta', 'Ch10_Gamma', 'Ch11_Std', 'Ch11_RMS', 'Ch11_Delta', 'Ch11_Theta', 'Ch11_Alpha', 'Ch11_Beta', 'Ch11_Gamma', 'Ch12_Std', 'Ch12_RMS', 'Ch12_Delta', 'Ch12_Theta', 'Ch12_Alpha', 'Ch12_Beta', 'Ch12_Gamma', 'Ch13_Std', 'Ch13_RMS', 'Ch13_Delta', 'Ch13_Theta', 'Ch13_Alpha', 'Ch13_Beta', 'Ch13_Gamma', 'Ch14_Std', 'Ch14_RMS', 'Ch14_Delta', 'Ch14_Theta', 'Ch14_Alpha', 'Ch14_Beta', 'Ch14_Gamma', 'Ch15_Std', 'Ch15_RMS', 'Ch15_Delta', 'Ch15_Theta', 'Ch15_Alpha', 'Ch15_Beta', 'Ch15_Gamma', 'Ch16_Std', 'Ch16_RMS', 'Ch16_Delta', 'Ch16_Theta', 'Ch16_Alpha', 'Ch16_Beta', 'Ch16_Gamma', 'Activity_Label_OpenBCI']\n",
      "\n",
      "Unique Activity Labels:\n",
      "['Seated Leg Extensions' 'Marching in Place' 'Wall Push-ups'\n",
      " 'Seated Boxing Hooks' 'Standing Heel-to-Toe Walk' 'Side-Stepping'\n",
      " 'Seated Side Bends' 'Seated Medicine Ball Twists' 'Chair Squats'\n",
      " 'Light Stationary Cycling']\n"
     ]
    }
   ],
   "source": [
    "filename = \"EEG_Features_Only_S2-ValidChannels_Updated.csv\"\n",
    "df_eeg = pd.read_csv(filename)\n",
    "\n",
    "total_rows, total_columns = df_eeg.shape\n",
    "print(f\"Total Rows: {total_rows}, Total Columns: {total_columns}\")\n",
    "\n",
    "print(f\"Data shape: {df_eeg.shape}\")\n",
    "\n",
    "print(\"\\nFirst 5 rows:\")\n",
    "print(df_eeg.head())\n",
    "\n",
    "print(\"\\nColumn names:\")\n",
    "print(df_eeg.columns.tolist())\n",
    "\n",
    "if 'Activity_Label_OpenBCI' in df_eeg.columns:\n",
    "    print(\"\\nUnique Activity Labels:\")\n",
    "    print(df_eeg['Activity_Label_OpenBCI'].unique())"
   ]
  },
  {
   "cell_type": "markdown",
   "id": "98a292f5",
   "metadata": {},
   "source": [
    "# Count Activity Labels in Custom Order"
   ]
  },
  {
   "cell_type": "code",
   "execution_count": 6,
   "id": "313ec752",
   "metadata": {},
   "outputs": [
    {
     "name": "stdout",
     "output_type": "stream",
     "text": [
      "Activity Label Counts (in custom order):\n",
      "Activity_Label_OpenBCI\n",
      "Seated Leg Extensions          459\n",
      "Marching in Place              454\n",
      "Wall Push-ups                  587\n",
      "Seated Boxing Hooks            465\n",
      "Standing Heel-to-Toe Walk      452\n",
      "Side-Stepping                  475\n",
      "Seated Side Bends              461\n",
      "Seated Medicine Ball Twists    311\n",
      "Chair Squats                   469\n",
      "Light Stationary Cycling       311\n",
      "Name: count, dtype: int64\n"
     ]
    }
   ],
   "source": [
    "df = pd.read_csv(\"EEG_Features_Only_S2-ValidChannels_Updated.csv\")\n",
    "\n",
    "activity_counts = df[\"Activity_Label_OpenBCI\"].value_counts()\n",
    "\n",
    "activity_order = [\n",
    "    \"Seated Leg Extensions\",\n",
    "    \"Marching in Place\",\n",
    "    \"Wall Push-ups\",\n",
    "    \"Seated Boxing Hooks\",\n",
    "    \"Standing Heel-to-Toe Walk\",\n",
    "    \"Side-Stepping\",\n",
    "    \"Seated Side Bends\",\n",
    "    \"Seated Medicine Ball Twists\",\n",
    "    \"Chair Squats\",\n",
    "    \"Light Stationary Cycling\"\n",
    "]\n",
    "\n",
    "activity_counts_ordered = activity_counts.reindex(activity_order)\n",
    "\n",
    "print(\"Activity Label Counts (in custom order):\")\n",
    "print(activity_counts_ordered)"
   ]
  }
 ],
 "metadata": {
  "kernelspec": {
   "display_name": "Python 3 (ipykernel)",
   "language": "python",
   "name": "python3"
  },
  "language_info": {
   "codemirror_mode": {
    "name": "ipython",
    "version": 3
   },
   "file_extension": ".py",
   "mimetype": "text/x-python",
   "name": "python",
   "nbconvert_exporter": "python",
   "pygments_lexer": "ipython3",
   "version": "3.9.7"
  }
 },
 "nbformat": 4,
 "nbformat_minor": 5
}
