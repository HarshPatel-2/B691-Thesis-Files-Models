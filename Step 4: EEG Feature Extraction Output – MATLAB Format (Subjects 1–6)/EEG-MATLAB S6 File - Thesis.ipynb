{
 "cells": [
  {
   "cell_type": "markdown",
   "id": "64d67f2f",
   "metadata": {},
   "source": [
    "# Import Libraries"
   ]
  },
  {
   "cell_type": "code",
   "execution_count": 1,
   "id": "279f4cfa",
   "metadata": {},
   "outputs": [],
   "source": [
    "import pandas as pd"
   ]
  },
  {
   "cell_type": "markdown",
   "id": "5ca1c6ba",
   "metadata": {},
   "source": [
    "# Load and Explore Raw EEG Data"
   ]
  },
  {
   "cell_type": "code",
   "execution_count": 2,
   "id": "6694c4a0",
   "metadata": {},
   "outputs": [
    {
     "name": "stdout",
     "output_type": "stream",
     "text": [
      "Total Rows: 4260, Total Columns: 113\n",
      "Data shape: (4260, 113)\n",
      "\n",
      "First 5 rows:\n",
      "       Ch1_Std      Ch1_RMS     Ch1_Delta     Ch1_Theta     Ch1_Alpha  \\\n",
      "0  4857.681843  4847.968538  2.854840e+06  4.319578e+06  5.227880e+06   \n",
      "1   132.772081   132.516423  7.862725e+03  1.648847e+02  3.404095e+00   \n",
      "2    12.207498    12.213507  6.656339e+01  1.236099e+00  2.239352e-02   \n",
      "3     1.285902     1.305492  7.837881e-01  1.110503e-02  1.981050e-04   \n",
      "4     0.121545     0.125660  9.266048e-03  9.696425e-05  1.361289e-06   \n",
      "\n",
      "       Ch1_Beta     Ch1_Gamma      Ch2_Std      Ch2_RMS     Ch2_Delta  ...  \\\n",
      "0  1.613151e+07  1.158393e+07  8235.834518  8221.074093  5.419874e+07  ...   \n",
      "1  5.934459e+00  2.185854e+00  2925.139995  2946.658471  6.871590e+06  ...   \n",
      "2  3.937564e-02  1.448537e-02  2682.071548  2685.041268  5.915560e+06  ...   \n",
      "3  3.455138e-04  1.269007e-04  2036.137491  2032.098813  2.953558e+06  ...   \n",
      "4  2.349367e-06  8.607598e-07  1581.690684  1596.709436  1.591103e+06  ...   \n",
      "\n",
      "      Ch15_Beta    Ch15_Gamma     Ch16_Std     Ch16_RMS    Ch16_Delta  \\\n",
      "0  1.613152e+07  1.158392e+07  4346.418185  4339.802055  1.347594e+07   \n",
      "1  5.013303e+03  1.483926e+03  4361.175457  4377.936330  2.007409e+07   \n",
      "2  4.489068e+04  1.399033e+04  3139.346790  3150.274448  6.784458e+06   \n",
      "3  5.117539e+02  9.360046e+01  1477.825884  1477.153108  1.478683e+06   \n",
      "4  7.721850e-03  2.843320e-03  1544.955824  1546.167824  1.685909e+06   \n",
      "\n",
      "     Ch16_Theta     Ch16_Alpha     Ch16_Beta     Ch16_Gamma  \\\n",
      "0  2.013826e+06  785991.118203  1.380084e+06  827738.492163   \n",
      "1  9.346467e+05   66839.750914  4.982287e+04   14149.117476   \n",
      "2  8.510006e+05   50984.681460  1.066931e+05   27809.573076   \n",
      "3  2.480067e+05   17505.147675  2.420039e+04    6348.982981   \n",
      "4  2.578228e+05   35287.934975  5.254918e+04   11683.526754   \n",
      "\n",
      "   Activity_Label_OpenBCI  \n",
      "0                       1  \n",
      "1                       1  \n",
      "2                       1  \n",
      "3                       1  \n",
      "4                       1  \n",
      "\n",
      "[5 rows x 113 columns]\n",
      "\n",
      "Column names:\n",
      "['Ch1_Std', 'Ch1_RMS', 'Ch1_Delta', 'Ch1_Theta', 'Ch1_Alpha', 'Ch1_Beta', 'Ch1_Gamma', 'Ch2_Std', 'Ch2_RMS', 'Ch2_Delta', 'Ch2_Theta', 'Ch2_Alpha', 'Ch2_Beta', 'Ch2_Gamma', 'Ch3_Std', 'Ch3_RMS', 'Ch3_Delta', 'Ch3_Theta', 'Ch3_Alpha', 'Ch3_Beta', 'Ch3_Gamma', 'Ch4_Std', 'Ch4_RMS', 'Ch4_Delta', 'Ch4_Theta', 'Ch4_Alpha', 'Ch4_Beta', 'Ch4_Gamma', 'Ch5_Std', 'Ch5_RMS', 'Ch5_Delta', 'Ch5_Theta', 'Ch5_Alpha', 'Ch5_Beta', 'Ch5_Gamma', 'Ch6_Std', 'Ch6_RMS', 'Ch6_Delta', 'Ch6_Theta', 'Ch6_Alpha', 'Ch6_Beta', 'Ch6_Gamma', 'Ch7_Std', 'Ch7_RMS', 'Ch7_Delta', 'Ch7_Theta', 'Ch7_Alpha', 'Ch7_Beta', 'Ch7_Gamma', 'Ch8_Std', 'Ch8_RMS', 'Ch8_Delta', 'Ch8_Theta', 'Ch8_Alpha', 'Ch8_Beta', 'Ch8_Gamma', 'Ch9_Std', 'Ch9_RMS', 'Ch9_Delta', 'Ch9_Theta', 'Ch9_Alpha', 'Ch9_Beta', 'Ch9_Gamma', 'Ch10_Std', 'Ch10_RMS', 'Ch10_Delta', 'Ch10_Theta', 'Ch10_Alpha', 'Ch10_Beta', 'Ch10_Gamma', 'Ch11_Std', 'Ch11_RMS', 'Ch11_Delta', 'Ch11_Theta', 'Ch11_Alpha', 'Ch11_Beta', 'Ch11_Gamma', 'Ch12_Std', 'Ch12_RMS', 'Ch12_Delta', 'Ch12_Theta', 'Ch12_Alpha', 'Ch12_Beta', 'Ch12_Gamma', 'Ch13_Std', 'Ch13_RMS', 'Ch13_Delta', 'Ch13_Theta', 'Ch13_Alpha', 'Ch13_Beta', 'Ch13_Gamma', 'Ch14_Std', 'Ch14_RMS', 'Ch14_Delta', 'Ch14_Theta', 'Ch14_Alpha', 'Ch14_Beta', 'Ch14_Gamma', 'Ch15_Std', 'Ch15_RMS', 'Ch15_Delta', 'Ch15_Theta', 'Ch15_Alpha', 'Ch15_Beta', 'Ch15_Gamma', 'Ch16_Std', 'Ch16_RMS', 'Ch16_Delta', 'Ch16_Theta', 'Ch16_Alpha', 'Ch16_Beta', 'Ch16_Gamma', 'Activity_Label_OpenBCI']\n",
      "\n",
      "Unique Activity Labels:\n",
      "[ 1  2  3  4  5  6  7  8  9 10]\n"
     ]
    }
   ],
   "source": [
    "filename = \"EEG_Features_Only_S6-ValidChannels.csv\"\n",
    "df_eeg = pd.read_csv(filename)\n",
    "\n",
    "total_rows, total_columns = df_eeg.shape\n",
    "print(f\"Total Rows: {total_rows}, Total Columns: {total_columns}\")\n",
    "\n",
    "print(f\"Data shape: {df_eeg.shape}\")\n",
    "\n",
    "print(\"\\nFirst 5 rows:\")\n",
    "print(df_eeg.head())\n",
    "\n",
    "print(\"\\nColumn names:\")\n",
    "print(df_eeg.columns.tolist())\n",
    "\n",
    "if 'Activity_Label_OpenBCI' in df_eeg.columns:\n",
    "    print(\"\\nUnique Activity Labels:\")\n",
    "    print(df_eeg['Activity_Label_OpenBCI'].unique())"
   ]
  },
  {
   "cell_type": "markdown",
   "id": "900b284e",
   "metadata": {},
   "source": [
    "# Count Activity Labels in Raw Data"
   ]
  },
  {
   "cell_type": "code",
   "execution_count": 3,
   "id": "20679db1",
   "metadata": {},
   "outputs": [
    {
     "name": "stdout",
     "output_type": "stream",
     "text": [
      "Activity Label Counts:\n",
      "Activity_Label_OpenBCI\n",
      "1     585\n",
      "2     459\n",
      "3     475\n",
      "4     466\n",
      "5     460\n",
      "6     305\n",
      "7     459\n",
      "8     462\n",
      "9     470\n",
      "10    119\n",
      "Name: count, dtype: int64\n"
     ]
    }
   ],
   "source": [
    "df = pd.read_csv(\"EEG_Features_Only_S6-ValidChannels.csv\")\n",
    "\n",
    "activity_counts = df[\"Activity_Label_OpenBCI\"].value_counts().sort_index()\n",
    "\n",
    "print(\"Activity Label Counts:\")\n",
    "print(activity_counts)"
   ]
  },
  {
   "cell_type": "markdown",
   "id": "fc4f50b6",
   "metadata": {},
   "source": [
    "# Map Activity Labels to Descriptive Names and Save"
   ]
  },
  {
   "cell_type": "code",
   "execution_count": 4,
   "id": "1986da34",
   "metadata": {},
   "outputs": [
    {
     "name": "stdout",
     "output_type": "stream",
     "text": [
      "Successfully updated and saved to 'EEG_Features_Only_S6-ValidChannels_Updated.csv' with activity names.\n"
     ]
    }
   ],
   "source": [
    "file_path = \"EEG_Features_Only_S6-ValidChannels.csv\"\n",
    "df_eeg = pd.read_csv(file_path)\n",
    "\n",
    "activity_map = {\n",
    "    1: \"Seated Leg Extensions\",\n",
    "    2: \"Marching in Place\",\n",
    "    3: \"Wall Push-ups\",\n",
    "    4: \"Seated Boxing Hooks\",\n",
    "    5: \"Standing Heel-to-Toe Walk\",\n",
    "    6: \"Side-Stepping\",\n",
    "    7: \"Seated Side Bends\",\n",
    "    8: \"Seated Medicine Ball Twists\",\n",
    "    9: \"Chair Squats\",\n",
    "    10: \"Light Stationary Cycling\"\n",
    "}\n",
    "\n",
    "df_eeg['Activity_Label_OpenBCI'] = df_eeg['Activity_Label_OpenBCI'].map(activity_map)\n",
    "\n",
    "updated_file_path = \"EEG_Features_Only_S6-ValidChannels_Updated.csv\"\n",
    "df_eeg.to_csv(updated_file_path, index=False)\n",
    "\n",
    "print(f\"Successfully updated and saved to '{updated_file_path}' with activity names.\")"
   ]
  },
  {
   "cell_type": "markdown",
   "id": "70e306ab",
   "metadata": {},
   "source": [
    "# Load and Explore Updated EEG Data"
   ]
  },
  {
   "cell_type": "code",
   "execution_count": 5,
   "id": "e2c650e8",
   "metadata": {},
   "outputs": [
    {
     "name": "stdout",
     "output_type": "stream",
     "text": [
      "Total Rows: 4260, Total Columns: 113\n",
      "Data shape: (4260, 113)\n",
      "\n",
      "First 5 rows:\n",
      "       Ch1_Std      Ch1_RMS     Ch1_Delta     Ch1_Theta     Ch1_Alpha  \\\n",
      "0  4857.681843  4847.968538  2.854840e+06  4.319578e+06  5.227880e+06   \n",
      "1   132.772081   132.516423  7.862725e+03  1.648847e+02  3.404095e+00   \n",
      "2    12.207498    12.213507  6.656339e+01  1.236099e+00  2.239352e-02   \n",
      "3     1.285902     1.305492  7.837881e-01  1.110503e-02  1.981050e-04   \n",
      "4     0.121545     0.125660  9.266048e-03  9.696425e-05  1.361289e-06   \n",
      "\n",
      "       Ch1_Beta     Ch1_Gamma      Ch2_Std      Ch2_RMS     Ch2_Delta  ...  \\\n",
      "0  1.613151e+07  1.158393e+07  8235.834518  8221.074093  5.419874e+07  ...   \n",
      "1  5.934459e+00  2.185854e+00  2925.139995  2946.658471  6.871590e+06  ...   \n",
      "2  3.937564e-02  1.448537e-02  2682.071548  2685.041268  5.915560e+06  ...   \n",
      "3  3.455138e-04  1.269007e-04  2036.137491  2032.098813  2.953558e+06  ...   \n",
      "4  2.349367e-06  8.607598e-07  1581.690684  1596.709436  1.591103e+06  ...   \n",
      "\n",
      "      Ch15_Beta    Ch15_Gamma     Ch16_Std     Ch16_RMS    Ch16_Delta  \\\n",
      "0  1.613152e+07  1.158392e+07  4346.418185  4339.802055  1.347594e+07   \n",
      "1  5.013303e+03  1.483926e+03  4361.175457  4377.936330  2.007409e+07   \n",
      "2  4.489068e+04  1.399033e+04  3139.346790  3150.274448  6.784458e+06   \n",
      "3  5.117539e+02  9.360046e+01  1477.825884  1477.153108  1.478683e+06   \n",
      "4  7.721850e-03  2.843320e-03  1544.955824  1546.167824  1.685909e+06   \n",
      "\n",
      "     Ch16_Theta     Ch16_Alpha     Ch16_Beta     Ch16_Gamma  \\\n",
      "0  2.013826e+06  785991.118203  1.380084e+06  827738.492163   \n",
      "1  9.346467e+05   66839.750914  4.982287e+04   14149.117476   \n",
      "2  8.510006e+05   50984.681460  1.066931e+05   27809.573076   \n",
      "3  2.480067e+05   17505.147675  2.420039e+04    6348.982981   \n",
      "4  2.578228e+05   35287.934975  5.254918e+04   11683.526754   \n",
      "\n",
      "   Activity_Label_OpenBCI  \n",
      "0   Seated Leg Extensions  \n",
      "1   Seated Leg Extensions  \n",
      "2   Seated Leg Extensions  \n",
      "3   Seated Leg Extensions  \n",
      "4   Seated Leg Extensions  \n",
      "\n",
      "[5 rows x 113 columns]\n",
      "\n",
      "Column names:\n",
      "['Ch1_Std', 'Ch1_RMS', 'Ch1_Delta', 'Ch1_Theta', 'Ch1_Alpha', 'Ch1_Beta', 'Ch1_Gamma', 'Ch2_Std', 'Ch2_RMS', 'Ch2_Delta', 'Ch2_Theta', 'Ch2_Alpha', 'Ch2_Beta', 'Ch2_Gamma', 'Ch3_Std', 'Ch3_RMS', 'Ch3_Delta', 'Ch3_Theta', 'Ch3_Alpha', 'Ch3_Beta', 'Ch3_Gamma', 'Ch4_Std', 'Ch4_RMS', 'Ch4_Delta', 'Ch4_Theta', 'Ch4_Alpha', 'Ch4_Beta', 'Ch4_Gamma', 'Ch5_Std', 'Ch5_RMS', 'Ch5_Delta', 'Ch5_Theta', 'Ch5_Alpha', 'Ch5_Beta', 'Ch5_Gamma', 'Ch6_Std', 'Ch6_RMS', 'Ch6_Delta', 'Ch6_Theta', 'Ch6_Alpha', 'Ch6_Beta', 'Ch6_Gamma', 'Ch7_Std', 'Ch7_RMS', 'Ch7_Delta', 'Ch7_Theta', 'Ch7_Alpha', 'Ch7_Beta', 'Ch7_Gamma', 'Ch8_Std', 'Ch8_RMS', 'Ch8_Delta', 'Ch8_Theta', 'Ch8_Alpha', 'Ch8_Beta', 'Ch8_Gamma', 'Ch9_Std', 'Ch9_RMS', 'Ch9_Delta', 'Ch9_Theta', 'Ch9_Alpha', 'Ch9_Beta', 'Ch9_Gamma', 'Ch10_Std', 'Ch10_RMS', 'Ch10_Delta', 'Ch10_Theta', 'Ch10_Alpha', 'Ch10_Beta', 'Ch10_Gamma', 'Ch11_Std', 'Ch11_RMS', 'Ch11_Delta', 'Ch11_Theta', 'Ch11_Alpha', 'Ch11_Beta', 'Ch11_Gamma', 'Ch12_Std', 'Ch12_RMS', 'Ch12_Delta', 'Ch12_Theta', 'Ch12_Alpha', 'Ch12_Beta', 'Ch12_Gamma', 'Ch13_Std', 'Ch13_RMS', 'Ch13_Delta', 'Ch13_Theta', 'Ch13_Alpha', 'Ch13_Beta', 'Ch13_Gamma', 'Ch14_Std', 'Ch14_RMS', 'Ch14_Delta', 'Ch14_Theta', 'Ch14_Alpha', 'Ch14_Beta', 'Ch14_Gamma', 'Ch15_Std', 'Ch15_RMS', 'Ch15_Delta', 'Ch15_Theta', 'Ch15_Alpha', 'Ch15_Beta', 'Ch15_Gamma', 'Ch16_Std', 'Ch16_RMS', 'Ch16_Delta', 'Ch16_Theta', 'Ch16_Alpha', 'Ch16_Beta', 'Ch16_Gamma', 'Activity_Label_OpenBCI']\n",
      "\n",
      "Unique Activity Labels:\n",
      "['Seated Leg Extensions' 'Marching in Place' 'Wall Push-ups'\n",
      " 'Seated Boxing Hooks' 'Standing Heel-to-Toe Walk' 'Side-Stepping'\n",
      " 'Seated Side Bends' 'Seated Medicine Ball Twists' 'Chair Squats'\n",
      " 'Light Stationary Cycling']\n"
     ]
    }
   ],
   "source": [
    "filename = \"EEG_Features_Only_S6-ValidChannels_Updated.csv\"\n",
    "df_eeg = pd.read_csv(filename)\n",
    "\n",
    "total_rows, total_columns = df_eeg.shape\n",
    "print(f\"Total Rows: {total_rows}, Total Columns: {total_columns}\")\n",
    "\n",
    "print(f\"Data shape: {df_eeg.shape}\")\n",
    "\n",
    "print(\"\\nFirst 5 rows:\")\n",
    "print(df_eeg.head())\n",
    "\n",
    "print(\"\\nColumn names:\")\n",
    "print(df_eeg.columns.tolist())\n",
    "\n",
    "if 'Activity_Label_OpenBCI' in df_eeg.columns:\n",
    "    print(\"\\nUnique Activity Labels:\")\n",
    "    print(df_eeg['Activity_Label_OpenBCI'].unique())"
   ]
  },
  {
   "cell_type": "markdown",
   "id": "cc389258",
   "metadata": {},
   "source": [
    "# Count Activity Labels in Custom Order"
   ]
  },
  {
   "cell_type": "code",
   "execution_count": 6,
   "id": "33bd542f",
   "metadata": {},
   "outputs": [
    {
     "name": "stdout",
     "output_type": "stream",
     "text": [
      "Activity Label Counts (in custom order):\n",
      "Activity_Label_OpenBCI\n",
      "Seated Leg Extensions          585\n",
      "Marching in Place              459\n",
      "Wall Push-ups                  475\n",
      "Seated Boxing Hooks            466\n",
      "Standing Heel-to-Toe Walk      460\n",
      "Side-Stepping                  305\n",
      "Seated Side Bends              459\n",
      "Seated Medicine Ball Twists    462\n",
      "Chair Squats                   470\n",
      "Light Stationary Cycling       119\n",
      "Name: count, dtype: int64\n"
     ]
    }
   ],
   "source": [
    "df = pd.read_csv(\"EEG_Features_Only_S6-ValidChannels_Updated.csv\")\n",
    "\n",
    "activity_counts = df[\"Activity_Label_OpenBCI\"].value_counts()\n",
    "\n",
    "activity_order = [\n",
    "    \"Seated Leg Extensions\",\n",
    "    \"Marching in Place\",\n",
    "    \"Wall Push-ups\",\n",
    "    \"Seated Boxing Hooks\",\n",
    "    \"Standing Heel-to-Toe Walk\",\n",
    "    \"Side-Stepping\",\n",
    "    \"Seated Side Bends\",\n",
    "    \"Seated Medicine Ball Twists\",\n",
    "    \"Chair Squats\",\n",
    "    \"Light Stationary Cycling\"\n",
    "]\n",
    "\n",
    "activity_counts_ordered = activity_counts.reindex(activity_order)\n",
    "\n",
    "print(\"Activity Label Counts (in custom order):\")\n",
    "print(activity_counts_ordered)"
   ]
  }
 ],
 "metadata": {
  "kernelspec": {
   "display_name": "Python 3 (ipykernel)",
   "language": "python",
   "name": "python3"
  },
  "language_info": {
   "codemirror_mode": {
    "name": "ipython",
    "version": 3
   },
   "file_extension": ".py",
   "mimetype": "text/x-python",
   "name": "python",
   "nbconvert_exporter": "python",
   "pygments_lexer": "ipython3",
   "version": "3.9.7"
  }
 },
 "nbformat": 4,
 "nbformat_minor": 5
}
