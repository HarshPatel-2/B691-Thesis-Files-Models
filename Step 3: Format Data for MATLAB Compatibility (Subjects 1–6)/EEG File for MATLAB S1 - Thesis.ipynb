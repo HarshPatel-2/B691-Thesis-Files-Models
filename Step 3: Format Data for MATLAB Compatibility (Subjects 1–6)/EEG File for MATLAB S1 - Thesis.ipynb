{
 "cells": [
  {
   "cell_type": "markdown",
   "id": "341de14e",
   "metadata": {},
   "source": [
    "# Import Libraries"
   ]
  },
  {
   "cell_type": "code",
   "execution_count": 1,
   "id": "1c86c976",
   "metadata": {},
   "outputs": [],
   "source": [
    "import pandas as pd\n",
    "import matplotlib.pyplot as plt"
   ]
  },
  {
   "cell_type": "markdown",
   "id": "00d8e63a",
   "metadata": {},
   "source": [
    "# Load and Explore the EEG Data"
   ]
  },
  {
   "cell_type": "code",
   "execution_count": 2,
   "id": "e92132e1",
   "metadata": {},
   "outputs": [
    {
     "name": "stdout",
     "output_type": "stream",
     "text": [
      "Columns:\n",
      "['Sample Index', 'EXG Channel 0', 'EXG Channel 1', 'EXG Channel 2', 'EXG Channel 3', 'EXG Channel 4', 'EXG Channel 5', 'EXG Channel 6', 'EXG Channel 7', 'EXG Channel 8', 'EXG Channel 9', 'EXG Channel 10', 'EXG Channel 11', 'EXG Channel 12', 'EXG Channel 13', 'EXG Channel 14', 'EXG Channel 15', 'Accel Channel 0', 'Accel Channel 1', 'Accel Channel 2', 'Not Used 1', 'Digital Channel 0 (D11)', 'Digital Channel 1 (D12)', 'Digital Channel 2 (D13)', 'Digital Channel 3 (D17)', 'Not Used 2', 'Digital Channel 4 (D18)', 'Analog Channel 0', 'Analog Channel 1', 'Analog Channel 2', 'Timestamp', 'Marker Channel', 'Timestamp (Formatted)', 'Activity', 'Timestamp_Gyro', 'Gyro X (°/s)', 'Gyro Y (°/s)', 'Gyro Z (°/s)', 'Activity_Label_x', 'Subject_ID_x', 'Timestamp_Accel', 'Accel X (g)', 'Accel Y (g)', 'Accel Z (g)', 'Activity_Label_y', 'Subject_ID_y']\n",
      "\n",
      "First 5 rows:\n",
      "   Sample Index  EXG Channel 0  EXG Channel 1  EXG Channel 2  EXG Channel 3  \\\n",
      "0           6.0 -166914.311578  -72778.933976 -162089.933406   42949.145192   \n",
      "1           8.0 -166882.616804  -72250.270516 -158688.869618   43413.860311   \n",
      "2          10.0 -166881.119237  -73205.584074 -160614.897086   42795.812225   \n",
      "3          12.0 -166840.126138  -73581.339250 -160860.855682   42779.607210   \n",
      "4          14.0 -166840.863745  -73833.131651 -159276.966366   42689.417921   \n",
      "\n",
      "   EXG Channel 4  EXG Channel 5  EXG Channel 6  EXG Channel 7  EXG Channel 8  \\\n",
      "0 -149585.562895 -163687.613748 -164460.179443 -166998.465895 -147736.224262   \n",
      "1 -149614.396645 -159750.622183 -165931.795947 -166969.542738 -165048.857337   \n",
      "2 -149898.777890 -162515.778841 -164265.831025 -166965.206500 -148667.040308   \n",
      "3 -150113.734616 -161619.473889 -166378.562615 -166928.840211 -164713.201191   \n",
      "4 -150154.973585 -161393.006014 -164366.816207 -166925.152174 -149120.557203   \n",
      "\n",
      "   ...  Gyro Y (°/s)  Gyro Z (°/s)   Activity_Label_x  Subject_ID_x  \\\n",
      "0  ...     -0.023213     -0.006109  Marching in Place     Subject 1   \n",
      "1  ...     -0.023213     -0.006109  Marching in Place     Subject 1   \n",
      "2  ...     -0.023213     -0.006109  Marching in Place     Subject 1   \n",
      "3  ...     -0.023213     -0.006109  Marching in Place     Subject 1   \n",
      "4  ...     -0.023213     -0.006109  Marching in Place     Subject 1   \n",
      "\n",
      "   Timestamp_Accel  Accel X (g)  Accel Y (g)  Accel Z (g)   Activity_Label_y  \\\n",
      "0     1.739025e+09    -4.012682    -4.826711     7.534553  Marching in Place   \n",
      "1     1.739025e+09    -4.012682    -4.826711     7.534553  Marching in Place   \n",
      "2     1.739025e+09    -4.012682    -4.826711     7.534553  Marching in Place   \n",
      "3     1.739025e+09    -4.012682    -4.826711     7.534553  Marching in Place   \n",
      "4     1.739025e+09    -4.012682    -4.826711     7.534553  Marching in Place   \n",
      "\n",
      "   Subject_ID_y  \n",
      "0     Subject 1  \n",
      "1     Subject 1  \n",
      "2     Subject 1  \n",
      "3     Subject 1  \n",
      "4     Subject 1  \n",
      "\n",
      "[5 rows x 46 columns]\n",
      "\n",
      "Total shape: 737808 rows × 46 columns\n"
     ]
    }
   ],
   "source": [
    "df = pd.read_csv('EEG-HAR_Subject_1_Merged.csv')\n",
    "print(\"Columns:\")\n",
    "print(df.columns.tolist())\n",
    "print(\"\\nFirst 5 rows:\")\n",
    "print(df.head())\n",
    "print(f\"\\nTotal shape: {df.shape[0]} rows × {df.shape[1]} columns\")"
   ]
  },
  {
   "cell_type": "markdown",
   "id": "057fc510",
   "metadata": {},
   "source": [
    "# Count the Activity Labels"
   ]
  },
  {
   "cell_type": "code",
   "execution_count": 3,
   "id": "1390c90d",
   "metadata": {},
   "outputs": [
    {
     "name": "stdout",
     "output_type": "stream",
     "text": [
      "Activity\n",
      "OpenBCISession_s1-seated side bends              105337\n",
      "OpenBCISession_s1-seated medicine ball twists    104134\n",
      "OpenBCISession_s1-standing heel to toe walk       98352\n",
      "OpenBCISession_s1-seated leg extensions           77555\n",
      "OpenBCISession_s1-wall push-ups                   73358\n",
      "OpenBCISession_s1-seated boxing hooks             58111\n",
      "OpenBCISession_s1-light stationary cycling        57162\n",
      "OpenBCISession_s1-chair squats                    56998\n",
      "OpenBCISession_s1-side-stepping                   55581\n",
      "OpenBCISession_s1-marching in place               51220\n",
      "Name: count, dtype: int64\n"
     ]
    }
   ],
   "source": [
    "df = pd.read_csv('EEG-HAR_Subject_1_Merged.csv')\n",
    "activity_counts = df['Activity'].value_counts()\n",
    "print(activity_counts)"
   ]
  },
  {
   "cell_type": "markdown",
   "id": "bb8b2481",
   "metadata": {},
   "source": [
    "# Extract EEG Data and Save to New File"
   ]
  },
  {
   "cell_type": "code",
   "execution_count": 4,
   "id": "e54c2c32",
   "metadata": {},
   "outputs": [
    {
     "name": "stdout",
     "output_type": "stream",
     "text": [
      "Created: EEG_Only_Subject1.csv\n",
      "Shape: (737808, 18)\n",
      "   EXG Channel 0  EXG Channel 1  EXG Channel 2  EXG Channel 3  EXG Channel 4  \\\n",
      "0 -166914.311578  -72778.933976 -162089.933406   42949.145192 -149585.562895   \n",
      "1 -166882.616804  -72250.270516 -158688.869618   43413.860311 -149614.396645   \n",
      "2 -166881.119237  -73205.584074 -160614.897086   42795.812225 -149898.777890   \n",
      "3 -166840.126138  -73581.339250 -160860.855682   42779.607210 -150113.734616   \n",
      "4 -166840.863745  -73833.131651 -159276.966366   42689.417921 -150154.973585   \n",
      "\n",
      "   EXG Channel 5  EXG Channel 6  EXG Channel 7  EXG Channel 8  EXG Channel 9  \\\n",
      "0 -163687.613748 -164460.179443 -166998.465895 -147736.224262 -166795.780277   \n",
      "1 -159750.622183 -165931.795947 -166969.542738 -165048.857337 -166773.272070   \n",
      "2 -162515.778841 -164265.831025 -166965.206500 -148667.040308 -166761.112721   \n",
      "3 -161619.473889 -166378.562615 -166928.840211 -164713.201191 -166738.045721   \n",
      "4 -161393.006014 -164366.816207 -166925.152174 -149120.557203 -166717.906799   \n",
      "\n",
      "   EXG Channel 10  EXG Channel 11  EXG Channel 12  EXG Channel 13  \\\n",
      "0  -167026.293817  -154053.318984        187500.0  -155565.146275   \n",
      "1  -166996.096611  -156457.517321        187500.0  -166276.973936   \n",
      "2  -166991.626262  -154014.672818        187500.0  -155627.708808   \n",
      "3  -166960.691447  -156550.388819        187500.0  -166544.457262   \n",
      "4  -166947.906250  -154072.608539        187500.0  -156228.277830   \n",
      "\n",
      "   EXG Channel 14  EXG Channel 15 Subject_ID_x  \\\n",
      "0  -153713.818337  -166996.789515    Subject 1   \n",
      "1  -166314.882495  -166974.795398    Subject 1   \n",
      "2  -153851.058048  -166961.518462    Subject 1   \n",
      "3  -166529.526297  -166939.278476    Subject 1   \n",
      "4  -154620.762720  -166917.664339    Subject 1   \n",
      "\n",
      "                                  Activity  \n",
      "0  OpenBCISession_s1-seated leg extensions  \n",
      "1  OpenBCISession_s1-seated leg extensions  \n",
      "2  OpenBCISession_s1-seated leg extensions  \n",
      "3  OpenBCISession_s1-seated leg extensions  \n",
      "4  OpenBCISession_s1-seated leg extensions  \n"
     ]
    }
   ],
   "source": [
    "df = pd.read_csv('EEG-HAR_Subject_1_Merged.csv')\n",
    "eeg_columns = [f'EXG Channel {i}' for i in range(16)]\n",
    "meta_columns = ['Subject_ID_x', 'Activity']\n",
    "eeg_only_df = df[eeg_columns + meta_columns]\n",
    "eeg_only_df.to_csv('EEG_Only_Subject1.csv', index=False)\n",
    "print(\"Created: EEG_Only_Subject1.csv\")\n",
    "print(f\"Shape: {eeg_only_df.shape}\")\n",
    "print(eeg_only_df.head())"
   ]
  },
  {
   "cell_type": "markdown",
   "id": "8c6f3fdc",
   "metadata": {},
   "source": [
    "# Rename Columns and Save the Updated File"
   ]
  },
  {
   "cell_type": "code",
   "execution_count": 5,
   "id": "1f739a4d",
   "metadata": {},
   "outputs": [
    {
     "name": "stdout",
     "output_type": "stream",
     "text": [
      "Columns renamed and file updated.\n",
      "Last 2 columns: ['Subject_ID', 'Activity_Label_OpenBCI']\n",
      "\n",
      "Preview of data:\n",
      "   EXG Channel 0  EXG Channel 1  EXG Channel 2  EXG Channel 3  EXG Channel 4  \\\n",
      "0 -166914.311578  -72778.933976 -162089.933406   42949.145192 -149585.562895   \n",
      "1 -166882.616804  -72250.270516 -158688.869618   43413.860311 -149614.396645   \n",
      "2 -166881.119237  -73205.584074 -160614.897086   42795.812225 -149898.777890   \n",
      "3 -166840.126138  -73581.339250 -160860.855682   42779.607210 -150113.734616   \n",
      "4 -166840.863745  -73833.131651 -159276.966366   42689.417921 -150154.973585   \n",
      "\n",
      "   EXG Channel 5  EXG Channel 6  EXG Channel 7  EXG Channel 8  EXG Channel 9  \\\n",
      "0 -163687.613748 -164460.179443 -166998.465895 -147736.224262 -166795.780277   \n",
      "1 -159750.622183 -165931.795947 -166969.542738 -165048.857337 -166773.272070   \n",
      "2 -162515.778841 -164265.831025 -166965.206500 -148667.040308 -166761.112721   \n",
      "3 -161619.473889 -166378.562615 -166928.840211 -164713.201191 -166738.045721   \n",
      "4 -161393.006014 -164366.816207 -166925.152174 -149120.557203 -166717.906799   \n",
      "\n",
      "   EXG Channel 10  EXG Channel 11  EXG Channel 12  EXG Channel 13  \\\n",
      "0  -167026.293817  -154053.318984        187500.0  -155565.146275   \n",
      "1  -166996.096611  -156457.517321        187500.0  -166276.973936   \n",
      "2  -166991.626262  -154014.672818        187500.0  -155627.708808   \n",
      "3  -166960.691447  -156550.388819        187500.0  -166544.457262   \n",
      "4  -166947.906250  -154072.608539        187500.0  -156228.277830   \n",
      "\n",
      "   EXG Channel 14  EXG Channel 15 Subject_ID  \\\n",
      "0  -153713.818337  -166996.789515  Subject 1   \n",
      "1  -166314.882495  -166974.795398  Subject 1   \n",
      "2  -153851.058048  -166961.518462  Subject 1   \n",
      "3  -166529.526297  -166939.278476  Subject 1   \n",
      "4  -154620.762720  -166917.664339  Subject 1   \n",
      "\n",
      "                    Activity_Label_OpenBCI  \n",
      "0  OpenBCISession_s1-seated leg extensions  \n",
      "1  OpenBCISession_s1-seated leg extensions  \n",
      "2  OpenBCISession_s1-seated leg extensions  \n",
      "3  OpenBCISession_s1-seated leg extensions  \n",
      "4  OpenBCISession_s1-seated leg extensions  \n",
      "\n",
      "Total shape: 737808 rows × 18 columns\n"
     ]
    }
   ],
   "source": [
    "df = pd.read_csv('EEG_Only_Subject1.csv')\n",
    "df = df.rename(columns={\n",
    "    'Subject_ID_x': 'Subject_ID',\n",
    "    'Activity': 'Activity_Label_OpenBCI'\n",
    "})\n",
    "df.to_csv('EEG_Only_Subject1.csv', index=False)\n",
    "print(\"Columns renamed and file updated.\")\n",
    "print(\"Last 2 columns:\", df.columns[-2:].tolist())\n",
    "print(\"\\nPreview of data:\")\n",
    "print(df.head())\n",
    "print(f\"\\nTotal shape: {df.shape[0]} rows × {df.shape[1]} columns\")"
   ]
  },
  {
   "cell_type": "markdown",
   "id": "290bf6ae",
   "metadata": {},
   "source": [
    "# Display Unique Activity Labels"
   ]
  },
  {
   "cell_type": "code",
   "execution_count": 6,
   "id": "8e1e333e",
   "metadata": {},
   "outputs": [
    {
     "name": "stdout",
     "output_type": "stream",
     "text": [
      "['OpenBCISession_s1-seated leg extensions'\n",
      " 'OpenBCISession_s1-marching in place' 'OpenBCISession_s1-wall push-ups'\n",
      " 'OpenBCISession_s1-standing heel to toe walk'\n",
      " 'OpenBCISession_s1-side-stepping' 'OpenBCISession_s1-seated side bends'\n",
      " 'OpenBCISession_s1-seated medicine ball twists'\n",
      " 'OpenBCISession_s1-chair squats'\n",
      " 'OpenBCISession_s1-light stationary cycling'\n",
      " 'OpenBCISession_s1-seated boxing hooks']\n"
     ]
    }
   ],
   "source": [
    "print(df['Activity_Label_OpenBCI'].unique())"
   ]
  },
  {
   "cell_type": "markdown",
   "id": "a0688673",
   "metadata": {},
   "source": [
    "# Count Rows per Activity Label"
   ]
  },
  {
   "cell_type": "code",
   "execution_count": 7,
   "id": "b7604efc",
   "metadata": {},
   "outputs": [
    {
     "name": "stdout",
     "output_type": "stream",
     "text": [
      "Number of rows per activity label:\n",
      "\n",
      "Activity_Label_OpenBCI\n",
      "OpenBCISession_s1-seated side bends              105337\n",
      "OpenBCISession_s1-seated medicine ball twists    104134\n",
      "OpenBCISession_s1-standing heel to toe walk       98352\n",
      "OpenBCISession_s1-seated leg extensions           77555\n",
      "OpenBCISession_s1-wall push-ups                   73358\n",
      "OpenBCISession_s1-seated boxing hooks             58111\n",
      "OpenBCISession_s1-light stationary cycling        57162\n",
      "OpenBCISession_s1-chair squats                    56998\n",
      "OpenBCISession_s1-side-stepping                   55581\n",
      "OpenBCISession_s1-marching in place               51220\n",
      "Name: count, dtype: int64\n"
     ]
    }
   ],
   "source": [
    "activity_counts = df['Activity_Label_OpenBCI'].value_counts()\n",
    "print(\"Number of rows per activity label:\\n\")\n",
    "print(activity_counts)"
   ]
  },
  {
   "cell_type": "markdown",
   "id": "2910ada6",
   "metadata": {},
   "source": [
    "# Plot Activity Counts"
   ]
  },
  {
   "cell_type": "code",
   "execution_count": 8,
   "id": "fd7de51e",
   "metadata": {},
   "outputs": [
    {
     "data": {
      "image/png": "[encoded data removed]",
      "text/plain": [
       "<Figure size 720x432 with 1 Axes>"
      ]
     },
     "metadata": {
      "needs_background": "light"
     },
     "output_type": "display_data"
    }
   ],
   "source": [
    "activity_counts = df['Activity_Label_OpenBCI'].value_counts()\n",
    "plt.figure(figsize=(10,6))\n",
    "activity_counts.plot(kind='bar', color='skyblue')\n",
    "plt.title('Number of Samples per Activity_Label_OpenBCI')\n",
    "plt.xlabel('Activity_Label_OpenBCI')\n",
    "plt.ylabel('Number of Samples')\n",
    "plt.xticks(rotation=45, ha='right')\n",
    "plt.tight_layout()\n",
    "plt.show()"
   ]
  },
  {
   "cell_type": "markdown",
   "id": "e436a463",
   "metadata": {},
   "source": [
    "# Update Activity Labels and Save File"
   ]
  },
  {
   "cell_type": "code",
   "execution_count": 9,
   "id": "7c0e8c11",
   "metadata": {},
   "outputs": [
    {
     "name": "stderr",
     "output_type": "stream",
     "text": [
      "/tmp/ipykernel_592134/1098558749.py:8: FutureWarning: Downcasting behavior in `replace` is deprecated and will be removed in a future version. To retain the old behavior, explicitly call `result.infer_objects(copy=False)`. To opt-in to the future behavior, set `pd.set_option('future.no_silent_downcasting', True)`\n",
      "  df['Subject_ID'] = df['Subject_ID'].replace('Subject 1', 1).astype(int)\n"
     ]
    },
    {
     "name": "stdout",
     "output_type": "stream",
     "text": [
      "File updated successfully.\n",
      "Subject_ID is numeric: int64\n",
      "Unique activity labels now:\n",
      "['Seated Leg Extensions' 'Marching in Place' 'Wall Push-ups'\n",
      " 'Standing Heel-to-Toe Walk' 'Side-Stepping' 'Seated Side Bends'\n",
      " 'Seated Medicine Ball Twists' 'Chair Squats' 'Light Stationary Cycling'\n",
      " 'Seated Boxing Hooks']\n",
      "\n",
      "Final shape: 737808 rows × 18 columns\n",
      "\n",
      "Preview of data:\n",
      "   EXG Channel 0  EXG Channel 1  EXG Channel 2  EXG Channel 3  EXG Channel 4  \\\n",
      "0 -166914.311578  -72778.933976 -162089.933406   42949.145192 -149585.562895   \n",
      "1 -166882.616804  -72250.270516 -158688.869618   43413.860311 -149614.396645   \n",
      "2 -166881.119237  -73205.584074 -160614.897086   42795.812225 -149898.777890   \n",
      "3 -166840.126138  -73581.339250 -160860.855682   42779.607210 -150113.734616   \n",
      "4 -166840.863745  -73833.131651 -159276.966366   42689.417921 -150154.973585   \n",
      "\n",
      "   EXG Channel 5  EXG Channel 6  EXG Channel 7  EXG Channel 8  EXG Channel 9  \\\n",
      "0 -163687.613748 -164460.179443 -166998.465895 -147736.224262 -166795.780277   \n",
      "1 -159750.622183 -165931.795947 -166969.542738 -165048.857337 -166773.272070   \n",
      "2 -162515.778841 -164265.831025 -166965.206500 -148667.040308 -166761.112721   \n",
      "3 -161619.473889 -166378.562615 -166928.840211 -164713.201191 -166738.045721   \n",
      "4 -161393.006014 -164366.816207 -166925.152174 -149120.557203 -166717.906799   \n",
      "\n",
      "   EXG Channel 10  EXG Channel 11  EXG Channel 12  EXG Channel 13  \\\n",
      "0  -167026.293817  -154053.318984        187500.0  -155565.146275   \n",
      "1  -166996.096611  -156457.517321        187500.0  -166276.973936   \n",
      "2  -166991.626262  -154014.672818        187500.0  -155627.708808   \n",
      "3  -166960.691447  -156550.388819        187500.0  -166544.457262   \n",
      "4  -166947.906250  -154072.608539        187500.0  -156228.277830   \n",
      "\n",
      "   EXG Channel 14  EXG Channel 15  Subject_ID Activity_Label_OpenBCI  \n",
      "0  -153713.818337  -166996.789515           1  Seated Leg Extensions  \n",
      "1  -166314.882495  -166974.795398           1  Seated Leg Extensions  \n",
      "2  -153851.058048  -166961.518462           1  Seated Leg Extensions  \n",
      "3  -166529.526297  -166939.278476           1  Seated Leg Extensions  \n",
      "4  -154620.762720  -166917.664339           1  Seated Leg Extensions  \n"
     ]
    }
   ],
   "source": [
    "df = pd.read_csv('EEG_Only_Subject1.csv')\n",
    "\n",
    "df = df.rename(columns={\n",
    "    'Subject_ID_x': 'Subject_ID',\n",
    "    'Activity': 'Activity_Label_OpenBCI'\n",
    "})\n",
    "\n",
    "df['Subject_ID'] = df['Subject_ID'].replace('Subject 1', 1).astype(int)\n",
    "\n",
    "activity_mapping = {\n",
    "    'OpenBCISession_s1-seated leg extensions': 'Seated Leg Extensions',\n",
    "    'OpenBCISession_s1-marching in place': 'Marching in Place',\n",
    "    'OpenBCISession_s1-wall push-ups': 'Wall Push-ups',\n",
    "    'OpenBCISession_s1-seated boxing hooks': 'Seated Boxing Hooks',\n",
    "    'OpenBCISession_s1-standing heel to toe walk': 'Standing Heel-to-Toe Walk',\n",
    "    'OpenBCISession_s1-side-stepping': 'Side-Stepping',\n",
    "    'OpenBCISession_s1-seated side bends': 'Seated Side Bends',\n",
    "    'OpenBCISession_s1-seated medicine ball twists': 'Seated Medicine Ball Twists',\n",
    "    'OpenBCISession_s1-chair squats': 'Chair Squats',\n",
    "    'OpenBCISession_s1-light stationary cycling': 'Light Stationary Cycling'\n",
    "}\n",
    "\n",
    "df['Activity_Label_OpenBCI'] = df['Activity_Label_OpenBCI'].replace(activity_mapping)\n",
    "\n",
    "df.to_csv('EEG_Only_Subject1.csv', index=False)\n",
    "\n",
    "print(\"File updated successfully.\")\n",
    "print(\"Subject_ID is numeric:\", df['Subject_ID'].dtype)\n",
    "print(\"Unique activity labels now:\")\n",
    "print(df['Activity_Label_OpenBCI'].unique())\n",
    "print(f\"\\nFinal shape: {df.shape[0]} rows × {df.shape[1]} columns\")\n",
    "print(\"\\nPreview of data:\")\n",
    "print(df.head())"
   ]
  },
  {
   "cell_type": "markdown",
   "id": "e0e565a9",
   "metadata": {},
   "source": [
    "# Count the Activity Labels in Updated Data"
   ]
  },
  {
   "cell_type": "code",
   "execution_count": 10,
   "id": "9120d547",
   "metadata": {},
   "outputs": [
    {
     "name": "stdout",
     "output_type": "stream",
     "text": [
      "Activity_Label_OpenBCI\n",
      "Seated Side Bends              105337\n",
      "Seated Medicine Ball Twists    104134\n",
      "Standing Heel-to-Toe Walk       98352\n",
      "Seated Leg Extensions           77555\n",
      "Wall Push-ups                   73358\n",
      "Seated Boxing Hooks             58111\n",
      "Light Stationary Cycling        57162\n",
      "Chair Squats                    56998\n",
      "Side-Stepping                   55581\n",
      "Marching in Place               51220\n",
      "Name: count, dtype: int64\n"
     ]
    }
   ],
   "source": [
    "df = pd.read_csv('EEG_Only_Subject1.csv')\n",
    "activity_counts = df['Activity_Label_OpenBCI'].value_counts()\n",
    "print(activity_counts)"
   ]
  },
  {
   "cell_type": "markdown",
   "id": "df80a287",
   "metadata": {},
   "source": [
    "# Map Activity Labels to Numeric Values and Save File"
   ]
  },
  {
   "cell_type": "code",
   "execution_count": 11,
   "id": "5f21c90d",
   "metadata": {},
   "outputs": [
    {
     "name": "stderr",
     "output_type": "stream",
     "text": [
      "/tmp/ipykernel_592134/813363694.py:19: FutureWarning: Downcasting behavior in `replace` is deprecated and will be removed in a future version. To retain the old behavior, explicitly call `result.infer_objects(copy=False)`. To opt-in to the future behavior, set `pd.set_option('future.no_silent_downcasting', True)`\n",
      "  df['Activity_Label_OpenBCI'] = df['Activity_Label_OpenBCI'].replace(activity_mapping_to_numeric)\n"
     ]
    },
    {
     "name": "stdout",
     "output_type": "stream",
     "text": [
      "File updated successfully.\n",
      "Subject_ID is numeric: int64\n",
      "Unique activity labels now (numeric):\n",
      "[ 1  2  3  5  6  7  8  9 10  4]\n",
      "\n",
      "Final shape: 737808 rows × 18 columns\n",
      "\n",
      "Preview of data:\n",
      "   EXG Channel 0  EXG Channel 1  EXG Channel 2  EXG Channel 3  EXG Channel 4  \\\n",
      "0 -166914.311578  -72778.933976 -162089.933406   42949.145192 -149585.562895   \n",
      "1 -166882.616804  -72250.270516 -158688.869618   43413.860311 -149614.396645   \n",
      "2 -166881.119237  -73205.584074 -160614.897086   42795.812225 -149898.777890   \n",
      "3 -166840.126138  -73581.339250 -160860.855682   42779.607210 -150113.734616   \n",
      "4 -166840.863745  -73833.131651 -159276.966366   42689.417921 -150154.973585   \n",
      "\n",
      "   EXG Channel 5  EXG Channel 6  EXG Channel 7  EXG Channel 8  EXG Channel 9  \\\n",
      "0 -163687.613748 -164460.179443 -166998.465895 -147736.224262 -166795.780277   \n",
      "1 -159750.622183 -165931.795947 -166969.542738 -165048.857337 -166773.272070   \n",
      "2 -162515.778841 -164265.831025 -166965.206500 -148667.040308 -166761.112721   \n",
      "3 -161619.473889 -166378.562615 -166928.840211 -164713.201191 -166738.045721   \n",
      "4 -161393.006014 -164366.816207 -166925.152174 -149120.557203 -166717.906799   \n",
      "\n",
      "   EXG Channel 10  EXG Channel 11  EXG Channel 12  EXG Channel 13  \\\n",
      "0  -167026.293817  -154053.318984        187500.0  -155565.146275   \n",
      "1  -166996.096611  -156457.517321        187500.0  -166276.973936   \n",
      "2  -166991.626262  -154014.672818        187500.0  -155627.708808   \n",
      "3  -166960.691447  -156550.388819        187500.0  -166544.457262   \n",
      "4  -166947.906250  -154072.608539        187500.0  -156228.277830   \n",
      "\n",
      "   EXG Channel 14  EXG Channel 15  Subject_ID  Activity_Label_OpenBCI  \n",
      "0  -153713.818337  -166996.789515           1                       1  \n",
      "1  -166314.882495  -166974.795398           1                       1  \n",
      "2  -153851.058048  -166961.518462           1                       1  \n",
      "3  -166529.526297  -166939.278476           1                       1  \n",
      "4  -154620.762720  -166917.664339           1                       1  \n"
     ]
    }
   ],
   "source": [
    "df = pd.read_csv('EEG_Only_Subject1.csv')\n",
    "df = df.rename(columns={\n",
    "    'Subject_ID_x': 'Subject_ID',\n",
    "    'Activity': 'Activity_Label_OpenBCI'\n",
    "})\n",
    "df['Subject_ID'] = df['Subject_ID'].replace('Subject 1', 1).astype(int)\n",
    "activity_mapping_to_numeric = {\n",
    "    'Seated Leg Extensions': 1,\n",
    "    'Marching in Place': 2,\n",
    "    'Wall Push-ups': 3,\n",
    "    'Seated Boxing Hooks': 4,\n",
    "    'Standing Heel-to-Toe Walk': 5,\n",
    "    'Side-Stepping': 6,\n",
    "    'Seated Side Bends': 7,\n",
    "    'Seated Medicine Ball Twists': 8,\n",
    "    'Chair Squats': 9,\n",
    "    'Light Stationary Cycling': 10\n",
    "}\n",
    "df['Activity_Label_OpenBCI'] = df['Activity_Label_OpenBCI'].replace(activity_mapping_to_numeric)\n",
    "df.to_csv('EEG_Only_Subject1_Updated.csv', index=False)\n",
    "print(\"File updated successfully.\")\n",
    "print(\"Subject_ID is numeric:\", df['Subject_ID'].dtype)\n",
    "print(\"Unique activity labels now (numeric):\")\n",
    "print(df['Activity_Label_OpenBCI'].unique())\n",
    "print(f\"\\nFinal shape: {df.shape[0]} rows × {df.shape[1]} columns\")\n",
    "print(\"\\nPreview of data:\")\n",
    "print(df.head())"
   ]
  },
  {
   "cell_type": "markdown",
   "id": "3f35a224",
   "metadata": {},
   "source": [
    "# Count and Sort Activity Labels (Numeric)"
   ]
  },
  {
   "cell_type": "code",
   "execution_count": 12,
   "id": "674230ce",
   "metadata": {},
   "outputs": [
    {
     "name": "stdout",
     "output_type": "stream",
     "text": [
      "Unique activity labels and their counts (sorted 1 → 10):\n",
      "Activity_Label_OpenBCI\n",
      "1      77555\n",
      "2      51220\n",
      "3      73358\n",
      "4      58111\n",
      "5      98352\n",
      "6      55581\n",
      "7     105337\n",
      "8     104134\n",
      "9      56998\n",
      "10     57162\n",
      "Name: count, dtype: int64\n",
      "\n",
      "Total count: 737808\n"
     ]
    }
   ],
   "source": [
    "df = pd.read_csv('EEG_Only_Subject1_Updated.csv')\n",
    "\n",
    "activity_counts = df['Activity_Label_OpenBCI'].value_counts().sort_index()\n",
    "\n",
    "print(\"Unique activity labels and their counts (sorted 1 → 10):\")\n",
    "print(activity_counts)\n",
    "print(f\"\\nTotal count: {activity_counts.sum()}\")"
   ]
  }
 ],
 "metadata": {
  "kernelspec": {
   "display_name": "Python 3 (ipykernel)",
   "language": "python",
   "name": "python3"
  },
  "language_info": {
   "codemirror_mode": {
    "name": "ipython",
    "version": 3
   },
   "file_extension": ".py",
   "mimetype": "text/x-python",
   "name": "python",
   "nbconvert_exporter": "python",
   "pygments_lexer": "ipython3",
   "version": "3.9.7"
  }
 },
 "nbformat": 4,
 "nbformat_minor": 5
}
