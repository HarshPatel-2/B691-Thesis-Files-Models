{
 "cells": [
  {
   "cell_type": "markdown",
   "id": "ffa9540b",
   "metadata": {},
   "source": [
    "# Import Libraries"
   ]
  },
  {
   "cell_type": "code",
   "execution_count": 1,
   "id": "b5e860b3",
   "metadata": {},
   "outputs": [],
   "source": [
    "import pandas as pd\n",
    "import matplotlib.pyplot as plt"
   ]
  },
  {
   "cell_type": "markdown",
   "id": "2553403c",
   "metadata": {},
   "source": [
    "# Load and Explore the EEG Data"
   ]
  },
  {
   "cell_type": "code",
   "execution_count": 2,
   "id": "0cb8d7bb",
   "metadata": {
    "scrolled": false
   },
   "outputs": [
    {
     "name": "stdout",
     "output_type": "stream",
     "text": [
      "Columns:\n",
      "['Sample Index', 'EXG Channel 0', 'EXG Channel 1', 'EXG Channel 2', 'EXG Channel 3', 'EXG Channel 4', 'EXG Channel 5', 'EXG Channel 6', 'EXG Channel 7', 'EXG Channel 8', 'EXG Channel 9', 'EXG Channel 10', 'EXG Channel 11', 'EXG Channel 12', 'EXG Channel 13', 'EXG Channel 14', 'EXG Channel 15', 'Accel Channel 0', 'Accel Channel 1', 'Accel Channel 2', 'Not Used 1', 'Digital Channel 0 (D11)', 'Digital Channel 1 (D12)', 'Digital Channel 2 (D13)', 'Digital Channel 3 (D17)', 'Not Used 2', 'Digital Channel 4 (D18)', 'Analog Channel 0', 'Analog Channel 1', 'Analog Channel 2', 'Timestamp', 'Marker Channel', 'Timestamp (Formatted)', 'Activity', 'Timestamp_Gyro', 'Gyro X (°/s)', 'Gyro Y (°/s)', 'Gyro Z (°/s)', 'Activity_Label_x', 'Subject_ID_x', 'Timestamp_Accel', 'Accel X (g)', 'Accel Y (g)', 'Accel Z (g)', 'Activity_Label_y', 'Subject_ID_y']\n",
      "\n",
      "First 5 rows:\n",
      "   Sample Index  EXG Channel 0  EXG Channel 1  EXG Channel 2  EXG Channel 3  \\\n",
      "0           6.0 -187500.022352  -61496.645093   -3612.600698 -187500.022352   \n",
      "1           8.0 -187500.022352  -62571.205207   -3609.382046 -187500.022352   \n",
      "2          10.0 -187500.022352  -63922.077587   -3597.177994 -187500.022352   \n",
      "3          12.0 -187500.022352  -65122.388616   -3572.792241 -187500.022352   \n",
      "4          14.0 -187500.022352  -66104.412509   -3607.951535 -187500.022352   \n",
      "\n",
      "   EXG Channel 4  EXG Channel 5  EXG Channel 6  EXG Channel 7  EXG Channel 8  \\\n",
      "0 -177651.039082   -6056.383974  -19431.489042 -187500.022352  -28378.378258   \n",
      "1 -177513.844074   -6162.979443  -19418.077996 -187500.022352  -28387.944804   \n",
      "2 -177373.676285   -6238.394229  -19403.839934 -187500.022352  -28359.200461   \n",
      "3 -177356.197221   -6116.800739  -19394.519257 -187500.022352  -28366.330667   \n",
      "4 -177420.726707   -5992.413281  -19427.264563 -187500.022352  -28374.354944   \n",
      "\n",
      "   ...  Gyro Y (°/s)  Gyro Z (°/s)       Activity_Label_x  Subject_ID_x  \\\n",
      "0  ...     -0.085521      0.167377  Seated Leg Extensions     Subject 4   \n",
      "1  ...     -0.085521      0.167377  Seated Leg Extensions     Subject 4   \n",
      "2  ...     -0.085521      0.167377  Seated Leg Extensions     Subject 4   \n",
      "3  ...     -0.085521      0.167377  Seated Leg Extensions     Subject 4   \n",
      "4  ...     -0.085521      0.167377  Seated Leg Extensions     Subject 4   \n",
      "\n",
      "   Timestamp_Accel  Accel X (g)  Accel Y (g)  Accel Z (g)  \\\n",
      "0     1.739045e+09     7.230489    -6.969521    -0.833182   \n",
      "1     1.739045e+09     7.230489    -6.969521    -0.833182   \n",
      "2     1.739045e+09     7.230489    -6.969521    -0.833182   \n",
      "3     1.739045e+09     7.230489    -6.969521    -0.833182   \n",
      "4     1.739045e+09     7.230489    -6.969521    -0.833182   \n",
      "\n",
      "        Activity_Label_y  Subject_ID_y  \n",
      "0  Seated Leg Extensions     Subject 4  \n",
      "1  Seated Leg Extensions     Subject 4  \n",
      "2  Seated Leg Extensions     Subject 4  \n",
      "3  Seated Leg Extensions     Subject 4  \n",
      "4  Seated Leg Extensions     Subject 4  \n",
      "\n",
      "[5 rows x 46 columns]\n",
      "\n",
      "Total shape: 543669 rows × 46 columns\n"
     ]
    }
   ],
   "source": [
    "df = pd.read_csv('EEG-HAR_Subject_4_Merged.csv')\n",
    "print(\"Columns:\")\n",
    "print(df.columns.tolist())\n",
    "print(\"\\nFirst 5 rows:\")\n",
    "print(df.head())\n",
    "print(f\"\\nTotal shape: {df.shape[0]} rows × {df.shape[1]} columns\")"
   ]
  },
  {
   "cell_type": "markdown",
   "id": "2d3c9273",
   "metadata": {},
   "source": [
    "# Count the Activity Labels"
   ]
  },
  {
   "cell_type": "code",
   "execution_count": 3,
   "id": "a33ff5cf",
   "metadata": {},
   "outputs": [
    {
     "name": "stdout",
     "output_type": "stream",
     "text": [
      "Activity\n",
      "OpenBCISession_s4-seated boxing hooks            63238\n",
      "OpenBCISession_s4-seated side bends              58646\n",
      "OpenBCISession_s4-seated medicine ball twists    58427\n",
      "OpenBCISession_s4-standing heel to toe walk      58298\n",
      "OpenBCISession_s4-wall push-ups                  58113\n",
      "OpenBCISession_s4-seated leg extensions          57688\n",
      "OpenBCISession_s4-light stationary cycling       57378\n",
      "OpenBCISession_s4-chair squats                   54674\n",
      "OpenBCISession_s4-marching in place              38639\n",
      "OpenBCISession_s4-side-stepping                  38568\n",
      "Name: count, dtype: int64\n"
     ]
    }
   ],
   "source": [
    "df = pd.read_csv('EEG-HAR_Subject_4_Merged.csv')\n",
    "activity_counts = df['Activity'].value_counts()\n",
    "print(activity_counts)"
   ]
  },
  {
   "cell_type": "markdown",
   "id": "5a1230ae",
   "metadata": {},
   "source": [
    "# Extract EEG Data and Save to New File"
   ]
  },
  {
   "cell_type": "code",
   "execution_count": 4,
   "id": "8229fd9d",
   "metadata": {},
   "outputs": [
    {
     "name": "stdout",
     "output_type": "stream",
     "text": [
      "Created: EEG_Only_Subject4.csv\n",
      "Shape: (543669, 18)\n",
      "   EXG Channel 0  EXG Channel 1  EXG Channel 2  EXG Channel 3  EXG Channel 4  \\\n",
      "0 -187500.022352  -61496.645093   -3612.600698 -187500.022352 -177651.039082   \n",
      "1 -187500.022352  -62571.205207   -3609.382046 -187500.022352 -177513.844074   \n",
      "2 -187500.022352  -63922.077587   -3597.177994 -187500.022352 -177373.676285   \n",
      "3 -187500.022352  -65122.388616   -3572.792241 -187500.022352 -177356.197221   \n",
      "4 -187500.022352  -66104.412509   -3607.951535 -187500.022352 -177420.726707   \n",
      "\n",
      "   EXG Channel 5  EXG Channel 6  EXG Channel 7  EXG Channel 8  EXG Channel 9  \\\n",
      "0   -6056.383974  -19431.489042 -187500.022352  -28378.378258  -18562.766142   \n",
      "1   -6162.979443  -19418.077996 -187500.022352  -28387.944804  -18595.511448   \n",
      "2   -6238.394229  -19403.839934 -187500.022352  -28359.200461  -18582.033346   \n",
      "3   -6116.800739  -19394.519257 -187500.022352  -28366.330667  -18530.892555   \n",
      "4   -5992.413281  -19427.264563 -187500.022352  -28374.354944  -18431.986085   \n",
      "\n",
      "   EXG Channel 10  EXG Channel 11  EXG Channel 12  EXG Channel 13  \\\n",
      "0    -9063.408859    10068.365642    14730.961887   -19143.263297   \n",
      "1    -9039.581900    10075.048813    14773.027870   -19156.495530   \n",
      "2    -9031.624679    10051.758296    14751.413733   -19138.748245   \n",
      "3    -8985.043643    10057.413287    14783.890818   -19152.338106   \n",
      "4    -8953.952367    10038.391952    14758.454532   -19158.529539   \n",
      "\n",
      "   EXG Channel 14  EXG Channel 15 Subject_ID_x  \\\n",
      "0    -5190.544449   -26910.360385    Subject 4   \n",
      "1    -5189.404510   -26899.810362    Subject 4   \n",
      "2    -5170.226713   -26912.595560    Subject 4   \n",
      "3    -5182.743690   -26890.176760    Subject 4   \n",
      "4    -5179.390929   -26897.932815    Subject 4   \n",
      "\n",
      "                                  Activity  \n",
      "0  OpenBCISession_s4-seated leg extensions  \n",
      "1  OpenBCISession_s4-seated leg extensions  \n",
      "2  OpenBCISession_s4-seated leg extensions  \n",
      "3  OpenBCISession_s4-seated leg extensions  \n",
      "4  OpenBCISession_s4-seated leg extensions  \n"
     ]
    }
   ],
   "source": [
    "df = pd.read_csv('EEG-HAR_Subject_4_Merged.csv')\n",
    "eeg_columns = [f'EXG Channel {i}' for i in range(16)]\n",
    "meta_columns = ['Subject_ID_x', 'Activity']\n",
    "eeg_only_df = df[eeg_columns + meta_columns]\n",
    "eeg_only_df.to_csv('EEG_Only_Subject4.csv', index=False)\n",
    "print(\"Created: EEG_Only_Subject4.csv\")\n",
    "print(f\"Shape: {eeg_only_df.shape}\")\n",
    "print(eeg_only_df.head())"
   ]
  },
  {
   "cell_type": "markdown",
   "id": "00180472",
   "metadata": {},
   "source": [
    "# Rename Columns and Save the Updated File"
   ]
  },
  {
   "cell_type": "code",
   "execution_count": 5,
   "id": "187f0754",
   "metadata": {},
   "outputs": [
    {
     "name": "stdout",
     "output_type": "stream",
     "text": [
      "Columns renamed and file updated.\n",
      "Last 2 columns: ['Subject_ID', 'Activity_Label_OpenBCI']\n",
      "\n",
      "Preview of data:\n",
      "   EXG Channel 0  EXG Channel 1  EXG Channel 2  EXG Channel 3  EXG Channel 4  \\\n",
      "0 -187500.022352  -61496.645093   -3612.600698 -187500.022352 -177651.039082   \n",
      "1 -187500.022352  -62571.205207   -3609.382046 -187500.022352 -177513.844074   \n",
      "2 -187500.022352  -63922.077587   -3597.177994 -187500.022352 -177373.676285   \n",
      "3 -187500.022352  -65122.388616   -3572.792241 -187500.022352 -177356.197221   \n",
      "4 -187500.022352  -66104.412509   -3607.951535 -187500.022352 -177420.726707   \n",
      "\n",
      "   EXG Channel 5  EXG Channel 6  EXG Channel 7  EXG Channel 8  EXG Channel 9  \\\n",
      "0   -6056.383974  -19431.489042 -187500.022352  -28378.378258  -18562.766142   \n",
      "1   -6162.979443  -19418.077996 -187500.022352  -28387.944804  -18595.511448   \n",
      "2   -6238.394229  -19403.839934 -187500.022352  -28359.200461  -18582.033346   \n",
      "3   -6116.800739  -19394.519257 -187500.022352  -28366.330667  -18530.892555   \n",
      "4   -5992.413281  -19427.264563 -187500.022352  -28374.354944  -18431.986085   \n",
      "\n",
      "   EXG Channel 10  EXG Channel 11  EXG Channel 12  EXG Channel 13  \\\n",
      "0    -9063.408859    10068.365642    14730.961887   -19143.263297   \n",
      "1    -9039.581900    10075.048813    14773.027870   -19156.495530   \n",
      "2    -9031.624679    10051.758296    14751.413733   -19138.748245   \n",
      "3    -8985.043643    10057.413287    14783.890818   -19152.338106   \n",
      "4    -8953.952367    10038.391952    14758.454532   -19158.529539   \n",
      "\n",
      "   EXG Channel 14  EXG Channel 15 Subject_ID  \\\n",
      "0    -5190.544449   -26910.360385  Subject 4   \n",
      "1    -5189.404510   -26899.810362  Subject 4   \n",
      "2    -5170.226713   -26912.595560  Subject 4   \n",
      "3    -5182.743690   -26890.176760  Subject 4   \n",
      "4    -5179.390929   -26897.932815  Subject 4   \n",
      "\n",
      "                    Activity_Label_OpenBCI  \n",
      "0  OpenBCISession_s4-seated leg extensions  \n",
      "1  OpenBCISession_s4-seated leg extensions  \n",
      "2  OpenBCISession_s4-seated leg extensions  \n",
      "3  OpenBCISession_s4-seated leg extensions  \n",
      "4  OpenBCISession_s4-seated leg extensions  \n",
      "\n",
      "Total shape: 543669 rows × 18 columns\n"
     ]
    }
   ],
   "source": [
    "df = pd.read_csv('EEG_Only_Subject4.csv')\n",
    "df = df.rename(columns={\n",
    "    'Subject_ID_x': 'Subject_ID',\n",
    "    'Activity': 'Activity_Label_OpenBCI'\n",
    "})\n",
    "df.to_csv('EEG_Only_Subject4.csv', index=False)\n",
    "print(\"Columns renamed and file updated.\")\n",
    "print(\"Last 2 columns:\", df.columns[-2:].tolist())\n",
    "print(\"\\nPreview of data:\")\n",
    "print(df.head())\n",
    "print(f\"\\nTotal shape: {df.shape[0]} rows × {df.shape[1]} columns\")"
   ]
  },
  {
   "cell_type": "markdown",
   "id": "56fb5926",
   "metadata": {},
   "source": [
    "# Display Unique Activity Labels"
   ]
  },
  {
   "cell_type": "code",
   "execution_count": 6,
   "id": "b6cca5e0",
   "metadata": {},
   "outputs": [
    {
     "name": "stdout",
     "output_type": "stream",
     "text": [
      "['OpenBCISession_s4-seated leg extensions'\n",
      " 'OpenBCISession_s4-marching in place' 'OpenBCISession_s4-wall push-ups'\n",
      " 'OpenBCISession_s4-seated boxing hooks'\n",
      " 'OpenBCISession_s4-standing heel to toe walk'\n",
      " 'OpenBCISession_s4-side-stepping' 'OpenBCISession_s4-seated side bends'\n",
      " 'OpenBCISession_s4-seated medicine ball twists'\n",
      " 'OpenBCISession_s4-chair squats'\n",
      " 'OpenBCISession_s4-light stationary cycling']\n"
     ]
    }
   ],
   "source": [
    "print(df['Activity_Label_OpenBCI'].unique())"
   ]
  },
  {
   "cell_type": "markdown",
   "id": "c3a28433",
   "metadata": {},
   "source": [
    "# Count Rows per Activity Label"
   ]
  },
  {
   "cell_type": "code",
   "execution_count": 7,
   "id": "36b65f76",
   "metadata": {},
   "outputs": [
    {
     "name": "stdout",
     "output_type": "stream",
     "text": [
      "Number of rows per activity label:\n",
      "\n",
      "Activity_Label_OpenBCI\n",
      "OpenBCISession_s4-seated boxing hooks            63238\n",
      "OpenBCISession_s4-seated side bends              58646\n",
      "OpenBCISession_s4-seated medicine ball twists    58427\n",
      "OpenBCISession_s4-standing heel to toe walk      58298\n",
      "OpenBCISession_s4-wall push-ups                  58113\n",
      "OpenBCISession_s4-seated leg extensions          57688\n",
      "OpenBCISession_s4-light stationary cycling       57378\n",
      "OpenBCISession_s4-chair squats                   54674\n",
      "OpenBCISession_s4-marching in place              38639\n",
      "OpenBCISession_s4-side-stepping                  38568\n",
      "Name: count, dtype: int64\n"
     ]
    }
   ],
   "source": [
    "activity_counts = df['Activity_Label_OpenBCI'].value_counts()\n",
    "print(\"Number of rows per activity label:\\n\")\n",
    "print(activity_counts)"
   ]
  },
  {
   "cell_type": "markdown",
   "id": "fdd5f695",
   "metadata": {},
   "source": [
    "# Plot Activity Counts"
   ]
  },
  {
   "cell_type": "code",
   "execution_count": 8,
   "id": "a05e831b",
   "metadata": {},
   "outputs": [
    {
     "data": {
      "image/png": "[encoded data removed]",
      "text/plain": [
       "<Figure size 720x432 with 1 Axes>"
      ]
     },
     "metadata": {
      "needs_background": "light"
     },
     "output_type": "display_data"
    }
   ],
   "source": [
    "activity_counts = df['Activity_Label_OpenBCI'].value_counts()\n",
    "plt.figure(figsize=(10,6))\n",
    "activity_counts.plot(kind='bar', color='skyblue')\n",
    "plt.title('Number of Samples per Activity_Label_OpenBCI')\n",
    "plt.xlabel('Activity_Label_OpenBCI')\n",
    "plt.ylabel('Number of Samples')\n",
    "plt.xticks(rotation=45, ha='right')\n",
    "plt.tight_layout()\n",
    "plt.show()"
   ]
  },
  {
   "cell_type": "markdown",
   "id": "f3ace7db",
   "metadata": {},
   "source": [
    "# Update Activity Labels and Save File"
   ]
  },
  {
   "cell_type": "code",
   "execution_count": 9,
   "id": "14bacd11",
   "metadata": {},
   "outputs": [
    {
     "name": "stderr",
     "output_type": "stream",
     "text": [
      "/tmp/ipykernel_931207/264127581.py:8: FutureWarning: Downcasting behavior in `replace` is deprecated and will be removed in a future version. To retain the old behavior, explicitly call `result.infer_objects(copy=False)`. To opt-in to the future behavior, set `pd.set_option('future.no_silent_downcasting', True)`\n",
      "  df['Subject_ID'] = df['Subject_ID'].replace('Subject 4', 4).astype(int)\n"
     ]
    },
    {
     "name": "stdout",
     "output_type": "stream",
     "text": [
      "File updated successfully.\n",
      "Subject_ID is numeric: int64\n",
      "Unique activity labels now:\n",
      "['Seated Leg Extensions' 'Marching in Place' 'Wall Push-ups'\n",
      " 'Seated Boxing Hooks' 'Standing Heel-to-Toe Walk' 'Side-Stepping'\n",
      " 'Seated Side Bends' 'Seated Medicine Ball Twists' 'Chair Squats'\n",
      " 'Light Stationary Cycling']\n",
      "\n",
      "Final shape: 543669 rows × 18 columns\n",
      "\n",
      "Preview of data:\n",
      "   EXG Channel 0  EXG Channel 1  EXG Channel 2  EXG Channel 3  EXG Channel 4  \\\n",
      "0 -187500.022352  -61496.645093   -3612.600698 -187500.022352 -177651.039082   \n",
      "1 -187500.022352  -62571.205207   -3609.382046 -187500.022352 -177513.844074   \n",
      "2 -187500.022352  -63922.077587   -3597.177994 -187500.022352 -177373.676285   \n",
      "3 -187500.022352  -65122.388616   -3572.792241 -187500.022352 -177356.197221   \n",
      "4 -187500.022352  -66104.412509   -3607.951535 -187500.022352 -177420.726707   \n",
      "\n",
      "   EXG Channel 5  EXG Channel 6  EXG Channel 7  EXG Channel 8  EXG Channel 9  \\\n",
      "0   -6056.383974  -19431.489042 -187500.022352  -28378.378258  -18562.766142   \n",
      "1   -6162.979443  -19418.077996 -187500.022352  -28387.944804  -18595.511448   \n",
      "2   -6238.394229  -19403.839934 -187500.022352  -28359.200461  -18582.033346   \n",
      "3   -6116.800739  -19394.519257 -187500.022352  -28366.330667  -18530.892555   \n",
      "4   -5992.413281  -19427.264563 -187500.022352  -28374.354944  -18431.986085   \n",
      "\n",
      "   EXG Channel 10  EXG Channel 11  EXG Channel 12  EXG Channel 13  \\\n",
      "0    -9063.408859    10068.365642    14730.961887   -19143.263297   \n",
      "1    -9039.581900    10075.048813    14773.027870   -19156.495530   \n",
      "2    -9031.624679    10051.758296    14751.413733   -19138.748245   \n",
      "3    -8985.043643    10057.413287    14783.890818   -19152.338106   \n",
      "4    -8953.952367    10038.391952    14758.454532   -19158.529539   \n",
      "\n",
      "   EXG Channel 14  EXG Channel 15  Subject_ID Activity_Label_OpenBCI  \n",
      "0    -5190.544449   -26910.360385           4  Seated Leg Extensions  \n",
      "1    -5189.404510   -26899.810362           4  Seated Leg Extensions  \n",
      "2    -5170.226713   -26912.595560           4  Seated Leg Extensions  \n",
      "3    -5182.743690   -26890.176760           4  Seated Leg Extensions  \n",
      "4    -5179.390929   -26897.932815           4  Seated Leg Extensions  \n"
     ]
    }
   ],
   "source": [
    "df = pd.read_csv('EEG_Only_Subject4.csv')\n",
    "\n",
    "df = df.rename(columns={\n",
    "    'Subject_ID_x': 'Subject_ID',\n",
    "    'Activity': 'Activity_Label_OpenBCI'\n",
    "})\n",
    "\n",
    "df['Subject_ID'] = df['Subject_ID'].replace('Subject 4', 4).astype(int)\n",
    "\n",
    "activity_mapping = {\n",
    "    'OpenBCISession_s4-seated leg extensions': 'Seated Leg Extensions',\n",
    "    'OpenBCISession_s4-marching in place': 'Marching in Place',\n",
    "    'OpenBCISession_s4-wall push-ups': 'Wall Push-ups',\n",
    "    'OpenBCISession_s4-seated boxing hooks': 'Seated Boxing Hooks',\n",
    "    'OpenBCISession_s4-standing heel to toe walk': 'Standing Heel-to-Toe Walk',\n",
    "    'OpenBCISession_s4-side-stepping': 'Side-Stepping',\n",
    "    'OpenBCISession_s4-seated side bends': 'Seated Side Bends',\n",
    "    'OpenBCISession_s4-seated medicine ball twists': 'Seated Medicine Ball Twists',\n",
    "    'OpenBCISession_s4-chair squats': 'Chair Squats',\n",
    "    'OpenBCISession_s4-light stationary cycling': 'Light Stationary Cycling'\n",
    "}\n",
    "\n",
    "df['Activity_Label_OpenBCI'] = df['Activity_Label_OpenBCI'].replace(activity_mapping)\n",
    "\n",
    "df.to_csv('EEG_Only_Subject4.csv', index=False)\n",
    "\n",
    "print(\"File updated successfully.\")\n",
    "print(\"Subject_ID is numeric:\", df['Subject_ID'].dtype)\n",
    "print(\"Unique activity labels now:\")\n",
    "print(df['Activity_Label_OpenBCI'].unique())\n",
    "print(f\"\\nFinal shape: {df.shape[0]} rows × {df.shape[1]} columns\")\n",
    "print(\"\\nPreview of data:\")\n",
    "print(df.head())"
   ]
  },
  {
   "cell_type": "markdown",
   "id": "98261a42",
   "metadata": {},
   "source": [
    "# Count the Activity Labels in Updated Data"
   ]
  },
  {
   "cell_type": "code",
   "execution_count": 10,
   "id": "c2e66618",
   "metadata": {},
   "outputs": [
    {
     "name": "stdout",
     "output_type": "stream",
     "text": [
      "Activity_Label_OpenBCI\n",
      "Seated Boxing Hooks            63238\n",
      "Seated Side Bends              58646\n",
      "Seated Medicine Ball Twists    58427\n",
      "Standing Heel-to-Toe Walk      58298\n",
      "Wall Push-ups                  58113\n",
      "Seated Leg Extensions          57688\n",
      "Light Stationary Cycling       57378\n",
      "Chair Squats                   54674\n",
      "Marching in Place              38639\n",
      "Side-Stepping                  38568\n",
      "Name: count, dtype: int64\n"
     ]
    }
   ],
   "source": [
    "df = pd.read_csv('EEG_Only_Subject4.csv')\n",
    "activity_counts = df['Activity_Label_OpenBCI'].value_counts()\n",
    "print(activity_counts)"
   ]
  },
  {
   "cell_type": "markdown",
   "id": "3abb02cb",
   "metadata": {},
   "source": [
    "# Map Activity Labels to Numeric Values and Save File"
   ]
  },
  {
   "cell_type": "code",
   "execution_count": 11,
   "id": "54dfa522",
   "metadata": {},
   "outputs": [
    {
     "name": "stderr",
     "output_type": "stream",
     "text": [
      "/tmp/ipykernel_931207/871478787.py:19: FutureWarning: Downcasting behavior in `replace` is deprecated and will be removed in a future version. To retain the old behavior, explicitly call `result.infer_objects(copy=False)`. To opt-in to the future behavior, set `pd.set_option('future.no_silent_downcasting', True)`\n",
      "  df['Activity_Label_OpenBCI'] = df['Activity_Label_OpenBCI'].replace(activity_mapping_to_numeric)\n"
     ]
    },
    {
     "name": "stdout",
     "output_type": "stream",
     "text": [
      "File updated successfully.\n",
      "Subject_ID is numeric: int64\n",
      "Unique activity labels now (numeric):\n",
      "[ 1  2  3  4  5  6  7  8  9 10]\n",
      "\n",
      "Final shape: 543669 rows × 18 columns\n",
      "\n",
      "Preview of data:\n",
      "   EXG Channel 0  EXG Channel 1  EXG Channel 2  EXG Channel 3  EXG Channel 4  \\\n",
      "0 -187500.022352  -61496.645093   -3612.600698 -187500.022352 -177651.039082   \n",
      "1 -187500.022352  -62571.205207   -3609.382046 -187500.022352 -177513.844074   \n",
      "2 -187500.022352  -63922.077587   -3597.177994 -187500.022352 -177373.676285   \n",
      "3 -187500.022352  -65122.388616   -3572.792241 -187500.022352 -177356.197221   \n",
      "4 -187500.022352  -66104.412509   -3607.951535 -187500.022352 -177420.726707   \n",
      "\n",
      "   EXG Channel 5  EXG Channel 6  EXG Channel 7  EXG Channel 8  EXG Channel 9  \\\n",
      "0   -6056.383974  -19431.489042 -187500.022352  -28378.378258  -18562.766142   \n",
      "1   -6162.979443  -19418.077996 -187500.022352  -28387.944804  -18595.511448   \n",
      "2   -6238.394229  -19403.839934 -187500.022352  -28359.200461  -18582.033346   \n",
      "3   -6116.800739  -19394.519257 -187500.022352  -28366.330667  -18530.892555   \n",
      "4   -5992.413281  -19427.264563 -187500.022352  -28374.354944  -18431.986085   \n",
      "\n",
      "   EXG Channel 10  EXG Channel 11  EXG Channel 12  EXG Channel 13  \\\n",
      "0    -9063.408859    10068.365642    14730.961887   -19143.263297   \n",
      "1    -9039.581900    10075.048813    14773.027870   -19156.495530   \n",
      "2    -9031.624679    10051.758296    14751.413733   -19138.748245   \n",
      "3    -8985.043643    10057.413287    14783.890818   -19152.338106   \n",
      "4    -8953.952367    10038.391952    14758.454532   -19158.529539   \n",
      "\n",
      "   EXG Channel 14  EXG Channel 15  Subject_ID  Activity_Label_OpenBCI  \n",
      "0    -5190.544449   -26910.360385           4                       1  \n",
      "1    -5189.404510   -26899.810362           4                       1  \n",
      "2    -5170.226713   -26912.595560           4                       1  \n",
      "3    -5182.743690   -26890.176760           4                       1  \n",
      "4    -5179.390929   -26897.932815           4                       1  \n"
     ]
    }
   ],
   "source": [
    "df = pd.read_csv('EEG_Only_Subject4.csv')\n",
    "df = df.rename(columns={\n",
    "    'Subject_ID_x': 'Subject_ID',\n",
    "    'Activity': 'Activity_Label_OpenBCI'\n",
    "})\n",
    "df['Subject_ID'] = df['Subject_ID'].replace('Subject 4', 4).astype(int)\n",
    "activity_mapping_to_numeric = {\n",
    "    'Seated Leg Extensions': 1,\n",
    "    'Marching in Place': 2,\n",
    "    'Wall Push-ups': 3,\n",
    "    'Seated Boxing Hooks': 4,\n",
    "    'Standing Heel-to-Toe Walk': 5,\n",
    "    'Side-Stepping': 6,\n",
    "    'Seated Side Bends': 7,\n",
    "    'Seated Medicine Ball Twists': 8,\n",
    "    'Chair Squats': 9,\n",
    "    'Light Stationary Cycling': 10\n",
    "}\n",
    "df['Activity_Label_OpenBCI'] = df['Activity_Label_OpenBCI'].replace(activity_mapping_to_numeric)\n",
    "df.to_csv('EEG_Only_Subject4_Updated.csv', index=False)\n",
    "print(\"File updated successfully.\")\n",
    "print(\"Subject_ID is numeric:\", df['Subject_ID'].dtype)\n",
    "print(\"Unique activity labels now (numeric):\")\n",
    "print(df['Activity_Label_OpenBCI'].unique())\n",
    "print(f\"\\nFinal shape: {df.shape[0]} rows × {df.shape[1]} columns\")\n",
    "print(\"\\nPreview of data:\")\n",
    "print(df.head())"
   ]
  },
  {
   "cell_type": "markdown",
   "id": "e3dc9241",
   "metadata": {},
   "source": [
    "# Count and Sort Activity Labels (Numeric)"
   ]
  },
  {
   "cell_type": "code",
   "execution_count": 12,
   "id": "1d59d985",
   "metadata": {},
   "outputs": [
    {
     "name": "stdout",
     "output_type": "stream",
     "text": [
      "Unique activity labels and their counts (sorted 1 → 10):\n",
      "Activity_Label_OpenBCI\n",
      "1     57688\n",
      "2     38639\n",
      "3     58113\n",
      "4     63238\n",
      "5     58298\n",
      "6     38568\n",
      "7     58646\n",
      "8     58427\n",
      "9     54674\n",
      "10    57378\n",
      "Name: count, dtype: int64\n",
      "\n",
      "Total count: 543669\n"
     ]
    }
   ],
   "source": [
    "df = pd.read_csv('EEG_Only_Subject4_Updated.csv')\n",
    "\n",
    "activity_counts = df['Activity_Label_OpenBCI'].value_counts().sort_index()\n",
    "\n",
    "print(\"Unique activity labels and their counts (sorted 1 → 10):\")\n",
    "print(activity_counts)\n",
    "print(f\"\\nTotal count: {activity_counts.sum()}\")"
   ]
  }
 ],
 "metadata": {
  "kernelspec": {
   "display_name": "Python 3 (ipykernel)",
   "language": "python",
   "name": "python3"
  },
  "language_info": {
   "codemirror_mode": {
    "name": "ipython",
    "version": 3
   },
   "file_extension": ".py",
   "mimetype": "text/x-python",
   "name": "python",
   "nbconvert_exporter": "python",
   "pygments_lexer": "ipython3",
   "version": "3.9.7"
  }
 },
 "nbformat": 4,
 "nbformat_minor": 5
}
