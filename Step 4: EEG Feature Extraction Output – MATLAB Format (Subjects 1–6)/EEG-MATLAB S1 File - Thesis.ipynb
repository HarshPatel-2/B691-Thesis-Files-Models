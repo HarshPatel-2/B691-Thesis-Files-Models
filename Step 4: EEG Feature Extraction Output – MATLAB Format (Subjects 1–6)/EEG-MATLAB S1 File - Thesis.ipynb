{
 "cells": [
  {
   "cell_type": "markdown",
   "id": "b0dbd149",
   "metadata": {},
   "source": [
    "# Import Libraries"
   ]
  },
  {
   "cell_type": "code",
   "execution_count": 1,
   "id": "e33d50d0",
   "metadata": {},
   "outputs": [],
   "source": [
    "import pandas as pd"
   ]
  },
  {
   "cell_type": "markdown",
   "id": "9fb737a9",
   "metadata": {},
   "source": [
    "#  Load and Explore Raw EEG Data"
   ]
  },
  {
   "cell_type": "code",
   "execution_count": 2,
   "id": "8ba18a5a",
   "metadata": {},
   "outputs": [
    {
     "name": "stdout",
     "output_type": "stream",
     "text": [
      "Total Rows: 5901, Total Columns: 113\n",
      "Data shape: (5901, 113)\n",
      "\n",
      "First 5 rows:\n",
      "       Ch1_Std      Ch1_RMS     Ch1_Delta     Ch1_Theta     Ch1_Alpha  \\\n",
      "0    84.816387    84.695035  8.097602e+03  4.609096e+02  9.916813e+00   \n",
      "1    42.739379    44.972032  5.644724e+02  3.485273e+01  3.951395e+00   \n",
      "2  4355.937309  4347.216708  2.337540e+05  1.810044e+05  2.203589e+05   \n",
      "3  4357.982570  4349.265884  1.986304e+06  2.770048e+06  3.375507e+06   \n",
      "4   140.880648   140.603395  8.412473e+03  1.778365e+02  4.354247e+00   \n",
      "\n",
      "       Ch1_Beta     Ch1_Gamma      Ch2_Std      Ch2_RMS     Ch2_Delta  ...  \\\n",
      "0  4.021377e+00  8.163918e-01  2878.735366  2938.197366  5.076384e+06  ...   \n",
      "1  2.233741e+00  4.020157e-01  2952.795167  2976.576335  8.050198e+06  ...   \n",
      "2  6.814688e+05  5.506022e+05  4271.266200  4272.654724  4.594663e+06  ...   \n",
      "3  1.043204e+07  7.565197e+06  3850.463522  3849.996108  3.224512e+06  ...   \n",
      "4  1.306978e+02  2.582422e+02  1282.615947  1283.906145  2.216934e+05  ...   \n",
      "\n",
      "      Ch15_Beta    Ch15_Gamma     Ch16_Std     Ch16_RMS    Ch16_Delta  \\\n",
      "0  7.441275e+03  3.336877e+03    83.324185    83.277666  7.678610e+03   \n",
      "1  5.700246e+05  3.185878e+05   177.061735   177.698427  7.988227e+03   \n",
      "2  1.454139e+06  2.188176e+06  8518.589952  8502.430045  4.688902e+06   \n",
      "3  1.030400e+07  2.063400e+07  8556.589140  8539.459107  1.818531e+07   \n",
      "4  1.859281e+06  3.859369e+06   984.533660   995.000798  1.723084e+05   \n",
      "\n",
      "     Ch16_Theta    Ch16_Alpha     Ch16_Beta    Ch16_Gamma  \\\n",
      "0  4.550078e+02  1.008555e+01  3.925317e+00  7.836145e-01   \n",
      "1  1.278034e+02  5.046567e+00  3.411007e+00  7.810248e-01   \n",
      "2  2.678694e+06  2.368872e+06  3.894219e+06  2.370518e+06   \n",
      "3  2.353381e+07  2.298695e+07  3.390644e+07  1.710144e+07   \n",
      "4  3.704453e+03  1.481955e+02  2.106565e+05  4.396180e+05   \n",
      "\n",
      "   Activity_Label_OpenBCI  \n",
      "0                       1  \n",
      "1                       1  \n",
      "2                       1  \n",
      "3                       1  \n",
      "4                       1  \n",
      "\n",
      "[5 rows x 113 columns]\n",
      "\n",
      "Column names:\n",
      "['Ch1_Std', 'Ch1_RMS', 'Ch1_Delta', 'Ch1_Theta', 'Ch1_Alpha', 'Ch1_Beta', 'Ch1_Gamma', 'Ch2_Std', 'Ch2_RMS', 'Ch2_Delta', 'Ch2_Theta', 'Ch2_Alpha', 'Ch2_Beta', 'Ch2_Gamma', 'Ch3_Std', 'Ch3_RMS', 'Ch3_Delta', 'Ch3_Theta', 'Ch3_Alpha', 'Ch3_Beta', 'Ch3_Gamma', 'Ch4_Std', 'Ch4_RMS', 'Ch4_Delta', 'Ch4_Theta', 'Ch4_Alpha', 'Ch4_Beta', 'Ch4_Gamma', 'Ch5_Std', 'Ch5_RMS', 'Ch5_Delta', 'Ch5_Theta', 'Ch5_Alpha', 'Ch5_Beta', 'Ch5_Gamma', 'Ch6_Std', 'Ch6_RMS', 'Ch6_Delta', 'Ch6_Theta', 'Ch6_Alpha', 'Ch6_Beta', 'Ch6_Gamma', 'Ch7_Std', 'Ch7_RMS', 'Ch7_Delta', 'Ch7_Theta', 'Ch7_Alpha', 'Ch7_Beta', 'Ch7_Gamma', 'Ch8_Std', 'Ch8_RMS', 'Ch8_Delta', 'Ch8_Theta', 'Ch8_Alpha', 'Ch8_Beta', 'Ch8_Gamma', 'Ch9_Std', 'Ch9_RMS', 'Ch9_Delta', 'Ch9_Theta', 'Ch9_Alpha', 'Ch9_Beta', 'Ch9_Gamma', 'Ch10_Std', 'Ch10_RMS', 'Ch10_Delta', 'Ch10_Theta', 'Ch10_Alpha', 'Ch10_Beta', 'Ch10_Gamma', 'Ch11_Std', 'Ch11_RMS', 'Ch11_Delta', 'Ch11_Theta', 'Ch11_Alpha', 'Ch11_Beta', 'Ch11_Gamma', 'Ch12_Std', 'Ch12_RMS', 'Ch12_Delta', 'Ch12_Theta', 'Ch12_Alpha', 'Ch12_Beta', 'Ch12_Gamma', 'Ch13_Std', 'Ch13_RMS', 'Ch13_Delta', 'Ch13_Theta', 'Ch13_Alpha', 'Ch13_Beta', 'Ch13_Gamma', 'Ch14_Std', 'Ch14_RMS', 'Ch14_Delta', 'Ch14_Theta', 'Ch14_Alpha', 'Ch14_Beta', 'Ch14_Gamma', 'Ch15_Std', 'Ch15_RMS', 'Ch15_Delta', 'Ch15_Theta', 'Ch15_Alpha', 'Ch15_Beta', 'Ch15_Gamma', 'Ch16_Std', 'Ch16_RMS', 'Ch16_Delta', 'Ch16_Theta', 'Ch16_Alpha', 'Ch16_Beta', 'Ch16_Gamma', 'Activity_Label_OpenBCI']\n",
      "\n",
      "Unique Activity Labels:\n",
      "[ 1  2  3  5  6  7  8  9 10  4]\n"
     ]
    }
   ],
   "source": [
    "filename = \"EEG_Features_Only_S1-ValidChannels.csv\"\n",
    "df_eeg = pd.read_csv(filename)\n",
    "\n",
    "total_rows, total_columns = df_eeg.shape\n",
    "print(f\"Total Rows: {total_rows}, Total Columns: {total_columns}\")\n",
    "\n",
    "print(f\"Data shape: {df_eeg.shape}\")\n",
    "\n",
    "print(\"\\nFirst 5 rows:\")\n",
    "print(df_eeg.head())\n",
    "\n",
    "print(\"\\nColumn names:\")\n",
    "print(df_eeg.columns.tolist())\n",
    "\n",
    "if 'Activity_Label_OpenBCI' in df_eeg.columns:\n",
    "    print(\"\\nUnique Activity Labels:\")\n",
    "    print(df_eeg['Activity_Label_OpenBCI'].unique())"
   ]
  },
  {
   "cell_type": "markdown",
   "id": "8ef51617",
   "metadata": {},
   "source": [
    "# Count Activity Labels in Raw Data"
   ]
  },
  {
   "cell_type": "code",
   "execution_count": 3,
   "id": "4cff0fa4",
   "metadata": {},
   "outputs": [
    {
     "name": "stdout",
     "output_type": "stream",
     "text": [
      "Activity Label Counts:\n",
      "Activity_Label_OpenBCI\n",
      "1     620\n",
      "2     410\n",
      "3     587\n",
      "4     464\n",
      "5     786\n",
      "6     445\n",
      "7     843\n",
      "8     833\n",
      "9     456\n",
      "10    457\n",
      "Name: count, dtype: int64\n"
     ]
    }
   ],
   "source": [
    "df = pd.read_csv(\"EEG_Features_Only_S1-ValidChannels.csv\")\n",
    "\n",
    "activity_counts = df[\"Activity_Label_OpenBCI\"].value_counts().sort_index()\n",
    "\n",
    "print(\"Activity Label Counts:\")\n",
    "print(activity_counts)"
   ]
  },
  {
   "cell_type": "markdown",
   "id": "0c489c04",
   "metadata": {},
   "source": [
    "# Map Activity Labels to Descriptive Names and Save"
   ]
  },
  {
   "cell_type": "code",
   "execution_count": 4,
   "id": "1f7da26a",
   "metadata": {},
   "outputs": [
    {
     "name": "stdout",
     "output_type": "stream",
     "text": [
      "Successfully updated and saved to 'EEG_Features_Only_S1-ValidChannels_Updated.csv' with activity names.\n"
     ]
    }
   ],
   "source": [
    "file_path = \"EEG_Features_Only_S1-ValidChannels.csv\"\n",
    "df_eeg = pd.read_csv(file_path)\n",
    "\n",
    "activity_map = {\n",
    "    1: \"Seated Leg Extensions\",\n",
    "    2: \"Marching in Place\",\n",
    "    3: \"Wall Push-ups\",\n",
    "    4: \"Seated Boxing Hooks\",\n",
    "    5: \"Standing Heel-to-Toe Walk\",\n",
    "    6: \"Side-Stepping\",\n",
    "    7: \"Seated Side Bends\",\n",
    "    8: \"Seated Medicine Ball Twists\",\n",
    "    9: \"Chair Squats\",\n",
    "    10: \"Light Stationary Cycling\"\n",
    "}\n",
    "\n",
    "df_eeg['Activity_Label_OpenBCI'] = df_eeg['Activity_Label_OpenBCI'].map(activity_map)\n",
    "\n",
    "updated_file_path = \"EEG_Features_Only_S1-ValidChannels_Updated.csv\"\n",
    "df_eeg.to_csv(updated_file_path, index=False)\n",
    "\n",
    "print(f\"Successfully updated and saved to '{updated_file_path}' with activity names.\")"
   ]
  },
  {
   "cell_type": "markdown",
   "id": "aef88c3a",
   "metadata": {},
   "source": [
    "# Load and Explore Updated EEG Data"
   ]
  },
  {
   "cell_type": "code",
   "execution_count": 5,
   "id": "6301c561",
   "metadata": {},
   "outputs": [
    {
     "name": "stdout",
     "output_type": "stream",
     "text": [
      "Total Rows: 5901, Total Columns: 113\n",
      "Data shape: (5901, 113)\n",
      "\n",
      "First 5 rows:\n",
      "       Ch1_Std      Ch1_RMS     Ch1_Delta     Ch1_Theta     Ch1_Alpha  \\\n",
      "0    84.816387    84.695035  8.097602e+03  4.609096e+02  9.916813e+00   \n",
      "1    42.739379    44.972032  5.644724e+02  3.485273e+01  3.951395e+00   \n",
      "2  4355.937309  4347.216708  2.337540e+05  1.810044e+05  2.203589e+05   \n",
      "3  4357.982570  4349.265884  1.986304e+06  2.770048e+06  3.375507e+06   \n",
      "4   140.880648   140.603395  8.412473e+03  1.778365e+02  4.354247e+00   \n",
      "\n",
      "       Ch1_Beta     Ch1_Gamma      Ch2_Std      Ch2_RMS     Ch2_Delta  ...  \\\n",
      "0  4.021377e+00  8.163918e-01  2878.735366  2938.197366  5.076384e+06  ...   \n",
      "1  2.233741e+00  4.020157e-01  2952.795167  2976.576335  8.050198e+06  ...   \n",
      "2  6.814688e+05  5.506022e+05  4271.266200  4272.654724  4.594663e+06  ...   \n",
      "3  1.043204e+07  7.565197e+06  3850.463522  3849.996108  3.224512e+06  ...   \n",
      "4  1.306978e+02  2.582422e+02  1282.615947  1283.906145  2.216934e+05  ...   \n",
      "\n",
      "      Ch15_Beta    Ch15_Gamma     Ch16_Std     Ch16_RMS    Ch16_Delta  \\\n",
      "0  7.441275e+03  3.336877e+03    83.324185    83.277666  7.678610e+03   \n",
      "1  5.700246e+05  3.185878e+05   177.061735   177.698427  7.988227e+03   \n",
      "2  1.454139e+06  2.188176e+06  8518.589952  8502.430045  4.688902e+06   \n",
      "3  1.030400e+07  2.063400e+07  8556.589140  8539.459107  1.818531e+07   \n",
      "4  1.859281e+06  3.859369e+06   984.533660   995.000798  1.723084e+05   \n",
      "\n",
      "     Ch16_Theta    Ch16_Alpha     Ch16_Beta    Ch16_Gamma  \\\n",
      "0  4.550078e+02  1.008555e+01  3.925317e+00  7.836145e-01   \n",
      "1  1.278034e+02  5.046567e+00  3.411007e+00  7.810248e-01   \n",
      "2  2.678694e+06  2.368872e+06  3.894219e+06  2.370518e+06   \n",
      "3  2.353381e+07  2.298695e+07  3.390644e+07  1.710144e+07   \n",
      "4  3.704453e+03  1.481955e+02  2.106565e+05  4.396180e+05   \n",
      "\n",
      "   Activity_Label_OpenBCI  \n",
      "0   Seated Leg Extensions  \n",
      "1   Seated Leg Extensions  \n",
      "2   Seated Leg Extensions  \n",
      "3   Seated Leg Extensions  \n",
      "4   Seated Leg Extensions  \n",
      "\n",
      "[5 rows x 113 columns]\n",
      "\n",
      "Column names:\n",
      "['Ch1_Std', 'Ch1_RMS', 'Ch1_Delta', 'Ch1_Theta', 'Ch1_Alpha', 'Ch1_Beta', 'Ch1_Gamma', 'Ch2_Std', 'Ch2_RMS', 'Ch2_Delta', 'Ch2_Theta', 'Ch2_Alpha', 'Ch2_Beta', 'Ch2_Gamma', 'Ch3_Std', 'Ch3_RMS', 'Ch3_Delta', 'Ch3_Theta', 'Ch3_Alpha', 'Ch3_Beta', 'Ch3_Gamma', 'Ch4_Std', 'Ch4_RMS', 'Ch4_Delta', 'Ch4_Theta', 'Ch4_Alpha', 'Ch4_Beta', 'Ch4_Gamma', 'Ch5_Std', 'Ch5_RMS', 'Ch5_Delta', 'Ch5_Theta', 'Ch5_Alpha', 'Ch5_Beta', 'Ch5_Gamma', 'Ch6_Std', 'Ch6_RMS', 'Ch6_Delta', 'Ch6_Theta', 'Ch6_Alpha', 'Ch6_Beta', 'Ch6_Gamma', 'Ch7_Std', 'Ch7_RMS', 'Ch7_Delta', 'Ch7_Theta', 'Ch7_Alpha', 'Ch7_Beta', 'Ch7_Gamma', 'Ch8_Std', 'Ch8_RMS', 'Ch8_Delta', 'Ch8_Theta', 'Ch8_Alpha', 'Ch8_Beta', 'Ch8_Gamma', 'Ch9_Std', 'Ch9_RMS', 'Ch9_Delta', 'Ch9_Theta', 'Ch9_Alpha', 'Ch9_Beta', 'Ch9_Gamma', 'Ch10_Std', 'Ch10_RMS', 'Ch10_Delta', 'Ch10_Theta', 'Ch10_Alpha', 'Ch10_Beta', 'Ch10_Gamma', 'Ch11_Std', 'Ch11_RMS', 'Ch11_Delta', 'Ch11_Theta', 'Ch11_Alpha', 'Ch11_Beta', 'Ch11_Gamma', 'Ch12_Std', 'Ch12_RMS', 'Ch12_Delta', 'Ch12_Theta', 'Ch12_Alpha', 'Ch12_Beta', 'Ch12_Gamma', 'Ch13_Std', 'Ch13_RMS', 'Ch13_Delta', 'Ch13_Theta', 'Ch13_Alpha', 'Ch13_Beta', 'Ch13_Gamma', 'Ch14_Std', 'Ch14_RMS', 'Ch14_Delta', 'Ch14_Theta', 'Ch14_Alpha', 'Ch14_Beta', 'Ch14_Gamma', 'Ch15_Std', 'Ch15_RMS', 'Ch15_Delta', 'Ch15_Theta', 'Ch15_Alpha', 'Ch15_Beta', 'Ch15_Gamma', 'Ch16_Std', 'Ch16_RMS', 'Ch16_Delta', 'Ch16_Theta', 'Ch16_Alpha', 'Ch16_Beta', 'Ch16_Gamma', 'Activity_Label_OpenBCI']\n",
      "\n",
      "Unique Activity Labels:\n",
      "['Seated Leg Extensions' 'Marching in Place' 'Wall Push-ups'\n",
      " 'Standing Heel-to-Toe Walk' 'Side-Stepping' 'Seated Side Bends'\n",
      " 'Seated Medicine Ball Twists' 'Chair Squats' 'Light Stationary Cycling'\n",
      " 'Seated Boxing Hooks']\n"
     ]
    }
   ],
   "source": [
    "filename = \"EEG_Features_Only_S1-ValidChannels_Updated.csv\"\n",
    "df_eeg = pd.read_csv(filename)\n",
    "\n",
    "total_rows, total_columns = df_eeg.shape\n",
    "print(f\"Total Rows: {total_rows}, Total Columns: {total_columns}\")\n",
    "\n",
    "print(f\"Data shape: {df_eeg.shape}\")\n",
    "\n",
    "print(\"\\nFirst 5 rows:\")\n",
    "print(df_eeg.head())\n",
    "\n",
    "print(\"\\nColumn names:\")\n",
    "print(df_eeg.columns.tolist())\n",
    "\n",
    "if 'Activity_Label_OpenBCI' in df_eeg.columns:\n",
    "    print(\"\\nUnique Activity Labels:\")\n",
    "    print(df_eeg['Activity_Label_OpenBCI'].unique())"
   ]
  },
  {
   "cell_type": "markdown",
   "id": "79fc3796",
   "metadata": {},
   "source": [
    "# Count Activity Labels in Custom Order"
   ]
  },
  {
   "cell_type": "code",
   "execution_count": 6,
   "id": "9f067adb",
   "metadata": {},
   "outputs": [
    {
     "name": "stdout",
     "output_type": "stream",
     "text": [
      "Activity Label Counts (in custom order):\n",
      "Activity_Label_OpenBCI\n",
      "Seated Leg Extensions          620\n",
      "Marching in Place              410\n",
      "Wall Push-ups                  587\n",
      "Seated Boxing Hooks            464\n",
      "Standing Heel-to-Toe Walk      786\n",
      "Side-Stepping                  445\n",
      "Seated Side Bends              843\n",
      "Seated Medicine Ball Twists    833\n",
      "Chair Squats                   456\n",
      "Light Stationary Cycling       457\n",
      "Name: count, dtype: int64\n"
     ]
    }
   ],
   "source": [
    "df = pd.read_csv(\"EEG_Features_Only_S1-ValidChannels_Updated.csv\")\n",
    "\n",
    "activity_counts = df[\"Activity_Label_OpenBCI\"].value_counts()\n",
    "\n",
    "activity_order = [\n",
    "    \"Seated Leg Extensions\",\n",
    "    \"Marching in Place\",\n",
    "    \"Wall Push-ups\",\n",
    "    \"Seated Boxing Hooks\",\n",
    "    \"Standing Heel-to-Toe Walk\",\n",
    "    \"Side-Stepping\",\n",
    "    \"Seated Side Bends\",\n",
    "    \"Seated Medicine Ball Twists\",\n",
    "    \"Chair Squats\",\n",
    "    \"Light Stationary Cycling\"\n",
    "]\n",
    "\n",
    "activity_counts_ordered = activity_counts.reindex(activity_order)\n",
    "\n",
    "print(\"Activity Label Counts (in custom order):\")\n",
    "print(activity_counts_ordered)"
   ]
  }
 ],
 "metadata": {
  "kernelspec": {
   "display_name": "Python 3 (ipykernel)",
   "language": "python",
   "name": "python3"
  },
  "language_info": {
   "codemirror_mode": {
    "name": "ipython",
    "version": 3
   },
   "file_extension": ".py",
   "mimetype": "text/x-python",
   "name": "python",
   "nbconvert_exporter": "python",
   "pygments_lexer": "ipython3",
   "version": "3.9.7"
  }
 },
 "nbformat": 4,
 "nbformat_minor": 5
}
